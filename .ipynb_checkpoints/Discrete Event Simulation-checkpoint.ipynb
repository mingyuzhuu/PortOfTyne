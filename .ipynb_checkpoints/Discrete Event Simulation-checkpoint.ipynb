{
 "cells": [
  {
   "cell_type": "code",
   "execution_count": null,
   "id": "db085d57",
   "metadata": {},
   "outputs": [],
   "source": [
    "import pandas as pd\n",
    "import json\n",
    "import urllib as u\n",
    "import datetime\n",
    "import os\n",
    "import numpy as np"
   ]
  },
  {
   "cell_type": "code",
   "execution_count": null,
   "id": "ac2832a9",
   "metadata": {},
   "outputs": [],
   "source": [
    "import simpy\n",
    "import random\n",
    "import statistics"
   ]
  },
  {
   "cell_type": "code",
   "execution_count": null,
   "id": "47602c6b",
   "metadata": {},
   "outputs": [],
   "source": [
    "#Vessel arriving generator function\n",
    "def vessel_geneator(env, ar_inter, mean_handle, crane):\n",
    "    v_id = 0\n",
    "    \n",
    "    #Keep generating indefinitely\n",
    "    while True:\n",
    "        #create instance of activity generator\n",
    "        wv = handling_generator(env, mean_handle, crane, v_id)\n",
    "        \n",
    "        # Run the activity generator for this vessel \n",
    "        env.process(wv)\n",
    "        \n",
    "        #Sample time until next vessel\n",
    "        t = random.expovariate(1.0 / ar_inter)\n",
    "        \n",
    "        #Freeze until that time has passed\n",
    "        yield env.timeout(t)\n",
    "        \n",
    "        v_id += 1\n",
    "         "
   ]
  },
  {
   "cell_type": "code",
   "execution_count": null,
   "id": "dad54d56",
   "metadata": {},
   "outputs": [],
   "source": [
    "#Handling generator function\n",
    "def handling_generator(env, mean_handle, crane, v_id):\n",
    "    time_entered_queue_for_crane = env.now\n",
    "    print (\"Vessel\", v_id, \"entered queue at\",\n",
    "          time_entered_queue_for_crane, sep=\"\")\n",
    "    \n",
    "    #Request a crane\n",
    "    with crane.request() as req:\n",
    "        #Freeze until the request can be met\n",
    "        yield req\n",
    "        \n",
    "        #calculate time vessel was queueing\n",
    "        time_left_queue_for_crane = env.now\n",
    "        print('Vessel', v_id, 'left queue at ', time_left_queue_for_crane, \n",
    "              sep=\"\")\n",
    "        time_in_queue_for_crane = (time_left_queue_for_crane - \n",
    "                                   time_entered_queue_for_crane)\n",
    "        print('Vessel', v_id, 'queued for', time_in_queue_for_crane, 'days ', sep=\"\")\n",
    "        \n",
    "        #Sample time soent with crane\n",
    "        sampled_handling_time = random.expovariate(1.0 / mean_handle)\n",
    "        \n",
    "        #Freeze until taht time has passed\n",
    "        yield env.timeout(sampled_handling_time)b"
   ]
  },
  {
   "cell_type": "code",
   "execution_count": null,
   "id": "bf54e3f2",
   "metadata": {},
   "outputs": [],
   "source": [
    "#Set up simulation enviroment\n",
    "env = simpy.Environment()\n",
    "\n",
    "#Set up rescources\n",
    "crane = simpy.Resource(env, capacity = 2)\n",
    "\n",
    "#Set up parameter values\n",
    "ar_inter = 10\n",
    "mean_handle = 10\n",
    "\n",
    "# Star vessel arrival generator\n",
    "env.process(vessel_geneator(env, ar_inter, mean_handle, crane))\n"
   ]
  },
  {
   "cell_type": "code",
   "execution_count": null,
   "id": "b8ec2fe0",
   "metadata": {},
   "outputs": [],
   "source": [
    "#Run the simulation\n",
    "env.run(until=120)"
   ]
  }
 ],
 "metadata": {
  "kernelspec": {
   "display_name": "Python 3",
   "language": "python",
   "name": "python3"
  },
  "language_info": {
   "codemirror_mode": {
    "name": "ipython",
    "version": 3
   },
   "file_extension": ".py",
   "mimetype": "text/x-python",
   "name": "python",
   "nbconvert_exporter": "python",
   "pygments_lexer": "ipython3",
   "version": "3.8.8"
  }
 },
 "nbformat": 4,
 "nbformat_minor": 5
}
