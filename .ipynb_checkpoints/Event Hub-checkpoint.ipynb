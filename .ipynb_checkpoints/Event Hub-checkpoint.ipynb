{
 "cells": [
  {
   "cell_type": "code",
   "execution_count": 1,
   "id": "318caad9",
   "metadata": {
    "scrolled": true
   },
   "outputs": [
    {
     "name": "stdout",
     "output_type": "stream",
     "text": [
      "Collecting azure-eventhub\n",
      "  Downloading azure_eventhub-5.6.1-py2.py3-none-any.whl (116 kB)\n",
      "Collecting uamqp<2.0.0,>=1.4.3\n",
      "  Downloading uamqp-1.4.3-cp38-cp38-win_amd64.whl (884 kB)\n",
      "Collecting azure-core<2.0.0,>=1.14.0\n",
      "  Downloading azure_core-1.20.1-py2.py3-none-any.whl (177 kB)\n",
      "Requirement already satisfied: requests>=2.18.4 in c:\\users\\adminuser\\anaconda3\\lib\\site-packages (from azure-core<2.0.0,>=1.14.0->azure-eventhub) (2.25.1)\n",
      "Requirement already satisfied: six>=1.11.0 in c:\\users\\adminuser\\anaconda3\\lib\\site-packages (from azure-core<2.0.0,>=1.14.0->azure-eventhub) (1.15.0)\n",
      "Requirement already satisfied: idna<3,>=2.5 in c:\\users\\adminuser\\anaconda3\\lib\\site-packages (from requests>=2.18.4->azure-core<2.0.0,>=1.14.0->azure-eventhub) (2.10)\n",
      "Requirement already satisfied: chardet<5,>=3.0.2 in c:\\users\\adminuser\\anaconda3\\lib\\site-packages (from requests>=2.18.4->azure-core<2.0.0,>=1.14.0->azure-eventhub) (4.0.0)\n",
      "Requirement already satisfied: certifi>=2017.4.17 in c:\\users\\adminuser\\anaconda3\\lib\\site-packages (from requests>=2.18.4->azure-core<2.0.0,>=1.14.0->azure-eventhub) (2020.12.5)\n",
      "Requirement already satisfied: urllib3<1.27,>=1.21.1 in c:\\users\\adminuser\\anaconda3\\lib\\site-packages (from requests>=2.18.4->azure-core<2.0.0,>=1.14.0->azure-eventhub) (1.26.4)\n",
      "Installing collected packages: uamqp, azure-core, azure-eventhub\n",
      "Successfully installed azure-core-1.20.1 azure-eventhub-5.6.1 uamqp-1.4.3\n",
      "Note: you may need to restart the kernel to use updated packages.\n"
     ]
    }
   ],
   "source": [
    "pip install azure-eventhub"
   ]
  },
  {
   "cell_type": "code",
   "execution_count": 1,
   "id": "59a7451c",
   "metadata": {},
   "outputs": [
    {
     "name": "stdout",
     "output_type": "stream",
     "text": [
      "Collecting azure-eventhub-checkpointstoreblob-aio\n",
      "  Downloading azure_eventhub_checkpointstoreblob_aio-1.1.4-py3-none-any.whl (349 kB)\n",
      "Requirement already satisfied: cryptography>=2.1.4 in c:\\users\\adminuser\\anaconda3\\lib\\site-packages (from azure-eventhub-checkpointstoreblob-aio) (3.4.7)\n",
      "Collecting aiohttp<4.0,>=3.0\n",
      "  Downloading aiohttp-3.8.1-cp38-cp38-win_amd64.whl (555 kB)\n",
      "Requirement already satisfied: azure-eventhub<6.0.0,>=5.0.0 in c:\\users\\adminuser\\anaconda3\\lib\\site-packages (from azure-eventhub-checkpointstoreblob-aio) (5.6.1)\n",
      "Requirement already satisfied: azure-core<2.0.0,>=1.10.0 in c:\\users\\adminuser\\anaconda3\\lib\\site-packages (from azure-eventhub-checkpointstoreblob-aio) (1.20.1)\n",
      "Collecting msrest>=0.6.18\n",
      "  Downloading msrest-0.6.21-py2.py3-none-any.whl (85 kB)\n",
      "Collecting charset-normalizer<3.0,>=2.0\n",
      "  Using cached charset_normalizer-2.0.7-py3-none-any.whl (38 kB)\n",
      "Collecting multidict<7.0,>=4.5\n",
      "  Downloading multidict-5.2.0-cp38-cp38-win_amd64.whl (45 kB)\n",
      "Collecting aiosignal>=1.1.2\n",
      "  Downloading aiosignal-1.2.0-py3-none-any.whl (8.2 kB)\n",
      "Collecting frozenlist>=1.1.1\n",
      "  Downloading frozenlist-1.2.0-cp38-cp38-win_amd64.whl (83 kB)\n",
      "Collecting yarl<2.0,>=1.0\n",
      "  Downloading yarl-1.7.2-cp38-cp38-win_amd64.whl (122 kB)\n",
      "Collecting async-timeout<5.0,>=4.0.0a3\n",
      "  Downloading async_timeout-4.0.1-py3-none-any.whl (5.7 kB)\n",
      "Requirement already satisfied: attrs>=17.3.0 in c:\\users\\adminuser\\anaconda3\\lib\\site-packages (from aiohttp<4.0,>=3.0->azure-eventhub-checkpointstoreblob-aio) (20.3.0)\n",
      "Requirement already satisfied: typing-extensions>=3.6.5 in c:\\users\\adminuser\\anaconda3\\lib\\site-packages (from async-timeout<5.0,>=4.0.0a3->aiohttp<4.0,>=3.0->azure-eventhub-checkpointstoreblob-aio) (3.7.4.3)\n",
      "Requirement already satisfied: requests>=2.18.4 in c:\\users\\adminuser\\anaconda3\\lib\\site-packages (from azure-core<2.0.0,>=1.10.0->azure-eventhub-checkpointstoreblob-aio) (2.25.1)\n",
      "Requirement already satisfied: six>=1.11.0 in c:\\users\\adminuser\\anaconda3\\lib\\site-packages (from azure-core<2.0.0,>=1.10.0->azure-eventhub-checkpointstoreblob-aio) (1.15.0)\n",
      "Requirement already satisfied: uamqp<2.0.0,>=1.4.3 in c:\\users\\adminuser\\anaconda3\\lib\\site-packages (from azure-eventhub<6.0.0,>=5.0.0->azure-eventhub-checkpointstoreblob-aio) (1.4.3)\n",
      "Requirement already satisfied: cffi>=1.12 in c:\\users\\adminuser\\anaconda3\\lib\\site-packages (from cryptography>=2.1.4->azure-eventhub-checkpointstoreblob-aio) (1.14.5)\n",
      "Requirement already satisfied: pycparser in c:\\users\\adminuser\\anaconda3\\lib\\site-packages (from cffi>=1.12->cryptography>=2.1.4->azure-eventhub-checkpointstoreblob-aio) (2.20)\n",
      "Collecting requests-oauthlib>=0.5.0\n",
      "  Downloading requests_oauthlib-1.3.0-py2.py3-none-any.whl (23 kB)\n",
      "Collecting isodate>=0.6.0\n",
      "  Downloading isodate-0.6.0-py2.py3-none-any.whl (45 kB)\n",
      "Requirement already satisfied: certifi>=2017.4.17 in c:\\users\\adminuser\\anaconda3\\lib\\site-packages (from msrest>=0.6.18->azure-eventhub-checkpointstoreblob-aio) (2020.12.5)\n",
      "Requirement already satisfied: idna<3,>=2.5 in c:\\users\\adminuser\\anaconda3\\lib\\site-packages (from requests>=2.18.4->azure-core<2.0.0,>=1.10.0->azure-eventhub-checkpointstoreblob-aio) (2.10)\n",
      "Requirement already satisfied: chardet<5,>=3.0.2 in c:\\users\\adminuser\\anaconda3\\lib\\site-packages (from requests>=2.18.4->azure-core<2.0.0,>=1.10.0->azure-eventhub-checkpointstoreblob-aio) (4.0.0)\n",
      "Requirement already satisfied: urllib3<1.27,>=1.21.1 in c:\\users\\adminuser\\anaconda3\\lib\\site-packages (from requests>=2.18.4->azure-core<2.0.0,>=1.10.0->azure-eventhub-checkpointstoreblob-aio) (1.26.4)\n",
      "Collecting oauthlib>=3.0.0\n",
      "  Downloading oauthlib-3.1.1-py2.py3-none-any.whl (146 kB)\n",
      "Installing collected packages: oauthlib, multidict, frozenlist, yarl, requests-oauthlib, isodate, charset-normalizer, async-timeout, aiosignal, msrest, aiohttp, azure-eventhub-checkpointstoreblob-aio\n",
      "Successfully installed aiohttp-3.8.1 aiosignal-1.2.0 async-timeout-4.0.1 azure-eventhub-checkpointstoreblob-aio-1.1.4 charset-normalizer-2.0.7 frozenlist-1.2.0 isodate-0.6.0 msrest-0.6.21 multidict-5.2.0 oauthlib-3.1.1 requests-oauthlib-1.3.0 yarl-1.7.2\n",
      "Note: you may need to restart the kernel to use updated packages.\n"
     ]
    },
    {
     "name": "stderr",
     "output_type": "stream",
     "text": [
      "  WARNING: Retrying (Retry(total=4, connect=None, read=None, redirect=None, status=None)) after connection broken by 'ProtocolError('Connection aborted.', ConnectionResetError(10054, 'An existing connection was forcibly closed by the remote host', None, 10054, None))': /packages/d0/9d/81ed2c4b75a7ac9741acff7fb3def8fa4b7e9ff5d5c9a037e36641bea6c7/azure_eventhub_checkpointstoreblob_aio-1.1.4-py3-none-any.whl\n"
     ]
    }
   ],
   "source": [
    "pip install azure-eventhub-checkpointstoreblob-aio"
   ]
  }
 ],
 "metadata": {
  "kernelspec": {
   "display_name": "Python 3",
   "language": "python",
   "name": "python3"
  },
  "language_info": {
   "codemirror_mode": {
    "name": "ipython",
    "version": 3
   },
   "file_extension": ".py",
   "mimetype": "text/x-python",
   "name": "python",
   "nbconvert_exporter": "python",
   "pygments_lexer": "ipython3",
   "version": "3.8.8"
  }
 },
 "nbformat": 4,
 "nbformat_minor": 5
}
