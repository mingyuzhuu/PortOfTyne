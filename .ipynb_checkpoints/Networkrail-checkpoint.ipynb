{
 "cells": [
  {
   "cell_type": "code",
   "execution_count": null,
   "id": "851f94f5",
   "metadata": {},
   "outputs": [],
   "source": [
    "#\n",
    "# National Rail Open Data client demonstrator\n",
    "# Copyright (C)2019 OpenTrainTimes Ltd.\n",
    "#\n",
    "# This program is free software: you can redistribute it and/or modify\n",
    "# it under the terms of the GNU General Public License as published by\n",
    "# the Free Software Foundation, either version 3 of the License, or\n",
    "# (at your option) any later version.\n",
    "#\n",
    "# This program is distributed in the hope that it will be useful,\n",
    "# but WITHOUT ANY WARRANTY; without even the implied warranty of\n",
    "# MERCHANTABILITY or FITNESS FOR A PARTICULAR PURPOSE.  See the\n",
    "# GNU General Public License for more details.\n",
    "#\n",
    "# You should have received a copy of the GNU General Public License\n",
    "# along with this program.  If not, see <https://www.gnu.org/licenses/>.\n",
    "#\n",
    "\n",
    "import stomp\n",
    "import zlib\n",
    "import io\n",
    "import time\n",
    "import socket\n",
    "\n",
    "try:\n",
    "    import PPv16\n",
    "except ModuleNotFoundError:\n",
    "    print(\"Please configure the client following steps in README.md!\")\n",
    "\n",
    "USERNAME = ''\n",
    "PASSWORD = ''\n",
    "HOSTNAME = 'datafeeds.networkrail.co.uk'\n",
    "HOSTPORT = 61618\n",
    "# Always prefixed by /topic/ (it's not a queue, it's a topic)\n",
    "TOPIC = '/topic/darwin.pushport-v16'\n",
    "\n",
    "CLIENT_ID = socket.getfqdn()\n",
    "HEARTBEAT_INTERVAL_MS = 15000\n",
    "RECONNECT_DELAY_SECS = 15\n",
    "\n",
    "if USERNAME == '':\n",
    "    raise Exception(\"Please configure your username and password in opendata-nationalrail-client.py!\")\n",
    "\n",
    "\n",
    "def connect_and_subscribe(connection):\n",
    "\n",
    "    if stomp.__version__[0] < 5:\n",
    "        connection.start()\n",
    "\n",
    "    connect_header = {'client-id': USERNAME + '-' + CLIENT_ID}\n",
    "    subscribe_header = {'activemq.subscriptionName': CLIENT_ID}\n",
    "\n",
    "    connection.connect(username=USERNAME,\n",
    "                       passcode=PASSWORD,\n",
    "                       wait=True,\n",
    "                       headers=connect_header)\n",
    "\n",
    "    connection.subscribe(destination=TOPIC,\n",
    "                         id='1',\n",
    "                         ack='auto',\n",
    "                         headers=subscribe_header)\n",
    "\n",
    "\n",
    "class StompClient(stomp.ConnectionListener):\n",
    "\n",
    "    def on_heartbeat(self):\n",
    "        print('Received a heartbeat')\n",
    "\n",
    "    def on_heartbeat_timeout(self):\n",
    "        print('ERROR: Heartbeat timeout')\n",
    "\n",
    "    def on_error(self, headers, message):\n",
    "        print('ERROR: %s' % message)\n",
    "\n",
    "    def on_disconnected(self):\n",
    "        print('Disconnected waiting %s seconds before exiting' % RECONNECT_DELAY_SECS)\n",
    "        time.sleep(RECONNECT_DELAY_SECS)\n",
    "        exit(-1)\n",
    "\n",
    "    def on_connecting(self, host_and_port):\n",
    "        print('Connecting to ' + host_and_port[0])\n",
    "\n",
    "    def on_message(self, headers, message):\n",
    "        try:\n",
    "            print('\\n----\\nGot a message!')\n",
    "            # print('\\n----\\nGot a message!\\n\\t%s' % message)\n",
    "            bio = io.BytesIO()\n",
    "            bio.write(str.encode('utf-16'))\n",
    "            bio.seek(0)\n",
    "            msg = zlib.decompress(message, zlib.MAX_WBITS | 32)\n",
    "            print('\\n\\t* Decompressed message: %s' % msg)\n",
    "            obj = PPv16.CreateFromDocument(msg)\n",
    "            print('\\n\\t* Received a Push Port message from %s' % obj.ts)\n",
    "            print(obj)\n",
    "            print('\\n\\t* Raw XML is:\\n\\t%s' % msg)\n",
    "        except Exception as e:\n",
    "            print(\"\\n\\tError: %s\\n--------\\n\" % str(e))\n",
    "\n",
    "\n",
    "conn = stomp.Connection12([(HOSTNAME, HOSTPORT)],\n",
    "                          auto_decode=False,\n",
    "                          heartbeats=(HEARTBEAT_INTERVAL_MS, HEARTBEAT_INTERVAL_MS))\n",
    "\n",
    "conn.set_listener('', StompClient())\n",
    "connect_and_subscribe(conn)\n",
    "\n",
    "while True:\n",
    "    time.sleep(1)\n",
    "\n",
    "conn.disconnect()"
   ]
  },
  {
   "cell_type": "code",
   "execution_count": 2,
   "id": "d9cc6267",
   "metadata": {},
   "outputs": [
    {
     "ename": "ModuleNotFoundError",
     "evalue": "No module named 'stomp'",
     "output_type": "error",
     "traceback": [
      "\u001b[1;31m---------------------------------------------------------------------------\u001b[0m",
      "\u001b[1;31mModuleNotFoundError\u001b[0m                       Traceback (most recent call last)",
      "\u001b[1;32m<ipython-input-2-ae14b1f050d0>\u001b[0m in \u001b[0;36m<module>\u001b[1;34m\u001b[0m\n\u001b[0;32m     17\u001b[0m \u001b[1;31m#\u001b[0m\u001b[1;33m\u001b[0m\u001b[1;33m\u001b[0m\u001b[1;33m\u001b[0m\u001b[0m\n\u001b[0;32m     18\u001b[0m \u001b[1;33m\u001b[0m\u001b[0m\n\u001b[1;32m---> 19\u001b[1;33m \u001b[1;32mimport\u001b[0m \u001b[0mstomp\u001b[0m\u001b[1;33m\u001b[0m\u001b[1;33m\u001b[0m\u001b[0m\n\u001b[0m\u001b[0;32m     20\u001b[0m \u001b[1;32mimport\u001b[0m \u001b[0mzlib\u001b[0m\u001b[1;33m\u001b[0m\u001b[1;33m\u001b[0m\u001b[0m\n\u001b[0;32m     21\u001b[0m \u001b[1;32mimport\u001b[0m \u001b[0mio\u001b[0m\u001b[1;33m\u001b[0m\u001b[1;33m\u001b[0m\u001b[0m\n",
      "\u001b[1;31mModuleNotFoundError\u001b[0m: No module named 'stomp'"
     ]
    }
   ],
   "source": [
    "#\n",
    "# National Rail Open Data client demonstrator\n",
    "# Copyright (C)2019 OpenTrainTimes Ltd.\n",
    "#\n",
    "# This program is free software: you can redistribute it and/or modify\n",
    "# it under the terms of the GNU General Public License as published by\n",
    "# the Free Software Foundation, either version 3 of the License, or\n",
    "# (at your option) any later version.\n",
    "#\n",
    "# This program is distributed in the hope that it will be useful,\n",
    "# but WITHOUT ANY WARRANTY; without even the implied warranty of\n",
    "# MERCHANTABILITY or FITNESS FOR A PARTICULAR PURPOSE.  See the\n",
    "# GNU General Public License for more details.\n",
    "#\n",
    "# You should have received a copy of the GNU General Public License\n",
    "# along with this program.  If not, see <https://www.gnu.org/licenses/>.\n",
    "#\n",
    "\n",
    "import stomp\n",
    "import zlib\n",
    "import io\n",
    "import time\n",
    "import socket\n",
    "\n",
    "try:\n",
    "    import PPv16\n",
    "except ModuleNotFoundError:\n",
    "    print(\"Please configure the client following steps in README.md!\")\n",
    "\n",
    "USERNAME = ''\n",
    "PASSWORD = ''\n",
    "HOSTNAME = 'datafeeds.networkrail.co.uk'\n",
    "HOSTPORT = 61618\n",
    "# Always prefixed by /topic/ (it's not a queue, it's a topic)\n",
    "TOPIC = '/topic/darwin.pushport-v16'\n",
    "\n",
    "CLIENT_ID = socket.getfqdn()\n",
    "HEARTBEAT_INTERVAL_MS = 15000\n",
    "RECONNECT_DELAY_SECS = 15\n",
    "\n",
    "if USERNAME == '':\n",
    "    raise Exception(\"Please configure your username and password in opendata-nationalrail-client.py!\")"
   ]
  },
  {
   "cell_type": "code",
   "execution_count": 5,
   "id": "41a0279d",
   "metadata": {
    "scrolled": true
   },
   "outputs": [
    {
     "name": "stdout",
     "output_type": "stream",
     "text": [
      "Note: you may need to restart the kernel to use updated packages.\n"
     ]
    },
    {
     "name": "stderr",
     "output_type": "stream",
     "text": [
      "ERROR: Could not find a version that satisfies the requirement stomp (from versions: none)\n",
      "ERROR: No matching distribution found for stomp\n",
      "WARNING: You are using pip version 22.0.2; however, version 22.0.3 is available.\n",
      "You should consider upgrading via the 'C:\\Users\\AdminUser\\anaconda3\\python.exe -m pip install --upgrade pip' command.\n"
     ]
    }
   ],
   "source": [
    "pip install stomp"
   ]
  },
  {
   "cell_type": "code",
   "execution_count": 1,
   "id": "a3033fe9",
   "metadata": {
    "scrolled": true
   },
   "outputs": [
    {
     "ename": "ModuleNotFoundError",
     "evalue": "No module named 'stomp'",
     "output_type": "error",
     "traceback": [
      "\u001b[1;31m---------------------------------------------------------------------------\u001b[0m",
      "\u001b[1;31mModuleNotFoundError\u001b[0m                       Traceback (most recent call last)",
      "\u001b[1;32m<ipython-input-1-bb6dd22eb8c9>\u001b[0m in \u001b[0;36m<module>\u001b[1;34m\u001b[0m\n\u001b[1;32m----> 1\u001b[1;33m \u001b[1;32mimport\u001b[0m \u001b[0mstomp\u001b[0m\u001b[1;33m\u001b[0m\u001b[1;33m\u001b[0m\u001b[0m\n\u001b[0m",
      "\u001b[1;31mModuleNotFoundError\u001b[0m: No module named 'stomp'"
     ]
    }
   ],
   "source": [
    "import stomp"
   ]
  }
 ],
 "metadata": {
  "kernelspec": {
   "display_name": "Python 3",
   "language": "python",
   "name": "python3"
  },
  "language_info": {
   "codemirror_mode": {
    "name": "ipython",
    "version": 3
   },
   "file_extension": ".py",
   "mimetype": "text/x-python",
   "name": "python",
   "nbconvert_exporter": "python",
   "pygments_lexer": "ipython3",
   "version": "3.8.8"
  }
 },
 "nbformat": 4,
 "nbformat_minor": 5
}
