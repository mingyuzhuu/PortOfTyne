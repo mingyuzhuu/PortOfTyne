{
 "cells": [
  {
   "cell_type": "code",
   "execution_count": 3,
   "id": "598abb19",
   "metadata": {
    "scrolled": false
   },
   "outputs": [
    {
     "name": "stdout",
     "output_type": "stream",
     "text": [
      "Collecting tensorflow\n",
      "  Downloading tensorflow-2.8.0-cp38-cp38-win_amd64.whl (438.0 MB)\n",
      "     -------------------------------------- 438.0/438.0 MB 1.6 MB/s eta 0:00:00\n",
      "Requirement already satisfied: setuptools in c:\\users\\adminuser\\anaconda3\\lib\\site-packages (from tensorflow) (52.0.0.post20210125)\n",
      "Collecting google-pasta>=0.1.1\n",
      "  Downloading google_pasta-0.2.0-py3-none-any.whl (57 kB)\n",
      "     ---------------------------------------- 57.5/57.5 KB 3.0 MB/s eta 0:00:00\n",
      "Requirement already satisfied: typing-extensions>=3.6.6 in c:\\users\\adminuser\\anaconda3\\lib\\site-packages (from tensorflow) (3.7.4.3)\n",
      "Collecting flatbuffers>=1.12\n",
      "  Downloading flatbuffers-2.0-py2.py3-none-any.whl (26 kB)\n",
      "Requirement already satisfied: numpy>=1.20 in c:\\users\\adminuser\\anaconda3\\lib\\site-packages (from tensorflow) (1.20.1)\n",
      "Requirement already satisfied: six>=1.12.0 in c:\\users\\adminuser\\anaconda3\\lib\\site-packages (from tensorflow) (1.15.0)\n",
      "Collecting astunparse>=1.6.0\n",
      "  Downloading astunparse-1.6.3-py2.py3-none-any.whl (12 kB)\n",
      "Requirement already satisfied: wrapt>=1.11.0 in c:\\users\\adminuser\\anaconda3\\lib\\site-packages (from tensorflow) (1.12.1)\n",
      "Collecting opt-einsum>=2.3.2\n",
      "  Downloading opt_einsum-3.3.0-py3-none-any.whl (65 kB)\n",
      "     ---------------------------------------- 65.5/65.5 KB 3.5 MB/s eta 0:00:00\n",
      "Collecting gast>=0.2.1\n",
      "  Downloading gast-0.5.3-py3-none-any.whl (19 kB)\n",
      "Collecting termcolor>=1.1.0\n",
      "  Downloading termcolor-1.1.0.tar.gz (3.9 kB)\n",
      "  Preparing metadata (setup.py): started\n",
      "  Preparing metadata (setup.py): finished with status 'done'\n",
      "Collecting tensorboard<2.9,>=2.8\n",
      "  Downloading tensorboard-2.8.0-py3-none-any.whl (5.8 MB)\n",
      "     ---------------------------------------- 5.8/5.8 MB 2.1 MB/s eta 0:00:00\n",
      "Collecting tensorflow-io-gcs-filesystem>=0.23.1\n",
      "  Downloading tensorflow_io_gcs_filesystem-0.24.0-cp38-cp38-win_amd64.whl (1.5 MB)\n",
      "     ---------------------------------------- 1.5/1.5 MB 2.0 MB/s eta 0:00:00\n",
      "Collecting absl-py>=0.4.0\n",
      "  Downloading absl_py-1.0.0-py3-none-any.whl (126 kB)\n",
      "     -------------------------------------- 126.7/126.7 KB 1.8 MB/s eta 0:00:00\n",
      "Collecting libclang>=9.0.1\n",
      "  Downloading libclang-13.0.0-py2.py3-none-win_amd64.whl (13.9 MB)\n",
      "     ---------------------------------------- 13.9/13.9 MB 2.1 MB/s eta 0:00:00\n",
      "Collecting grpcio<2.0,>=1.24.3\n",
      "  Downloading grpcio-1.43.0-cp38-cp38-win_amd64.whl (3.4 MB)\n",
      "     ---------------------------------------- 3.4/3.4 MB 2.1 MB/s eta 0:00:00\n",
      "Collecting keras<2.9,>=2.8.0rc0\n",
      "  Downloading keras-2.8.0-py2.py3-none-any.whl (1.4 MB)\n",
      "     ---------------------------------------- 1.4/1.4 MB 684.1 kB/s eta 0:00:00\n",
      "Collecting protobuf>=3.9.2\n",
      "  Downloading protobuf-3.19.4-cp38-cp38-win_amd64.whl (895 kB)\n",
      "     -------------------------------------- 895.9/895.9 KB 1.3 MB/s eta 0:00:00\n",
      "Collecting tf-estimator-nightly==2.8.0.dev2021122109\n",
      "  Downloading tf_estimator_nightly-2.8.0.dev2021122109-py2.py3-none-any.whl (462 kB)\n",
      "     ------------------------------------ 462.5/462.5 KB 876.4 kB/s eta 0:00:00\n",
      "Collecting keras-preprocessing>=1.1.1\n",
      "  Downloading Keras_Preprocessing-1.1.2-py2.py3-none-any.whl (42 kB)\n",
      "     ---------------------------------------- 42.6/42.6 KB 1.0 MB/s eta 0:00:00\n",
      "Requirement already satisfied: h5py>=2.9.0 in c:\\users\\adminuser\\anaconda3\\lib\\site-packages (from tensorflow) (2.10.0)\n",
      "Requirement already satisfied: wheel<1.0,>=0.23.0 in c:\\users\\adminuser\\anaconda3\\lib\\site-packages (from astunparse>=1.6.0->tensorflow) (0.36.2)\n",
      "Collecting tensorboard-data-server<0.7.0,>=0.6.0\n",
      "  Downloading tensorboard_data_server-0.6.1-py3-none-any.whl (2.4 kB)\n",
      "Requirement already satisfied: werkzeug>=0.11.15 in c:\\users\\adminuser\\anaconda3\\lib\\site-packages (from tensorboard<2.9,>=2.8->tensorflow) (1.0.1)\n",
      "Requirement already satisfied: requests<3,>=2.21.0 in c:\\users\\adminuser\\anaconda3\\lib\\site-packages (from tensorboard<2.9,>=2.8->tensorflow) (2.25.1)\n",
      "Collecting tensorboard-plugin-wit>=1.6.0\n",
      "  Downloading tensorboard_plugin_wit-1.8.1-py3-none-any.whl (781 kB)\n",
      "     -------------------------------------- 781.3/781.3 KB 1.5 MB/s eta 0:00:00\n",
      "Collecting google-auth<3,>=1.6.3\n",
      "  Downloading google_auth-2.6.0-py2.py3-none-any.whl (156 kB)\n",
      "     -------------------------------------- 156.3/156.3 KB 1.6 MB/s eta 0:00:00\n",
      "Collecting markdown>=2.6.8\n",
      "  Downloading Markdown-3.3.6-py3-none-any.whl (97 kB)\n",
      "     ---------------------------------------- 97.8/97.8 KB 1.9 MB/s eta 0:00:00\n",
      "Collecting google-auth-oauthlib<0.5,>=0.4.1\n",
      "  Downloading google_auth_oauthlib-0.4.6-py2.py3-none-any.whl (18 kB)\n",
      "Collecting pyasn1-modules>=0.2.1\n",
      "  Downloading pyasn1_modules-0.2.8-py2.py3-none-any.whl (155 kB)\n",
      "     -------------------------------------- 155.3/155.3 KB 1.9 MB/s eta 0:00:00\n",
      "Collecting cachetools<6.0,>=2.0.0\n",
      "  Downloading cachetools-5.0.0-py3-none-any.whl (9.1 kB)\n",
      "Collecting rsa<5,>=3.1.4\n",
      "  Downloading rsa-4.8-py3-none-any.whl (39 kB)\n",
      "Requirement already satisfied: requests-oauthlib>=0.7.0 in c:\\users\\adminuser\\anaconda3\\lib\\site-packages (from google-auth-oauthlib<0.5,>=0.4.1->tensorboard<2.9,>=2.8->tensorflow) (1.3.0)\n",
      "Collecting importlib-metadata>=4.4\n",
      "  Downloading importlib_metadata-4.11.1-py3-none-any.whl (17 kB)\n",
      "Requirement already satisfied: certifi>=2017.4.17 in c:\\users\\adminuser\\anaconda3\\lib\\site-packages (from requests<3,>=2.21.0->tensorboard<2.9,>=2.8->tensorflow) (2020.12.5)\n",
      "Requirement already satisfied: chardet<5,>=3.0.2 in c:\\users\\adminuser\\anaconda3\\lib\\site-packages (from requests<3,>=2.21.0->tensorboard<2.9,>=2.8->tensorflow) (4.0.0)\n",
      "Requirement already satisfied: urllib3<1.27,>=1.21.1 in c:\\users\\adminuser\\anaconda3\\lib\\site-packages (from requests<3,>=2.21.0->tensorboard<2.9,>=2.8->tensorflow) (1.26.4)\n",
      "Requirement already satisfied: idna<3,>=2.5 in c:\\users\\adminuser\\anaconda3\\lib\\site-packages (from requests<3,>=2.21.0->tensorboard<2.9,>=2.8->tensorflow) (2.10)\n",
      "Requirement already satisfied: zipp>=0.5 in c:\\users\\adminuser\\anaconda3\\lib\\site-packages (from importlib-metadata>=4.4->markdown>=2.6.8->tensorboard<2.9,>=2.8->tensorflow) (3.4.1)\n",
      "Collecting pyasn1<0.5.0,>=0.4.6\n",
      "  Downloading pyasn1-0.4.8-py2.py3-none-any.whl (77 kB)\n",
      "     ---------------------------------------- 77.1/77.1 KB 2.1 MB/s eta 0:00:00\n",
      "Requirement already satisfied: oauthlib>=3.0.0 in c:\\users\\adminuser\\anaconda3\\lib\\site-packages (from requests-oauthlib>=0.7.0->google-auth-oauthlib<0.5,>=0.4.1->tensorboard<2.9,>=2.8->tensorflow) (3.1.1)\n",
      "Building wheels for collected packages: termcolor\n",
      "  Building wheel for termcolor (setup.py): started\n",
      "  Building wheel for termcolor (setup.py): finished with status 'done'\n",
      "  Created wheel for termcolor: filename=termcolor-1.1.0-py3-none-any.whl size=4829 sha256=676798f7a2796543ed10d52ff7c815d746d81e92dff3598f7da3b78f1d1edc77\n",
      "  Stored in directory: c:\\users\\adminuser\\appdata\\local\\pip\\cache\\wheels\\a0\\16\\9c\\5473df82468f958445479c59e784896fa24f4a5fc024b0f501\n",
      "Successfully built termcolor\n",
      "Installing collected packages: tf-estimator-nightly, termcolor, tensorboard-plugin-wit, pyasn1, libclang, keras, flatbuffers, tensorflow-io-gcs-filesystem, tensorboard-data-server, rsa, pyasn1-modules, protobuf, opt-einsum, keras-preprocessing, importlib-metadata, grpcio, google-pasta, gast, cachetools, astunparse, absl-py, markdown, google-auth, google-auth-oauthlib, tensorboard, tensorflow\n",
      "  Attempting uninstall: importlib-metadata\n",
      "    Found existing installation: importlib-metadata 3.10.0\n",
      "    Uninstalling importlib-metadata-3.10.0:\n",
      "      Successfully uninstalled importlib-metadata-3.10.0\n",
      "Successfully installed absl-py-1.0.0 astunparse-1.6.3 cachetools-5.0.0 flatbuffers-2.0 gast-0.5.3 google-auth-2.6.0 google-auth-oauthlib-0.4.6 google-pasta-0.2.0 grpcio-1.43.0 importlib-metadata-4.11.1 keras-2.8.0 keras-preprocessing-1.1.2 libclang-13.0.0 markdown-3.3.6 opt-einsum-3.3.0 protobuf-3.19.4 pyasn1-0.4.8 pyasn1-modules-0.2.8 rsa-4.8 tensorboard-2.8.0 tensorboard-data-server-0.6.1 tensorboard-plugin-wit-1.8.1 tensorflow-2.8.0 tensorflow-io-gcs-filesystem-0.24.0 termcolor-1.1.0 tf-estimator-nightly-2.8.0.dev2021122109\n",
      "Note: you may need to restart the kernel to use updated packages.\n"
     ]
    }
   ],
   "source": [
    "# pip install tensorflow"
   ]
  },
  {
   "cell_type": "code",
   "execution_count": null,
   "id": "20f707cb",
   "metadata": {},
   "outputs": [],
   "source": [
    "# pip install scikit-learn"
   ]
  },
  {
   "cell_type": "code",
   "execution_count": 110,
   "id": "d07ab9f1",
   "metadata": {},
   "outputs": [],
   "source": [
    "import tensorflow as tf\n",
    "import sklearn as sk\n",
    "import pandas as pd\n",
    "import numpy as np\n",
    "import matplotlib.pyplot as plt"
   ]
  },
  {
   "cell_type": "code",
   "execution_count": 13,
   "id": "efd22caa",
   "metadata": {},
   "outputs": [],
   "source": [
    "import tensorflow.compat.v2.feature_column as fc"
   ]
  },
  {
   "cell_type": "code",
   "execution_count": 5,
   "id": "ea05499e",
   "metadata": {},
   "outputs": [
    {
     "name": "stdout",
     "output_type": "stream",
     "text": [
      "<module 'tensorflow._api.v2.version' from 'C:\\\\Users\\\\AdminUser\\\\anaconda3\\\\lib\\\\site-packages\\\\tensorflow\\\\_api\\\\v2\\\\version\\\\__init__.py'>\n"
     ]
    }
   ],
   "source": [
    "# print(tf.version)"
   ]
  },
  {
   "cell_type": "code",
   "execution_count": 2,
   "id": "d4dd94eb",
   "metadata": {},
   "outputs": [
    {
     "data": {
      "text/plain": [
       "'E:\\\\20190923 Newcastle-M.Res\\\\OneDrive - Newcastle University\\\\21_22_autumn\\\\211018\\\\code'"
      ]
     },
     "execution_count": 2,
     "metadata": {},
     "output_type": "execute_result"
    }
   ],
   "source": [
    "import os\n",
    "os.getcwd()"
   ]
  },
  {
   "cell_type": "code",
   "execution_count": 122,
   "id": "1da6e654",
   "metadata": {},
   "outputs": [],
   "source": [
    "dataset= pd.read_csv('data/finaldata.csv', header = 0, index_col = 0 )"
   ]
  },
  {
   "cell_type": "code",
   "execution_count": 123,
   "id": "22bc4421",
   "metadata": {},
   "outputs": [
    {
     "data": {
      "text/plain": [
       "pandas.core.frame.DataFrame"
      ]
     },
     "execution_count": 123,
     "metadata": {},
     "output_type": "execute_result"
    }
   ],
   "source": [
    "type(dataset)"
   ]
  },
  {
   "cell_type": "code",
   "execution_count": 65,
   "id": "1ca01c5c",
   "metadata": {},
   "outputs": [
    {
     "data": {
      "text/plain": [
       "(1096, 4)"
      ]
     },
     "execution_count": 65,
     "metadata": {},
     "output_type": "execute_result"
    }
   ],
   "source": [
    "dataset.shape"
   ]
  },
  {
   "cell_type": "code",
   "execution_count": 66,
   "id": "7c29f481",
   "metadata": {},
   "outputs": [
    {
     "name": "stdout",
     "output_type": "stream",
     "text": [
      "<class 'pandas.core.frame.DataFrame'>\n",
      "Index: 1096 entries, 01/01/2018 to 31/12/2020\n",
      "Data columns (total 4 columns):\n",
      " #   Column      Non-Null Count  Dtype  \n",
      "---  ------      --------------  -----  \n",
      " 0   WindSpeed   1096 non-null   int64  \n",
      " 1   Humidity    1096 non-null   int64  \n",
      " 2   Tonnes      90 non-null     float64\n",
      " 3   Energy/kwh  1092 non-null   float64\n",
      "dtypes: float64(2), int64(2)\n",
      "memory usage: 42.8+ KB\n"
     ]
    }
   ],
   "source": [
    "dataset.info()"
   ]
  },
  {
   "cell_type": "code",
   "execution_count": 67,
   "id": "186affc2",
   "metadata": {
    "scrolled": true
   },
   "outputs": [
    {
     "data": {
      "text/html": [
       "<div>\n",
       "<style scoped>\n",
       "    .dataframe tbody tr th:only-of-type {\n",
       "        vertical-align: middle;\n",
       "    }\n",
       "\n",
       "    .dataframe tbody tr th {\n",
       "        vertical-align: top;\n",
       "    }\n",
       "\n",
       "    .dataframe thead th {\n",
       "        text-align: right;\n",
       "    }\n",
       "</style>\n",
       "<table border=\"1\" class=\"dataframe\">\n",
       "  <thead>\n",
       "    <tr style=\"text-align: right;\">\n",
       "      <th></th>\n",
       "      <th>WindSpeed</th>\n",
       "      <th>Humidity</th>\n",
       "      <th>Tonnes</th>\n",
       "      <th>Energy/kwh</th>\n",
       "    </tr>\n",
       "  </thead>\n",
       "  <tbody>\n",
       "    <tr>\n",
       "      <th>count</th>\n",
       "      <td>1096.000000</td>\n",
       "      <td>1096.000000</td>\n",
       "      <td>90.000000</td>\n",
       "      <td>1092.000000</td>\n",
       "    </tr>\n",
       "    <tr>\n",
       "      <th>mean</th>\n",
       "      <td>18.196168</td>\n",
       "      <td>74.218066</td>\n",
       "      <td>2648.492222</td>\n",
       "      <td>3383.581932</td>\n",
       "    </tr>\n",
       "    <tr>\n",
       "      <th>std</th>\n",
       "      <td>7.473474</td>\n",
       "      <td>7.498729</td>\n",
       "      <td>2398.211757</td>\n",
       "      <td>1468.460239</td>\n",
       "    </tr>\n",
       "    <tr>\n",
       "      <th>min</th>\n",
       "      <td>4.000000</td>\n",
       "      <td>57.000000</td>\n",
       "      <td>0.000000</td>\n",
       "      <td>375.600000</td>\n",
       "    </tr>\n",
       "    <tr>\n",
       "      <th>25%</th>\n",
       "      <td>12.000000</td>\n",
       "      <td>69.000000</td>\n",
       "      <td>0.000000</td>\n",
       "      <td>2256.932500</td>\n",
       "    </tr>\n",
       "    <tr>\n",
       "      <th>50%</th>\n",
       "      <td>17.000000</td>\n",
       "      <td>74.000000</td>\n",
       "      <td>2412.400000</td>\n",
       "      <td>3419.645000</td>\n",
       "    </tr>\n",
       "    <tr>\n",
       "      <th>75%</th>\n",
       "      <td>23.000000</td>\n",
       "      <td>79.000000</td>\n",
       "      <td>4613.200000</td>\n",
       "      <td>4503.367500</td>\n",
       "    </tr>\n",
       "    <tr>\n",
       "      <th>max</th>\n",
       "      <td>49.000000</td>\n",
       "      <td>95.000000</td>\n",
       "      <td>8146.000000</td>\n",
       "      <td>8097.760000</td>\n",
       "    </tr>\n",
       "  </tbody>\n",
       "</table>\n",
       "</div>"
      ],
      "text/plain": [
       "         WindSpeed     Humidity       Tonnes   Energy/kwh\n",
       "count  1096.000000  1096.000000    90.000000  1092.000000\n",
       "mean     18.196168    74.218066  2648.492222  3383.581932\n",
       "std       7.473474     7.498729  2398.211757  1468.460239\n",
       "min       4.000000    57.000000     0.000000   375.600000\n",
       "25%      12.000000    69.000000     0.000000  2256.932500\n",
       "50%      17.000000    74.000000  2412.400000  3419.645000\n",
       "75%      23.000000    79.000000  4613.200000  4503.367500\n",
       "max      49.000000    95.000000  8146.000000  8097.760000"
      ]
     },
     "execution_count": 67,
     "metadata": {},
     "output_type": "execute_result"
    }
   ],
   "source": [
    "dataset.describe()"
   ]
  },
  {
   "cell_type": "code",
   "execution_count": 72,
   "id": "207c0a1d",
   "metadata": {},
   "outputs": [],
   "source": [
    "dataset = dataset.drop(['Tonnes'],axis=1)"
   ]
  },
  {
   "cell_type": "code",
   "execution_count": 116,
   "id": "5e950764",
   "metadata": {
    "scrolled": true
   },
   "outputs": [
    {
     "data": {
      "text/html": [
       "<div>\n",
       "<style scoped>\n",
       "    .dataframe tbody tr th:only-of-type {\n",
       "        vertical-align: middle;\n",
       "    }\n",
       "\n",
       "    .dataframe tbody tr th {\n",
       "        vertical-align: top;\n",
       "    }\n",
       "\n",
       "    .dataframe thead th {\n",
       "        text-align: right;\n",
       "    }\n",
       "</style>\n",
       "<table border=\"1\" class=\"dataframe\">\n",
       "  <thead>\n",
       "    <tr style=\"text-align: right;\">\n",
       "      <th></th>\n",
       "      <th>WindSpeed</th>\n",
       "      <th>Humidity</th>\n",
       "      <th>Energy/kwh</th>\n",
       "    </tr>\n",
       "    <tr>\n",
       "      <th>Date</th>\n",
       "      <th></th>\n",
       "      <th></th>\n",
       "      <th></th>\n",
       "    </tr>\n",
       "  </thead>\n",
       "  <tbody>\n",
       "    <tr>\n",
       "      <th>01/01/2018</th>\n",
       "      <td>21</td>\n",
       "      <td>74</td>\n",
       "      <td>646.92</td>\n",
       "    </tr>\n",
       "    <tr>\n",
       "      <th>02/01/2018</th>\n",
       "      <td>20</td>\n",
       "      <td>81</td>\n",
       "      <td>1391.50</td>\n",
       "    </tr>\n",
       "    <tr>\n",
       "      <th>03/01/2018</th>\n",
       "      <td>34</td>\n",
       "      <td>72</td>\n",
       "      <td>1660.89</td>\n",
       "    </tr>\n",
       "    <tr>\n",
       "      <th>04/01/2018</th>\n",
       "      <td>16</td>\n",
       "      <td>86</td>\n",
       "      <td>1046.34</td>\n",
       "    </tr>\n",
       "    <tr>\n",
       "      <th>05/01/2018</th>\n",
       "      <td>17</td>\n",
       "      <td>83</td>\n",
       "      <td>1739.67</td>\n",
       "    </tr>\n",
       "  </tbody>\n",
       "</table>\n",
       "</div>"
      ],
      "text/plain": [
       "            WindSpeed  Humidity  Energy/kwh\n",
       "Date                                       \n",
       "01/01/2018         21        74      646.92\n",
       "02/01/2018         20        81     1391.50\n",
       "03/01/2018         34        72     1660.89\n",
       "04/01/2018         16        86     1046.34\n",
       "05/01/2018         17        83     1739.67"
      ]
     },
     "execution_count": 116,
     "metadata": {},
     "output_type": "execute_result"
    }
   ],
   "source": [
    "dataset.head()"
   ]
  },
  {
   "cell_type": "code",
   "execution_count": 124,
   "id": "5e81c2cd",
   "metadata": {},
   "outputs": [],
   "source": [
    "dataset = np.genfromtxt('data/finaldata.csv', delimiter=',',skip_header = True, usecols=(0,1,2))"
   ]
  },
  {
   "cell_type": "code",
   "execution_count": 125,
   "id": "ccc9b94e",
   "metadata": {},
   "outputs": [
    {
     "data": {
      "text/plain": [
       "numpy.ndarray"
      ]
     },
     "execution_count": 125,
     "metadata": {},
     "output_type": "execute_result"
    }
   ],
   "source": [
    "type(dataset)"
   ]
  },
  {
   "cell_type": "code",
   "execution_count": 126,
   "id": "fa2684d9",
   "metadata": {},
   "outputs": [],
   "source": [
    "from tensorflow.keras.models import Sequential\n",
    "from tensorflow.keras.layers import Dense"
   ]
  },
  {
   "cell_type": "code",
   "execution_count": 127,
   "id": "4b74215b",
   "metadata": {},
   "outputs": [],
   "source": [
    "model = Sequential()"
   ]
  },
  {
   "cell_type": "code",
   "execution_count": 128,
   "id": "203f07b3",
   "metadata": {},
   "outputs": [],
   "source": [
    "model.add(Dense(1, input_dim = 2, activation = 'linear'))"
   ]
  },
  {
   "cell_type": "code",
   "execution_count": 129,
   "id": "f6ec26c1",
   "metadata": {},
   "outputs": [],
   "source": [
    "model.compile(loss = 'mse', optimizer = 'rmsprop', metrics = ['mse'])"
   ]
  },
  {
   "cell_type": "code",
   "execution_count": 130,
   "id": "cdb17f29",
   "metadata": {},
   "outputs": [
    {
     "name": "stdout",
     "output_type": "stream",
     "text": [
      "Epoch 1/256\n",
      "35/35 [==============================] - 0s 772us/step - loss: nan - mse: nan\n",
      "Epoch 2/256\n",
      "35/35 [==============================] - 0s 787us/step - loss: nan - mse: nan\n",
      "Epoch 3/256\n",
      "35/35 [==============================] - 0s 848us/step - loss: nan - mse: nan\n",
      "Epoch 4/256\n",
      "35/35 [==============================] - 0s 854us/step - loss: nan - mse: nan\n",
      "Epoch 5/256\n",
      "35/35 [==============================] - 0s 792us/step - loss: nan - mse: nan\n",
      "Epoch 6/256\n",
      "35/35 [==============================] - 0s 774us/step - loss: nan - mse: nan\n",
      "Epoch 7/256\n",
      "35/35 [==============================] - 0s 771us/step - loss: nan - mse: nan\n",
      "Epoch 8/256\n",
      "35/35 [==============================] - 0s 787us/step - loss: nan - mse: nan\n",
      "Epoch 9/256\n",
      "35/35 [==============================] - 0s 835us/step - loss: nan - mse: nan\n",
      "Epoch 10/256\n",
      "35/35 [==============================] - 0s 818us/step - loss: nan - mse: nan\n",
      "Epoch 11/256\n",
      "35/35 [==============================] - 0s 831us/step - loss: nan - mse: nan\n",
      "Epoch 12/256\n",
      "35/35 [==============================] - 0s 854us/step - loss: nan - mse: nan\n",
      "Epoch 13/256\n",
      "35/35 [==============================] - 0s 856us/step - loss: nan - mse: nan\n",
      "Epoch 14/256\n",
      "35/35 [==============================] - 0s 822us/step - loss: nan - mse: nan\n",
      "Epoch 15/256\n",
      "35/35 [==============================] - 0s 834us/step - loss: nan - mse: nan\n",
      "Epoch 16/256\n",
      "35/35 [==============================] - 0s 851us/step - loss: nan - mse: nan\n",
      "Epoch 17/256\n",
      "35/35 [==============================] - 0s 888us/step - loss: nan - mse: nan\n",
      "Epoch 18/256\n",
      "35/35 [==============================] - 0s 878us/step - loss: nan - mse: nan\n",
      "Epoch 19/256\n",
      "35/35 [==============================] - 0s 877us/step - loss: nan - mse: nan\n",
      "Epoch 20/256\n",
      "35/35 [==============================] - 0s 876us/step - loss: nan - mse: nan\n",
      "Epoch 21/256\n",
      "35/35 [==============================] - 0s 886us/step - loss: nan - mse: nan\n",
      "Epoch 22/256\n",
      "35/35 [==============================] - 0s 851us/step - loss: nan - mse: nan\n",
      "Epoch 23/256\n",
      "35/35 [==============================] - 0s 875us/step - loss: nan - mse: nan\n",
      "Epoch 24/256\n",
      "35/35 [==============================] - 0s 970us/step - loss: nan - mse: nan\n",
      "Epoch 25/256\n",
      "35/35 [==============================] - 0s 869us/step - loss: nan - mse: nan\n",
      "Epoch 26/256\n",
      "35/35 [==============================] - 0s 777us/step - loss: nan - mse: nan\n",
      "Epoch 27/256\n",
      "35/35 [==============================] - 0s 888us/step - loss: nan - mse: nan\n",
      "Epoch 28/256\n",
      "35/35 [==============================] - 0s 910us/step - loss: nan - mse: nan\n",
      "Epoch 29/256\n",
      "35/35 [==============================] - 0s 862us/step - loss: nan - mse: nan\n",
      "Epoch 30/256\n",
      "35/35 [==============================] - 0s 875us/step - loss: nan - mse: nan\n",
      "Epoch 31/256\n",
      "35/35 [==============================] - 0s 886us/step - loss: nan - mse: nan\n",
      "Epoch 32/256\n",
      "35/35 [==============================] - 0s 900us/step - loss: nan - mse: nan\n",
      "Epoch 33/256\n",
      "35/35 [==============================] - 0s 868us/step - loss: nan - mse: nan\n",
      "Epoch 34/256\n",
      "35/35 [==============================] - 0s 819us/step - loss: nan - mse: nan\n",
      "Epoch 35/256\n",
      "35/35 [==============================] - 0s 780us/step - loss: nan - mse: nan\n",
      "Epoch 36/256\n",
      "35/35 [==============================] - 0s 760us/step - loss: nan - mse: nan\n",
      "Epoch 37/256\n",
      "35/35 [==============================] - 0s 869us/step - loss: nan - mse: nan\n",
      "Epoch 38/256\n",
      "35/35 [==============================] - 0s 822us/step - loss: nan - mse: nan\n",
      "Epoch 39/256\n",
      "35/35 [==============================] - 0s 733us/step - loss: nan - mse: nan\n",
      "Epoch 40/256\n",
      "35/35 [==============================] - 0s 844us/step - loss: nan - mse: nan\n",
      "Epoch 41/256\n",
      "35/35 [==============================] - 0s 843us/step - loss: nan - mse: nan\n",
      "Epoch 42/256\n",
      "35/35 [==============================] - 0s 831us/step - loss: nan - mse: nan\n",
      "Epoch 43/256\n",
      "35/35 [==============================] - 0s 821us/step - loss: nan - mse: nan\n",
      "Epoch 44/256\n",
      "35/35 [==============================] - 0s 851us/step - loss: nan - mse: nan\n",
      "Epoch 45/256\n",
      "35/35 [==============================] - 0s 838us/step - loss: nan - mse: nan\n",
      "Epoch 46/256\n",
      "35/35 [==============================] - 0s 822us/step - loss: nan - mse: nan\n",
      "Epoch 47/256\n",
      "35/35 [==============================] - 0s 787us/step - loss: nan - mse: nan\n",
      "Epoch 48/256\n",
      "35/35 [==============================] - 0s 757us/step - loss: nan - mse: nan\n",
      "Epoch 49/256\n",
      "35/35 [==============================] - 0s 844us/step - loss: nan - mse: nan\n",
      "Epoch 50/256\n",
      "35/35 [==============================] - 0s 850us/step - loss: nan - mse: nan\n",
      "Epoch 51/256\n",
      "35/35 [==============================] - 0s 783us/step - loss: nan - mse: nan\n",
      "Epoch 52/256\n",
      "35/35 [==============================] - 0s 792us/step - loss: nan - mse: nan\n",
      "Epoch 53/256\n",
      "35/35 [==============================] - 0s 792us/step - loss: nan - mse: nan\n",
      "Epoch 54/256\n",
      "35/35 [==============================] - 0s 811us/step - loss: nan - mse: nan\n",
      "Epoch 55/256\n",
      "35/35 [==============================] - 0s 877us/step - loss: nan - mse: nan\n",
      "Epoch 56/256\n",
      "35/35 [==============================] - 0s 852us/step - loss: nan - mse: nan\n",
      "Epoch 57/256\n",
      "35/35 [==============================] - 0s 855us/step - loss: nan - mse: nan\n",
      "Epoch 58/256\n",
      "35/35 [==============================] - 0s 814us/step - loss: nan - mse: nan\n",
      "Epoch 59/256\n",
      "35/35 [==============================] - 0s 830us/step - loss: nan - mse: nan\n",
      "Epoch 60/256\n",
      "35/35 [==============================] - 0s 791us/step - loss: nan - mse: nan\n",
      "Epoch 61/256\n",
      "35/35 [==============================] - 0s 815us/step - loss: nan - mse: nan\n",
      "Epoch 62/256\n",
      "35/35 [==============================] - 0s 786us/step - loss: nan - mse: nan\n",
      "Epoch 63/256\n",
      "35/35 [==============================] - 0s 740us/step - loss: nan - mse: nan\n",
      "Epoch 64/256\n",
      "35/35 [==============================] - 0s 758us/step - loss: nan - mse: nan\n",
      "Epoch 65/256\n",
      "35/35 [==============================] - 0s 762us/step - loss: nan - mse: nan\n",
      "Epoch 66/256\n",
      "35/35 [==============================] - 0s 777us/step - loss: nan - mse: nan\n",
      "Epoch 67/256\n",
      "35/35 [==============================] - 0s 804us/step - loss: nan - mse: nan\n",
      "Epoch 68/256\n",
      "35/35 [==============================] - 0s 750us/step - loss: nan - mse: nan\n",
      "Epoch 69/256\n",
      "35/35 [==============================] - 0s 753us/step - loss: nan - mse: nan\n",
      "Epoch 70/256\n",
      "35/35 [==============================] - 0s 775us/step - loss: nan - mse: nan\n",
      "Epoch 71/256\n",
      "35/35 [==============================] - 0s 721us/step - loss: nan - mse: nan\n",
      "Epoch 72/256\n",
      "35/35 [==============================] - 0s 692us/step - loss: nan - mse: nan\n",
      "Epoch 73/256\n",
      "35/35 [==============================] - 0s 755us/step - loss: nan - mse: nan\n",
      "Epoch 74/256\n",
      "35/35 [==============================] - 0s 710us/step - loss: nan - mse: nan\n",
      "Epoch 75/256\n",
      "35/35 [==============================] - 0s 764us/step - loss: nan - mse: nan\n",
      "Epoch 76/256\n",
      "35/35 [==============================] - 0s 814us/step - loss: nan - mse: nan\n",
      "Epoch 77/256\n",
      "35/35 [==============================] - 0s 843us/step - loss: nan - mse: nan\n",
      "Epoch 78/256\n",
      "35/35 [==============================] - 0s 786us/step - loss: nan - mse: nan\n",
      "Epoch 79/256\n",
      "35/35 [==============================] - 0s 843us/step - loss: nan - mse: nan\n",
      "Epoch 80/256\n",
      "35/35 [==============================] - 0s 851us/step - loss: nan - mse: nan\n",
      "Epoch 81/256\n",
      "35/35 [==============================] - 0s 824us/step - loss: nan - mse: nan\n",
      "Epoch 82/256\n",
      "35/35 [==============================] - 0s 881us/step - loss: nan - mse: nan\n",
      "Epoch 83/256\n",
      "35/35 [==============================] - 0s 869us/step - loss: nan - mse: nan\n",
      "Epoch 84/256\n",
      "35/35 [==============================] - 0s 819us/step - loss: nan - mse: nan\n",
      "Epoch 85/256\n",
      "35/35 [==============================] - 0s 760us/step - loss: nan - mse: nan\n",
      "Epoch 86/256\n",
      "35/35 [==============================] - 0s 851us/step - loss: nan - mse: nan\n",
      "Epoch 87/256\n",
      "35/35 [==============================] - 0s 791us/step - loss: nan - mse: nan\n",
      "Epoch 88/256\n",
      "35/35 [==============================] - 0s 763us/step - loss: nan - mse: nan\n",
      "Epoch 89/256\n",
      "35/35 [==============================] - 0s 792us/step - loss: nan - mse: nan\n",
      "Epoch 90/256\n",
      "35/35 [==============================] - 0s 734us/step - loss: nan - mse: nan\n",
      "Epoch 91/256\n"
     ]
    },
    {
     "name": "stdout",
     "output_type": "stream",
     "text": [
      "35/35 [==============================] - 0s 766us/step - loss: nan - mse: nan\n",
      "Epoch 92/256\n",
      "35/35 [==============================] - 0s 788us/step - loss: nan - mse: nan\n",
      "Epoch 93/256\n",
      "35/35 [==============================] - 0s 886us/step - loss: nan - mse: nan\n",
      "Epoch 94/256\n",
      "35/35 [==============================] - 0s 899us/step - loss: nan - mse: nan\n",
      "Epoch 95/256\n",
      "35/35 [==============================] - 0s 877us/step - loss: nan - mse: nan\n",
      "Epoch 96/256\n",
      "35/35 [==============================] - 0s 851us/step - loss: nan - mse: nan\n",
      "Epoch 97/256\n",
      "35/35 [==============================] - 0s 820us/step - loss: nan - mse: nan\n",
      "Epoch 98/256\n",
      "35/35 [==============================] - 0s 808us/step - loss: nan - mse: nan\n",
      "Epoch 99/256\n",
      "35/35 [==============================] - 0s 851us/step - loss: nan - mse: nan\n",
      "Epoch 100/256\n",
      "35/35 [==============================] - 0s 837us/step - loss: nan - mse: nan\n",
      "Epoch 101/256\n",
      "35/35 [==============================] - 0s 760us/step - loss: nan - mse: nan\n",
      "Epoch 102/256\n",
      "35/35 [==============================] - 0s 765us/step - loss: nan - mse: nan\n",
      "Epoch 103/256\n",
      "35/35 [==============================] - 0s 1ms/step - loss: nan - mse: nan\n",
      "Epoch 104/256\n",
      "35/35 [==============================] - 0s 786us/step - loss: nan - mse: nan\n",
      "Epoch 105/256\n",
      "35/35 [==============================] - 0s 748us/step - loss: nan - mse: nan\n",
      "Epoch 106/256\n",
      "35/35 [==============================] - 0s 772us/step - loss: nan - mse: nan\n",
      "Epoch 107/256\n",
      "35/35 [==============================] - 0s 828us/step - loss: nan - mse: nan\n",
      "Epoch 108/256\n",
      "35/35 [==============================] - 0s 774us/step - loss: nan - mse: nan\n",
      "Epoch 109/256\n",
      "35/35 [==============================] - 0s 732us/step - loss: nan - mse: nan\n",
      "Epoch 110/256\n",
      "35/35 [==============================] - 0s 769us/step - loss: nan - mse: nan\n",
      "Epoch 111/256\n",
      "35/35 [==============================] - 0s 851us/step - loss: nan - mse: nan\n",
      "Epoch 112/256\n",
      "35/35 [==============================] - 0s 822us/step - loss: nan - mse: nan\n",
      "Epoch 113/256\n",
      "35/35 [==============================] - 0s 762us/step - loss: nan - mse: nan\n",
      "Epoch 114/256\n",
      "35/35 [==============================] - 0s 776us/step - loss: nan - mse: nan\n",
      "Epoch 115/256\n",
      "35/35 [==============================] - 0s 792us/step - loss: nan - mse: nan\n",
      "Epoch 116/256\n",
      "35/35 [==============================] - 0s 794us/step - loss: nan - mse: nan\n",
      "Epoch 117/256\n",
      "35/35 [==============================] - 0s 759us/step - loss: nan - mse: nan\n",
      "Epoch 118/256\n",
      "35/35 [==============================] - 0s 753us/step - loss: nan - mse: nan\n",
      "Epoch 119/256\n",
      "35/35 [==============================] - 0s 799us/step - loss: nan - mse: nan\n",
      "Epoch 120/256\n",
      "35/35 [==============================] - 0s 792us/step - loss: nan - mse: nan\n",
      "Epoch 121/256\n",
      "35/35 [==============================] - 0s 734us/step - loss: nan - mse: nan\n",
      "Epoch 122/256\n",
      "35/35 [==============================] - 0s 742us/step - loss: nan - mse: nan\n",
      "Epoch 123/256\n",
      "35/35 [==============================] - 0s 776us/step - loss: nan - mse: nan\n",
      "Epoch 124/256\n",
      "35/35 [==============================] - 0s 843us/step - loss: nan - mse: nan\n",
      "Epoch 125/256\n",
      "35/35 [==============================] - 0s 733us/step - loss: nan - mse: nan\n",
      "Epoch 126/256\n",
      "35/35 [==============================] - 0s 766us/step - loss: nan - mse: nan\n",
      "Epoch 127/256\n",
      "35/35 [==============================] - 0s 852us/step - loss: nan - mse: nan\n",
      "Epoch 128/256\n",
      "35/35 [==============================] - 0s 817us/step - loss: nan - mse: nan\n",
      "Epoch 129/256\n",
      "35/35 [==============================] - 0s 780us/step - loss: nan - mse: nan\n",
      "Epoch 130/256\n",
      "35/35 [==============================] - 0s 731us/step - loss: nan - mse: nan\n",
      "Epoch 131/256\n",
      "35/35 [==============================] - 0s 777us/step - loss: nan - mse: nan\n",
      "Epoch 132/256\n",
      "35/35 [==============================] - 0s 756us/step - loss: nan - mse: nan\n",
      "Epoch 133/256\n",
      "35/35 [==============================] - 0s 752us/step - loss: nan - mse: nan\n",
      "Epoch 134/256\n",
      "35/35 [==============================] - 0s 771us/step - loss: nan - mse: nan\n",
      "Epoch 135/256\n",
      "35/35 [==============================] - 0s 801us/step - loss: nan - mse: nan\n",
      "Epoch 136/256\n",
      "35/35 [==============================] - 0s 744us/step - loss: nan - mse: nan\n",
      "Epoch 137/256\n",
      "35/35 [==============================] - 0s 744us/step - loss: nan - mse: nan\n",
      "Epoch 138/256\n",
      "35/35 [==============================] - 0s 791us/step - loss: nan - mse: nan\n",
      "Epoch 139/256\n",
      "35/35 [==============================] - 0s 802us/step - loss: nan - mse: nan\n",
      "Epoch 140/256\n",
      "35/35 [==============================] - 0s 818us/step - loss: nan - mse: nan\n",
      "Epoch 141/256\n",
      "35/35 [==============================] - 0s 779us/step - loss: nan - mse: nan\n",
      "Epoch 142/256\n",
      "35/35 [==============================] - 0s 750us/step - loss: nan - mse: nan\n",
      "Epoch 143/256\n",
      "35/35 [==============================] - 0s 812us/step - loss: nan - mse: nan\n",
      "Epoch 144/256\n",
      "35/35 [==============================] - 0s 781us/step - loss: nan - mse: nan\n",
      "Epoch 145/256\n",
      "35/35 [==============================] - 0s 713us/step - loss: nan - mse: nan\n",
      "Epoch 146/256\n",
      "35/35 [==============================] - 0s 759us/step - loss: nan - mse: nan\n",
      "Epoch 147/256\n",
      "35/35 [==============================] - 0s 795us/step - loss: nan - mse: nan\n",
      "Epoch 148/256\n",
      "35/35 [==============================] - 0s 763us/step - loss: nan - mse: nan\n",
      "Epoch 149/256\n",
      "35/35 [==============================] - 0s 792us/step - loss: nan - mse: nan\n",
      "Epoch 150/256\n",
      "35/35 [==============================] - 0s 790us/step - loss: nan - mse: nan\n",
      "Epoch 151/256\n",
      "35/35 [==============================] - 0s 851us/step - loss: nan - mse: nan\n",
      "Epoch 152/256\n",
      "35/35 [==============================] - 0s 763us/step - loss: nan - mse: nan\n",
      "Epoch 153/256\n",
      "35/35 [==============================] - 0s 811us/step - loss: nan - mse: nan\n",
      "Epoch 154/256\n",
      "35/35 [==============================] - 0s 792us/step - loss: nan - mse: nan\n",
      "Epoch 155/256\n",
      "35/35 [==============================] - 0s 818us/step - loss: nan - mse: nan\n",
      "Epoch 156/256\n",
      "35/35 [==============================] - 0s 791us/step - loss: nan - mse: nan\n",
      "Epoch 157/256\n",
      "35/35 [==============================] - 0s 734us/step - loss: nan - mse: nan\n",
      "Epoch 158/256\n",
      "35/35 [==============================] - 0s 781us/step - loss: nan - mse: nan\n",
      "Epoch 159/256\n",
      "35/35 [==============================] - 0s 805us/step - loss: nan - mse: nan\n",
      "Epoch 160/256\n",
      "35/35 [==============================] - 0s 813us/step - loss: nan - mse: nan\n",
      "Epoch 161/256\n",
      "35/35 [==============================] - 0s 763us/step - loss: nan - mse: nan\n",
      "Epoch 162/256\n",
      "35/35 [==============================] - 0s 763us/step - loss: nan - mse: nan\n",
      "Epoch 163/256\n",
      "35/35 [==============================] - 0s 823us/step - loss: nan - mse: nan\n",
      "Epoch 164/256\n",
      "35/35 [==============================] - 0s 807us/step - loss: nan - mse: nan\n",
      "Epoch 165/256\n",
      "35/35 [==============================] - 0s 751us/step - loss: nan - mse: nan\n",
      "Epoch 166/256\n",
      "35/35 [==============================] - 0s 771us/step - loss: nan - mse: nan\n",
      "Epoch 167/256\n",
      "35/35 [==============================] - 0s 794us/step - loss: nan - mse: nan\n",
      "Epoch 168/256\n",
      "35/35 [==============================] - 0s 776us/step - loss: nan - mse: nan\n",
      "Epoch 169/256\n",
      "35/35 [==============================] - 0s 735us/step - loss: nan - mse: nan\n",
      "Epoch 170/256\n",
      "35/35 [==============================] - 0s 783us/step - loss: nan - mse: nan\n",
      "Epoch 171/256\n",
      "35/35 [==============================] - 0s 829us/step - loss: nan - mse: nan\n",
      "Epoch 172/256\n",
      "35/35 [==============================] - 0s 822us/step - loss: nan - mse: nan\n",
      "Epoch 173/256\n",
      "35/35 [==============================] - 0s 792us/step - loss: nan - mse: nan\n",
      "Epoch 174/256\n",
      "35/35 [==============================] - 0s 746us/step - loss: nan - mse: nan\n",
      "Epoch 175/256\n",
      "35/35 [==============================] - 0s 773us/step - loss: nan - mse: nan\n",
      "Epoch 176/256\n",
      "35/35 [==============================] - 0s 804us/step - loss: nan - mse: nan\n",
      "Epoch 177/256\n",
      "35/35 [==============================] - 0s 870us/step - loss: nan - mse: nan\n",
      "Epoch 178/256\n",
      "35/35 [==============================] - 0s 733us/step - loss: nan - mse: nan\n",
      "Epoch 179/256\n",
      "35/35 [==============================] - 0s 744us/step - loss: nan - mse: nan\n",
      "Epoch 180/256\n"
     ]
    },
    {
     "name": "stdout",
     "output_type": "stream",
     "text": [
      "35/35 [==============================] - 0s 754us/step - loss: nan - mse: nan\n",
      "Epoch 181/256\n",
      "35/35 [==============================] - 0s 817us/step - loss: nan - mse: nan\n",
      "Epoch 182/256\n",
      "35/35 [==============================] - 0s 807us/step - loss: nan - mse: nan\n",
      "Epoch 183/256\n",
      "35/35 [==============================] - 0s 776us/step - loss: nan - mse: nan\n",
      "Epoch 184/256\n",
      "35/35 [==============================] - 0s 750us/step - loss: nan - mse: nan\n",
      "Epoch 185/256\n",
      "35/35 [==============================] - 0s 823us/step - loss: nan - mse: nan\n",
      "Epoch 186/256\n",
      "35/35 [==============================] - 0s 761us/step - loss: nan - mse: nan\n",
      "Epoch 187/256\n",
      "35/35 [==============================] - 0s 758us/step - loss: nan - mse: nan\n",
      "Epoch 188/256\n",
      "35/35 [==============================] - 0s 738us/step - loss: nan - mse: nan\n",
      "Epoch 189/256\n",
      "35/35 [==============================] - 0s 772us/step - loss: nan - mse: nan\n",
      "Epoch 190/256\n",
      "35/35 [==============================] - 0s 712us/step - loss: nan - mse: nan\n",
      "Epoch 191/256\n",
      "35/35 [==============================] - 0s 722us/step - loss: nan - mse: nan\n",
      "Epoch 192/256\n",
      "35/35 [==============================] - 0s 793us/step - loss: nan - mse: nan\n",
      "Epoch 193/256\n",
      "35/35 [==============================] - 0s 821us/step - loss: nan - mse: nan\n",
      "Epoch 194/256\n",
      "35/35 [==============================] - 0s 838us/step - loss: nan - mse: nan\n",
      "Epoch 195/256\n",
      "35/35 [==============================] - 0s 753us/step - loss: nan - mse: nan\n",
      "Epoch 196/256\n",
      "35/35 [==============================] - 0s 795us/step - loss: nan - mse: nan\n",
      "Epoch 197/256\n",
      "35/35 [==============================] - 0s 823us/step - loss: nan - mse: nan\n",
      "Epoch 198/256\n",
      "35/35 [==============================] - 0s 744us/step - loss: nan - mse: nan\n",
      "Epoch 199/256\n",
      "35/35 [==============================] - 0s 732us/step - loss: nan - mse: nan\n",
      "Epoch 200/256\n",
      "35/35 [==============================] - 0s 754us/step - loss: nan - mse: nan\n",
      "Epoch 201/256\n",
      "35/35 [==============================] - 0s 744us/step - loss: nan - mse: nan\n",
      "Epoch 202/256\n",
      "35/35 [==============================] - 0s 763us/step - loss: nan - mse: nan\n",
      "Epoch 203/256\n",
      "35/35 [==============================] - 0s 787us/step - loss: nan - mse: nan\n",
      "Epoch 204/256\n",
      "35/35 [==============================] - 0s 767us/step - loss: nan - mse: nan\n",
      "Epoch 205/256\n",
      "35/35 [==============================] - 0s 736us/step - loss: nan - mse: nan\n",
      "Epoch 206/256\n",
      "35/35 [==============================] - 0s 702us/step - loss: nan - mse: nan\n",
      "Epoch 207/256\n",
      "35/35 [==============================] - 0s 791us/step - loss: nan - mse: nan\n",
      "Epoch 208/256\n",
      "35/35 [==============================] - 0s 824us/step - loss: nan - mse: nan\n",
      "Epoch 209/256\n",
      "35/35 [==============================] - 0s 813us/step - loss: nan - mse: nan\n",
      "Epoch 210/256\n",
      "35/35 [==============================] - 0s 777us/step - loss: nan - mse: nan\n",
      "Epoch 211/256\n",
      "35/35 [==============================] - 0s 747us/step - loss: nan - mse: nan\n",
      "Epoch 212/256\n",
      "35/35 [==============================] - 0s 786us/step - loss: nan - mse: nan\n",
      "Epoch 213/256\n",
      "35/35 [==============================] - 0s 769us/step - loss: nan - mse: nan\n",
      "Epoch 214/256\n",
      "35/35 [==============================] - 0s 767us/step - loss: nan - mse: nan\n",
      "Epoch 215/256\n",
      "35/35 [==============================] - 0s 763us/step - loss: nan - mse: nan\n",
      "Epoch 216/256\n",
      "35/35 [==============================] - 0s 799us/step - loss: nan - mse: nan\n",
      "Epoch 217/256\n",
      "35/35 [==============================] - 0s 763us/step - loss: nan - mse: nan\n",
      "Epoch 218/256\n",
      "35/35 [==============================] - 0s 775us/step - loss: nan - mse: nan\n",
      "Epoch 219/256\n",
      "35/35 [==============================] - 0s 792us/step - loss: nan - mse: nan\n",
      "Epoch 220/256\n",
      "35/35 [==============================] - 0s 830us/step - loss: nan - mse: nan\n",
      "Epoch 221/256\n",
      "35/35 [==============================] - 0s 774us/step - loss: nan - mse: nan\n",
      "Epoch 222/256\n",
      "35/35 [==============================] - 0s 780us/step - loss: nan - mse: nan\n",
      "Epoch 223/256\n",
      "35/35 [==============================] - 0s 744us/step - loss: nan - mse: nan\n",
      "Epoch 224/256\n",
      "35/35 [==============================] - 0s 770us/step - loss: nan - mse: nan\n",
      "Epoch 225/256\n",
      "35/35 [==============================] - 0s 736us/step - loss: nan - mse: nan\n",
      "Epoch 226/256\n",
      "35/35 [==============================] - 0s 752us/step - loss: nan - mse: nan\n",
      "Epoch 227/256\n",
      "35/35 [==============================] - 0s 775us/step - loss: nan - mse: nan\n",
      "Epoch 228/256\n",
      "35/35 [==============================] - 0s 862us/step - loss: nan - mse: nan\n",
      "Epoch 229/256\n",
      "35/35 [==============================] - 0s 821us/step - loss: nan - mse: nan\n",
      "Epoch 230/256\n",
      "35/35 [==============================] - 0s 818us/step - loss: nan - mse: nan\n",
      "Epoch 231/256\n",
      "35/35 [==============================] - 0s 776us/step - loss: nan - mse: nan\n",
      "Epoch 232/256\n",
      "35/35 [==============================] - 0s 803us/step - loss: nan - mse: nan\n",
      "Epoch 233/256\n",
      "35/35 [==============================] - 0s 814us/step - loss: nan - mse: nan\n",
      "Epoch 234/256\n",
      "35/35 [==============================] - 0s 741us/step - loss: nan - mse: nan\n",
      "Epoch 235/256\n",
      "35/35 [==============================] - 0s 763us/step - loss: nan - mse: nan\n",
      "Epoch 236/256\n",
      "35/35 [==============================] - 0s 772us/step - loss: nan - mse: nan\n",
      "Epoch 237/256\n",
      "35/35 [==============================] - 0s 846us/step - loss: nan - mse: nan\n",
      "Epoch 238/256\n",
      "35/35 [==============================] - 0s 842us/step - loss: nan - mse: nan\n",
      "Epoch 239/256\n",
      "35/35 [==============================] - 0s 792us/step - loss: nan - mse: nan\n",
      "Epoch 240/256\n",
      "35/35 [==============================] - 0s 761us/step - loss: nan - mse: nan\n",
      "Epoch 241/256\n",
      "35/35 [==============================] - 0s 793us/step - loss: nan - mse: nan\n",
      "Epoch 242/256\n",
      "35/35 [==============================] - 0s 830us/step - loss: nan - mse: nan\n",
      "Epoch 243/256\n",
      "35/35 [==============================] - 0s 782us/step - loss: nan - mse: nan\n",
      "Epoch 244/256\n",
      "35/35 [==============================] - 0s 742us/step - loss: nan - mse: nan\n",
      "Epoch 245/256\n",
      "35/35 [==============================] - 0s 762us/step - loss: nan - mse: nan\n",
      "Epoch 246/256\n",
      "35/35 [==============================] - 0s 781us/step - loss: nan - mse: nan\n",
      "Epoch 247/256\n",
      "35/35 [==============================] - 0s 745us/step - loss: nan - mse: nan\n",
      "Epoch 248/256\n",
      "35/35 [==============================] - 0s 730us/step - loss: nan - mse: nan\n",
      "Epoch 249/256\n",
      "35/35 [==============================] - 0s 821us/step - loss: nan - mse: nan\n",
      "Epoch 250/256\n",
      "35/35 [==============================] - 0s 776us/step - loss: nan - mse: nan\n",
      "Epoch 251/256\n",
      "35/35 [==============================] - 0s 729us/step - loss: nan - mse: nan\n",
      "Epoch 252/256\n",
      "35/35 [==============================] - 0s 756us/step - loss: nan - mse: nan\n",
      "Epoch 253/256\n",
      "35/35 [==============================] - 0s 821us/step - loss: nan - mse: nan\n",
      "Epoch 254/256\n",
      "35/35 [==============================] - 0s 780us/step - loss: nan - mse: nan\n",
      "Epoch 255/256\n",
      "35/35 [==============================] - 0s 733us/step - loss: nan - mse: nan\n",
      "Epoch 256/256\n",
      "35/35 [==============================] - 0s 752us/step - loss: nan - mse: nan\n"
     ]
    },
    {
     "data": {
      "text/plain": [
       "<keras.callbacks.History at 0x2dbdeaa1f40>"
      ]
     },
     "execution_count": 130,
     "metadata": {},
     "output_type": "execute_result"
    }
   ],
   "source": [
    "model.fit(x = dataset[:,0:2], y = dataset[:, 2], epochs = 256, verbose = 1)"
   ]
  },
  {
   "cell_type": "markdown",
   "id": "bc6082d4",
   "metadata": {},
   "source": [
    "### ====== Create Train and Test"
   ]
  },
  {
   "cell_type": "code",
   "execution_count": 73,
   "id": "316013bd",
   "metadata": {},
   "outputs": [],
   "source": [
    "# Split the data into train and test\n",
    "train_dataset = dataset.sample(frac=0.8, random_state=0)\n",
    "test_dataset = dataset.drop(train_dataset.index)"
   ]
  },
  {
   "cell_type": "code",
   "execution_count": 74,
   "id": "8138250a",
   "metadata": {},
   "outputs": [
    {
     "name": "stdout",
     "output_type": "stream",
     "text": [
      "(1096, 3) (877, 3) (219, 3)\n"
     ]
    },
    {
     "data": {
      "text/html": [
       "<div>\n",
       "<style scoped>\n",
       "    .dataframe tbody tr th:only-of-type {\n",
       "        vertical-align: middle;\n",
       "    }\n",
       "\n",
       "    .dataframe tbody tr th {\n",
       "        vertical-align: top;\n",
       "    }\n",
       "\n",
       "    .dataframe thead th {\n",
       "        text-align: right;\n",
       "    }\n",
       "</style>\n",
       "<table border=\"1\" class=\"dataframe\">\n",
       "  <thead>\n",
       "    <tr style=\"text-align: right;\">\n",
       "      <th></th>\n",
       "      <th>count</th>\n",
       "      <th>mean</th>\n",
       "      <th>std</th>\n",
       "      <th>min</th>\n",
       "      <th>25%</th>\n",
       "      <th>50%</th>\n",
       "      <th>75%</th>\n",
       "      <th>max</th>\n",
       "    </tr>\n",
       "  </thead>\n",
       "  <tbody>\n",
       "    <tr>\n",
       "      <th>WindSpeed</th>\n",
       "      <td>877.0</td>\n",
       "      <td>18.039909</td>\n",
       "      <td>7.404152</td>\n",
       "      <td>4.00</td>\n",
       "      <td>12.0</td>\n",
       "      <td>17.00</td>\n",
       "      <td>23.00</td>\n",
       "      <td>49.00</td>\n",
       "    </tr>\n",
       "    <tr>\n",
       "      <th>Humidity</th>\n",
       "      <td>877.0</td>\n",
       "      <td>74.467503</td>\n",
       "      <td>7.564059</td>\n",
       "      <td>57.00</td>\n",
       "      <td>69.0</td>\n",
       "      <td>74.00</td>\n",
       "      <td>80.00</td>\n",
       "      <td>95.00</td>\n",
       "    </tr>\n",
       "    <tr>\n",
       "      <th>Energy/kwh</th>\n",
       "      <td>873.0</td>\n",
       "      <td>3353.348774</td>\n",
       "      <td>1461.357379</td>\n",
       "      <td>474.86</td>\n",
       "      <td>2148.3</td>\n",
       "      <td>3381.45</td>\n",
       "      <td>4408.48</td>\n",
       "      <td>8097.76</td>\n",
       "    </tr>\n",
       "  </tbody>\n",
       "</table>\n",
       "</div>"
      ],
      "text/plain": [
       "            count         mean          std     min     25%      50%      75%  \\\n",
       "WindSpeed   877.0    18.039909     7.404152    4.00    12.0    17.00    23.00   \n",
       "Humidity    877.0    74.467503     7.564059   57.00    69.0    74.00    80.00   \n",
       "Energy/kwh  873.0  3353.348774  1461.357379  474.86  2148.3  3381.45  4408.48   \n",
       "\n",
       "                max  \n",
       "WindSpeed     49.00  \n",
       "Humidity      95.00  \n",
       "Energy/kwh  8097.76  "
      ]
     },
     "execution_count": 74,
     "metadata": {},
     "output_type": "execute_result"
    }
   ],
   "source": [
    "print(dataset.shape, train_dataset.shape, test_dataset.shape)\n",
    "train_dataset.describe().transpose()"
   ]
  },
  {
   "cell_type": "code",
   "execution_count": 75,
   "id": "aecd867d",
   "metadata": {},
   "outputs": [],
   "source": [
    "# split features from labels\n",
    "train_features = train_dataset.copy()\n",
    "test_features = test_dataset.copy()\n",
    "\n",
    "train_labels = train_features.pop('Energy/kwh')\n",
    "test_labels = test_features.pop('Energy/kwh')"
   ]
  },
  {
   "cell_type": "code",
   "execution_count": 81,
   "id": "0ae6b7a9",
   "metadata": {},
   "outputs": [],
   "source": [
    "def plot(feature, x=None, y=None):\n",
    "    plt.figure(figsize=(10, 8))\n",
    "    plt.scatter(train_features[feature], train_labels, label='Data')\n",
    "    if x is not None and y is not None:\n",
    "        plt.plot(x, y, color='k', label='Predictions')\n",
    "    plt.xlabel(feature)\n",
    "    plt.ylabel('Energy/kwh')\n",
    "    plt.legend()"
   ]
  },
  {
   "cell_type": "code",
   "execution_count": 82,
   "id": "09b7e4e8",
   "metadata": {},
   "outputs": [
    {
     "data": {
      "image/png": "[encoded data removed]",
      "text/plain": [
       "<Figure size 720x576 with 1 Axes>"
      ]
     },
     "metadata": {
      "needs_background": "light"
     },
     "output_type": "display_data"
    }
   ],
   "source": [
    "plot('WindSpeed')"
   ]
  },
  {
   "cell_type": "code",
   "execution_count": 83,
   "id": "65387f5b",
   "metadata": {
    "scrolled": true
   },
   "outputs": [
    {
     "data": {
      "image/png": "[encoded data removed]",
      "text/plain": [
       "<Figure size 720x576 with 1 Axes>"
      ]
     },
     "metadata": {
      "needs_background": "light"
     },
     "output_type": "display_data"
    }
   ],
   "source": [
    "plot('Humidity')"
   ]
  },
  {
   "cell_type": "code",
   "execution_count": 84,
   "id": "86e463f5",
   "metadata": {},
   "outputs": [],
   "source": [
    "from tensorflow import keras\n",
    "from tensorflow.keras import layers\n",
    "from tensorflow.keras.layers.experimental import preprocessing"
   ]
  },
  {
   "cell_type": "code",
   "execution_count": 87,
   "id": "dc120b0d",
   "metadata": {},
   "outputs": [
    {
     "name": "stdout",
     "output_type": "stream",
     "text": [
      "                   mean          std\n",
      "WindSpeed     18.039909     7.404152\n",
      "Humidity      74.467503     7.564059\n",
      "Energy/kwh  3353.348774  1461.357379\n",
      "[[18.03991 74.4675 ]]\n"
     ]
    }
   ],
   "source": [
    "# Normalize\n",
    "print(train_dataset.describe().transpose()[['mean', 'std']])\n",
    "\n",
    "# Normalization\n",
    "normalizer = preprocessing.Normalization()\n",
    "\n",
    "# adapt to the data\n",
    "normalizer.adapt(np.array(train_features))\n",
    "print(normalizer.mean.numpy())"
   ]
  },
  {
   "cell_type": "code",
   "execution_count": 88,
   "id": "cc1c287f",
   "metadata": {},
   "outputs": [
    {
     "name": "stdout",
     "output_type": "stream",
     "text": [
      "First example: [[10 85]]\n",
      "Normalized: [[-1.0864848  1.3932352]]\n"
     ]
    }
   ],
   "source": [
    "# When the layer is called it returns the input data, with each feature independently normalized:\n",
    "# (input-mean)/stddev\n",
    "first = np.array(train_features[:1])\n",
    "print('First example:', first)\n",
    "print('Normalized:', normalizer(first).numpy())"
   ]
  },
  {
   "cell_type": "code",
   "execution_count": 95,
   "id": "84b22769",
   "metadata": {},
   "outputs": [
    {
     "data": {
      "text/html": [
       "<div>\n",
       "<style scoped>\n",
       "    .dataframe tbody tr th:only-of-type {\n",
       "        vertical-align: middle;\n",
       "    }\n",
       "\n",
       "    .dataframe tbody tr th {\n",
       "        vertical-align: top;\n",
       "    }\n",
       "\n",
       "    .dataframe thead th {\n",
       "        text-align: right;\n",
       "    }\n",
       "</style>\n",
       "<table border=\"1\" class=\"dataframe\">\n",
       "  <thead>\n",
       "    <tr style=\"text-align: right;\">\n",
       "      <th></th>\n",
       "      <th>WindSpeed</th>\n",
       "      <th>Humidity</th>\n",
       "    </tr>\n",
       "    <tr>\n",
       "      <th>Date</th>\n",
       "      <th></th>\n",
       "      <th></th>\n",
       "    </tr>\n",
       "  </thead>\n",
       "  <tbody>\n",
       "    <tr>\n",
       "      <th>28/11/2020</th>\n",
       "      <td>10</td>\n",
       "      <td>85</td>\n",
       "    </tr>\n",
       "  </tbody>\n",
       "</table>\n",
       "</div>"
      ],
      "text/plain": [
       "            WindSpeed  Humidity\n",
       "Date                           \n",
       "28/11/2020         10        85"
      ]
     },
     "execution_count": 95,
     "metadata": {},
     "output_type": "execute_result"
    }
   ],
   "source": [
    "train_features[:1]"
   ]
  },
  {
   "cell_type": "code",
   "execution_count": 97,
   "id": "7c9057c0",
   "metadata": {},
   "outputs": [],
   "source": [
    "feature = 'WindSpeed'\n",
    "single_feature = np.array(train_features[feature])"
   ]
  },
  {
   "cell_type": "code",
   "execution_count": 99,
   "id": "8774269e",
   "metadata": {},
   "outputs": [
    {
     "name": "stdout",
     "output_type": "stream",
     "text": [
      "(877,) (877, 2)\n"
     ]
    }
   ],
   "source": [
    "print(single_feature.shape, train_features.shape)"
   ]
  },
  {
   "cell_type": "code",
   "execution_count": 100,
   "id": "a98e1e9e",
   "metadata": {},
   "outputs": [],
   "source": [
    "# Normalization\n",
    "single_feature_normalizer = preprocessing.Normalization()"
   ]
  },
  {
   "cell_type": "code",
   "execution_count": 101,
   "id": "b4fa4cf3",
   "metadata": {},
   "outputs": [
    {
     "data": {
      "text/plain": [
       "<keras.layers.preprocessing.normalization.Normalization at 0x2dbe0287ac0>"
      ]
     },
     "execution_count": 101,
     "metadata": {},
     "output_type": "execute_result"
    }
   ],
   "source": [
    "single_feature_normalizer"
   ]
  },
  {
   "cell_type": "code",
   "execution_count": 103,
   "id": "f4f7e789",
   "metadata": {},
   "outputs": [
    {
     "data": {
      "text/plain": [
       "array([10, 24, 19, 14,  7, 27, 14, 34,  5, 25,  8,  9, 16, 12, 18, 22, 19,\n",
       "       26, 23, 28, 14, 12, 14, 30, 22, 14, 27, 13, 20, 23, 18, 27, 18, 17,\n",
       "       22, 16, 12, 10, 16, 10, 37, 26, 26, 17, 11,  9, 34, 16, 19, 13, 12,\n",
       "       25, 26, 29, 12, 18, 30,  9, 18, 20, 19,  7, 14,  8, 33, 12, 26, 22,\n",
       "       17, 21, 21, 15, 16, 18, 26, 16, 18, 18, 10, 17, 14, 24, 22, 20, 10,\n",
       "       12, 12,  8, 32, 36, 23, 23, 13,  9, 28, 10, 32, 19, 18, 13, 15, 23,\n",
       "       24, 19,  7,  7, 17, 11, 15, 18, 20, 16, 21, 30, 11,  8, 29, 10, 14,\n",
       "       32, 16, 16, 23, 20, 25, 21, 20, 38, 13,  9, 14, 19, 14, 13, 19, 27,\n",
       "        8, 23, 11, 11, 11,  6, 30, 27, 13, 15, 11, 18, 15, 10, 24, 21, 25,\n",
       "       24, 11, 32, 17, 16, 10, 17, 11, 32, 33, 14, 17, 24, 14, 10, 11, 18,\n",
       "       14, 16,  8, 12, 27,  8, 16, 34, 25, 11,  6, 15, 20,  8, 26, 15, 30,\n",
       "       13, 13, 14,  6, 23, 20, 26, 21, 16, 22, 19, 11, 26, 22, 14, 21, 27,\n",
       "       15, 18, 15, 17, 36, 10, 10, 13, 23, 12, 21, 24, 12, 28, 19, 11, 13,\n",
       "       31, 20, 15,  7, 13,  9, 15, 36,  9, 22, 40, 21, 20, 18,  8, 11, 32,\n",
       "       21, 14, 23, 22, 27, 10, 23, 34,  8, 11, 18, 24, 19, 10, 20, 17, 14,\n",
       "       26, 10, 14, 10, 17, 22,  8, 18,  8, 15, 23, 10, 23, 33, 31, 17, 16,\n",
       "       15, 34, 14, 29, 17, 23, 22,  8, 13, 17, 17, 14, 23, 22, 14, 13,  9,\n",
       "       14, 20, 16, 14, 14, 13, 35, 25, 22, 26,  9, 21, 13, 17, 28, 22, 17,\n",
       "        7, 16,  9, 11, 21, 24, 23, 22, 26, 17, 14,  5, 24, 26,  5, 14, 16,\n",
       "       42, 29, 17, 21, 35,  7, 25, 13, 31,  8, 12, 13,  9, 14, 12, 12, 31,\n",
       "       14, 21, 10, 18, 22, 18,  9, 23, 13, 19, 13, 26,  8, 18, 24, 23, 20,\n",
       "       11,  8, 21, 11, 11, 26, 18, 17, 12, 27,  6, 20, 13,  9, 32, 15, 14,\n",
       "       14, 16, 19, 26, 25, 16, 13, 24, 17, 13, 35, 14, 26, 22, 18, 15,  4,\n",
       "       23, 14, 13, 17, 15, 15, 19, 35, 26,  7, 18, 17, 33, 22, 26,  9, 20,\n",
       "       21, 24, 14, 23, 27, 26, 17, 16, 18, 29, 17, 13, 28, 25,  9,  7, 10,\n",
       "        9,  6, 10, 19, 35, 11, 13, 31, 15,  6, 15, 36, 30, 17, 19, 12, 15,\n",
       "       18, 15,  8, 29, 13, 12, 18, 15, 20, 16, 23, 13, 12, 10, 14, 23, 25,\n",
       "       15, 19, 12, 10, 32, 11, 31, 26, 10, 26, 28,  8,  9, 11, 11, 14, 25,\n",
       "        7, 20, 26,  7, 23, 12, 13, 32, 17, 25, 26, 25, 11, 19, 14, 21,  7,\n",
       "       18, 10, 12, 20, 11, 21, 15, 22, 16, 26, 17,  9, 25, 18, 14, 16, 26,\n",
       "       12, 14, 11, 20, 13, 24, 19, 35, 17, 12, 12,  8, 17, 22, 24, 12, 28,\n",
       "       23, 21, 19, 18, 16, 13, 32, 17, 21,  9, 14, 10, 11, 30,  7, 14, 26,\n",
       "       15,  6, 24, 15, 26,  9, 45, 22, 19, 14, 28, 12, 15, 27, 21, 15, 16,\n",
       "        7, 11, 12, 10, 27, 15, 16,  9, 13, 14,  8, 12, 18,  8, 12, 18, 13,\n",
       "       40, 12, 21, 23, 17, 17,  8, 10, 21, 24, 21, 24, 27, 10, 11, 11, 35,\n",
       "       26, 15, 16, 21, 11, 26, 17, 14, 16, 20, 25, 14, 10,  9, 12, 10, 11,\n",
       "       17, 14, 21, 19, 21, 25, 27, 35, 17, 23, 12, 26, 22, 17, 25, 37, 16,\n",
       "        6, 17, 27,  8, 15, 26, 16, 13, 16, 15, 30, 14,  7, 23, 19, 13, 16,\n",
       "       12,  9, 23, 10, 18, 10, 24, 21, 24, 20, 10, 16, 30, 10,  7, 13, 18,\n",
       "       10, 19,  9, 14, 18, 20, 21, 18,  9, 18,  8, 14, 11, 26, 19, 12, 21,\n",
       "       17, 19, 15, 10, 22, 29, 23,  6, 24, 28, 20, 29, 20, 21, 14, 23, 18,\n",
       "       16, 17, 13, 21, 41, 20, 18, 16, 13, 19, 37, 33, 23, 18, 23, 10, 16,\n",
       "       32, 26, 17, 38, 31, 17, 18, 19, 24, 12, 21, 22, 19, 15, 26, 16, 20,\n",
       "        6, 31, 16, 35, 21, 25, 25, 27, 18, 20, 23, 17, 26, 14, 19, 12,  9,\n",
       "        7, 23,  9, 22, 12, 10, 10, 21, 16, 22, 33, 26, 33, 15,  9, 20, 21,\n",
       "       12, 22,  8,  6, 18,  6, 19, 21, 14, 27, 11, 25, 29, 19, 18, 23, 15,\n",
       "       14, 10, 10, 24, 11,  9, 10,  7, 18, 12, 29, 15, 26, 14, 14, 12, 24,\n",
       "       21, 20, 14, 12, 20,  8, 22, 20, 20, 26, 33, 12, 23,  8, 13, 12, 16,\n",
       "       18, 22,  9,  9, 23, 32, 24, 25,  7, 23,  7, 19, 21, 30, 33, 23, 13,\n",
       "        7, 24, 12, 14, 25, 28, 10, 15, 16, 25, 33, 23, 18, 11,  8, 14, 25,\n",
       "       13, 24, 18, 12, 11, 10, 20, 15, 13, 19, 24,  8, 13, 11, 15, 11, 14,\n",
       "       14,  8, 18, 25, 12, 21, 11, 18, 17, 49], dtype=int64)"
      ]
     },
     "execution_count": 103,
     "metadata": {},
     "output_type": "execute_result"
    }
   ],
   "source": [
    "single_feature"
   ]
  },
  {
   "cell_type": "code",
   "execution_count": 105,
   "id": "04d3d712",
   "metadata": {},
   "outputs": [
    {
     "ename": "ValueError",
     "evalue": "Expected 2D array, got 1D array instead:\narray=[10. 24. 19. 14.  7. 27. 14. 34.  5. 25.  8.  9. 16. 12. 18. 22. 19. 26.\n 23. 28. 14. 12. 14. 30. 22. 14. 27. 13. 20. 23. 18. 27. 18. 17. 22. 16.\n 12. 10. 16. 10. 37. 26. 26. 17. 11.  9. 34. 16. 19. 13. 12. 25. 26. 29.\n 12. 18. 30.  9. 18. 20. 19.  7. 14.  8. 33. 12. 26. 22. 17. 21. 21. 15.\n 16. 18. 26. 16. 18. 18. 10. 17. 14. 24. 22. 20. 10. 12. 12.  8. 32. 36.\n 23. 23. 13.  9. 28. 10. 32. 19. 18. 13. 15. 23. 24. 19.  7.  7. 17. 11.\n 15. 18. 20. 16. 21. 30. 11.  8. 29. 10. 14. 32. 16. 16. 23. 20. 25. 21.\n 20. 38. 13.  9. 14. 19. 14. 13. 19. 27.  8. 23. 11. 11. 11.  6. 30. 27.\n 13. 15. 11. 18. 15. 10. 24. 21. 25. 24. 11. 32. 17. 16. 10. 17. 11. 32.\n 33. 14. 17. 24. 14. 10. 11. 18. 14. 16.  8. 12. 27.  8. 16. 34. 25. 11.\n  6. 15. 20.  8. 26. 15. 30. 13. 13. 14.  6. 23. 20. 26. 21. 16. 22. 19.\n 11. 26. 22. 14. 21. 27. 15. 18. 15. 17. 36. 10. 10. 13. 23. 12. 21. 24.\n 12. 28. 19. 11. 13. 31. 20. 15.  7. 13.  9. 15. 36.  9. 22. 40. 21. 20.\n 18.  8. 11. 32. 21. 14. 23. 22. 27. 10. 23. 34.  8. 11. 18. 24. 19. 10.\n 20. 17. 14. 26. 10. 14. 10. 17. 22.  8. 18.  8. 15. 23. 10. 23. 33. 31.\n 17. 16. 15. 34. 14. 29. 17. 23. 22.  8. 13. 17. 17. 14. 23. 22. 14. 13.\n  9. 14. 20. 16. 14. 14. 13. 35. 25. 22. 26.  9. 21. 13. 17. 28. 22. 17.\n  7. 16.  9. 11. 21. 24. 23. 22. 26. 17. 14.  5. 24. 26.  5. 14. 16. 42.\n 29. 17. 21. 35.  7. 25. 13. 31.  8. 12. 13.  9. 14. 12. 12. 31. 14. 21.\n 10. 18. 22. 18.  9. 23. 13. 19. 13. 26.  8. 18. 24. 23. 20. 11.  8. 21.\n 11. 11. 26. 18. 17. 12. 27.  6. 20. 13.  9. 32. 15. 14. 14. 16. 19. 26.\n 25. 16. 13. 24. 17. 13. 35. 14. 26. 22. 18. 15.  4. 23. 14. 13. 17. 15.\n 15. 19. 35. 26.  7. 18. 17. 33. 22. 26.  9. 20. 21. 24. 14. 23. 27. 26.\n 17. 16. 18. 29. 17. 13. 28. 25.  9.  7. 10.  9.  6. 10. 19. 35. 11. 13.\n 31. 15.  6. 15. 36. 30. 17. 19. 12. 15. 18. 15.  8. 29. 13. 12. 18. 15.\n 20. 16. 23. 13. 12. 10. 14. 23. 25. 15. 19. 12. 10. 32. 11. 31. 26. 10.\n 26. 28.  8.  9. 11. 11. 14. 25.  7. 20. 26.  7. 23. 12. 13. 32. 17. 25.\n 26. 25. 11. 19. 14. 21.  7. 18. 10. 12. 20. 11. 21. 15. 22. 16. 26. 17.\n  9. 25. 18. 14. 16. 26. 12. 14. 11. 20. 13. 24. 19. 35. 17. 12. 12.  8.\n 17. 22. 24. 12. 28. 23. 21. 19. 18. 16. 13. 32. 17. 21.  9. 14. 10. 11.\n 30.  7. 14. 26. 15.  6. 24. 15. 26.  9. 45. 22. 19. 14. 28. 12. 15. 27.\n 21. 15. 16.  7. 11. 12. 10. 27. 15. 16.  9. 13. 14.  8. 12. 18.  8. 12.\n 18. 13. 40. 12. 21. 23. 17. 17.  8. 10. 21. 24. 21. 24. 27. 10. 11. 11.\n 35. 26. 15. 16. 21. 11. 26. 17. 14. 16. 20. 25. 14. 10.  9. 12. 10. 11.\n 17. 14. 21. 19. 21. 25. 27. 35. 17. 23. 12. 26. 22. 17. 25. 37. 16.  6.\n 17. 27.  8. 15. 26. 16. 13. 16. 15. 30. 14.  7. 23. 19. 13. 16. 12.  9.\n 23. 10. 18. 10. 24. 21. 24. 20. 10. 16. 30. 10.  7. 13. 18. 10. 19.  9.\n 14. 18. 20. 21. 18.  9. 18.  8. 14. 11. 26. 19. 12. 21. 17. 19. 15. 10.\n 22. 29. 23.  6. 24. 28. 20. 29. 20. 21. 14. 23. 18. 16. 17. 13. 21. 41.\n 20. 18. 16. 13. 19. 37. 33. 23. 18. 23. 10. 16. 32. 26. 17. 38. 31. 17.\n 18. 19. 24. 12. 21. 22. 19. 15. 26. 16. 20.  6. 31. 16. 35. 21. 25. 25.\n 27. 18. 20. 23. 17. 26. 14. 19. 12.  9.  7. 23.  9. 22. 12. 10. 10. 21.\n 16. 22. 33. 26. 33. 15.  9. 20. 21. 12. 22.  8.  6. 18.  6. 19. 21. 14.\n 27. 11. 25. 29. 19. 18. 23. 15. 14. 10. 10. 24. 11.  9. 10.  7. 18. 12.\n 29. 15. 26. 14. 14. 12. 24. 21. 20. 14. 12. 20.  8. 22. 20. 20. 26. 33.\n 12. 23.  8. 13. 12. 16. 18. 22.  9.  9. 23. 32. 24. 25.  7. 23.  7. 19.\n 21. 30. 33. 23. 13.  7. 24. 12. 14. 25. 28. 10. 15. 16. 25. 33. 23. 18.\n 11.  8. 14. 25. 13. 24. 18. 12. 11. 10. 20. 15. 13. 19. 24.  8. 13. 11.\n 15. 11. 14. 14.  8. 18. 25. 12. 21. 11. 18. 17. 49.].\nReshape your data either using array.reshape(-1, 1) if your data has a single feature or array.reshape(1, -1) if it contains a single sample.",
     "output_type": "error",
     "traceback": [
      "\u001b[1;31m---------------------------------------------------------------------------\u001b[0m",
      "\u001b[1;31mValueError\u001b[0m                                Traceback (most recent call last)",
      "\u001b[1;32m<ipython-input-105-be876d792a53>\u001b[0m in \u001b[0;36m<module>\u001b[1;34m\u001b[0m\n\u001b[1;32m----> 1\u001b[1;33m \u001b[0msk\u001b[0m\u001b[1;33m.\u001b[0m\u001b[0mpreprocessing\u001b[0m\u001b[1;33m.\u001b[0m\u001b[0mnormalize\u001b[0m\u001b[1;33m(\u001b[0m\u001b[0msingle_feature\u001b[0m\u001b[1;33m,\u001b[0m \u001b[0mnorm\u001b[0m\u001b[1;33m=\u001b[0m\u001b[1;34m\"l1\"\u001b[0m\u001b[1;33m)\u001b[0m\u001b[1;33m\u001b[0m\u001b[1;33m\u001b[0m\u001b[0m\n\u001b[0m",
      "\u001b[1;32m~\\anaconda3\\lib\\site-packages\\sklearn\\utils\\validation.py\u001b[0m in \u001b[0;36minner_f\u001b[1;34m(*args, **kwargs)\u001b[0m\n\u001b[0;32m     61\u001b[0m             \u001b[0mextra_args\u001b[0m \u001b[1;33m=\u001b[0m \u001b[0mlen\u001b[0m\u001b[1;33m(\u001b[0m\u001b[0margs\u001b[0m\u001b[1;33m)\u001b[0m \u001b[1;33m-\u001b[0m \u001b[0mlen\u001b[0m\u001b[1;33m(\u001b[0m\u001b[0mall_args\u001b[0m\u001b[1;33m)\u001b[0m\u001b[1;33m\u001b[0m\u001b[1;33m\u001b[0m\u001b[0m\n\u001b[0;32m     62\u001b[0m             \u001b[1;32mif\u001b[0m \u001b[0mextra_args\u001b[0m \u001b[1;33m<=\u001b[0m \u001b[1;36m0\u001b[0m\u001b[1;33m:\u001b[0m\u001b[1;33m\u001b[0m\u001b[1;33m\u001b[0m\u001b[0m\n\u001b[1;32m---> 63\u001b[1;33m                 \u001b[1;32mreturn\u001b[0m \u001b[0mf\u001b[0m\u001b[1;33m(\u001b[0m\u001b[1;33m*\u001b[0m\u001b[0margs\u001b[0m\u001b[1;33m,\u001b[0m \u001b[1;33m**\u001b[0m\u001b[0mkwargs\u001b[0m\u001b[1;33m)\u001b[0m\u001b[1;33m\u001b[0m\u001b[1;33m\u001b[0m\u001b[0m\n\u001b[0m\u001b[0;32m     64\u001b[0m \u001b[1;33m\u001b[0m\u001b[0m\n\u001b[0;32m     65\u001b[0m             \u001b[1;31m# extra_args > 0\u001b[0m\u001b[1;33m\u001b[0m\u001b[1;33m\u001b[0m\u001b[1;33m\u001b[0m\u001b[0m\n",
      "\u001b[1;32m~\\anaconda3\\lib\\site-packages\\sklearn\\preprocessing\\_data.py\u001b[0m in \u001b[0;36mnormalize\u001b[1;34m(X, norm, axis, copy, return_norm)\u001b[0m\n\u001b[0;32m   1902\u001b[0m         \u001b[1;32mraise\u001b[0m \u001b[0mValueError\u001b[0m\u001b[1;33m(\u001b[0m\u001b[1;34m\"'%d' is not a supported axis\"\u001b[0m \u001b[1;33m%\u001b[0m \u001b[0maxis\u001b[0m\u001b[1;33m)\u001b[0m\u001b[1;33m\u001b[0m\u001b[1;33m\u001b[0m\u001b[0m\n\u001b[0;32m   1903\u001b[0m \u001b[1;33m\u001b[0m\u001b[0m\n\u001b[1;32m-> 1904\u001b[1;33m     X = check_array(X, accept_sparse=sparse_format, copy=copy,\n\u001b[0m\u001b[0;32m   1905\u001b[0m                     estimator='the normalize function', dtype=FLOAT_DTYPES)\n\u001b[0;32m   1906\u001b[0m     \u001b[1;32mif\u001b[0m \u001b[0maxis\u001b[0m \u001b[1;33m==\u001b[0m \u001b[1;36m0\u001b[0m\u001b[1;33m:\u001b[0m\u001b[1;33m\u001b[0m\u001b[1;33m\u001b[0m\u001b[0m\n",
      "\u001b[1;32m~\\anaconda3\\lib\\site-packages\\sklearn\\utils\\validation.py\u001b[0m in \u001b[0;36minner_f\u001b[1;34m(*args, **kwargs)\u001b[0m\n\u001b[0;32m     61\u001b[0m             \u001b[0mextra_args\u001b[0m \u001b[1;33m=\u001b[0m \u001b[0mlen\u001b[0m\u001b[1;33m(\u001b[0m\u001b[0margs\u001b[0m\u001b[1;33m)\u001b[0m \u001b[1;33m-\u001b[0m \u001b[0mlen\u001b[0m\u001b[1;33m(\u001b[0m\u001b[0mall_args\u001b[0m\u001b[1;33m)\u001b[0m\u001b[1;33m\u001b[0m\u001b[1;33m\u001b[0m\u001b[0m\n\u001b[0;32m     62\u001b[0m             \u001b[1;32mif\u001b[0m \u001b[0mextra_args\u001b[0m \u001b[1;33m<=\u001b[0m \u001b[1;36m0\u001b[0m\u001b[1;33m:\u001b[0m\u001b[1;33m\u001b[0m\u001b[1;33m\u001b[0m\u001b[0m\n\u001b[1;32m---> 63\u001b[1;33m                 \u001b[1;32mreturn\u001b[0m \u001b[0mf\u001b[0m\u001b[1;33m(\u001b[0m\u001b[1;33m*\u001b[0m\u001b[0margs\u001b[0m\u001b[1;33m,\u001b[0m \u001b[1;33m**\u001b[0m\u001b[0mkwargs\u001b[0m\u001b[1;33m)\u001b[0m\u001b[1;33m\u001b[0m\u001b[1;33m\u001b[0m\u001b[0m\n\u001b[0m\u001b[0;32m     64\u001b[0m \u001b[1;33m\u001b[0m\u001b[0m\n\u001b[0;32m     65\u001b[0m             \u001b[1;31m# extra_args > 0\u001b[0m\u001b[1;33m\u001b[0m\u001b[1;33m\u001b[0m\u001b[1;33m\u001b[0m\u001b[0m\n",
      "\u001b[1;32m~\\anaconda3\\lib\\site-packages\\sklearn\\utils\\validation.py\u001b[0m in \u001b[0;36mcheck_array\u001b[1;34m(array, accept_sparse, accept_large_sparse, dtype, order, copy, force_all_finite, ensure_2d, allow_nd, ensure_min_samples, ensure_min_features, estimator)\u001b[0m\n\u001b[0;32m    635\u001b[0m             \u001b[1;31m# If input is 1D raise error\u001b[0m\u001b[1;33m\u001b[0m\u001b[1;33m\u001b[0m\u001b[1;33m\u001b[0m\u001b[0m\n\u001b[0;32m    636\u001b[0m             \u001b[1;32mif\u001b[0m \u001b[0marray\u001b[0m\u001b[1;33m.\u001b[0m\u001b[0mndim\u001b[0m \u001b[1;33m==\u001b[0m \u001b[1;36m1\u001b[0m\u001b[1;33m:\u001b[0m\u001b[1;33m\u001b[0m\u001b[1;33m\u001b[0m\u001b[0m\n\u001b[1;32m--> 637\u001b[1;33m                 raise ValueError(\n\u001b[0m\u001b[0;32m    638\u001b[0m                     \u001b[1;34m\"Expected 2D array, got 1D array instead:\\narray={}.\\n\"\u001b[0m\u001b[1;33m\u001b[0m\u001b[1;33m\u001b[0m\u001b[0m\n\u001b[0;32m    639\u001b[0m                     \u001b[1;34m\"Reshape your data either using array.reshape(-1, 1) if \"\u001b[0m\u001b[1;33m\u001b[0m\u001b[1;33m\u001b[0m\u001b[0m\n",
      "\u001b[1;31mValueError\u001b[0m: Expected 2D array, got 1D array instead:\narray=[10. 24. 19. 14.  7. 27. 14. 34.  5. 25.  8.  9. 16. 12. 18. 22. 19. 26.\n 23. 28. 14. 12. 14. 30. 22. 14. 27. 13. 20. 23. 18. 27. 18. 17. 22. 16.\n 12. 10. 16. 10. 37. 26. 26. 17. 11.  9. 34. 16. 19. 13. 12. 25. 26. 29.\n 12. 18. 30.  9. 18. 20. 19.  7. 14.  8. 33. 12. 26. 22. 17. 21. 21. 15.\n 16. 18. 26. 16. 18. 18. 10. 17. 14. 24. 22. 20. 10. 12. 12.  8. 32. 36.\n 23. 23. 13.  9. 28. 10. 32. 19. 18. 13. 15. 23. 24. 19.  7.  7. 17. 11.\n 15. 18. 20. 16. 21. 30. 11.  8. 29. 10. 14. 32. 16. 16. 23. 20. 25. 21.\n 20. 38. 13.  9. 14. 19. 14. 13. 19. 27.  8. 23. 11. 11. 11.  6. 30. 27.\n 13. 15. 11. 18. 15. 10. 24. 21. 25. 24. 11. 32. 17. 16. 10. 17. 11. 32.\n 33. 14. 17. 24. 14. 10. 11. 18. 14. 16.  8. 12. 27.  8. 16. 34. 25. 11.\n  6. 15. 20.  8. 26. 15. 30. 13. 13. 14.  6. 23. 20. 26. 21. 16. 22. 19.\n 11. 26. 22. 14. 21. 27. 15. 18. 15. 17. 36. 10. 10. 13. 23. 12. 21. 24.\n 12. 28. 19. 11. 13. 31. 20. 15.  7. 13.  9. 15. 36.  9. 22. 40. 21. 20.\n 18.  8. 11. 32. 21. 14. 23. 22. 27. 10. 23. 34.  8. 11. 18. 24. 19. 10.\n 20. 17. 14. 26. 10. 14. 10. 17. 22.  8. 18.  8. 15. 23. 10. 23. 33. 31.\n 17. 16. 15. 34. 14. 29. 17. 23. 22.  8. 13. 17. 17. 14. 23. 22. 14. 13.\n  9. 14. 20. 16. 14. 14. 13. 35. 25. 22. 26.  9. 21. 13. 17. 28. 22. 17.\n  7. 16.  9. 11. 21. 24. 23. 22. 26. 17. 14.  5. 24. 26.  5. 14. 16. 42.\n 29. 17. 21. 35.  7. 25. 13. 31.  8. 12. 13.  9. 14. 12. 12. 31. 14. 21.\n 10. 18. 22. 18.  9. 23. 13. 19. 13. 26.  8. 18. 24. 23. 20. 11.  8. 21.\n 11. 11. 26. 18. 17. 12. 27.  6. 20. 13.  9. 32. 15. 14. 14. 16. 19. 26.\n 25. 16. 13. 24. 17. 13. 35. 14. 26. 22. 18. 15.  4. 23. 14. 13. 17. 15.\n 15. 19. 35. 26.  7. 18. 17. 33. 22. 26.  9. 20. 21. 24. 14. 23. 27. 26.\n 17. 16. 18. 29. 17. 13. 28. 25.  9.  7. 10.  9.  6. 10. 19. 35. 11. 13.\n 31. 15.  6. 15. 36. 30. 17. 19. 12. 15. 18. 15.  8. 29. 13. 12. 18. 15.\n 20. 16. 23. 13. 12. 10. 14. 23. 25. 15. 19. 12. 10. 32. 11. 31. 26. 10.\n 26. 28.  8.  9. 11. 11. 14. 25.  7. 20. 26.  7. 23. 12. 13. 32. 17. 25.\n 26. 25. 11. 19. 14. 21.  7. 18. 10. 12. 20. 11. 21. 15. 22. 16. 26. 17.\n  9. 25. 18. 14. 16. 26. 12. 14. 11. 20. 13. 24. 19. 35. 17. 12. 12.  8.\n 17. 22. 24. 12. 28. 23. 21. 19. 18. 16. 13. 32. 17. 21.  9. 14. 10. 11.\n 30.  7. 14. 26. 15.  6. 24. 15. 26.  9. 45. 22. 19. 14. 28. 12. 15. 27.\n 21. 15. 16.  7. 11. 12. 10. 27. 15. 16.  9. 13. 14.  8. 12. 18.  8. 12.\n 18. 13. 40. 12. 21. 23. 17. 17.  8. 10. 21. 24. 21. 24. 27. 10. 11. 11.\n 35. 26. 15. 16. 21. 11. 26. 17. 14. 16. 20. 25. 14. 10.  9. 12. 10. 11.\n 17. 14. 21. 19. 21. 25. 27. 35. 17. 23. 12. 26. 22. 17. 25. 37. 16.  6.\n 17. 27.  8. 15. 26. 16. 13. 16. 15. 30. 14.  7. 23. 19. 13. 16. 12.  9.\n 23. 10. 18. 10. 24. 21. 24. 20. 10. 16. 30. 10.  7. 13. 18. 10. 19.  9.\n 14. 18. 20. 21. 18.  9. 18.  8. 14. 11. 26. 19. 12. 21. 17. 19. 15. 10.\n 22. 29. 23.  6. 24. 28. 20. 29. 20. 21. 14. 23. 18. 16. 17. 13. 21. 41.\n 20. 18. 16. 13. 19. 37. 33. 23. 18. 23. 10. 16. 32. 26. 17. 38. 31. 17.\n 18. 19. 24. 12. 21. 22. 19. 15. 26. 16. 20.  6. 31. 16. 35. 21. 25. 25.\n 27. 18. 20. 23. 17. 26. 14. 19. 12.  9.  7. 23.  9. 22. 12. 10. 10. 21.\n 16. 22. 33. 26. 33. 15.  9. 20. 21. 12. 22.  8.  6. 18.  6. 19. 21. 14.\n 27. 11. 25. 29. 19. 18. 23. 15. 14. 10. 10. 24. 11.  9. 10.  7. 18. 12.\n 29. 15. 26. 14. 14. 12. 24. 21. 20. 14. 12. 20.  8. 22. 20. 20. 26. 33.\n 12. 23.  8. 13. 12. 16. 18. 22.  9.  9. 23. 32. 24. 25.  7. 23.  7. 19.\n 21. 30. 33. 23. 13.  7. 24. 12. 14. 25. 28. 10. 15. 16. 25. 33. 23. 18.\n 11.  8. 14. 25. 13. 24. 18. 12. 11. 10. 20. 15. 13. 19. 24.  8. 13. 11.\n 15. 11. 14. 14.  8. 18. 25. 12. 21. 11. 18. 17. 49.].\nReshape your data either using array.reshape(-1, 1) if your data has a single feature or array.reshape(1, -1) if it contains a single sample."
     ]
    }
   ],
   "source": [
    "sk.preprocessing.normalize(single_feature, norm=\"l1\")"
   ]
  },
  {
   "cell_type": "code",
   "execution_count": 102,
   "id": "253b678e",
   "metadata": {},
   "outputs": [
    {
     "ename": "ValueError",
     "evalue": "in user code:\n\n    File \"C:\\Users\\AdminUser\\anaconda3\\lib\\site-packages\\keras\\engine\\base_preprocessing_layer.py\", line 117, in adapt_step  *\n        self._adapt_maybe_build(data)\n    File \"C:\\Users\\AdminUser\\anaconda3\\lib\\site-packages\\keras\\engine\\base_preprocessing_layer.py\", line 285, in _adapt_maybe_build  **\n        self.build(data_shape)\n    File \"C:\\Users\\AdminUser\\anaconda3\\lib\\site-packages\\keras\\layers\\preprocessing\\normalization.py\", line 150, in build\n        raise ValueError(\n\n    ValueError: All `axis` values to be kept must have known shape. Got axis: (-1,), input shape: [None], with unknown axis at index: 0\n",
     "output_type": "error",
     "traceback": [
      "\u001b[1;31m---------------------------------------------------------------------------\u001b[0m",
      "\u001b[1;31mValueError\u001b[0m                                Traceback (most recent call last)",
      "\u001b[1;32m<ipython-input-102-9ce5f0b1c8fd>\u001b[0m in \u001b[0;36m<module>\u001b[1;34m\u001b[0m\n\u001b[1;32m----> 1\u001b[1;33m \u001b[0msingle_feature_normalizer\u001b[0m\u001b[1;33m.\u001b[0m\u001b[0madapt\u001b[0m\u001b[1;33m(\u001b[0m\u001b[0msingle_feature\u001b[0m\u001b[1;33m)\u001b[0m\u001b[1;33m\u001b[0m\u001b[1;33m\u001b[0m\u001b[0m\n\u001b[0m",
      "\u001b[1;32m~\\anaconda3\\lib\\site-packages\\keras\\layers\\preprocessing\\normalization.py\u001b[0m in \u001b[0;36madapt\u001b[1;34m(self, data, batch_size, steps)\u001b[0m\n\u001b[0;32m    240\u001b[0m           \u001b[0margument\u001b[0m \u001b[1;32mis\u001b[0m \u001b[1;32mnot\u001b[0m \u001b[0msupported\u001b[0m \u001b[1;32mwith\u001b[0m \u001b[0marray\u001b[0m \u001b[0minputs\u001b[0m\u001b[1;33m.\u001b[0m\u001b[1;33m\u001b[0m\u001b[1;33m\u001b[0m\u001b[0m\n\u001b[0;32m    241\u001b[0m     \"\"\"\n\u001b[1;32m--> 242\u001b[1;33m     \u001b[0msuper\u001b[0m\u001b[1;33m(\u001b[0m\u001b[1;33m)\u001b[0m\u001b[1;33m.\u001b[0m\u001b[0madapt\u001b[0m\u001b[1;33m(\u001b[0m\u001b[0mdata\u001b[0m\u001b[1;33m,\u001b[0m \u001b[0mbatch_size\u001b[0m\u001b[1;33m=\u001b[0m\u001b[0mbatch_size\u001b[0m\u001b[1;33m,\u001b[0m \u001b[0msteps\u001b[0m\u001b[1;33m=\u001b[0m\u001b[0msteps\u001b[0m\u001b[1;33m)\u001b[0m\u001b[1;33m\u001b[0m\u001b[1;33m\u001b[0m\u001b[0m\n\u001b[0m\u001b[0;32m    243\u001b[0m \u001b[1;33m\u001b[0m\u001b[0m\n\u001b[0;32m    244\u001b[0m   \u001b[1;32mdef\u001b[0m \u001b[0mupdate_state\u001b[0m\u001b[1;33m(\u001b[0m\u001b[0mself\u001b[0m\u001b[1;33m,\u001b[0m \u001b[0mdata\u001b[0m\u001b[1;33m)\u001b[0m\u001b[1;33m:\u001b[0m\u001b[1;33m\u001b[0m\u001b[1;33m\u001b[0m\u001b[0m\n",
      "\u001b[1;32m~\\anaconda3\\lib\\site-packages\\keras\\engine\\base_preprocessing_layer.py\u001b[0m in \u001b[0;36madapt\u001b[1;34m(self, data, batch_size, steps)\u001b[0m\n\u001b[0;32m    247\u001b[0m       \u001b[1;32mwith\u001b[0m \u001b[0mdata_handler\u001b[0m\u001b[1;33m.\u001b[0m\u001b[0mcatch_stop_iteration\u001b[0m\u001b[1;33m(\u001b[0m\u001b[1;33m)\u001b[0m\u001b[1;33m:\u001b[0m\u001b[1;33m\u001b[0m\u001b[1;33m\u001b[0m\u001b[0m\n\u001b[0;32m    248\u001b[0m         \u001b[1;32mfor\u001b[0m \u001b[0m_\u001b[0m \u001b[1;32min\u001b[0m \u001b[0mdata_handler\u001b[0m\u001b[1;33m.\u001b[0m\u001b[0msteps\u001b[0m\u001b[1;33m(\u001b[0m\u001b[1;33m)\u001b[0m\u001b[1;33m:\u001b[0m\u001b[1;33m\u001b[0m\u001b[1;33m\u001b[0m\u001b[0m\n\u001b[1;32m--> 249\u001b[1;33m           \u001b[0mself\u001b[0m\u001b[1;33m.\u001b[0m\u001b[0m_adapt_function\u001b[0m\u001b[1;33m(\u001b[0m\u001b[0miterator\u001b[0m\u001b[1;33m)\u001b[0m\u001b[1;33m\u001b[0m\u001b[1;33m\u001b[0m\u001b[0m\n\u001b[0m\u001b[0;32m    250\u001b[0m           \u001b[1;32mif\u001b[0m \u001b[0mdata_handler\u001b[0m\u001b[1;33m.\u001b[0m\u001b[0mshould_sync\u001b[0m\u001b[1;33m:\u001b[0m\u001b[1;33m\u001b[0m\u001b[1;33m\u001b[0m\u001b[0m\n\u001b[0;32m    251\u001b[0m             \u001b[0mcontext\u001b[0m\u001b[1;33m.\u001b[0m\u001b[0masync_wait\u001b[0m\u001b[1;33m(\u001b[0m\u001b[1;33m)\u001b[0m\u001b[1;33m\u001b[0m\u001b[1;33m\u001b[0m\u001b[0m\n",
      "\u001b[1;32m~\\anaconda3\\lib\\site-packages\\tensorflow\\python\\util\\traceback_utils.py\u001b[0m in \u001b[0;36merror_handler\u001b[1;34m(*args, **kwargs)\u001b[0m\n\u001b[0;32m    151\u001b[0m     \u001b[1;32mexcept\u001b[0m \u001b[0mException\u001b[0m \u001b[1;32mas\u001b[0m \u001b[0me\u001b[0m\u001b[1;33m:\u001b[0m\u001b[1;33m\u001b[0m\u001b[1;33m\u001b[0m\u001b[0m\n\u001b[0;32m    152\u001b[0m       \u001b[0mfiltered_tb\u001b[0m \u001b[1;33m=\u001b[0m \u001b[0m_process_traceback_frames\u001b[0m\u001b[1;33m(\u001b[0m\u001b[0me\u001b[0m\u001b[1;33m.\u001b[0m\u001b[0m__traceback__\u001b[0m\u001b[1;33m)\u001b[0m\u001b[1;33m\u001b[0m\u001b[1;33m\u001b[0m\u001b[0m\n\u001b[1;32m--> 153\u001b[1;33m       \u001b[1;32mraise\u001b[0m \u001b[0me\u001b[0m\u001b[1;33m.\u001b[0m\u001b[0mwith_traceback\u001b[0m\u001b[1;33m(\u001b[0m\u001b[0mfiltered_tb\u001b[0m\u001b[1;33m)\u001b[0m \u001b[1;32mfrom\u001b[0m \u001b[1;32mNone\u001b[0m\u001b[1;33m\u001b[0m\u001b[1;33m\u001b[0m\u001b[0m\n\u001b[0m\u001b[0;32m    154\u001b[0m     \u001b[1;32mfinally\u001b[0m\u001b[1;33m:\u001b[0m\u001b[1;33m\u001b[0m\u001b[1;33m\u001b[0m\u001b[0m\n\u001b[0;32m    155\u001b[0m       \u001b[1;32mdel\u001b[0m \u001b[0mfiltered_tb\u001b[0m\u001b[1;33m\u001b[0m\u001b[1;33m\u001b[0m\u001b[0m\n",
      "\u001b[1;32m~\\anaconda3\\lib\\site-packages\\tensorflow\\python\\framework\\func_graph.py\u001b[0m in \u001b[0;36mautograph_handler\u001b[1;34m(*args, **kwargs)\u001b[0m\n\u001b[0;32m   1145\u001b[0m           \u001b[1;32mexcept\u001b[0m \u001b[0mException\u001b[0m \u001b[1;32mas\u001b[0m \u001b[0me\u001b[0m\u001b[1;33m:\u001b[0m  \u001b[1;31m# pylint:disable=broad-except\u001b[0m\u001b[1;33m\u001b[0m\u001b[1;33m\u001b[0m\u001b[0m\n\u001b[0;32m   1146\u001b[0m             \u001b[1;32mif\u001b[0m \u001b[0mhasattr\u001b[0m\u001b[1;33m(\u001b[0m\u001b[0me\u001b[0m\u001b[1;33m,\u001b[0m \u001b[1;34m\"ag_error_metadata\"\u001b[0m\u001b[1;33m)\u001b[0m\u001b[1;33m:\u001b[0m\u001b[1;33m\u001b[0m\u001b[1;33m\u001b[0m\u001b[0m\n\u001b[1;32m-> 1147\u001b[1;33m               \u001b[1;32mraise\u001b[0m \u001b[0me\u001b[0m\u001b[1;33m.\u001b[0m\u001b[0mag_error_metadata\u001b[0m\u001b[1;33m.\u001b[0m\u001b[0mto_exception\u001b[0m\u001b[1;33m(\u001b[0m\u001b[0me\u001b[0m\u001b[1;33m)\u001b[0m\u001b[1;33m\u001b[0m\u001b[1;33m\u001b[0m\u001b[0m\n\u001b[0m\u001b[0;32m   1148\u001b[0m             \u001b[1;32melse\u001b[0m\u001b[1;33m:\u001b[0m\u001b[1;33m\u001b[0m\u001b[1;33m\u001b[0m\u001b[0m\n\u001b[0;32m   1149\u001b[0m               \u001b[1;32mraise\u001b[0m\u001b[1;33m\u001b[0m\u001b[1;33m\u001b[0m\u001b[0m\n",
      "\u001b[1;31mValueError\u001b[0m: in user code:\n\n    File \"C:\\Users\\AdminUser\\anaconda3\\lib\\site-packages\\keras\\engine\\base_preprocessing_layer.py\", line 117, in adapt_step  *\n        self._adapt_maybe_build(data)\n    File \"C:\\Users\\AdminUser\\anaconda3\\lib\\site-packages\\keras\\engine\\base_preprocessing_layer.py\", line 285, in _adapt_maybe_build  **\n        self.build(data_shape)\n    File \"C:\\Users\\AdminUser\\anaconda3\\lib\\site-packages\\keras\\layers\\preprocessing\\normalization.py\", line 150, in build\n        raise ValueError(\n\n    ValueError: All `axis` values to be kept must have known shape. Got axis: (-1,), input shape: [None], with unknown axis at index: 0\n"
     ]
    }
   ],
   "source": [
    "single_feature_normalizer.adapt(single_feature)"
   ]
  },
  {
   "cell_type": "code",
   "execution_count": 89,
   "id": "a649c60e",
   "metadata": {},
   "outputs": [
    {
     "name": "stdout",
     "output_type": "stream",
     "text": [
      "(877,) (877, 2)\n"
     ]
    },
    {
     "ename": "ValueError",
     "evalue": "in user code:\n\n    File \"C:\\Users\\AdminUser\\anaconda3\\lib\\site-packages\\keras\\engine\\base_preprocessing_layer.py\", line 117, in adapt_step  *\n        self._adapt_maybe_build(data)\n    File \"C:\\Users\\AdminUser\\anaconda3\\lib\\site-packages\\keras\\engine\\base_preprocessing_layer.py\", line 285, in _adapt_maybe_build  **\n        self.build(data_shape)\n    File \"C:\\Users\\AdminUser\\anaconda3\\lib\\site-packages\\keras\\layers\\preprocessing\\normalization.py\", line 150, in build\n        raise ValueError(\n\n    ValueError: All `axis` values to be kept must have known shape. Got axis: (-1,), input shape: [None], with unknown axis at index: 0\n",
     "output_type": "error",
     "traceback": [
      "\u001b[1;31m---------------------------------------------------------------------------\u001b[0m",
      "\u001b[1;31mValueError\u001b[0m                                Traceback (most recent call last)",
      "\u001b[1;32m<ipython-input-89-ca96d19b9cd8>\u001b[0m in \u001b[0;36m<module>\u001b[1;34m\u001b[0m\n\u001b[0;32m     11\u001b[0m \u001b[1;33m\u001b[0m\u001b[0m\n\u001b[0;32m     12\u001b[0m \u001b[1;31m# adapt to the data\u001b[0m\u001b[1;33m\u001b[0m\u001b[1;33m\u001b[0m\u001b[1;33m\u001b[0m\u001b[0m\n\u001b[1;32m---> 13\u001b[1;33m \u001b[0msingle_feature_normalizer\u001b[0m\u001b[1;33m.\u001b[0m\u001b[0madapt\u001b[0m\u001b[1;33m(\u001b[0m\u001b[0msingle_feature\u001b[0m\u001b[1;33m)\u001b[0m\u001b[1;33m\u001b[0m\u001b[1;33m\u001b[0m\u001b[0m\n\u001b[0m",
      "\u001b[1;32m~\\anaconda3\\lib\\site-packages\\keras\\layers\\preprocessing\\normalization.py\u001b[0m in \u001b[0;36madapt\u001b[1;34m(self, data, batch_size, steps)\u001b[0m\n\u001b[0;32m    240\u001b[0m           \u001b[0margument\u001b[0m \u001b[1;32mis\u001b[0m \u001b[1;32mnot\u001b[0m \u001b[0msupported\u001b[0m \u001b[1;32mwith\u001b[0m \u001b[0marray\u001b[0m \u001b[0minputs\u001b[0m\u001b[1;33m.\u001b[0m\u001b[1;33m\u001b[0m\u001b[1;33m\u001b[0m\u001b[0m\n\u001b[0;32m    241\u001b[0m     \"\"\"\n\u001b[1;32m--> 242\u001b[1;33m     \u001b[0msuper\u001b[0m\u001b[1;33m(\u001b[0m\u001b[1;33m)\u001b[0m\u001b[1;33m.\u001b[0m\u001b[0madapt\u001b[0m\u001b[1;33m(\u001b[0m\u001b[0mdata\u001b[0m\u001b[1;33m,\u001b[0m \u001b[0mbatch_size\u001b[0m\u001b[1;33m=\u001b[0m\u001b[0mbatch_size\u001b[0m\u001b[1;33m,\u001b[0m \u001b[0msteps\u001b[0m\u001b[1;33m=\u001b[0m\u001b[0msteps\u001b[0m\u001b[1;33m)\u001b[0m\u001b[1;33m\u001b[0m\u001b[1;33m\u001b[0m\u001b[0m\n\u001b[0m\u001b[0;32m    243\u001b[0m \u001b[1;33m\u001b[0m\u001b[0m\n\u001b[0;32m    244\u001b[0m   \u001b[1;32mdef\u001b[0m \u001b[0mupdate_state\u001b[0m\u001b[1;33m(\u001b[0m\u001b[0mself\u001b[0m\u001b[1;33m,\u001b[0m \u001b[0mdata\u001b[0m\u001b[1;33m)\u001b[0m\u001b[1;33m:\u001b[0m\u001b[1;33m\u001b[0m\u001b[1;33m\u001b[0m\u001b[0m\n",
      "\u001b[1;32m~\\anaconda3\\lib\\site-packages\\keras\\engine\\base_preprocessing_layer.py\u001b[0m in \u001b[0;36madapt\u001b[1;34m(self, data, batch_size, steps)\u001b[0m\n\u001b[0;32m    247\u001b[0m       \u001b[1;32mwith\u001b[0m \u001b[0mdata_handler\u001b[0m\u001b[1;33m.\u001b[0m\u001b[0mcatch_stop_iteration\u001b[0m\u001b[1;33m(\u001b[0m\u001b[1;33m)\u001b[0m\u001b[1;33m:\u001b[0m\u001b[1;33m\u001b[0m\u001b[1;33m\u001b[0m\u001b[0m\n\u001b[0;32m    248\u001b[0m         \u001b[1;32mfor\u001b[0m \u001b[0m_\u001b[0m \u001b[1;32min\u001b[0m \u001b[0mdata_handler\u001b[0m\u001b[1;33m.\u001b[0m\u001b[0msteps\u001b[0m\u001b[1;33m(\u001b[0m\u001b[1;33m)\u001b[0m\u001b[1;33m:\u001b[0m\u001b[1;33m\u001b[0m\u001b[1;33m\u001b[0m\u001b[0m\n\u001b[1;32m--> 249\u001b[1;33m           \u001b[0mself\u001b[0m\u001b[1;33m.\u001b[0m\u001b[0m_adapt_function\u001b[0m\u001b[1;33m(\u001b[0m\u001b[0miterator\u001b[0m\u001b[1;33m)\u001b[0m\u001b[1;33m\u001b[0m\u001b[1;33m\u001b[0m\u001b[0m\n\u001b[0m\u001b[0;32m    250\u001b[0m           \u001b[1;32mif\u001b[0m \u001b[0mdata_handler\u001b[0m\u001b[1;33m.\u001b[0m\u001b[0mshould_sync\u001b[0m\u001b[1;33m:\u001b[0m\u001b[1;33m\u001b[0m\u001b[1;33m\u001b[0m\u001b[0m\n\u001b[0;32m    251\u001b[0m             \u001b[0mcontext\u001b[0m\u001b[1;33m.\u001b[0m\u001b[0masync_wait\u001b[0m\u001b[1;33m(\u001b[0m\u001b[1;33m)\u001b[0m\u001b[1;33m\u001b[0m\u001b[1;33m\u001b[0m\u001b[0m\n",
      "\u001b[1;32m~\\anaconda3\\lib\\site-packages\\tensorflow\\python\\util\\traceback_utils.py\u001b[0m in \u001b[0;36merror_handler\u001b[1;34m(*args, **kwargs)\u001b[0m\n\u001b[0;32m    151\u001b[0m     \u001b[1;32mexcept\u001b[0m \u001b[0mException\u001b[0m \u001b[1;32mas\u001b[0m \u001b[0me\u001b[0m\u001b[1;33m:\u001b[0m\u001b[1;33m\u001b[0m\u001b[1;33m\u001b[0m\u001b[0m\n\u001b[0;32m    152\u001b[0m       \u001b[0mfiltered_tb\u001b[0m \u001b[1;33m=\u001b[0m \u001b[0m_process_traceback_frames\u001b[0m\u001b[1;33m(\u001b[0m\u001b[0me\u001b[0m\u001b[1;33m.\u001b[0m\u001b[0m__traceback__\u001b[0m\u001b[1;33m)\u001b[0m\u001b[1;33m\u001b[0m\u001b[1;33m\u001b[0m\u001b[0m\n\u001b[1;32m--> 153\u001b[1;33m       \u001b[1;32mraise\u001b[0m \u001b[0me\u001b[0m\u001b[1;33m.\u001b[0m\u001b[0mwith_traceback\u001b[0m\u001b[1;33m(\u001b[0m\u001b[0mfiltered_tb\u001b[0m\u001b[1;33m)\u001b[0m \u001b[1;32mfrom\u001b[0m \u001b[1;32mNone\u001b[0m\u001b[1;33m\u001b[0m\u001b[1;33m\u001b[0m\u001b[0m\n\u001b[0m\u001b[0;32m    154\u001b[0m     \u001b[1;32mfinally\u001b[0m\u001b[1;33m:\u001b[0m\u001b[1;33m\u001b[0m\u001b[1;33m\u001b[0m\u001b[0m\n\u001b[0;32m    155\u001b[0m       \u001b[1;32mdel\u001b[0m \u001b[0mfiltered_tb\u001b[0m\u001b[1;33m\u001b[0m\u001b[1;33m\u001b[0m\u001b[0m\n",
      "\u001b[1;32m~\\anaconda3\\lib\\site-packages\\tensorflow\\python\\framework\\func_graph.py\u001b[0m in \u001b[0;36mautograph_handler\u001b[1;34m(*args, **kwargs)\u001b[0m\n\u001b[0;32m   1145\u001b[0m           \u001b[1;32mexcept\u001b[0m \u001b[0mException\u001b[0m \u001b[1;32mas\u001b[0m \u001b[0me\u001b[0m\u001b[1;33m:\u001b[0m  \u001b[1;31m# pylint:disable=broad-except\u001b[0m\u001b[1;33m\u001b[0m\u001b[1;33m\u001b[0m\u001b[0m\n\u001b[0;32m   1146\u001b[0m             \u001b[1;32mif\u001b[0m \u001b[0mhasattr\u001b[0m\u001b[1;33m(\u001b[0m\u001b[0me\u001b[0m\u001b[1;33m,\u001b[0m \u001b[1;34m\"ag_error_metadata\"\u001b[0m\u001b[1;33m)\u001b[0m\u001b[1;33m:\u001b[0m\u001b[1;33m\u001b[0m\u001b[1;33m\u001b[0m\u001b[0m\n\u001b[1;32m-> 1147\u001b[1;33m               \u001b[1;32mraise\u001b[0m \u001b[0me\u001b[0m\u001b[1;33m.\u001b[0m\u001b[0mag_error_metadata\u001b[0m\u001b[1;33m.\u001b[0m\u001b[0mto_exception\u001b[0m\u001b[1;33m(\u001b[0m\u001b[0me\u001b[0m\u001b[1;33m)\u001b[0m\u001b[1;33m\u001b[0m\u001b[1;33m\u001b[0m\u001b[0m\n\u001b[0m\u001b[0;32m   1148\u001b[0m             \u001b[1;32melse\u001b[0m\u001b[1;33m:\u001b[0m\u001b[1;33m\u001b[0m\u001b[1;33m\u001b[0m\u001b[0m\n\u001b[0;32m   1149\u001b[0m               \u001b[1;32mraise\u001b[0m\u001b[1;33m\u001b[0m\u001b[1;33m\u001b[0m\u001b[0m\n",
      "\u001b[1;31mValueError\u001b[0m: in user code:\n\n    File \"C:\\Users\\AdminUser\\anaconda3\\lib\\site-packages\\keras\\engine\\base_preprocessing_layer.py\", line 117, in adapt_step  *\n        self._adapt_maybe_build(data)\n    File \"C:\\Users\\AdminUser\\anaconda3\\lib\\site-packages\\keras\\engine\\base_preprocessing_layer.py\", line 285, in _adapt_maybe_build  **\n        self.build(data_shape)\n    File \"C:\\Users\\AdminUser\\anaconda3\\lib\\site-packages\\keras\\layers\\preprocessing\\normalization.py\", line 150, in build\n        raise ValueError(\n\n    ValueError: All `axis` values to be kept must have known shape. Got axis: (-1,), input shape: [None], with unknown axis at index: 0\n"
     ]
    }
   ],
   "source": [
    "# Regression\n",
    " # 1. Normalize the input horsepower\n",
    " # 2. Apply a linear transformation (y = m*x+b) to produce 1 output using layers.Dense\n",
    "\n",
    "feature = 'WindSpeed'\n",
    "single_feature = np.array(train_features[feature])\n",
    "print(single_feature.shape, train_features.shape)\n",
    "\n",
    "# Normalization\n",
    "single_feature_normalizer = preprocessing.Normalization()\n",
    "\n",
    "# adapt to the data\n",
    "single_feature_normalizer.adapt(single_feature)"
   ]
  },
  {
   "cell_type": "markdown",
   "id": "c0b88753",
   "metadata": {},
   "source": [
    "### ====== Create Train and Test"
   ]
  },
  {
   "cell_type": "code",
   "execution_count": 43,
   "id": "ab0df107",
   "metadata": {},
   "outputs": [],
   "source": [
    "from sklearn.model_selection import train_test_split"
   ]
  },
  {
   "cell_type": "code",
   "execution_count": 44,
   "id": "699d7340",
   "metadata": {},
   "outputs": [],
   "source": [
    "train, test = train_test_split(df, test_size=0.2, random_state=42, shuffle=True)"
   ]
  },
  {
   "cell_type": "code",
   "execution_count": 45,
   "id": "c12eb0f5",
   "metadata": {},
   "outputs": [],
   "source": [
    "y_train = train.pop('Energy/kwh')"
   ]
  },
  {
   "cell_type": "code",
   "execution_count": 46,
   "id": "1f54d691",
   "metadata": {},
   "outputs": [],
   "source": [
    "y_test = test.pop('Energy/kwh')"
   ]
  },
  {
   "cell_type": "code",
   "execution_count": 58,
   "id": "3bdff880",
   "metadata": {},
   "outputs": [
    {
     "data": {
      "text/html": [
       "<div>\n",
       "<style scoped>\n",
       "    .dataframe tbody tr th:only-of-type {\n",
       "        vertical-align: middle;\n",
       "    }\n",
       "\n",
       "    .dataframe tbody tr th {\n",
       "        vertical-align: top;\n",
       "    }\n",
       "\n",
       "    .dataframe thead th {\n",
       "        text-align: right;\n",
       "    }\n",
       "</style>\n",
       "<table border=\"1\" class=\"dataframe\">\n",
       "  <thead>\n",
       "    <tr style=\"text-align: right;\">\n",
       "      <th></th>\n",
       "      <th>WindSpeed</th>\n",
       "      <th>Humidity</th>\n",
       "      <th>Tonnes</th>\n",
       "    </tr>\n",
       "    <tr>\n",
       "      <th>Date</th>\n",
       "      <th></th>\n",
       "      <th></th>\n",
       "      <th></th>\n",
       "    </tr>\n",
       "  </thead>\n",
       "  <tbody>\n",
       "    <tr>\n",
       "      <th>03/01/2018</th>\n",
       "      <td>34</td>\n",
       "      <td>72</td>\n",
       "      <td>NaN</td>\n",
       "    </tr>\n",
       "    <tr>\n",
       "      <th>07/01/2018</th>\n",
       "      <td>10</td>\n",
       "      <td>66</td>\n",
       "      <td>NaN</td>\n",
       "    </tr>\n",
       "    <tr>\n",
       "      <th>14/08/2019</th>\n",
       "      <td>14</td>\n",
       "      <td>79</td>\n",
       "      <td>NaN</td>\n",
       "    </tr>\n",
       "    <tr>\n",
       "      <th>27/09/2019</th>\n",
       "      <td>23</td>\n",
       "      <td>76</td>\n",
       "      <td>NaN</td>\n",
       "    </tr>\n",
       "    <tr>\n",
       "      <th>22/04/2020</th>\n",
       "      <td>14</td>\n",
       "      <td>80</td>\n",
       "      <td>NaN</td>\n",
       "    </tr>\n",
       "    <tr>\n",
       "      <th>...</th>\n",
       "      <td>...</td>\n",
       "      <td>...</td>\n",
       "      <td>...</td>\n",
       "    </tr>\n",
       "    <tr>\n",
       "      <th>27/11/2018</th>\n",
       "      <td>26</td>\n",
       "      <td>80</td>\n",
       "      <td>NaN</td>\n",
       "    </tr>\n",
       "    <tr>\n",
       "      <th>12/04/2019</th>\n",
       "      <td>16</td>\n",
       "      <td>64</td>\n",
       "      <td>NaN</td>\n",
       "    </tr>\n",
       "    <tr>\n",
       "      <th>02/05/2018</th>\n",
       "      <td>24</td>\n",
       "      <td>70</td>\n",
       "      <td>NaN</td>\n",
       "    </tr>\n",
       "    <tr>\n",
       "      <th>10/11/2020</th>\n",
       "      <td>11</td>\n",
       "      <td>90</td>\n",
       "      <td>NaN</td>\n",
       "    </tr>\n",
       "    <tr>\n",
       "      <th>10/05/2020</th>\n",
       "      <td>37</td>\n",
       "      <td>64</td>\n",
       "      <td>NaN</td>\n",
       "    </tr>\n",
       "  </tbody>\n",
       "</table>\n",
       "<p>876 rows × 3 columns</p>\n",
       "</div>"
      ],
      "text/plain": [
       "            WindSpeed  Humidity  Tonnes\n",
       "Date                                   \n",
       "03/01/2018         34        72     NaN\n",
       "07/01/2018         10        66     NaN\n",
       "14/08/2019         14        79     NaN\n",
       "27/09/2019         23        76     NaN\n",
       "22/04/2020         14        80     NaN\n",
       "...               ...       ...     ...\n",
       "27/11/2018         26        80     NaN\n",
       "12/04/2019         16        64     NaN\n",
       "02/05/2018         24        70     NaN\n",
       "10/11/2020         11        90     NaN\n",
       "10/05/2020         37        64     NaN\n",
       "\n",
       "[876 rows x 3 columns]"
      ]
     },
     "execution_count": 58,
     "metadata": {},
     "output_type": "execute_result"
    }
   ],
   "source": [
    "train"
   ]
  },
  {
   "cell_type": "code",
   "execution_count": 47,
   "id": "48c41158",
   "metadata": {},
   "outputs": [
    {
     "data": {
      "text/plain": [
       "Date\n",
       "03/01/2018    1660.89\n",
       "07/01/2018     798.62\n",
       "14/08/2019     608.73\n",
       "27/09/2019    5534.51\n",
       "22/04/2020    3277.52\n",
       "               ...   \n",
       "27/11/2018    5980.32\n",
       "12/04/2019    5191.90\n",
       "02/05/2018    4286.50\n",
       "10/11/2020    3023.69\n",
       "10/05/2020    3253.38\n",
       "Name: Energy/kwh, Length: 876, dtype: float64"
      ]
     },
     "execution_count": 47,
     "metadata": {},
     "output_type": "execute_result"
    }
   ],
   "source": [
    "y_train"
   ]
  },
  {
   "cell_type": "code",
   "execution_count": 48,
   "id": "67c3f5de",
   "metadata": {
    "scrolled": true
   },
   "outputs": [
    {
     "data": {
      "text/plain": [
       "<AxesSubplot:>"
      ]
     },
     "execution_count": 48,
     "metadata": {},
     "output_type": "execute_result"
    },
    {
     "data": {
      "image/png": "[encoded data removed]",
      "text/plain": [
       "<Figure size 432x288 with 1 Axes>"
      ]
     },
     "metadata": {
      "needs_background": "light"
     },
     "output_type": "display_data"
    }
   ],
   "source": [
    "train.WindSpeed.hist(bins=20)"
   ]
  },
  {
   "cell_type": "code",
   "execution_count": 49,
   "id": "e3ef358c",
   "metadata": {
    "scrolled": true
   },
   "outputs": [
    {
     "data": {
      "text/plain": [
       "<AxesSubplot:>"
      ]
     },
     "execution_count": 49,
     "metadata": {},
     "output_type": "execute_result"
    },
    {
     "data": {
      "image/png": "[encoded data removed]",
      "text/plain": [
       "<Figure size 432x288 with 1 Axes>"
      ]
     },
     "metadata": {
      "needs_background": "light"
     },
     "output_type": "display_data"
    }
   ],
   "source": [
    "train.Humidity.hist(bins=20)"
   ]
  },
  {
   "cell_type": "code",
   "execution_count": 50,
   "id": "b921921e",
   "metadata": {
    "scrolled": true
   },
   "outputs": [
    {
     "data": {
      "text/plain": [
       "<AxesSubplot:>"
      ]
     },
     "execution_count": 50,
     "metadata": {},
     "output_type": "execute_result"
    },
    {
     "data": {
      "image/png": "[encoded data removed]",
      "text/plain": [
       "<Figure size 432x288 with 1 Axes>"
      ]
     },
     "metadata": {
      "needs_background": "light"
     },
     "output_type": "display_data"
    }
   ],
   "source": [
    "train.Tonnes.hist(bins=20)"
   ]
  },
  {
   "cell_type": "code",
   "execution_count": 51,
   "id": "1e7ecf41",
   "metadata": {},
   "outputs": [],
   "source": [
    "numeric_columns = ['WindSpeed','Humidity']"
   ]
  },
  {
   "cell_type": "code",
   "execution_count": 52,
   "id": "d4514547",
   "metadata": {},
   "outputs": [],
   "source": [
    "feature_columns = []\n",
    "\n",
    "for feature_name in numeric_columns:\n",
    "    feature_columns.append(tf.feature_column.numeric_column(feature_name, dtype=tf.int32))"
   ]
  },
  {
   "cell_type": "code",
   "execution_count": 53,
   "id": "43e46417",
   "metadata": {
    "scrolled": true
   },
   "outputs": [
    {
     "name": "stdout",
     "output_type": "stream",
     "text": [
      "[NumericColumn(key='WindSpeed', shape=(1,), default_value=None, dtype=tf.int32, normalizer_fn=None), NumericColumn(key='Humidity', shape=(1,), default_value=None, dtype=tf.int32, normalizer_fn=None)]\n"
     ]
    }
   ],
   "source": [
    "print(feature_columns)"
   ]
  },
  {
   "cell_type": "markdown",
   "id": "986349d0",
   "metadata": {},
   "source": [
    "### ====== Model"
   ]
  },
  {
   "cell_type": "code",
   "execution_count": 35,
   "id": "d552628f",
   "metadata": {},
   "outputs": [],
   "source": [
    "def make_input_fn(data_df, label_df, num_epochs=10, shuffle=True, batch_size=32):\n",
    "  def input_function():  # inner function, this will be returned\n",
    "    ds = tf.data.Dataset.from_tensor_slices((dict(data_df), label_df))  # create tf.data.Dataset object with data and its label\n",
    "    if shuffle:\n",
    "      ds = ds.shuffle(1000)  # randomize order of data\n",
    "    ds = ds.batch(batch_size).repeat(num_epochs)  # split dataset into batches of 32 and repeat process for number of epochs\n",
    "    return ds  # return a batch of the dataset\n",
    "  return input_function  # return a function object for use\n",
    "\n"
   ]
  },
  {
   "cell_type": "code",
   "execution_count": 54,
   "id": "6eb82ef8",
   "metadata": {},
   "outputs": [],
   "source": [
    "train_input_fn = make_input_fn(train, y_train)  # here we will call the input_function that was returned to us to get a dataset object we can feed to the model\n",
    "test_input_fn = make_input_fn(test, y_test, num_epochs=1, shuffle=False)"
   ]
  },
  {
   "cell_type": "code",
   "execution_count": 59,
   "id": "ec2ff955",
   "metadata": {},
   "outputs": [
    {
     "name": "stdout",
     "output_type": "stream",
     "text": [
      "INFO:tensorflow:Using default config.\n",
      "WARNING:tensorflow:Using temporary folder as model directory: C:\\Users\\AdminUser\\AppData\\Local\\Temp\\tmpfe95ztfp\n",
      "INFO:tensorflow:Using config: {'_model_dir': 'C:\\\\Users\\\\AdminUser\\\\AppData\\\\Local\\\\Temp\\\\tmpfe95ztfp', '_tf_random_seed': None, '_save_summary_steps': 100, '_save_checkpoints_steps': None, '_save_checkpoints_secs': 600, '_session_config': allow_soft_placement: true\n",
      "graph_options {\n",
      "  rewrite_options {\n",
      "    meta_optimizer_iterations: ONE\n",
      "  }\n",
      "}\n",
      ", '_keep_checkpoint_max': 5, '_keep_checkpoint_every_n_hours': 10000, '_log_step_count_steps': 100, '_train_distribute': None, '_device_fn': None, '_protocol': None, '_eval_distribute': None, '_experimental_distribute': None, '_experimental_max_worker_delay_secs': None, '_session_creation_timeout_secs': 7200, '_checkpoint_save_graph_def': True, '_service': None, '_cluster_spec': ClusterSpec({}), '_task_type': 'worker', '_task_id': 0, '_global_id_in_cluster': 0, '_master': '', '_evaluation_master': '', '_is_chief': True, '_num_ps_replicas': 0, '_num_worker_replicas': 1}\n"
     ]
    }
   ],
   "source": [
    "linear_est = tf.estimator.LinearRegressor(feature_columns=feature_columns)\n",
    "#create a linear estimtor by passing the feature columns we created earlier"
   ]
  },
  {
   "cell_type": "code",
   "execution_count": 60,
   "id": "9aa5d53c",
   "metadata": {},
   "outputs": [
    {
     "name": "stdout",
     "output_type": "stream",
     "text": [
      "INFO:tensorflow:Calling model_fn.\n",
      "INFO:tensorflow:Done calling model_fn.\n",
      "INFO:tensorflow:Create CheckpointSaverHook.\n"
     ]
    },
    {
     "name": "stderr",
     "output_type": "stream",
     "text": [
      "C:\\Users\\AdminUser\\anaconda3\\lib\\site-packages\\tensorflow_estimator\\python\\estimator\\canned\\linear.py:1468: UserWarning: `layer.add_variable` is deprecated and will be removed in a future version. Please use `layer.add_weight` method instead.\n",
      "  self.bias = self.add_variable(\n"
     ]
    },
    {
     "name": "stdout",
     "output_type": "stream",
     "text": [
      "INFO:tensorflow:Graph was finalized.\n",
      "INFO:tensorflow:Running local_init_op.\n",
      "INFO:tensorflow:Done running local_init_op.\n",
      "INFO:tensorflow:Calling checkpoint listeners before saving checkpoint 0...\n",
      "INFO:tensorflow:Saving checkpoints for 0 into C:\\Users\\AdminUser\\AppData\\Local\\Temp\\tmpfe95ztfp\\model.ckpt.\n",
      "INFO:tensorflow:Calling checkpoint listeners after saving checkpoint 0...\n",
      "INFO:tensorflow:loss = 13536799.0, step = 0\n",
      "ERROR:tensorflow:Model diverged with loss = NaN.\n"
     ]
    },
    {
     "ename": "NanLossDuringTrainingError",
     "evalue": "NaN loss during training.",
     "output_type": "error",
     "traceback": [
      "\u001b[1;31m---------------------------------------------------------------------------\u001b[0m",
      "\u001b[1;31mNanLossDuringTrainingError\u001b[0m                Traceback (most recent call last)",
      "\u001b[1;32m<ipython-input-60-0c5bf359dadc>\u001b[0m in \u001b[0;36m<module>\u001b[1;34m\u001b[0m\n\u001b[1;32m----> 1\u001b[1;33m \u001b[0mlinear_est\u001b[0m\u001b[1;33m.\u001b[0m\u001b[0mtrain\u001b[0m\u001b[1;33m(\u001b[0m\u001b[0mtrain_input_fn\u001b[0m\u001b[1;33m)\u001b[0m  \u001b[1;31m# train\u001b[0m\u001b[1;33m\u001b[0m\u001b[1;33m\u001b[0m\u001b[0m\n\u001b[0m",
      "\u001b[1;32m~\\anaconda3\\lib\\site-packages\\tensorflow_estimator\\python\\estimator\\estimator.py\u001b[0m in \u001b[0;36mtrain\u001b[1;34m(self, input_fn, hooks, steps, max_steps, saving_listeners)\u001b[0m\n\u001b[0;32m    358\u001b[0m \u001b[1;33m\u001b[0m\u001b[0m\n\u001b[0;32m    359\u001b[0m       \u001b[0msaving_listeners\u001b[0m \u001b[1;33m=\u001b[0m \u001b[0m_check_listeners_type\u001b[0m\u001b[1;33m(\u001b[0m\u001b[0msaving_listeners\u001b[0m\u001b[1;33m)\u001b[0m\u001b[1;33m\u001b[0m\u001b[1;33m\u001b[0m\u001b[0m\n\u001b[1;32m--> 360\u001b[1;33m       \u001b[0mloss\u001b[0m \u001b[1;33m=\u001b[0m \u001b[0mself\u001b[0m\u001b[1;33m.\u001b[0m\u001b[0m_train_model\u001b[0m\u001b[1;33m(\u001b[0m\u001b[0minput_fn\u001b[0m\u001b[1;33m,\u001b[0m \u001b[0mhooks\u001b[0m\u001b[1;33m,\u001b[0m \u001b[0msaving_listeners\u001b[0m\u001b[1;33m)\u001b[0m\u001b[1;33m\u001b[0m\u001b[1;33m\u001b[0m\u001b[0m\n\u001b[0m\u001b[0;32m    361\u001b[0m       \u001b[0mlogging\u001b[0m\u001b[1;33m.\u001b[0m\u001b[0minfo\u001b[0m\u001b[1;33m(\u001b[0m\u001b[1;34m'Loss for final step: %s.'\u001b[0m\u001b[1;33m,\u001b[0m \u001b[0mloss\u001b[0m\u001b[1;33m)\u001b[0m\u001b[1;33m\u001b[0m\u001b[1;33m\u001b[0m\u001b[0m\n\u001b[0;32m    362\u001b[0m       \u001b[1;32mreturn\u001b[0m \u001b[0mself\u001b[0m\u001b[1;33m\u001b[0m\u001b[1;33m\u001b[0m\u001b[0m\n",
      "\u001b[1;32m~\\anaconda3\\lib\\site-packages\\tensorflow_estimator\\python\\estimator\\estimator.py\u001b[0m in \u001b[0;36m_train_model\u001b[1;34m(self, input_fn, hooks, saving_listeners)\u001b[0m\n\u001b[0;32m   1184\u001b[0m       \u001b[1;32mreturn\u001b[0m \u001b[0mself\u001b[0m\u001b[1;33m.\u001b[0m\u001b[0m_train_model_distributed\u001b[0m\u001b[1;33m(\u001b[0m\u001b[0minput_fn\u001b[0m\u001b[1;33m,\u001b[0m \u001b[0mhooks\u001b[0m\u001b[1;33m,\u001b[0m \u001b[0msaving_listeners\u001b[0m\u001b[1;33m)\u001b[0m\u001b[1;33m\u001b[0m\u001b[1;33m\u001b[0m\u001b[0m\n\u001b[0;32m   1185\u001b[0m     \u001b[1;32melse\u001b[0m\u001b[1;33m:\u001b[0m\u001b[1;33m\u001b[0m\u001b[1;33m\u001b[0m\u001b[0m\n\u001b[1;32m-> 1186\u001b[1;33m       \u001b[1;32mreturn\u001b[0m \u001b[0mself\u001b[0m\u001b[1;33m.\u001b[0m\u001b[0m_train_model_default\u001b[0m\u001b[1;33m(\u001b[0m\u001b[0minput_fn\u001b[0m\u001b[1;33m,\u001b[0m \u001b[0mhooks\u001b[0m\u001b[1;33m,\u001b[0m \u001b[0msaving_listeners\u001b[0m\u001b[1;33m)\u001b[0m\u001b[1;33m\u001b[0m\u001b[1;33m\u001b[0m\u001b[0m\n\u001b[0m\u001b[0;32m   1187\u001b[0m \u001b[1;33m\u001b[0m\u001b[0m\n\u001b[0;32m   1188\u001b[0m   \u001b[1;32mdef\u001b[0m \u001b[0m_train_model_default\u001b[0m\u001b[1;33m(\u001b[0m\u001b[0mself\u001b[0m\u001b[1;33m,\u001b[0m \u001b[0minput_fn\u001b[0m\u001b[1;33m,\u001b[0m \u001b[0mhooks\u001b[0m\u001b[1;33m,\u001b[0m \u001b[0msaving_listeners\u001b[0m\u001b[1;33m)\u001b[0m\u001b[1;33m:\u001b[0m\u001b[1;33m\u001b[0m\u001b[1;33m\u001b[0m\u001b[0m\n",
      "\u001b[1;32m~\\anaconda3\\lib\\site-packages\\tensorflow_estimator\\python\\estimator\\estimator.py\u001b[0m in \u001b[0;36m_train_model_default\u001b[1;34m(self, input_fn, hooks, saving_listeners)\u001b[0m\n\u001b[0;32m   1215\u001b[0m                                            self.config)\n\u001b[0;32m   1216\u001b[0m       \u001b[0mglobal_step_tensor\u001b[0m \u001b[1;33m=\u001b[0m \u001b[0mtf\u001b[0m\u001b[1;33m.\u001b[0m\u001b[0mcompat\u001b[0m\u001b[1;33m.\u001b[0m\u001b[0mv1\u001b[0m\u001b[1;33m.\u001b[0m\u001b[0mtrain\u001b[0m\u001b[1;33m.\u001b[0m\u001b[0mget_global_step\u001b[0m\u001b[1;33m(\u001b[0m\u001b[0mg\u001b[0m\u001b[1;33m)\u001b[0m\u001b[1;33m\u001b[0m\u001b[1;33m\u001b[0m\u001b[0m\n\u001b[1;32m-> 1217\u001b[1;33m       return self._train_with_estimator_spec(estimator_spec, worker_hooks,\n\u001b[0m\u001b[0;32m   1218\u001b[0m                                              \u001b[0mhooks\u001b[0m\u001b[1;33m,\u001b[0m \u001b[0mglobal_step_tensor\u001b[0m\u001b[1;33m,\u001b[0m\u001b[1;33m\u001b[0m\u001b[1;33m\u001b[0m\u001b[0m\n\u001b[0;32m   1219\u001b[0m                                              saving_listeners)\n",
      "\u001b[1;32m~\\anaconda3\\lib\\site-packages\\tensorflow_estimator\\python\\estimator\\estimator.py\u001b[0m in \u001b[0;36m_train_with_estimator_spec\u001b[1;34m(self, estimator_spec, worker_hooks, hooks, global_step_tensor, saving_listeners)\u001b[0m\n\u001b[0;32m   1531\u001b[0m         \u001b[1;31m# trace should be enabled for every step\u001b[0m\u001b[1;33m\u001b[0m\u001b[1;33m\u001b[0m\u001b[1;33m\u001b[0m\u001b[0m\n\u001b[0;32m   1532\u001b[0m         \u001b[1;32mwith\u001b[0m \u001b[0mtrace\u001b[0m\u001b[1;33m.\u001b[0m\u001b[0mTrace\u001b[0m\u001b[1;33m(\u001b[0m\u001b[1;34m'train'\u001b[0m\u001b[1;33m,\u001b[0m \u001b[0mstep_num\u001b[0m\u001b[1;33m=\u001b[0m\u001b[0mcurrent_step\u001b[0m\u001b[1;33m,\u001b[0m \u001b[0m_r\u001b[0m\u001b[1;33m=\u001b[0m\u001b[1;36m1\u001b[0m\u001b[1;33m)\u001b[0m\u001b[1;33m:\u001b[0m\u001b[1;33m\u001b[0m\u001b[1;33m\u001b[0m\u001b[0m\n\u001b[1;32m-> 1533\u001b[1;33m           \u001b[0m_\u001b[0m\u001b[1;33m,\u001b[0m \u001b[0mloss\u001b[0m \u001b[1;33m=\u001b[0m \u001b[0mmon_sess\u001b[0m\u001b[1;33m.\u001b[0m\u001b[0mrun\u001b[0m\u001b[1;33m(\u001b[0m\u001b[1;33m[\u001b[0m\u001b[0mestimator_spec\u001b[0m\u001b[1;33m.\u001b[0m\u001b[0mtrain_op\u001b[0m\u001b[1;33m,\u001b[0m \u001b[0mestimator_spec\u001b[0m\u001b[1;33m.\u001b[0m\u001b[0mloss\u001b[0m\u001b[1;33m]\u001b[0m\u001b[1;33m)\u001b[0m\u001b[1;33m\u001b[0m\u001b[1;33m\u001b[0m\u001b[0m\n\u001b[0m\u001b[0;32m   1534\u001b[0m       \u001b[1;32mif\u001b[0m \u001b[0mcurrent_step\u001b[0m \u001b[1;33m==\u001b[0m \u001b[1;36m0\u001b[0m\u001b[1;33m:\u001b[0m\u001b[1;33m\u001b[0m\u001b[1;33m\u001b[0m\u001b[0m\n\u001b[0;32m   1535\u001b[0m         tf.compat.v1.logging.warn('Training with estimator made no steps. '\n",
      "\u001b[1;32m~\\anaconda3\\lib\\site-packages\\tensorflow\\python\\training\\monitored_session.py\u001b[0m in \u001b[0;36mrun\u001b[1;34m(self, fetches, feed_dict, options, run_metadata)\u001b[0m\n\u001b[0;32m    780\u001b[0m       \u001b[0mSame\u001b[0m \u001b[1;32mas\u001b[0m\u001b[0;31m \u001b[0m\u001b[0;31m`\u001b[0m\u001b[0mtf\u001b[0m\u001b[1;33m.\u001b[0m\u001b[0mSession\u001b[0m\u001b[1;33m.\u001b[0m\u001b[0mrun\u001b[0m\u001b[1;33m(\u001b[0m\u001b[1;33m)\u001b[0m\u001b[0;31m`\u001b[0m\u001b[1;33m.\u001b[0m\u001b[1;33m\u001b[0m\u001b[1;33m\u001b[0m\u001b[0m\n\u001b[0;32m    781\u001b[0m     \"\"\"\n\u001b[1;32m--> 782\u001b[1;33m     return self._sess.run(\n\u001b[0m\u001b[0;32m    783\u001b[0m         \u001b[0mfetches\u001b[0m\u001b[1;33m,\u001b[0m\u001b[1;33m\u001b[0m\u001b[1;33m\u001b[0m\u001b[0m\n\u001b[0;32m    784\u001b[0m         \u001b[0mfeed_dict\u001b[0m\u001b[1;33m=\u001b[0m\u001b[0mfeed_dict\u001b[0m\u001b[1;33m,\u001b[0m\u001b[1;33m\u001b[0m\u001b[1;33m\u001b[0m\u001b[0m\n",
      "\u001b[1;32m~\\anaconda3\\lib\\site-packages\\tensorflow\\python\\training\\monitored_session.py\u001b[0m in \u001b[0;36mrun\u001b[1;34m(self, fetches, feed_dict, options, run_metadata)\u001b[0m\n\u001b[0;32m   1309\u001b[0m         \u001b[1;32mif\u001b[0m \u001b[1;32mnot\u001b[0m \u001b[0mself\u001b[0m\u001b[1;33m.\u001b[0m\u001b[0m_sess\u001b[0m\u001b[1;33m:\u001b[0m\u001b[1;33m\u001b[0m\u001b[1;33m\u001b[0m\u001b[0m\n\u001b[0;32m   1310\u001b[0m           \u001b[0mself\u001b[0m\u001b[1;33m.\u001b[0m\u001b[0m_sess\u001b[0m \u001b[1;33m=\u001b[0m \u001b[0mself\u001b[0m\u001b[1;33m.\u001b[0m\u001b[0m_create_session\u001b[0m\u001b[1;33m(\u001b[0m\u001b[1;33m)\u001b[0m\u001b[1;33m\u001b[0m\u001b[1;33m\u001b[0m\u001b[0m\n\u001b[1;32m-> 1311\u001b[1;33m         return self._sess.run(\n\u001b[0m\u001b[0;32m   1312\u001b[0m             \u001b[0mfetches\u001b[0m\u001b[1;33m,\u001b[0m\u001b[1;33m\u001b[0m\u001b[1;33m\u001b[0m\u001b[0m\n\u001b[0;32m   1313\u001b[0m             \u001b[0mfeed_dict\u001b[0m\u001b[1;33m=\u001b[0m\u001b[0mfeed_dict\u001b[0m\u001b[1;33m,\u001b[0m\u001b[1;33m\u001b[0m\u001b[1;33m\u001b[0m\u001b[0m\n",
      "\u001b[1;32m~\\anaconda3\\lib\\site-packages\\tensorflow\\python\\training\\monitored_session.py\u001b[0m in \u001b[0;36mrun\u001b[1;34m(self, *args, **kwargs)\u001b[0m\n\u001b[0;32m   1414\u001b[0m         \u001b[1;32mraise\u001b[0m \u001b[0msix\u001b[0m\u001b[1;33m.\u001b[0m\u001b[0mreraise\u001b[0m\u001b[1;33m(\u001b[0m\u001b[1;33m*\u001b[0m\u001b[0moriginal_exc_info\u001b[0m\u001b[1;33m)\u001b[0m\u001b[1;33m\u001b[0m\u001b[1;33m\u001b[0m\u001b[0m\n\u001b[0;32m   1415\u001b[0m       \u001b[1;32melse\u001b[0m\u001b[1;33m:\u001b[0m\u001b[1;33m\u001b[0m\u001b[1;33m\u001b[0m\u001b[0m\n\u001b[1;32m-> 1416\u001b[1;33m         \u001b[1;32mraise\u001b[0m \u001b[0msix\u001b[0m\u001b[1;33m.\u001b[0m\u001b[0mreraise\u001b[0m\u001b[1;33m(\u001b[0m\u001b[1;33m*\u001b[0m\u001b[0moriginal_exc_info\u001b[0m\u001b[1;33m)\u001b[0m\u001b[1;33m\u001b[0m\u001b[1;33m\u001b[0m\u001b[0m\n\u001b[0m\u001b[0;32m   1417\u001b[0m \u001b[1;33m\u001b[0m\u001b[0m\n\u001b[0;32m   1418\u001b[0m \u001b[1;33m\u001b[0m\u001b[0m\n",
      "\u001b[1;32m~\\anaconda3\\lib\\site-packages\\six.py\u001b[0m in \u001b[0;36mreraise\u001b[1;34m(tp, value, tb)\u001b[0m\n\u001b[0;32m    701\u001b[0m             \u001b[1;32mif\u001b[0m \u001b[0mvalue\u001b[0m\u001b[1;33m.\u001b[0m\u001b[0m__traceback__\u001b[0m \u001b[1;32mis\u001b[0m \u001b[1;32mnot\u001b[0m \u001b[0mtb\u001b[0m\u001b[1;33m:\u001b[0m\u001b[1;33m\u001b[0m\u001b[1;33m\u001b[0m\u001b[0m\n\u001b[0;32m    702\u001b[0m                 \u001b[1;32mraise\u001b[0m \u001b[0mvalue\u001b[0m\u001b[1;33m.\u001b[0m\u001b[0mwith_traceback\u001b[0m\u001b[1;33m(\u001b[0m\u001b[0mtb\u001b[0m\u001b[1;33m)\u001b[0m\u001b[1;33m\u001b[0m\u001b[1;33m\u001b[0m\u001b[0m\n\u001b[1;32m--> 703\u001b[1;33m             \u001b[1;32mraise\u001b[0m \u001b[0mvalue\u001b[0m\u001b[1;33m\u001b[0m\u001b[1;33m\u001b[0m\u001b[0m\n\u001b[0m\u001b[0;32m    704\u001b[0m         \u001b[1;32mfinally\u001b[0m\u001b[1;33m:\u001b[0m\u001b[1;33m\u001b[0m\u001b[1;33m\u001b[0m\u001b[0m\n\u001b[0;32m    705\u001b[0m             \u001b[0mvalue\u001b[0m \u001b[1;33m=\u001b[0m \u001b[1;32mNone\u001b[0m\u001b[1;33m\u001b[0m\u001b[1;33m\u001b[0m\u001b[0m\n",
      "\u001b[1;32m~\\anaconda3\\lib\\site-packages\\tensorflow\\python\\training\\monitored_session.py\u001b[0m in \u001b[0;36mrun\u001b[1;34m(self, *args, **kwargs)\u001b[0m\n\u001b[0;32m   1399\u001b[0m   \u001b[1;32mdef\u001b[0m \u001b[0mrun\u001b[0m\u001b[1;33m(\u001b[0m\u001b[0mself\u001b[0m\u001b[1;33m,\u001b[0m \u001b[1;33m*\u001b[0m\u001b[0margs\u001b[0m\u001b[1;33m,\u001b[0m \u001b[1;33m**\u001b[0m\u001b[0mkwargs\u001b[0m\u001b[1;33m)\u001b[0m\u001b[1;33m:\u001b[0m\u001b[1;33m\u001b[0m\u001b[1;33m\u001b[0m\u001b[0m\n\u001b[0;32m   1400\u001b[0m     \u001b[1;32mtry\u001b[0m\u001b[1;33m:\u001b[0m\u001b[1;33m\u001b[0m\u001b[1;33m\u001b[0m\u001b[0m\n\u001b[1;32m-> 1401\u001b[1;33m       \u001b[1;32mreturn\u001b[0m \u001b[0mself\u001b[0m\u001b[1;33m.\u001b[0m\u001b[0m_sess\u001b[0m\u001b[1;33m.\u001b[0m\u001b[0mrun\u001b[0m\u001b[1;33m(\u001b[0m\u001b[1;33m*\u001b[0m\u001b[0margs\u001b[0m\u001b[1;33m,\u001b[0m \u001b[1;33m**\u001b[0m\u001b[0mkwargs\u001b[0m\u001b[1;33m)\u001b[0m\u001b[1;33m\u001b[0m\u001b[1;33m\u001b[0m\u001b[0m\n\u001b[0m\u001b[0;32m   1402\u001b[0m     \u001b[1;32mexcept\u001b[0m \u001b[0m_PREEMPTION_ERRORS\u001b[0m\u001b[1;33m:\u001b[0m\u001b[1;33m\u001b[0m\u001b[1;33m\u001b[0m\u001b[0m\n\u001b[0;32m   1403\u001b[0m       \u001b[1;32mraise\u001b[0m\u001b[1;33m\u001b[0m\u001b[1;33m\u001b[0m\u001b[0m\n",
      "\u001b[1;32m~\\anaconda3\\lib\\site-packages\\tensorflow\\python\\training\\monitored_session.py\u001b[0m in \u001b[0;36mrun\u001b[1;34m(self, fetches, feed_dict, options, run_metadata)\u001b[0m\n\u001b[0;32m   1475\u001b[0m \u001b[1;33m\u001b[0m\u001b[0m\n\u001b[0;32m   1476\u001b[0m     \u001b[1;32mfor\u001b[0m \u001b[0mhook\u001b[0m \u001b[1;32min\u001b[0m \u001b[0mself\u001b[0m\u001b[1;33m.\u001b[0m\u001b[0m_hooks\u001b[0m\u001b[1;33m:\u001b[0m\u001b[1;33m\u001b[0m\u001b[1;33m\u001b[0m\u001b[0m\n\u001b[1;32m-> 1477\u001b[1;33m       hook.after_run(\n\u001b[0m\u001b[0;32m   1478\u001b[0m           \u001b[0mrun_context\u001b[0m\u001b[1;33m,\u001b[0m\u001b[1;33m\u001b[0m\u001b[1;33m\u001b[0m\u001b[0m\n\u001b[0;32m   1479\u001b[0m           session_run_hook.SessionRunValues(\n",
      "\u001b[1;32m~\\anaconda3\\lib\\site-packages\\tensorflow\\python\\training\\basic_session_run_hooks.py\u001b[0m in \u001b[0;36mafter_run\u001b[1;34m(self, run_context, run_values)\u001b[0m\n\u001b[0;32m    784\u001b[0m       \u001b[1;32mif\u001b[0m \u001b[0mself\u001b[0m\u001b[1;33m.\u001b[0m\u001b[0m_fail_on_nan_loss\u001b[0m\u001b[1;33m:\u001b[0m\u001b[1;33m\u001b[0m\u001b[1;33m\u001b[0m\u001b[0m\n\u001b[0;32m    785\u001b[0m         \u001b[0mlogging\u001b[0m\u001b[1;33m.\u001b[0m\u001b[0merror\u001b[0m\u001b[1;33m(\u001b[0m\u001b[0mfailure_message\u001b[0m\u001b[1;33m)\u001b[0m\u001b[1;33m\u001b[0m\u001b[1;33m\u001b[0m\u001b[0m\n\u001b[1;32m--> 786\u001b[1;33m         \u001b[1;32mraise\u001b[0m \u001b[0mNanLossDuringTrainingError\u001b[0m\u001b[1;33m\u001b[0m\u001b[1;33m\u001b[0m\u001b[0m\n\u001b[0m\u001b[0;32m    787\u001b[0m       \u001b[1;32melse\u001b[0m\u001b[1;33m:\u001b[0m\u001b[1;33m\u001b[0m\u001b[1;33m\u001b[0m\u001b[0m\n\u001b[0;32m    788\u001b[0m         \u001b[0mlogging\u001b[0m\u001b[1;33m.\u001b[0m\u001b[0mwarning\u001b[0m\u001b[1;33m(\u001b[0m\u001b[0mfailure_message\u001b[0m\u001b[1;33m)\u001b[0m\u001b[1;33m\u001b[0m\u001b[1;33m\u001b[0m\u001b[0m\n",
      "\u001b[1;31mNanLossDuringTrainingError\u001b[0m: NaN loss during training."
     ]
    }
   ],
   "source": [
    "linear_est.train(train_input_fn)  # train"
   ]
  }
 ],
 "metadata": {
  "kernelspec": {
   "display_name": "Python 3",
   "language": "python",
   "name": "python3"
  },
  "language_info": {
   "codemirror_mode": {
    "name": "ipython",
    "version": 3
   },
   "file_extension": ".py",
   "mimetype": "text/x-python",
   "name": "python",
   "nbconvert_exporter": "python",
   "pygments_lexer": "ipython3",
   "version": "3.8.8"
  }
 },
 "nbformat": 4,
 "nbformat_minor": 5
}
