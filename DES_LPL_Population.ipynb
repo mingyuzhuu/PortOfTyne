{
 "cells": [
  {
   "cell_type": "code",
   "execution_count": 1,
   "id": "b854742d",
   "metadata": {},
   "outputs": [
    {
     "data": {
      "text/plain": [
       "'E:\\\\20190923 Newcastle-M.Res\\\\OneDrive - Newcastle University\\\\21_22_autumn\\\\211018\\\\code\\\\Data\\\\vesseldata\\\\0_Processed'"
      ]
     },
     "execution_count": 1,
     "metadata": {},
     "output_type": "execute_result"
    }
   ],
   "source": [
    "import os\n",
    "os.chdir(\"E:\\\\20190923 Newcastle-M.Res\\\\OneDrive - Newcastle University\\\\21_22_autumn\\\\211018\\\\code\\\\Data\\\\vesseldata\\\\0_Processed\")\n",
    "os.getcwd()"
   ]
  },
  {
   "cell_type": "code",
   "execution_count": 2,
   "id": "78d39245",
   "metadata": {},
   "outputs": [],
   "source": [
    "import pandas as pd\n",
    "import numpy as np\n",
    "from matplotlib import pyplot as plt"
   ]
  },
  {
   "cell_type": "markdown",
   "id": "b97f339c",
   "metadata": {},
   "source": [
    "## Load in local file"
   ]
  },
  {
   "cell_type": "code",
   "execution_count": 7,
   "id": "e3457eac",
   "metadata": {},
   "outputs": [],
   "source": [
    "d2019 = pd.read_json('LPL_2019.json')\n",
    "d2020 = pd.read_json('LPL_2020.json')"
   ]
  },
  {
   "cell_type": "code",
   "execution_count": 8,
   "id": "9a271f4d",
   "metadata": {},
   "outputs": [
    {
     "data": {
      "text/html": [
       "<div>\n",
       "<style scoped>\n",
       "    .dataframe tbody tr th:only-of-type {\n",
       "        vertical-align: middle;\n",
       "    }\n",
       "\n",
       "    .dataframe tbody tr th {\n",
       "        vertical-align: top;\n",
       "    }\n",
       "\n",
       "    .dataframe thead th {\n",
       "        text-align: right;\n",
       "    }\n",
       "</style>\n",
       "<table border=\"1\" class=\"dataframe\">\n",
       "  <thead>\n",
       "    <tr style=\"text-align: right;\">\n",
       "      <th></th>\n",
       "      <th>NAME</th>\n",
       "      <th>ARRIVING</th>\n",
       "      <th>LEAVING</th>\n",
       "      <th>SERVICE</th>\n",
       "      <th>SERVICEHOURS</th>\n",
       "    </tr>\n",
       "  </thead>\n",
       "  <tbody>\n",
       "    <tr>\n",
       "      <th>0</th>\n",
       "      <td>NORD PACIFIC</td>\n",
       "      <td>2019-01-04 13:24:00</td>\n",
       "      <td>2019-01-09 18:33:00</td>\n",
       "      <td>5 days 05:09:00</td>\n",
       "      <td>125.150000</td>\n",
       "    </tr>\n",
       "    <tr>\n",
       "      <th>1</th>\n",
       "      <td>EMMA BULKER</td>\n",
       "      <td>2019-01-11 05:26:00</td>\n",
       "      <td>2019-01-14 18:50:00</td>\n",
       "      <td>3 days 13:24:00</td>\n",
       "      <td>85.400000</td>\n",
       "    </tr>\n",
       "    <tr>\n",
       "      <th>2</th>\n",
       "      <td>NORD SAVANNAH</td>\n",
       "      <td>2019-02-11 04:27:00</td>\n",
       "      <td>2019-02-12 23:50:00</td>\n",
       "      <td>1 days 19:23:00</td>\n",
       "      <td>43.383333</td>\n",
       "    </tr>\n",
       "    <tr>\n",
       "      <th>3</th>\n",
       "      <td>YULIA</td>\n",
       "      <td>2019-02-14 20:37:00</td>\n",
       "      <td>2019-02-17 08:16:00</td>\n",
       "      <td>2 days 11:39:00</td>\n",
       "      <td>59.650000</td>\n",
       "    </tr>\n",
       "    <tr>\n",
       "      <th>4</th>\n",
       "      <td>SWAN RIVER</td>\n",
       "      <td>2019-02-28 11:29:00</td>\n",
       "      <td>2019-03-02 19:59:00</td>\n",
       "      <td>2 days 08:30:00</td>\n",
       "      <td>56.500000</td>\n",
       "    </tr>\n",
       "    <tr>\n",
       "      <th>...</th>\n",
       "      <td>...</td>\n",
       "      <td>...</td>\n",
       "      <td>...</td>\n",
       "      <td>...</td>\n",
       "      <td>...</td>\n",
       "    </tr>\n",
       "    <tr>\n",
       "      <th>61</th>\n",
       "      <td>GIANTS CAUSEWAY</td>\n",
       "      <td>2020-12-03 03:52:00</td>\n",
       "      <td>2020-12-12 05:04:00</td>\n",
       "      <td>9 days 01:12:00</td>\n",
       "      <td>217.200000</td>\n",
       "    </tr>\n",
       "    <tr>\n",
       "      <th>62</th>\n",
       "      <td>COE LAURA</td>\n",
       "      <td>2020-12-16 22:30:00</td>\n",
       "      <td>2020-12-20 00:42:00</td>\n",
       "      <td>3 days 02:12:00</td>\n",
       "      <td>74.200000</td>\n",
       "    </tr>\n",
       "    <tr>\n",
       "      <th>63</th>\n",
       "      <td>GREEN GEM</td>\n",
       "      <td>2020-12-20 08:40:00</td>\n",
       "      <td>2020-12-27 18:09:00</td>\n",
       "      <td>7 days 09:29:00</td>\n",
       "      <td>177.483333</td>\n",
       "    </tr>\n",
       "    <tr>\n",
       "      <th>64</th>\n",
       "      <td>LEGIONY POLSKIE</td>\n",
       "      <td>2020-12-28 12:13:00</td>\n",
       "      <td>2021-01-04 05:36:00</td>\n",
       "      <td>6 days 17:23:00</td>\n",
       "      <td>161.383333</td>\n",
       "    </tr>\n",
       "    <tr>\n",
       "      <th>65</th>\n",
       "      <td>IMAVERE</td>\n",
       "      <td>2021-01-09 05:11:00</td>\n",
       "      <td>NaT</td>\n",
       "      <td>NaT</td>\n",
       "      <td>NaN</td>\n",
       "    </tr>\n",
       "  </tbody>\n",
       "</table>\n",
       "<p>66 rows × 5 columns</p>\n",
       "</div>"
      ],
      "text/plain": [
       "               NAME             ARRIVING              LEAVING  \\\n",
       "0      NORD PACIFIC  2019-01-04 13:24:00  2019-01-09 18:33:00   \n",
       "1       EMMA BULKER  2019-01-11 05:26:00  2019-01-14 18:50:00   \n",
       "2     NORD SAVANNAH  2019-02-11 04:27:00  2019-02-12 23:50:00   \n",
       "3             YULIA  2019-02-14 20:37:00  2019-02-17 08:16:00   \n",
       "4        SWAN RIVER  2019-02-28 11:29:00  2019-03-02 19:59:00   \n",
       "..              ...                  ...                  ...   \n",
       "61  GIANTS CAUSEWAY  2020-12-03 03:52:00  2020-12-12 05:04:00   \n",
       "62        COE LAURA  2020-12-16 22:30:00  2020-12-20 00:42:00   \n",
       "63        GREEN GEM  2020-12-20 08:40:00  2020-12-27 18:09:00   \n",
       "64  LEGIONY POLSKIE  2020-12-28 12:13:00  2021-01-04 05:36:00   \n",
       "65          IMAVERE  2021-01-09 05:11:00                  NaT   \n",
       "\n",
       "            SERVICE  SERVICEHOURS  \n",
       "0   5 days 05:09:00    125.150000  \n",
       "1   3 days 13:24:00     85.400000  \n",
       "2   1 days 19:23:00     43.383333  \n",
       "3   2 days 11:39:00     59.650000  \n",
       "4   2 days 08:30:00     56.500000  \n",
       "..              ...           ...  \n",
       "61  9 days 01:12:00    217.200000  \n",
       "62  3 days 02:12:00     74.200000  \n",
       "63  7 days 09:29:00    177.483333  \n",
       "64  6 days 17:23:00    161.383333  \n",
       "65              NaT           NaN  \n",
       "\n",
       "[66 rows x 5 columns]"
      ]
     },
     "execution_count": 8,
     "metadata": {},
     "output_type": "execute_result"
    }
   ],
   "source": [
    "df = pd.concat([d2019,d2020], ignore_index=True)\n",
    "df"
   ]
  },
  {
   "cell_type": "code",
   "execution_count": 9,
   "id": "387b5cb9",
   "metadata": {},
   "outputs": [],
   "source": [
    "df['ARRIVING'] = pd.to_datetime(df['ARRIVING'], format = '%Y-%m-%d %H:%M:%S')\n",
    "df['LEAVING'] = pd.to_datetime(df['LEAVING'], format = '%Y-%m-%d %H:%M:%S')"
   ]
  },
  {
   "cell_type": "markdown",
   "id": "2dead05b",
   "metadata": {},
   "source": [
    "### Get Interval and interval hours"
   ]
  },
  {
   "cell_type": "code",
   "execution_count": 10,
   "id": "27bee271",
   "metadata": {},
   "outputs": [],
   "source": [
    "interval = list()\n",
    "for i in list(range(1, len(df['ARRIVING']))) : \n",
    "    interval.append(df['ARRIVING'][i]-df['ARRIVING'][i-1])"
   ]
  },
  {
   "cell_type": "code",
   "execution_count": 11,
   "id": "478a7c9a",
   "metadata": {},
   "outputs": [],
   "source": [
    "intHours = list()\n",
    "for i in interval:\n",
    "    intHours.append((i.total_seconds()/3600))"
   ]
  },
  {
   "cell_type": "code",
   "execution_count": 12,
   "id": "69c134ac",
   "metadata": {},
   "outputs": [],
   "source": [
    "interval.append('n/a')\n",
    "intHours.append('n/a')"
   ]
  },
  {
   "cell_type": "markdown",
   "id": "01cb89a5",
   "metadata": {},
   "source": [
    "#### add interval to dataframe"
   ]
  },
  {
   "cell_type": "code",
   "execution_count": 13,
   "id": "cb8783e7",
   "metadata": {},
   "outputs": [],
   "source": [
    "df['INTERVAL'] = interval\n",
    "df['INTERVALhours'] = intHours\n",
    "df=df.rename(columns = {'SERVICEHOURS':'SERVICEhours'})"
   ]
  },
  {
   "cell_type": "code",
   "execution_count": 14,
   "id": "ebf172b3",
   "metadata": {},
   "outputs": [],
   "source": [
    "df = df.drop([65])"
   ]
  },
  {
   "cell_type": "markdown",
   "id": "a496f318",
   "metadata": {},
   "source": [
    "### Add ship and Cargo parameter"
   ]
  },
  {
   "cell_type": "code",
   "execution_count": 15,
   "id": "aab5d74a",
   "metadata": {},
   "outputs": [],
   "source": [
    "ship = pd.read_csv('ShipPara.csv')"
   ]
  },
  {
   "cell_type": "code",
   "execution_count": 16,
   "id": "4615a488",
   "metadata": {},
   "outputs": [],
   "source": [
    "ship = ship.drop(columns=['NAME'])"
   ]
  },
  {
   "cell_type": "code",
   "execution_count": 17,
   "id": "57f183c8",
   "metadata": {},
   "outputs": [],
   "source": [
    "df = df.join(ship)"
   ]
  },
  {
   "cell_type": "code",
   "execution_count": 18,
   "id": "f31dc046",
   "metadata": {},
   "outputs": [
    {
     "data": {
      "text/html": [
       "<div>\n",
       "<style scoped>\n",
       "    .dataframe tbody tr th:only-of-type {\n",
       "        vertical-align: middle;\n",
       "    }\n",
       "\n",
       "    .dataframe tbody tr th {\n",
       "        vertical-align: top;\n",
       "    }\n",
       "\n",
       "    .dataframe thead th {\n",
       "        text-align: right;\n",
       "    }\n",
       "</style>\n",
       "<table border=\"1\" class=\"dataframe\">\n",
       "  <thead>\n",
       "    <tr style=\"text-align: right;\">\n",
       "      <th></th>\n",
       "      <th>NAME</th>\n",
       "      <th>ARRIVING</th>\n",
       "      <th>LEAVING</th>\n",
       "      <th>SERVICE</th>\n",
       "      <th>SERVICEhours</th>\n",
       "      <th>INTERVAL</th>\n",
       "      <th>INTERVALhours</th>\n",
       "      <th>GT</th>\n",
       "      <th>DWT</th>\n",
       "      <th>NetTonnage</th>\n",
       "      <th>GrainVolume</th>\n",
       "      <th>Shipload</th>\n",
       "    </tr>\n",
       "  </thead>\n",
       "  <tbody>\n",
       "    <tr>\n",
       "      <th>0</th>\n",
       "      <td>NORD PACIFIC</td>\n",
       "      <td>2019-01-04 13:24:00</td>\n",
       "      <td>2019-01-09 18:33:00</td>\n",
       "      <td>5 days 05:09:00</td>\n",
       "      <td>125.150000</td>\n",
       "      <td>6 days 16:02:00</td>\n",
       "      <td>160.033333</td>\n",
       "      <td>35035</td>\n",
       "      <td>61221</td>\n",
       "      <td>19844</td>\n",
       "      <td>77476</td>\n",
       "      <td>67725.25454</td>\n",
       "    </tr>\n",
       "    <tr>\n",
       "      <th>1</th>\n",
       "      <td>EMMA BULKER</td>\n",
       "      <td>2019-01-11 05:26:00</td>\n",
       "      <td>2019-01-14 18:50:00</td>\n",
       "      <td>3 days 13:24:00</td>\n",
       "      <td>85.400000</td>\n",
       "      <td>30 days 23:01:00</td>\n",
       "      <td>743.016667</td>\n",
       "      <td>19812</td>\n",
       "      <td>31887</td>\n",
       "      <td>10395</td>\n",
       "      <td>40454</td>\n",
       "      <td>35332.50233</td>\n",
       "    </tr>\n",
       "    <tr>\n",
       "      <th>2</th>\n",
       "      <td>NORD SAVANNAH</td>\n",
       "      <td>2019-02-11 04:27:00</td>\n",
       "      <td>2019-02-12 23:50:00</td>\n",
       "      <td>1 days 19:23:00</td>\n",
       "      <td>43.383333</td>\n",
       "      <td>3 days 16:10:00</td>\n",
       "      <td>88.166667</td>\n",
       "      <td>22866</td>\n",
       "      <td>37067</td>\n",
       "      <td>12519</td>\n",
       "      <td>45790</td>\n",
       "      <td>37966.24223</td>\n",
       "    </tr>\n",
       "    <tr>\n",
       "      <th>3</th>\n",
       "      <td>YULIA</td>\n",
       "      <td>2019-02-14 20:37:00</td>\n",
       "      <td>2019-02-17 08:16:00</td>\n",
       "      <td>2 days 11:39:00</td>\n",
       "      <td>59.650000</td>\n",
       "      <td>13 days 14:52:00</td>\n",
       "      <td>326.866667</td>\n",
       "      <td>19814</td>\n",
       "      <td>30878</td>\n",
       "      <td>10208</td>\n",
       "      <td>38635</td>\n",
       "      <td>32033.75777</td>\n",
       "    </tr>\n",
       "    <tr>\n",
       "      <th>4</th>\n",
       "      <td>SWAN RIVER</td>\n",
       "      <td>2019-02-28 11:29:00</td>\n",
       "      <td>2019-03-02 19:59:00</td>\n",
       "      <td>2 days 08:30:00</td>\n",
       "      <td>56.500000</td>\n",
       "      <td>5 days 06:39:00</td>\n",
       "      <td>126.65</td>\n",
       "      <td>31360</td>\n",
       "      <td>55947</td>\n",
       "      <td>18504</td>\n",
       "      <td>70811</td>\n",
       "      <td>52172.14050</td>\n",
       "    </tr>\n",
       "    <tr>\n",
       "      <th>...</th>\n",
       "      <td>...</td>\n",
       "      <td>...</td>\n",
       "      <td>...</td>\n",
       "      <td>...</td>\n",
       "      <td>...</td>\n",
       "      <td>...</td>\n",
       "      <td>...</td>\n",
       "      <td>...</td>\n",
       "      <td>...</td>\n",
       "      <td>...</td>\n",
       "      <td>...</td>\n",
       "      <td>...</td>\n",
       "    </tr>\n",
       "    <tr>\n",
       "      <th>60</th>\n",
       "      <td>KYPROS SPIRIT</td>\n",
       "      <td>2020-11-20 17:58:00</td>\n",
       "      <td>2020-11-29 13:28:00</td>\n",
       "      <td>8 days 19:30:00</td>\n",
       "      <td>211.500000</td>\n",
       "      <td>12 days 09:54:00</td>\n",
       "      <td>297.9</td>\n",
       "      <td>41759</td>\n",
       "      <td>77998</td>\n",
       "      <td>26050</td>\n",
       "      <td>90911</td>\n",
       "      <td>56577.28783</td>\n",
       "    </tr>\n",
       "    <tr>\n",
       "      <th>61</th>\n",
       "      <td>GIANTS CAUSEWAY</td>\n",
       "      <td>2020-12-03 03:52:00</td>\n",
       "      <td>2020-12-12 05:04:00</td>\n",
       "      <td>9 days 01:12:00</td>\n",
       "      <td>217.200000</td>\n",
       "      <td>13 days 18:38:00</td>\n",
       "      <td>330.633333</td>\n",
       "      <td>35872</td>\n",
       "      <td>63197</td>\n",
       "      <td>21223</td>\n",
       "      <td>77493</td>\n",
       "      <td>57780.49306</td>\n",
       "    </tr>\n",
       "    <tr>\n",
       "      <th>62</th>\n",
       "      <td>COE LAURA</td>\n",
       "      <td>2020-12-16 22:30:00</td>\n",
       "      <td>2020-12-20 00:42:00</td>\n",
       "      <td>3 days 02:12:00</td>\n",
       "      <td>74.200000</td>\n",
       "      <td>3 days 10:10:00</td>\n",
       "      <td>82.166667</td>\n",
       "      <td>7341</td>\n",
       "      <td>12523</td>\n",
       "      <td>4279</td>\n",
       "      <td>14950</td>\n",
       "      <td>11147.05033</td>\n",
       "    </tr>\n",
       "    <tr>\n",
       "      <th>63</th>\n",
       "      <td>GREEN GEM</td>\n",
       "      <td>2020-12-20 08:40:00</td>\n",
       "      <td>2020-12-27 18:09:00</td>\n",
       "      <td>7 days 09:29:00</td>\n",
       "      <td>177.483333</td>\n",
       "      <td>8 days 03:33:00</td>\n",
       "      <td>195.55</td>\n",
       "      <td>23885</td>\n",
       "      <td>38503</td>\n",
       "      <td>12685</td>\n",
       "      <td>48502</td>\n",
       "      <td>36164.16288</td>\n",
       "    </tr>\n",
       "    <tr>\n",
       "      <th>64</th>\n",
       "      <td>LEGIONY POLSKIE</td>\n",
       "      <td>2020-12-28 12:13:00</td>\n",
       "      <td>2021-01-04 05:36:00</td>\n",
       "      <td>6 days 17:23:00</td>\n",
       "      <td>161.383333</td>\n",
       "      <td>11 days 16:58:00</td>\n",
       "      <td>280.966667</td>\n",
       "      <td>25278</td>\n",
       "      <td>39072</td>\n",
       "      <td>12980</td>\n",
       "      <td>49500</td>\n",
       "      <td>36908.29373</td>\n",
       "    </tr>\n",
       "  </tbody>\n",
       "</table>\n",
       "<p>65 rows × 12 columns</p>\n",
       "</div>"
      ],
      "text/plain": [
       "               NAME            ARRIVING             LEAVING          SERVICE  \\\n",
       "0      NORD PACIFIC 2019-01-04 13:24:00 2019-01-09 18:33:00  5 days 05:09:00   \n",
       "1       EMMA BULKER 2019-01-11 05:26:00 2019-01-14 18:50:00  3 days 13:24:00   \n",
       "2     NORD SAVANNAH 2019-02-11 04:27:00 2019-02-12 23:50:00  1 days 19:23:00   \n",
       "3             YULIA 2019-02-14 20:37:00 2019-02-17 08:16:00  2 days 11:39:00   \n",
       "4        SWAN RIVER 2019-02-28 11:29:00 2019-03-02 19:59:00  2 days 08:30:00   \n",
       "..              ...                 ...                 ...              ...   \n",
       "60    KYPROS SPIRIT 2020-11-20 17:58:00 2020-11-29 13:28:00  8 days 19:30:00   \n",
       "61  GIANTS CAUSEWAY 2020-12-03 03:52:00 2020-12-12 05:04:00  9 days 01:12:00   \n",
       "62        COE LAURA 2020-12-16 22:30:00 2020-12-20 00:42:00  3 days 02:12:00   \n",
       "63        GREEN GEM 2020-12-20 08:40:00 2020-12-27 18:09:00  7 days 09:29:00   \n",
       "64  LEGIONY POLSKIE 2020-12-28 12:13:00 2021-01-04 05:36:00  6 days 17:23:00   \n",
       "\n",
       "    SERVICEhours          INTERVAL INTERVALhours     GT    DWT  NetTonnage  \\\n",
       "0     125.150000   6 days 16:02:00    160.033333  35035  61221       19844   \n",
       "1      85.400000  30 days 23:01:00    743.016667  19812  31887       10395   \n",
       "2      43.383333   3 days 16:10:00     88.166667  22866  37067       12519   \n",
       "3      59.650000  13 days 14:52:00    326.866667  19814  30878       10208   \n",
       "4      56.500000   5 days 06:39:00        126.65  31360  55947       18504   \n",
       "..           ...               ...           ...    ...    ...         ...   \n",
       "60    211.500000  12 days 09:54:00         297.9  41759  77998       26050   \n",
       "61    217.200000  13 days 18:38:00    330.633333  35872  63197       21223   \n",
       "62     74.200000   3 days 10:10:00     82.166667   7341  12523        4279   \n",
       "63    177.483333   8 days 03:33:00        195.55  23885  38503       12685   \n",
       "64    161.383333  11 days 16:58:00    280.966667  25278  39072       12980   \n",
       "\n",
       "    GrainVolume     Shipload  \n",
       "0         77476  67725.25454  \n",
       "1         40454  35332.50233  \n",
       "2         45790  37966.24223  \n",
       "3         38635  32033.75777  \n",
       "4         70811  52172.14050  \n",
       "..          ...          ...  \n",
       "60        90911  56577.28783  \n",
       "61        77493  57780.49306  \n",
       "62        14950  11147.05033  \n",
       "63        48502  36164.16288  \n",
       "64        49500  36908.29373  \n",
       "\n",
       "[65 rows x 12 columns]"
      ]
     },
     "execution_count": 18,
     "metadata": {},
     "output_type": "execute_result"
    }
   ],
   "source": [
    "df"
   ]
  },
  {
   "cell_type": "code",
   "execution_count": 21,
   "id": "52c13fa7",
   "metadata": {},
   "outputs": [],
   "source": [
    "df[['ARRIVING','LEAVING','SERVICE','INTERVAL']] = df[['ARRIVING','LEAVING','SERVICE','INTERVAL']].astype(str)"
   ]
  },
  {
   "cell_type": "code",
   "execution_count": 22,
   "id": "ab1b08fa",
   "metadata": {},
   "outputs": [],
   "source": [
    "df.to_json('LPL.json')"
   ]
  },
  {
   "cell_type": "markdown",
   "id": "2f339bf5",
   "metadata": {},
   "source": [
    "## Statistic testing and Modelling"
   ]
  },
  {
   "cell_type": "code",
   "execution_count": 3,
   "id": "a411f2aa",
   "metadata": {},
   "outputs": [],
   "source": [
    "import scipy.stats"
   ]
  },
  {
   "cell_type": "code",
   "execution_count": 4,
   "id": "8986e7a9",
   "metadata": {},
   "outputs": [],
   "source": [
    "import matplotlib.pyplot as plt"
   ]
  },
  {
   "cell_type": "code",
   "execution_count": 55,
   "id": "fae67f78",
   "metadata": {},
   "outputs": [],
   "source": [
    "df = pd.read_json('LPL.json')"
   ]
  },
  {
   "cell_type": "code",
   "execution_count": 56,
   "id": "75999a48",
   "metadata": {},
   "outputs": [
    {
     "data": {
      "text/html": [
       "<div>\n",
       "<style scoped>\n",
       "    .dataframe tbody tr th:only-of-type {\n",
       "        vertical-align: middle;\n",
       "    }\n",
       "\n",
       "    .dataframe tbody tr th {\n",
       "        vertical-align: top;\n",
       "    }\n",
       "\n",
       "    .dataframe thead th {\n",
       "        text-align: right;\n",
       "    }\n",
       "</style>\n",
       "<table border=\"1\" class=\"dataframe\">\n",
       "  <thead>\n",
       "    <tr style=\"text-align: right;\">\n",
       "      <th></th>\n",
       "      <th>NAME</th>\n",
       "      <th>ARRIVING</th>\n",
       "      <th>LEAVING</th>\n",
       "      <th>SERVICE</th>\n",
       "      <th>SERVICEhours</th>\n",
       "      <th>INTERVAL</th>\n",
       "      <th>INTERVALhours</th>\n",
       "      <th>GT</th>\n",
       "      <th>DWT</th>\n",
       "      <th>NetTonnage</th>\n",
       "      <th>GrainVolume</th>\n",
       "      <th>Shipload</th>\n",
       "    </tr>\n",
       "  </thead>\n",
       "  <tbody>\n",
       "    <tr>\n",
       "      <th>0</th>\n",
       "      <td>NORD PACIFIC</td>\n",
       "      <td>2019-01-04 13:24:00</td>\n",
       "      <td>2019-01-09 18:33:00</td>\n",
       "      <td>5 days 05:09:00</td>\n",
       "      <td>125.150000</td>\n",
       "      <td>6 days 16:02:00</td>\n",
       "      <td>160.033333</td>\n",
       "      <td>35035</td>\n",
       "      <td>61221</td>\n",
       "      <td>19844</td>\n",
       "      <td>77476</td>\n",
       "      <td>67725.25454</td>\n",
       "    </tr>\n",
       "    <tr>\n",
       "      <th>1</th>\n",
       "      <td>EMMA BULKER</td>\n",
       "      <td>2019-01-11 05:26:00</td>\n",
       "      <td>2019-01-14 18:50:00</td>\n",
       "      <td>3 days 13:24:00</td>\n",
       "      <td>85.400000</td>\n",
       "      <td>30 days 23:01:00</td>\n",
       "      <td>743.016667</td>\n",
       "      <td>19812</td>\n",
       "      <td>31887</td>\n",
       "      <td>10395</td>\n",
       "      <td>40454</td>\n",
       "      <td>35332.50233</td>\n",
       "    </tr>\n",
       "    <tr>\n",
       "      <th>2</th>\n",
       "      <td>NORD SAVANNAH</td>\n",
       "      <td>2019-02-11 04:27:00</td>\n",
       "      <td>2019-02-12 23:50:00</td>\n",
       "      <td>1 days 19:23:00</td>\n",
       "      <td>43.383333</td>\n",
       "      <td>3 days 16:10:00</td>\n",
       "      <td>88.166667</td>\n",
       "      <td>22866</td>\n",
       "      <td>37067</td>\n",
       "      <td>12519</td>\n",
       "      <td>45790</td>\n",
       "      <td>37966.24223</td>\n",
       "    </tr>\n",
       "    <tr>\n",
       "      <th>3</th>\n",
       "      <td>YULIA</td>\n",
       "      <td>2019-02-14 20:37:00</td>\n",
       "      <td>2019-02-17 08:16:00</td>\n",
       "      <td>2 days 11:39:00</td>\n",
       "      <td>59.650000</td>\n",
       "      <td>13 days 14:52:00</td>\n",
       "      <td>326.866667</td>\n",
       "      <td>19814</td>\n",
       "      <td>30878</td>\n",
       "      <td>10208</td>\n",
       "      <td>38635</td>\n",
       "      <td>32033.75777</td>\n",
       "    </tr>\n",
       "    <tr>\n",
       "      <th>4</th>\n",
       "      <td>SWAN RIVER</td>\n",
       "      <td>2019-02-28 11:29:00</td>\n",
       "      <td>2019-03-02 19:59:00</td>\n",
       "      <td>2 days 08:30:00</td>\n",
       "      <td>56.500000</td>\n",
       "      <td>5 days 06:39:00</td>\n",
       "      <td>126.650000</td>\n",
       "      <td>31360</td>\n",
       "      <td>55947</td>\n",
       "      <td>18504</td>\n",
       "      <td>70811</td>\n",
       "      <td>52172.14050</td>\n",
       "    </tr>\n",
       "  </tbody>\n",
       "</table>\n",
       "</div>"
      ],
      "text/plain": [
       "            NAME             ARRIVING              LEAVING          SERVICE  \\\n",
       "0   NORD PACIFIC  2019-01-04 13:24:00  2019-01-09 18:33:00  5 days 05:09:00   \n",
       "1    EMMA BULKER  2019-01-11 05:26:00  2019-01-14 18:50:00  3 days 13:24:00   \n",
       "2  NORD SAVANNAH  2019-02-11 04:27:00  2019-02-12 23:50:00  1 days 19:23:00   \n",
       "3          YULIA  2019-02-14 20:37:00  2019-02-17 08:16:00  2 days 11:39:00   \n",
       "4     SWAN RIVER  2019-02-28 11:29:00  2019-03-02 19:59:00  2 days 08:30:00   \n",
       "\n",
       "   SERVICEhours          INTERVAL  INTERVALhours     GT    DWT  NetTonnage  \\\n",
       "0    125.150000   6 days 16:02:00     160.033333  35035  61221       19844   \n",
       "1     85.400000  30 days 23:01:00     743.016667  19812  31887       10395   \n",
       "2     43.383333   3 days 16:10:00      88.166667  22866  37067       12519   \n",
       "3     59.650000  13 days 14:52:00     326.866667  19814  30878       10208   \n",
       "4     56.500000   5 days 06:39:00     126.650000  31360  55947       18504   \n",
       "\n",
       "   GrainVolume     Shipload  \n",
       "0        77476  67725.25454  \n",
       "1        40454  35332.50233  \n",
       "2        45790  37966.24223  \n",
       "3        38635  32033.75777  \n",
       "4        70811  52172.14050  "
      ]
     },
     "execution_count": 56,
     "metadata": {},
     "output_type": "execute_result"
    }
   ],
   "source": [
    "df.head()"
   ]
  },
  {
   "cell_type": "code",
   "execution_count": 57,
   "id": "700f4e8e",
   "metadata": {},
   "outputs": [],
   "source": [
    "df['ARRIVING'] = pd.to_datetime(df['ARRIVING'], format = '%Y-%m-%d %H:%M:%S')\n",
    "df['LEAVING'] = pd.to_datetime(df['LEAVING'], format = '%Y-%m-%d %H:%M:%S')"
   ]
  },
  {
   "cell_type": "code",
   "execution_count": 58,
   "id": "595db35c",
   "metadata": {},
   "outputs": [],
   "source": [
    "df[[\"SERVICEhours\", \"INTERVALhours\",'GT','DWT','NetTonnage','GrainVolume','Shipload']] = df[[\"SERVICEhours\", \"INTERVALhours\",'GT','DWT','NetTonnage','GrainVolume','Shipload']].apply(pd.to_numeric)"
   ]
  },
  {
   "cell_type": "markdown",
   "id": "f668e4d5",
   "metadata": {},
   "source": [
    "#### completing missing shipload data from regression"
   ]
  },
  {
   "cell_type": "code",
   "execution_count": 19,
   "id": "ac3ca0e1",
   "metadata": {},
   "outputs": [],
   "source": [
    "from sklearn import linear_model\n",
    "from sklearn.metrics import r2_score"
   ]
  },
  {
   "cell_type": "code",
   "execution_count": 59,
   "id": "add98a90",
   "metadata": {},
   "outputs": [],
   "source": [
    "df_load = df[df['Shipload'].notna()]"
   ]
  },
  {
   "cell_type": "code",
   "execution_count": 62,
   "id": "997b81e4",
   "metadata": {},
   "outputs": [
    {
     "data": {
      "text/plain": [
       "0.7326330469029878"
      ]
     },
     "execution_count": 62,
     "metadata": {},
     "output_type": "execute_result"
    }
   ],
   "source": [
    "X = df_load[['GT','DWT','NetTonnage','GrainVolume']]\n",
    "y = df_load['Shipload']\n",
    "regr_load = linear_model.LinearRegression()\n",
    "regr_load.fit(X, y)\n",
    "y_pre = regr_load.predict(X)\n",
    "r2_score(y,y_pre)"
   ]
  },
  {
   "cell_type": "code",
   "execution_count": 63,
   "id": "6c2cdc36",
   "metadata": {},
   "outputs": [
    {
     "name": "stderr",
     "output_type": "stream",
     "text": [
      "<ipython-input-63-d2d6d2e7872e>:4: SettingWithCopyWarning: \n",
      "A value is trying to be set on a copy of a slice from a DataFrame.\n",
      "Try using .loc[row_indexer,col_indexer] = value instead\n",
      "\n",
      "See the caveats in the documentation: https://pandas.pydata.org/pandas-docs/stable/user_guide/indexing.html#returning-a-view-versus-a-copy\n",
      "  df_noload['Shipload'] = y_pre_noload\n"
     ]
    }
   ],
   "source": [
    "df_noload = df.iloc[23:32] #get rows without shipload data\n",
    "X_noload = df_noload[['GT','DWT','NetTonnage','GrainVolume']]\n",
    "y_pre_noload = regr_load.predict(X_noload)\n",
    "df_noload['Shipload'] = y_pre_noload"
   ]
  },
  {
   "cell_type": "code",
   "execution_count": 65,
   "id": "cdf30fa4",
   "metadata": {},
   "outputs": [],
   "source": [
    "df_all = pd.concat([df_load,df_noload]).sort_index() #complete df by contat all rows"
   ]
  },
  {
   "cell_type": "code",
   "execution_count": 67,
   "id": "c94a542c",
   "metadata": {},
   "outputs": [],
   "source": [
    "df_all['HandlingRate'] = df_all['Shipload'] / df_all['SERVICEhours'] #adding the feature of HandlingRate"
   ]
  },
  {
   "cell_type": "code",
   "execution_count": 68,
   "id": "143018eb",
   "metadata": {
    "scrolled": true
   },
   "outputs": [
    {
     "data": {
      "text/html": [
       "<div>\n",
       "<style scoped>\n",
       "    .dataframe tbody tr th:only-of-type {\n",
       "        vertical-align: middle;\n",
       "    }\n",
       "\n",
       "    .dataframe tbody tr th {\n",
       "        vertical-align: top;\n",
       "    }\n",
       "\n",
       "    .dataframe thead th {\n",
       "        text-align: right;\n",
       "    }\n",
       "</style>\n",
       "<table border=\"1\" class=\"dataframe\">\n",
       "  <thead>\n",
       "    <tr style=\"text-align: right;\">\n",
       "      <th></th>\n",
       "      <th>NAME</th>\n",
       "      <th>ARRIVING</th>\n",
       "      <th>LEAVING</th>\n",
       "      <th>SERVICE</th>\n",
       "      <th>SERVICEhours</th>\n",
       "      <th>INTERVAL</th>\n",
       "      <th>INTERVALhours</th>\n",
       "      <th>GT</th>\n",
       "      <th>DWT</th>\n",
       "      <th>NetTonnage</th>\n",
       "      <th>GrainVolume</th>\n",
       "      <th>Shipload</th>\n",
       "      <th>HandlingRate</th>\n",
       "    </tr>\n",
       "  </thead>\n",
       "  <tbody>\n",
       "    <tr>\n",
       "      <th>0</th>\n",
       "      <td>NORD PACIFIC</td>\n",
       "      <td>2019-01-04 13:24:00</td>\n",
       "      <td>2019-01-09 18:33:00</td>\n",
       "      <td>5 days 05:09:00</td>\n",
       "      <td>125.150000</td>\n",
       "      <td>6 days 16:02:00</td>\n",
       "      <td>160.033333</td>\n",
       "      <td>35035</td>\n",
       "      <td>61221</td>\n",
       "      <td>19844</td>\n",
       "      <td>77476</td>\n",
       "      <td>67725.254540</td>\n",
       "      <td>541.152653</td>\n",
       "    </tr>\n",
       "    <tr>\n",
       "      <th>1</th>\n",
       "      <td>EMMA BULKER</td>\n",
       "      <td>2019-01-11 05:26:00</td>\n",
       "      <td>2019-01-14 18:50:00</td>\n",
       "      <td>3 days 13:24:00</td>\n",
       "      <td>85.400000</td>\n",
       "      <td>30 days 23:01:00</td>\n",
       "      <td>743.016667</td>\n",
       "      <td>19812</td>\n",
       "      <td>31887</td>\n",
       "      <td>10395</td>\n",
       "      <td>40454</td>\n",
       "      <td>35332.502330</td>\n",
       "      <td>413.729535</td>\n",
       "    </tr>\n",
       "    <tr>\n",
       "      <th>2</th>\n",
       "      <td>NORD SAVANNAH</td>\n",
       "      <td>2019-02-11 04:27:00</td>\n",
       "      <td>2019-02-12 23:50:00</td>\n",
       "      <td>1 days 19:23:00</td>\n",
       "      <td>43.383333</td>\n",
       "      <td>3 days 16:10:00</td>\n",
       "      <td>88.166667</td>\n",
       "      <td>22866</td>\n",
       "      <td>37067</td>\n",
       "      <td>12519</td>\n",
       "      <td>45790</td>\n",
       "      <td>37966.242230</td>\n",
       "      <td>875.134281</td>\n",
       "    </tr>\n",
       "    <tr>\n",
       "      <th>3</th>\n",
       "      <td>YULIA</td>\n",
       "      <td>2019-02-14 20:37:00</td>\n",
       "      <td>2019-02-17 08:16:00</td>\n",
       "      <td>2 days 11:39:00</td>\n",
       "      <td>59.650000</td>\n",
       "      <td>13 days 14:52:00</td>\n",
       "      <td>326.866667</td>\n",
       "      <td>19814</td>\n",
       "      <td>30878</td>\n",
       "      <td>10208</td>\n",
       "      <td>38635</td>\n",
       "      <td>32033.757770</td>\n",
       "      <td>537.028630</td>\n",
       "    </tr>\n",
       "    <tr>\n",
       "      <th>4</th>\n",
       "      <td>SWAN RIVER</td>\n",
       "      <td>2019-02-28 11:29:00</td>\n",
       "      <td>2019-03-02 19:59:00</td>\n",
       "      <td>2 days 08:30:00</td>\n",
       "      <td>56.500000</td>\n",
       "      <td>5 days 06:39:00</td>\n",
       "      <td>126.650000</td>\n",
       "      <td>31360</td>\n",
       "      <td>55947</td>\n",
       "      <td>18504</td>\n",
       "      <td>70811</td>\n",
       "      <td>52172.140500</td>\n",
       "      <td>923.400717</td>\n",
       "    </tr>\n",
       "    <tr>\n",
       "      <th>5</th>\n",
       "      <td>PU LAN HAI</td>\n",
       "      <td>2019-03-05 18:08:00</td>\n",
       "      <td>2019-03-14 02:15:00</td>\n",
       "      <td>8 days 08:07:00</td>\n",
       "      <td>200.116667</td>\n",
       "      <td>13 days 16:18:00</td>\n",
       "      <td>328.300000</td>\n",
       "      <td>33044</td>\n",
       "      <td>56897</td>\n",
       "      <td>19231</td>\n",
       "      <td>71634</td>\n",
       "      <td>52778.510580</td>\n",
       "      <td>263.738705</td>\n",
       "    </tr>\n",
       "    <tr>\n",
       "      <th>6</th>\n",
       "      <td>VENTURE LUCK</td>\n",
       "      <td>2019-03-19 10:26:00</td>\n",
       "      <td>2019-03-22 20:11:00</td>\n",
       "      <td>3 days 09:45:00</td>\n",
       "      <td>81.750000</td>\n",
       "      <td>30 days 03:26:00</td>\n",
       "      <td>723.433333</td>\n",
       "      <td>26411</td>\n",
       "      <td>43413</td>\n",
       "      <td>13855</td>\n",
       "      <td>53000</td>\n",
       "      <td>39049.348920</td>\n",
       "      <td>477.667877</td>\n",
       "    </tr>\n",
       "    <tr>\n",
       "      <th>7</th>\n",
       "      <td>GOODWYN ISLAND</td>\n",
       "      <td>2019-04-18 13:52:00</td>\n",
       "      <td>2019-04-22 17:45:00</td>\n",
       "      <td>4 days 03:53:00</td>\n",
       "      <td>99.883333</td>\n",
       "      <td>5 days 03:34:00</td>\n",
       "      <td>123.566667</td>\n",
       "      <td>35684</td>\n",
       "      <td>63963</td>\n",
       "      <td>21466</td>\n",
       "      <td>79014</td>\n",
       "      <td>63022.445170</td>\n",
       "      <td>630.960572</td>\n",
       "    </tr>\n",
       "    <tr>\n",
       "      <th>8</th>\n",
       "      <td>SANTA KATARINA</td>\n",
       "      <td>2019-04-23 17:26:00</td>\n",
       "      <td>2019-04-30 22:21:00</td>\n",
       "      <td>7 days 04:55:00</td>\n",
       "      <td>172.916667</td>\n",
       "      <td>16 days 12:15:00</td>\n",
       "      <td>396.250000</td>\n",
       "      <td>32287</td>\n",
       "      <td>58096</td>\n",
       "      <td>19458</td>\n",
       "      <td>72689</td>\n",
       "      <td>57977.554830</td>\n",
       "      <td>335.291883</td>\n",
       "    </tr>\n",
       "    <tr>\n",
       "      <th>9</th>\n",
       "      <td>NORD BOSPORUS</td>\n",
       "      <td>2019-05-10 05:41:00</td>\n",
       "      <td>2019-05-14 11:48:00</td>\n",
       "      <td>4 days 06:07:00</td>\n",
       "      <td>102.116667</td>\n",
       "      <td>4 days 06:44:00</td>\n",
       "      <td>102.733333</td>\n",
       "      <td>34589</td>\n",
       "      <td>60457</td>\n",
       "      <td>19663</td>\n",
       "      <td>76121</td>\n",
       "      <td>65662.286470</td>\n",
       "      <td>643.012435</td>\n",
       "    </tr>\n",
       "    <tr>\n",
       "      <th>10</th>\n",
       "      <td>IMAVERE</td>\n",
       "      <td>2019-05-14 12:25:00</td>\n",
       "      <td>2019-05-22 15:36:00</td>\n",
       "      <td>8 days 03:11:00</td>\n",
       "      <td>195.183333</td>\n",
       "      <td>18 days 13:28:00</td>\n",
       "      <td>445.466667</td>\n",
       "      <td>22746</td>\n",
       "      <td>36746</td>\n",
       "      <td>12344</td>\n",
       "      <td>47922</td>\n",
       "      <td>41337.713530</td>\n",
       "      <td>211.789157</td>\n",
       "    </tr>\n",
       "    <tr>\n",
       "      <th>11</th>\n",
       "      <td>CLIPPER SELO</td>\n",
       "      <td>2019-06-02 01:53:00</td>\n",
       "      <td>2019-06-05 18:37:00</td>\n",
       "      <td>3 days 16:44:00</td>\n",
       "      <td>88.733333</td>\n",
       "      <td>6 days 02:56:00</td>\n",
       "      <td>146.933333</td>\n",
       "      <td>20924</td>\n",
       "      <td>32389</td>\n",
       "      <td>11786</td>\n",
       "      <td>42565</td>\n",
       "      <td>37909.039210</td>\n",
       "      <td>427.224334</td>\n",
       "    </tr>\n",
       "    <tr>\n",
       "      <th>12</th>\n",
       "      <td>IMAVERE</td>\n",
       "      <td>2019-06-08 04:49:00</td>\n",
       "      <td>2019-06-14 23:06:00</td>\n",
       "      <td>6 days 18:17:00</td>\n",
       "      <td>162.283333</td>\n",
       "      <td>12 days 16:13:00</td>\n",
       "      <td>304.216667</td>\n",
       "      <td>22746</td>\n",
       "      <td>36746</td>\n",
       "      <td>12344</td>\n",
       "      <td>47922</td>\n",
       "      <td>42680.065240</td>\n",
       "      <td>262.997218</td>\n",
       "    </tr>\n",
       "    <tr>\n",
       "      <th>13</th>\n",
       "      <td>OLGA</td>\n",
       "      <td>2019-06-20 21:02:00</td>\n",
       "      <td>2019-06-22 20:41:00</td>\n",
       "      <td>1 days 23:39:00</td>\n",
       "      <td>47.650000</td>\n",
       "      <td>3 days 09:51:00</td>\n",
       "      <td>81.850000</td>\n",
       "      <td>11121</td>\n",
       "      <td>18319</td>\n",
       "      <td>6859</td>\n",
       "      <td>23212</td>\n",
       "      <td>20672.961780</td>\n",
       "      <td>433.850195</td>\n",
       "    </tr>\n",
       "    <tr>\n",
       "      <th>14</th>\n",
       "      <td>CHILOE ISLAND</td>\n",
       "      <td>2019-06-24 06:53:00</td>\n",
       "      <td>2019-07-02 16:55:00</td>\n",
       "      <td>8 days 10:02:00</td>\n",
       "      <td>202.033333</td>\n",
       "      <td>13 days 12:03:00</td>\n",
       "      <td>324.050000</td>\n",
       "      <td>32377</td>\n",
       "      <td>58044</td>\n",
       "      <td>19458</td>\n",
       "      <td>72689</td>\n",
       "      <td>64737.933770</td>\n",
       "      <td>320.431944</td>\n",
       "    </tr>\n",
       "    <tr>\n",
       "      <th>15</th>\n",
       "      <td>SPAR PAVO</td>\n",
       "      <td>2019-07-07 18:56:00</td>\n",
       "      <td>2019-07-16 13:31:00</td>\n",
       "      <td>8 days 18:35:00</td>\n",
       "      <td>210.583333</td>\n",
       "      <td>14 days 10:39:00</td>\n",
       "      <td>346.650000</td>\n",
       "      <td>36313</td>\n",
       "      <td>63800</td>\n",
       "      <td>21585</td>\n",
       "      <td>78500</td>\n",
       "      <td>50526.993320</td>\n",
       "      <td>239.938235</td>\n",
       "    </tr>\n",
       "    <tr>\n",
       "      <th>16</th>\n",
       "      <td>IKAN LEBAN</td>\n",
       "      <td>2019-07-22 05:35:00</td>\n",
       "      <td>2019-07-26 14:19:00</td>\n",
       "      <td>4 days 08:44:00</td>\n",
       "      <td>104.733333</td>\n",
       "      <td>15 days 13:40:00</td>\n",
       "      <td>373.666667</td>\n",
       "      <td>22852</td>\n",
       "      <td>37000</td>\n",
       "      <td>12602</td>\n",
       "      <td>45790</td>\n",
       "      <td>29473.006680</td>\n",
       "      <td>281.409994</td>\n",
       "    </tr>\n",
       "    <tr>\n",
       "      <th>17</th>\n",
       "      <td>AEGEAN SPIRE</td>\n",
       "      <td>2019-08-06 19:15:00</td>\n",
       "      <td>2019-08-11 03:24:00</td>\n",
       "      <td>4 days 08:09:00</td>\n",
       "      <td>104.150000</td>\n",
       "      <td>11 days 08:31:00</td>\n",
       "      <td>272.516667</td>\n",
       "      <td>21211</td>\n",
       "      <td>33401</td>\n",
       "      <td>11444</td>\n",
       "      <td>44636</td>\n",
       "      <td>37026.057680</td>\n",
       "      <td>355.507035</td>\n",
       "    </tr>\n",
       "    <tr>\n",
       "      <th>18</th>\n",
       "      <td>TCZEW</td>\n",
       "      <td>2019-08-18 03:46:00</td>\n",
       "      <td>2019-08-21 17:28:00</td>\n",
       "      <td>3 days 13:42:00</td>\n",
       "      <td>85.700000</td>\n",
       "      <td>4 days 18:05:00</td>\n",
       "      <td>114.083333</td>\n",
       "      <td>25278</td>\n",
       "      <td>39072</td>\n",
       "      <td>13200</td>\n",
       "      <td>50491</td>\n",
       "      <td>41883.231490</td>\n",
       "      <td>488.719154</td>\n",
       "    </tr>\n",
       "    <tr>\n",
       "      <th>19</th>\n",
       "      <td>IJSSEL CONFIDENCE</td>\n",
       "      <td>2019-08-22 21:51:00</td>\n",
       "      <td>2019-08-27 01:06:00</td>\n",
       "      <td>4 days 03:15:00</td>\n",
       "      <td>99.250000</td>\n",
       "      <td>9 days 05:37:00</td>\n",
       "      <td>221.616667</td>\n",
       "      <td>23264</td>\n",
       "      <td>38243</td>\n",
       "      <td>12134</td>\n",
       "      <td>47125</td>\n",
       "      <td>39090.710820</td>\n",
       "      <td>393.861066</td>\n",
       "    </tr>\n",
       "    <tr>\n",
       "      <th>20</th>\n",
       "      <td>IMAVERE</td>\n",
       "      <td>2019-09-01 03:28:00</td>\n",
       "      <td>2019-09-06 23:57:00</td>\n",
       "      <td>5 days 20:29:00</td>\n",
       "      <td>140.483333</td>\n",
       "      <td>17 days 18:30:00</td>\n",
       "      <td>426.500000</td>\n",
       "      <td>22746</td>\n",
       "      <td>36746</td>\n",
       "      <td>12344</td>\n",
       "      <td>47922</td>\n",
       "      <td>30451.586480</td>\n",
       "      <td>216.762984</td>\n",
       "    </tr>\n",
       "    <tr>\n",
       "      <th>21</th>\n",
       "      <td>IKAN LEBAN</td>\n",
       "      <td>2019-09-18 21:58:00</td>\n",
       "      <td>2019-09-27 00:12:00</td>\n",
       "      <td>8 days 02:14:00</td>\n",
       "      <td>194.233333</td>\n",
       "      <td>10 days 04:28:00</td>\n",
       "      <td>244.466667</td>\n",
       "      <td>22852</td>\n",
       "      <td>37000</td>\n",
       "      <td>12602</td>\n",
       "      <td>45790</td>\n",
       "      <td>29096.827030</td>\n",
       "      <td>149.803468</td>\n",
       "    </tr>\n",
       "    <tr>\n",
       "      <th>22</th>\n",
       "      <td>IMAVERE</td>\n",
       "      <td>2019-09-29 02:26:00</td>\n",
       "      <td>2019-10-04 23:32:00</td>\n",
       "      <td>5 days 21:06:00</td>\n",
       "      <td>141.100000</td>\n",
       "      <td>8 days 13:49:00</td>\n",
       "      <td>205.816667</td>\n",
       "      <td>22746</td>\n",
       "      <td>36746</td>\n",
       "      <td>12344</td>\n",
       "      <td>47922</td>\n",
       "      <td>30451.586480</td>\n",
       "      <td>215.815638</td>\n",
       "    </tr>\n",
       "    <tr>\n",
       "      <th>23</th>\n",
       "      <td>TAMPA BAY</td>\n",
       "      <td>2019-10-07 16:15:00</td>\n",
       "      <td>2019-10-13 23:56:00</td>\n",
       "      <td>6 days 07:41:00</td>\n",
       "      <td>151.683333</td>\n",
       "      <td>11 days 13:14:00</td>\n",
       "      <td>277.233333</td>\n",
       "      <td>17979</td>\n",
       "      <td>29671</td>\n",
       "      <td>10748</td>\n",
       "      <td>40031</td>\n",
       "      <td>29282.094357</td>\n",
       "      <td>193.047540</td>\n",
       "    </tr>\n",
       "    <tr>\n",
       "      <th>24</th>\n",
       "      <td>AGGELOS B</td>\n",
       "      <td>2019-10-19 05:29:00</td>\n",
       "      <td>2019-10-25 14:30:00</td>\n",
       "      <td>6 days 09:01:00</td>\n",
       "      <td>153.016667</td>\n",
       "      <td>10 days 22:09:00</td>\n",
       "      <td>262.150000</td>\n",
       "      <td>34374</td>\n",
       "      <td>58480</td>\n",
       "      <td>19571</td>\n",
       "      <td>75531</td>\n",
       "      <td>58019.275347</td>\n",
       "      <td>379.169646</td>\n",
       "    </tr>\n",
       "    <tr>\n",
       "      <th>25</th>\n",
       "      <td>IMAVERE</td>\n",
       "      <td>2019-10-30 03:38:00</td>\n",
       "      <td>2019-11-04 08:38:00</td>\n",
       "      <td>5 days 05:00:00</td>\n",
       "      <td>125.000000</td>\n",
       "      <td>10 days 09:23:00</td>\n",
       "      <td>249.383333</td>\n",
       "      <td>22746</td>\n",
       "      <td>36746</td>\n",
       "      <td>12344</td>\n",
       "      <td>47922</td>\n",
       "      <td>37682.743228</td>\n",
       "      <td>301.461946</td>\n",
       "    </tr>\n",
       "    <tr>\n",
       "      <th>26</th>\n",
       "      <td>BULK VENUS</td>\n",
       "      <td>2019-11-09 13:01:00</td>\n",
       "      <td>2019-11-20 11:24:00</td>\n",
       "      <td>10 days 22:23:00</td>\n",
       "      <td>262.383333</td>\n",
       "      <td>14 days 11:00:00</td>\n",
       "      <td>347.000000</td>\n",
       "      <td>35832</td>\n",
       "      <td>63371</td>\n",
       "      <td>20839</td>\n",
       "      <td>80497</td>\n",
       "      <td>61986.073954</td>\n",
       "      <td>236.242421</td>\n",
       "    </tr>\n",
       "    <tr>\n",
       "      <th>27</th>\n",
       "      <td>WU GUI SHAN</td>\n",
       "      <td>2019-11-24 00:01:00</td>\n",
       "      <td>2019-12-02 11:45:00</td>\n",
       "      <td>8 days 11:44:00</td>\n",
       "      <td>203.733333</td>\n",
       "      <td>8 days 12:33:00</td>\n",
       "      <td>204.550000</td>\n",
       "      <td>36415</td>\n",
       "      <td>63590</td>\n",
       "      <td>19142</td>\n",
       "      <td>71634</td>\n",
       "      <td>57091.945150</td>\n",
       "      <td>280.228788</td>\n",
       "    </tr>\n",
       "    <tr>\n",
       "      <th>28</th>\n",
       "      <td>IMAVERE</td>\n",
       "      <td>2019-12-02 12:34:00</td>\n",
       "      <td>2019-12-06 00:48:00</td>\n",
       "      <td>3 days 12:14:00</td>\n",
       "      <td>84.233333</td>\n",
       "      <td>8 days 12:47:00</td>\n",
       "      <td>204.783333</td>\n",
       "      <td>22746</td>\n",
       "      <td>36746</td>\n",
       "      <td>12344</td>\n",
       "      <td>47922</td>\n",
       "      <td>37682.743228</td>\n",
       "      <td>447.361415</td>\n",
       "    </tr>\n",
       "    <tr>\n",
       "      <th>29</th>\n",
       "      <td>ISADORA</td>\n",
       "      <td>2019-12-11 01:21:00</td>\n",
       "      <td>2019-12-14 16:32:00</td>\n",
       "      <td>3 days 15:11:00</td>\n",
       "      <td>87.183333</td>\n",
       "      <td>4 days 14:53:00</td>\n",
       "      <td>110.883333</td>\n",
       "      <td>21387</td>\n",
       "      <td>34948</td>\n",
       "      <td>11629</td>\n",
       "      <td>45632</td>\n",
       "      <td>36327.688700</td>\n",
       "      <td>416.681576</td>\n",
       "    </tr>\n",
       "    <tr>\n",
       "      <th>30</th>\n",
       "      <td>VALKYRIE</td>\n",
       "      <td>2019-12-15 16:14:00</td>\n",
       "      <td>2019-12-22 04:48:00</td>\n",
       "      <td>6 days 12:34:00</td>\n",
       "      <td>156.566667</td>\n",
       "      <td>7 days 20:03:00</td>\n",
       "      <td>188.050000</td>\n",
       "      <td>34618</td>\n",
       "      <td>61230</td>\n",
       "      <td>20170</td>\n",
       "      <td>77539</td>\n",
       "      <td>59479.756191</td>\n",
       "      <td>379.900508</td>\n",
       "    </tr>\n",
       "    <tr>\n",
       "      <th>31</th>\n",
       "      <td>STAR EOS</td>\n",
       "      <td>2019-12-23 12:17:00</td>\n",
       "      <td>2019-12-31 00:30:00</td>\n",
       "      <td>7 days 12:13:00</td>\n",
       "      <td>180.216667</td>\n",
       "      <td>9 days 18:08:00</td>\n",
       "      <td>234.133333</td>\n",
       "      <td>35873</td>\n",
       "      <td>63500</td>\n",
       "      <td>21216</td>\n",
       "      <td>81153</td>\n",
       "      <td>61453.089535</td>\n",
       "      <td>340.995595</td>\n",
       "    </tr>\n",
       "    <tr>\n",
       "      <th>32</th>\n",
       "      <td>IMAVERE</td>\n",
       "      <td>2020-01-02 06:25:00</td>\n",
       "      <td>2020-01-09 09:14:00</td>\n",
       "      <td>7 days 02:49:00</td>\n",
       "      <td>170.816667</td>\n",
       "      <td>16 days 03:18:00</td>\n",
       "      <td>387.300000</td>\n",
       "      <td>22746</td>\n",
       "      <td>36746</td>\n",
       "      <td>12344</td>\n",
       "      <td>47922</td>\n",
       "      <td>29891.597910</td>\n",
       "      <td>174.992280</td>\n",
       "    </tr>\n",
       "    <tr>\n",
       "      <th>33</th>\n",
       "      <td>TAIZHOU PIONEER</td>\n",
       "      <td>2020-01-18 09:43:00</td>\n",
       "      <td>2020-01-21 08:06:00</td>\n",
       "      <td>2 days 22:23:00</td>\n",
       "      <td>70.383333</td>\n",
       "      <td>16 days 12:03:00</td>\n",
       "      <td>396.050000</td>\n",
       "      <td>20954</td>\n",
       "      <td>32391</td>\n",
       "      <td>11781</td>\n",
       "      <td>43460</td>\n",
       "      <td>27108.402090</td>\n",
       "      <td>385.153712</td>\n",
       "    </tr>\n",
       "    <tr>\n",
       "      <th>34</th>\n",
       "      <td>ARETI.GR</td>\n",
       "      <td>2020-02-03 21:46:00</td>\n",
       "      <td>2020-02-10 12:25:00</td>\n",
       "      <td>6 days 14:39:00</td>\n",
       "      <td>158.650000</td>\n",
       "      <td>9 days 07:48:00</td>\n",
       "      <td>223.800000</td>\n",
       "      <td>34187</td>\n",
       "      <td>60243</td>\n",
       "      <td>19944</td>\n",
       "      <td>76288</td>\n",
       "      <td>46493.758660</td>\n",
       "      <td>293.058674</td>\n",
       "    </tr>\n",
       "    <tr>\n",
       "      <th>35</th>\n",
       "      <td>CIELO DI VALPARAISO</td>\n",
       "      <td>2020-02-13 05:34:00</td>\n",
       "      <td>2020-02-20 18:14:00</td>\n",
       "      <td>7 days 12:40:00</td>\n",
       "      <td>180.666667</td>\n",
       "      <td>14 days 11:22:00</td>\n",
       "      <td>347.366667</td>\n",
       "      <td>25303</td>\n",
       "      <td>39202</td>\n",
       "      <td>13035</td>\n",
       "      <td>49500</td>\n",
       "      <td>30167.793310</td>\n",
       "      <td>166.980406</td>\n",
       "    </tr>\n",
       "    <tr>\n",
       "      <th>36</th>\n",
       "      <td>PRT ACE</td>\n",
       "      <td>2020-02-27 16:56:00</td>\n",
       "      <td>2020-03-05 00:04:00</td>\n",
       "      <td>6 days 07:08:00</td>\n",
       "      <td>151.133333</td>\n",
       "      <td>21 days 07:32:00</td>\n",
       "      <td>511.533333</td>\n",
       "      <td>34815</td>\n",
       "      <td>61290</td>\n",
       "      <td>20209</td>\n",
       "      <td>77674</td>\n",
       "      <td>47338.448030</td>\n",
       "      <td>313.223079</td>\n",
       "    </tr>\n",
       "    <tr>\n",
       "      <th>37</th>\n",
       "      <td>IDEE FIXE</td>\n",
       "      <td>2020-03-20 00:28:00</td>\n",
       "      <td>2020-03-25 17:01:00</td>\n",
       "      <td>5 days 16:33:00</td>\n",
       "      <td>136.550000</td>\n",
       "      <td>8 days 03:43:00</td>\n",
       "      <td>195.716667</td>\n",
       "      <td>36295</td>\n",
       "      <td>63458</td>\n",
       "      <td>21588</td>\n",
       "      <td>78500</td>\n",
       "      <td>66234.375000</td>\n",
       "      <td>485.055840</td>\n",
       "    </tr>\n",
       "    <tr>\n",
       "      <th>38</th>\n",
       "      <td>LEGIONY POLSKIE</td>\n",
       "      <td>2020-03-28 04:11:00</td>\n",
       "      <td>2020-04-01 18:40:00</td>\n",
       "      <td>4 days 14:29:00</td>\n",
       "      <td>110.483333</td>\n",
       "      <td>11 days 22:44:00</td>\n",
       "      <td>286.733333</td>\n",
       "      <td>25278</td>\n",
       "      <td>39072</td>\n",
       "      <td>12980</td>\n",
       "      <td>49500</td>\n",
       "      <td>41765.625000</td>\n",
       "      <td>378.026475</td>\n",
       "    </tr>\n",
       "    <tr>\n",
       "      <th>39</th>\n",
       "      <td>IMAVERE</td>\n",
       "      <td>2020-04-09 02:55:00</td>\n",
       "      <td>2020-04-12 10:10:00</td>\n",
       "      <td>3 days 07:15:00</td>\n",
       "      <td>79.250000</td>\n",
       "      <td>3 days 14:47:00</td>\n",
       "      <td>86.783333</td>\n",
       "      <td>22746</td>\n",
       "      <td>36746</td>\n",
       "      <td>12344</td>\n",
       "      <td>47922</td>\n",
       "      <td>32349.155200</td>\n",
       "      <td>408.191233</td>\n",
       "    </tr>\n",
       "    <tr>\n",
       "      <th>40</th>\n",
       "      <td>AMIS POWER</td>\n",
       "      <td>2020-04-12 17:42:00</td>\n",
       "      <td>2020-04-16 11:34:00</td>\n",
       "      <td>3 days 17:52:00</td>\n",
       "      <td>89.866667</td>\n",
       "      <td>6 days 18:57:00</td>\n",
       "      <td>162.950000</td>\n",
       "      <td>35607</td>\n",
       "      <td>64012</td>\n",
       "      <td>21466</td>\n",
       "      <td>79014</td>\n",
       "      <td>34288.345550</td>\n",
       "      <td>381.546872</td>\n",
       "    </tr>\n",
       "    <tr>\n",
       "      <th>41</th>\n",
       "      <td>NORD TREASURE</td>\n",
       "      <td>2020-04-19 12:39:00</td>\n",
       "      <td>2020-04-26 00:47:00</td>\n",
       "      <td>6 days 12:08:00</td>\n",
       "      <td>156.133333</td>\n",
       "      <td>9 days 16:40:00</td>\n",
       "      <td>232.666667</td>\n",
       "      <td>31882</td>\n",
       "      <td>55888</td>\n",
       "      <td>18495</td>\n",
       "      <td>71039</td>\n",
       "      <td>47954.001000</td>\n",
       "      <td>307.134934</td>\n",
       "    </tr>\n",
       "    <tr>\n",
       "      <th>42</th>\n",
       "      <td>NORDMOSEL</td>\n",
       "      <td>2020-04-29 05:19:00</td>\n",
       "      <td>2020-05-03 10:59:00</td>\n",
       "      <td>4 days 05:40:00</td>\n",
       "      <td>101.666667</td>\n",
       "      <td>7 days 08:18:00</td>\n",
       "      <td>176.300000</td>\n",
       "      <td>25546</td>\n",
       "      <td>39968</td>\n",
       "      <td>13670</td>\n",
       "      <td>50900</td>\n",
       "      <td>34359.417380</td>\n",
       "      <td>337.961482</td>\n",
       "    </tr>\n",
       "    <tr>\n",
       "      <th>43</th>\n",
       "      <td>ALORA</td>\n",
       "      <td>2020-05-06 13:37:00</td>\n",
       "      <td>2020-05-12 03:18:00</td>\n",
       "      <td>5 days 13:41:00</td>\n",
       "      <td>133.683333</td>\n",
       "      <td>11 days 02:50:00</td>\n",
       "      <td>266.833333</td>\n",
       "      <td>35884</td>\n",
       "      <td>63500</td>\n",
       "      <td>21200</td>\n",
       "      <td>77493</td>\n",
       "      <td>59956.969900</td>\n",
       "      <td>448.499962</td>\n",
       "    </tr>\n",
       "    <tr>\n",
       "      <th>44</th>\n",
       "      <td>CANADIAN BULKER</td>\n",
       "      <td>2020-05-17 16:27:00</td>\n",
       "      <td>2020-05-21 18:06:00</td>\n",
       "      <td>4 days 01:39:00</td>\n",
       "      <td>97.650000</td>\n",
       "      <td>5 days 15:13:00</td>\n",
       "      <td>135.216667</td>\n",
       "      <td>25189</td>\n",
       "      <td>39300</td>\n",
       "      <td>12869</td>\n",
       "      <td>49225</td>\n",
       "      <td>38086.060210</td>\n",
       "      <td>390.026218</td>\n",
       "    </tr>\n",
       "    <tr>\n",
       "      <th>45</th>\n",
       "      <td>CAPE CROSS</td>\n",
       "      <td>2020-05-23 07:40:00</td>\n",
       "      <td>2020-06-02 01:16:00</td>\n",
       "      <td>9 days 17:36:00</td>\n",
       "      <td>233.600000</td>\n",
       "      <td>12 days 18:15:00</td>\n",
       "      <td>306.250000</td>\n",
       "      <td>35872</td>\n",
       "      <td>63155</td>\n",
       "      <td>21223</td>\n",
       "      <td>77493</td>\n",
       "      <td>59956.969900</td>\n",
       "      <td>256.665111</td>\n",
       "    </tr>\n",
       "    <tr>\n",
       "      <th>46</th>\n",
       "      <td>BUNUN KALON</td>\n",
       "      <td>2020-06-05 01:55:00</td>\n",
       "      <td>2020-06-09 14:39:00</td>\n",
       "      <td>4 days 12:44:00</td>\n",
       "      <td>108.733333</td>\n",
       "      <td>16 days 08:03:00</td>\n",
       "      <td>392.050000</td>\n",
       "      <td>23239</td>\n",
       "      <td>37653</td>\n",
       "      <td>12101</td>\n",
       "      <td>46994</td>\n",
       "      <td>46645.911160</td>\n",
       "      <td>428.993665</td>\n",
       "    </tr>\n",
       "    <tr>\n",
       "      <th>47</th>\n",
       "      <td>SMEW</td>\n",
       "      <td>2020-06-21 09:58:00</td>\n",
       "      <td>2020-06-24 22:05:00</td>\n",
       "      <td>3 days 12:07:00</td>\n",
       "      <td>84.116667</td>\n",
       "      <td>12 days 03:16:00</td>\n",
       "      <td>291.266667</td>\n",
       "      <td>23433</td>\n",
       "      <td>35998</td>\n",
       "      <td>11912</td>\n",
       "      <td>46700</td>\n",
       "      <td>46354.088840</td>\n",
       "      <td>551.069017</td>\n",
       "    </tr>\n",
       "    <tr>\n",
       "      <th>48</th>\n",
       "      <td>MEDI ATLANTICO</td>\n",
       "      <td>2020-07-03 13:14:00</td>\n",
       "      <td>2020-07-10 14:06:00</td>\n",
       "      <td>7 days 00:52:00</td>\n",
       "      <td>168.866667</td>\n",
       "      <td>7 days 01:28:00</td>\n",
       "      <td>169.466667</td>\n",
       "      <td>34049</td>\n",
       "      <td>60550</td>\n",
       "      <td>19883</td>\n",
       "      <td>76518</td>\n",
       "      <td>60497.555820</td>\n",
       "      <td>358.256351</td>\n",
       "    </tr>\n",
       "    <tr>\n",
       "      <th>49</th>\n",
       "      <td>AMSTEL CONFIDENCE</td>\n",
       "      <td>2020-07-10 14:42:00</td>\n",
       "      <td>2020-07-15 02:53:00</td>\n",
       "      <td>4 days 12:11:00</td>\n",
       "      <td>108.183333</td>\n",
       "      <td>4 days 12:52:00</td>\n",
       "      <td>108.866667</td>\n",
       "      <td>24020</td>\n",
       "      <td>38503</td>\n",
       "      <td>12015</td>\n",
       "      <td>48141</td>\n",
       "      <td>38061.800290</td>\n",
       "      <td>351.826840</td>\n",
       "    </tr>\n",
       "    <tr>\n",
       "      <th>50</th>\n",
       "      <td>IMAVERE</td>\n",
       "      <td>2020-07-15 03:34:00</td>\n",
       "      <td>2020-07-19 00:04:00</td>\n",
       "      <td>3 days 20:30:00</td>\n",
       "      <td>92.500000</td>\n",
       "      <td>6 days 11:47:00</td>\n",
       "      <td>155.783333</td>\n",
       "      <td>22746</td>\n",
       "      <td>36746</td>\n",
       "      <td>12344</td>\n",
       "      <td>47922</td>\n",
       "      <td>37888.651950</td>\n",
       "      <td>409.607048</td>\n",
       "    </tr>\n",
       "    <tr>\n",
       "      <th>51</th>\n",
       "      <td>VIYADA NAREE</td>\n",
       "      <td>2020-07-21 15:21:00</td>\n",
       "      <td>2020-07-26 03:31:00</td>\n",
       "      <td>4 days 12:10:00</td>\n",
       "      <td>108.166667</td>\n",
       "      <td>13 days 11:35:00</td>\n",
       "      <td>323.583333</td>\n",
       "      <td>24235</td>\n",
       "      <td>38716</td>\n",
       "      <td>12826</td>\n",
       "      <td>48761</td>\n",
       "      <td>38551.991940</td>\n",
       "      <td>356.412868</td>\n",
       "    </tr>\n",
       "    <tr>\n",
       "      <th>52</th>\n",
       "      <td>BELRAY</td>\n",
       "      <td>2020-08-04 02:56:00</td>\n",
       "      <td>2020-08-09 19:28:00</td>\n",
       "      <td>5 days 16:32:00</td>\n",
       "      <td>136.533333</td>\n",
       "      <td>7 days 17:15:00</td>\n",
       "      <td>185.250000</td>\n",
       "      <td>35048</td>\n",
       "      <td>61379</td>\n",
       "      <td>20127</td>\n",
       "      <td>77387</td>\n",
       "      <td>54355.333270</td>\n",
       "      <td>398.110351</td>\n",
       "    </tr>\n",
       "    <tr>\n",
       "      <th>53</th>\n",
       "      <td>IMAVERE</td>\n",
       "      <td>2020-08-11 20:11:00</td>\n",
       "      <td>2020-08-17 17:10:00</td>\n",
       "      <td>5 days 20:59:00</td>\n",
       "      <td>140.983333</td>\n",
       "      <td>8 days 07:04:00</td>\n",
       "      <td>199.066667</td>\n",
       "      <td>22746</td>\n",
       "      <td>36746</td>\n",
       "      <td>12344</td>\n",
       "      <td>47922</td>\n",
       "      <td>33659.610540</td>\n",
       "      <td>238.748863</td>\n",
       "    </tr>\n",
       "    <tr>\n",
       "      <th>54</th>\n",
       "      <td>STAR MARU</td>\n",
       "      <td>2020-08-20 03:15:00</td>\n",
       "      <td>2020-08-30 12:15:00</td>\n",
       "      <td>10 days 09:00:00</td>\n",
       "      <td>249.000000</td>\n",
       "      <td>15 days 13:25:00</td>\n",
       "      <td>373.416667</td>\n",
       "      <td>36463</td>\n",
       "      <td>64061</td>\n",
       "      <td>21202</td>\n",
       "      <td>81131</td>\n",
       "      <td>56985.056190</td>\n",
       "      <td>228.855647</td>\n",
       "    </tr>\n",
       "    <tr>\n",
       "      <th>55</th>\n",
       "      <td>LAST TYCOON</td>\n",
       "      <td>2020-09-04 16:40:00</td>\n",
       "      <td>2020-09-09 02:57:00</td>\n",
       "      <td>4 days 10:17:00</td>\n",
       "      <td>106.283333</td>\n",
       "      <td>9 days 14:16:00</td>\n",
       "      <td>230.266667</td>\n",
       "      <td>22549</td>\n",
       "      <td>34569</td>\n",
       "      <td>11772</td>\n",
       "      <td>45538</td>\n",
       "      <td>44045.988410</td>\n",
       "      <td>414.420465</td>\n",
       "    </tr>\n",
       "    <tr>\n",
       "      <th>56</th>\n",
       "      <td>CARO PADRE</td>\n",
       "      <td>2020-09-14 06:56:00</td>\n",
       "      <td>2020-09-18 03:34:00</td>\n",
       "      <td>3 days 20:38:00</td>\n",
       "      <td>92.633333</td>\n",
       "      <td>18 days 18:29:00</td>\n",
       "      <td>450.483333</td>\n",
       "      <td>35812</td>\n",
       "      <td>63500</td>\n",
       "      <td>21224</td>\n",
       "      <td>77493</td>\n",
       "      <td>74954.011590</td>\n",
       "      <td>809.147300</td>\n",
       "    </tr>\n",
       "    <tr>\n",
       "      <th>57</th>\n",
       "      <td>SANDNES</td>\n",
       "      <td>2020-10-03 01:25:00</td>\n",
       "      <td>2020-10-03 20:23:00</td>\n",
       "      <td>0 days 18:58:00</td>\n",
       "      <td>18.966667</td>\n",
       "      <td>18 days 15:58:00</td>\n",
       "      <td>447.966667</td>\n",
       "      <td>17434</td>\n",
       "      <td>27711</td>\n",
       "      <td>5748</td>\n",
       "      <td>20046</td>\n",
       "      <td>21166.583850</td>\n",
       "      <td>1115.988604</td>\n",
       "    </tr>\n",
       "    <tr>\n",
       "      <th>58</th>\n",
       "      <td>NORD KITAN</td>\n",
       "      <td>2020-10-21 17:23:00</td>\n",
       "      <td>2020-10-27 17:45:00</td>\n",
       "      <td>6 days 00:22:00</td>\n",
       "      <td>144.366667</td>\n",
       "      <td>13 days 22:54:00</td>\n",
       "      <td>334.900000</td>\n",
       "      <td>34808</td>\n",
       "      <td>60195</td>\n",
       "      <td>19834</td>\n",
       "      <td>76554</td>\n",
       "      <td>80833.416150</td>\n",
       "      <td>559.917452</td>\n",
       "    </tr>\n",
       "    <tr>\n",
       "      <th>59</th>\n",
       "      <td>TCZEW</td>\n",
       "      <td>2020-11-04 16:17:00</td>\n",
       "      <td>2020-11-13 23:37:00</td>\n",
       "      <td>9 days 07:20:00</td>\n",
       "      <td>223.333333</td>\n",
       "      <td>16 days 01:41:00</td>\n",
       "      <td>385.683333</td>\n",
       "      <td>25278</td>\n",
       "      <td>39072</td>\n",
       "      <td>13200</td>\n",
       "      <td>50491</td>\n",
       "      <td>31422.712170</td>\n",
       "      <td>140.698711</td>\n",
       "    </tr>\n",
       "  </tbody>\n",
       "</table>\n",
       "</div>"
      ],
      "text/plain": [
       "                   NAME            ARRIVING             LEAVING  \\\n",
       "0          NORD PACIFIC 2019-01-04 13:24:00 2019-01-09 18:33:00   \n",
       "1           EMMA BULKER 2019-01-11 05:26:00 2019-01-14 18:50:00   \n",
       "2         NORD SAVANNAH 2019-02-11 04:27:00 2019-02-12 23:50:00   \n",
       "3                 YULIA 2019-02-14 20:37:00 2019-02-17 08:16:00   \n",
       "4            SWAN RIVER 2019-02-28 11:29:00 2019-03-02 19:59:00   \n",
       "5            PU LAN HAI 2019-03-05 18:08:00 2019-03-14 02:15:00   \n",
       "6          VENTURE LUCK 2019-03-19 10:26:00 2019-03-22 20:11:00   \n",
       "7        GOODWYN ISLAND 2019-04-18 13:52:00 2019-04-22 17:45:00   \n",
       "8        SANTA KATARINA 2019-04-23 17:26:00 2019-04-30 22:21:00   \n",
       "9         NORD BOSPORUS 2019-05-10 05:41:00 2019-05-14 11:48:00   \n",
       "10              IMAVERE 2019-05-14 12:25:00 2019-05-22 15:36:00   \n",
       "11         CLIPPER SELO 2019-06-02 01:53:00 2019-06-05 18:37:00   \n",
       "12              IMAVERE 2019-06-08 04:49:00 2019-06-14 23:06:00   \n",
       "13                 OLGA 2019-06-20 21:02:00 2019-06-22 20:41:00   \n",
       "14        CHILOE ISLAND 2019-06-24 06:53:00 2019-07-02 16:55:00   \n",
       "15            SPAR PAVO 2019-07-07 18:56:00 2019-07-16 13:31:00   \n",
       "16           IKAN LEBAN 2019-07-22 05:35:00 2019-07-26 14:19:00   \n",
       "17         AEGEAN SPIRE 2019-08-06 19:15:00 2019-08-11 03:24:00   \n",
       "18                TCZEW 2019-08-18 03:46:00 2019-08-21 17:28:00   \n",
       "19    IJSSEL CONFIDENCE 2019-08-22 21:51:00 2019-08-27 01:06:00   \n",
       "20              IMAVERE 2019-09-01 03:28:00 2019-09-06 23:57:00   \n",
       "21           IKAN LEBAN 2019-09-18 21:58:00 2019-09-27 00:12:00   \n",
       "22              IMAVERE 2019-09-29 02:26:00 2019-10-04 23:32:00   \n",
       "23            TAMPA BAY 2019-10-07 16:15:00 2019-10-13 23:56:00   \n",
       "24            AGGELOS B 2019-10-19 05:29:00 2019-10-25 14:30:00   \n",
       "25              IMAVERE 2019-10-30 03:38:00 2019-11-04 08:38:00   \n",
       "26           BULK VENUS 2019-11-09 13:01:00 2019-11-20 11:24:00   \n",
       "27          WU GUI SHAN 2019-11-24 00:01:00 2019-12-02 11:45:00   \n",
       "28              IMAVERE 2019-12-02 12:34:00 2019-12-06 00:48:00   \n",
       "29              ISADORA 2019-12-11 01:21:00 2019-12-14 16:32:00   \n",
       "30             VALKYRIE 2019-12-15 16:14:00 2019-12-22 04:48:00   \n",
       "31             STAR EOS 2019-12-23 12:17:00 2019-12-31 00:30:00   \n",
       "32              IMAVERE 2020-01-02 06:25:00 2020-01-09 09:14:00   \n",
       "33      TAIZHOU PIONEER 2020-01-18 09:43:00 2020-01-21 08:06:00   \n",
       "34             ARETI.GR 2020-02-03 21:46:00 2020-02-10 12:25:00   \n",
       "35  CIELO DI VALPARAISO 2020-02-13 05:34:00 2020-02-20 18:14:00   \n",
       "36              PRT ACE 2020-02-27 16:56:00 2020-03-05 00:04:00   \n",
       "37            IDEE FIXE 2020-03-20 00:28:00 2020-03-25 17:01:00   \n",
       "38      LEGIONY POLSKIE 2020-03-28 04:11:00 2020-04-01 18:40:00   \n",
       "39              IMAVERE 2020-04-09 02:55:00 2020-04-12 10:10:00   \n",
       "40           AMIS POWER 2020-04-12 17:42:00 2020-04-16 11:34:00   \n",
       "41        NORD TREASURE 2020-04-19 12:39:00 2020-04-26 00:47:00   \n",
       "42            NORDMOSEL 2020-04-29 05:19:00 2020-05-03 10:59:00   \n",
       "43                ALORA 2020-05-06 13:37:00 2020-05-12 03:18:00   \n",
       "44      CANADIAN BULKER 2020-05-17 16:27:00 2020-05-21 18:06:00   \n",
       "45           CAPE CROSS 2020-05-23 07:40:00 2020-06-02 01:16:00   \n",
       "46          BUNUN KALON 2020-06-05 01:55:00 2020-06-09 14:39:00   \n",
       "47                 SMEW 2020-06-21 09:58:00 2020-06-24 22:05:00   \n",
       "48       MEDI ATLANTICO 2020-07-03 13:14:00 2020-07-10 14:06:00   \n",
       "49    AMSTEL CONFIDENCE 2020-07-10 14:42:00 2020-07-15 02:53:00   \n",
       "50              IMAVERE 2020-07-15 03:34:00 2020-07-19 00:04:00   \n",
       "51         VIYADA NAREE 2020-07-21 15:21:00 2020-07-26 03:31:00   \n",
       "52               BELRAY 2020-08-04 02:56:00 2020-08-09 19:28:00   \n",
       "53              IMAVERE 2020-08-11 20:11:00 2020-08-17 17:10:00   \n",
       "54            STAR MARU 2020-08-20 03:15:00 2020-08-30 12:15:00   \n",
       "55          LAST TYCOON 2020-09-04 16:40:00 2020-09-09 02:57:00   \n",
       "56           CARO PADRE 2020-09-14 06:56:00 2020-09-18 03:34:00   \n",
       "57              SANDNES 2020-10-03 01:25:00 2020-10-03 20:23:00   \n",
       "58           NORD KITAN 2020-10-21 17:23:00 2020-10-27 17:45:00   \n",
       "59                TCZEW 2020-11-04 16:17:00 2020-11-13 23:37:00   \n",
       "\n",
       "             SERVICE  SERVICEhours          INTERVAL  INTERVALhours     GT  \\\n",
       "0    5 days 05:09:00    125.150000   6 days 16:02:00     160.033333  35035   \n",
       "1    3 days 13:24:00     85.400000  30 days 23:01:00     743.016667  19812   \n",
       "2    1 days 19:23:00     43.383333   3 days 16:10:00      88.166667  22866   \n",
       "3    2 days 11:39:00     59.650000  13 days 14:52:00     326.866667  19814   \n",
       "4    2 days 08:30:00     56.500000   5 days 06:39:00     126.650000  31360   \n",
       "5    8 days 08:07:00    200.116667  13 days 16:18:00     328.300000  33044   \n",
       "6    3 days 09:45:00     81.750000  30 days 03:26:00     723.433333  26411   \n",
       "7    4 days 03:53:00     99.883333   5 days 03:34:00     123.566667  35684   \n",
       "8    7 days 04:55:00    172.916667  16 days 12:15:00     396.250000  32287   \n",
       "9    4 days 06:07:00    102.116667   4 days 06:44:00     102.733333  34589   \n",
       "10   8 days 03:11:00    195.183333  18 days 13:28:00     445.466667  22746   \n",
       "11   3 days 16:44:00     88.733333   6 days 02:56:00     146.933333  20924   \n",
       "12   6 days 18:17:00    162.283333  12 days 16:13:00     304.216667  22746   \n",
       "13   1 days 23:39:00     47.650000   3 days 09:51:00      81.850000  11121   \n",
       "14   8 days 10:02:00    202.033333  13 days 12:03:00     324.050000  32377   \n",
       "15   8 days 18:35:00    210.583333  14 days 10:39:00     346.650000  36313   \n",
       "16   4 days 08:44:00    104.733333  15 days 13:40:00     373.666667  22852   \n",
       "17   4 days 08:09:00    104.150000  11 days 08:31:00     272.516667  21211   \n",
       "18   3 days 13:42:00     85.700000   4 days 18:05:00     114.083333  25278   \n",
       "19   4 days 03:15:00     99.250000   9 days 05:37:00     221.616667  23264   \n",
       "20   5 days 20:29:00    140.483333  17 days 18:30:00     426.500000  22746   \n",
       "21   8 days 02:14:00    194.233333  10 days 04:28:00     244.466667  22852   \n",
       "22   5 days 21:06:00    141.100000   8 days 13:49:00     205.816667  22746   \n",
       "23   6 days 07:41:00    151.683333  11 days 13:14:00     277.233333  17979   \n",
       "24   6 days 09:01:00    153.016667  10 days 22:09:00     262.150000  34374   \n",
       "25   5 days 05:00:00    125.000000  10 days 09:23:00     249.383333  22746   \n",
       "26  10 days 22:23:00    262.383333  14 days 11:00:00     347.000000  35832   \n",
       "27   8 days 11:44:00    203.733333   8 days 12:33:00     204.550000  36415   \n",
       "28   3 days 12:14:00     84.233333   8 days 12:47:00     204.783333  22746   \n",
       "29   3 days 15:11:00     87.183333   4 days 14:53:00     110.883333  21387   \n",
       "30   6 days 12:34:00    156.566667   7 days 20:03:00     188.050000  34618   \n",
       "31   7 days 12:13:00    180.216667   9 days 18:08:00     234.133333  35873   \n",
       "32   7 days 02:49:00    170.816667  16 days 03:18:00     387.300000  22746   \n",
       "33   2 days 22:23:00     70.383333  16 days 12:03:00     396.050000  20954   \n",
       "34   6 days 14:39:00    158.650000   9 days 07:48:00     223.800000  34187   \n",
       "35   7 days 12:40:00    180.666667  14 days 11:22:00     347.366667  25303   \n",
       "36   6 days 07:08:00    151.133333  21 days 07:32:00     511.533333  34815   \n",
       "37   5 days 16:33:00    136.550000   8 days 03:43:00     195.716667  36295   \n",
       "38   4 days 14:29:00    110.483333  11 days 22:44:00     286.733333  25278   \n",
       "39   3 days 07:15:00     79.250000   3 days 14:47:00      86.783333  22746   \n",
       "40   3 days 17:52:00     89.866667   6 days 18:57:00     162.950000  35607   \n",
       "41   6 days 12:08:00    156.133333   9 days 16:40:00     232.666667  31882   \n",
       "42   4 days 05:40:00    101.666667   7 days 08:18:00     176.300000  25546   \n",
       "43   5 days 13:41:00    133.683333  11 days 02:50:00     266.833333  35884   \n",
       "44   4 days 01:39:00     97.650000   5 days 15:13:00     135.216667  25189   \n",
       "45   9 days 17:36:00    233.600000  12 days 18:15:00     306.250000  35872   \n",
       "46   4 days 12:44:00    108.733333  16 days 08:03:00     392.050000  23239   \n",
       "47   3 days 12:07:00     84.116667  12 days 03:16:00     291.266667  23433   \n",
       "48   7 days 00:52:00    168.866667   7 days 01:28:00     169.466667  34049   \n",
       "49   4 days 12:11:00    108.183333   4 days 12:52:00     108.866667  24020   \n",
       "50   3 days 20:30:00     92.500000   6 days 11:47:00     155.783333  22746   \n",
       "51   4 days 12:10:00    108.166667  13 days 11:35:00     323.583333  24235   \n",
       "52   5 days 16:32:00    136.533333   7 days 17:15:00     185.250000  35048   \n",
       "53   5 days 20:59:00    140.983333   8 days 07:04:00     199.066667  22746   \n",
       "54  10 days 09:00:00    249.000000  15 days 13:25:00     373.416667  36463   \n",
       "55   4 days 10:17:00    106.283333   9 days 14:16:00     230.266667  22549   \n",
       "56   3 days 20:38:00     92.633333  18 days 18:29:00     450.483333  35812   \n",
       "57   0 days 18:58:00     18.966667  18 days 15:58:00     447.966667  17434   \n",
       "58   6 days 00:22:00    144.366667  13 days 22:54:00     334.900000  34808   \n",
       "59   9 days 07:20:00    223.333333  16 days 01:41:00     385.683333  25278   \n",
       "\n",
       "      DWT  NetTonnage  GrainVolume      Shipload  HandlingRate  \n",
       "0   61221       19844        77476  67725.254540    541.152653  \n",
       "1   31887       10395        40454  35332.502330    413.729535  \n",
       "2   37067       12519        45790  37966.242230    875.134281  \n",
       "3   30878       10208        38635  32033.757770    537.028630  \n",
       "4   55947       18504        70811  52172.140500    923.400717  \n",
       "5   56897       19231        71634  52778.510580    263.738705  \n",
       "6   43413       13855        53000  39049.348920    477.667877  \n",
       "7   63963       21466        79014  63022.445170    630.960572  \n",
       "8   58096       19458        72689  57977.554830    335.291883  \n",
       "9   60457       19663        76121  65662.286470    643.012435  \n",
       "10  36746       12344        47922  41337.713530    211.789157  \n",
       "11  32389       11786        42565  37909.039210    427.224334  \n",
       "12  36746       12344        47922  42680.065240    262.997218  \n",
       "13  18319        6859        23212  20672.961780    433.850195  \n",
       "14  58044       19458        72689  64737.933770    320.431944  \n",
       "15  63800       21585        78500  50526.993320    239.938235  \n",
       "16  37000       12602        45790  29473.006680    281.409994  \n",
       "17  33401       11444        44636  37026.057680    355.507035  \n",
       "18  39072       13200        50491  41883.231490    488.719154  \n",
       "19  38243       12134        47125  39090.710820    393.861066  \n",
       "20  36746       12344        47922  30451.586480    216.762984  \n",
       "21  37000       12602        45790  29096.827030    149.803468  \n",
       "22  36746       12344        47922  30451.586480    215.815638  \n",
       "23  29671       10748        40031  29282.094357    193.047540  \n",
       "24  58480       19571        75531  58019.275347    379.169646  \n",
       "25  36746       12344        47922  37682.743228    301.461946  \n",
       "26  63371       20839        80497  61986.073954    236.242421  \n",
       "27  63590       19142        71634  57091.945150    280.228788  \n",
       "28  36746       12344        47922  37682.743228    447.361415  \n",
       "29  34948       11629        45632  36327.688700    416.681576  \n",
       "30  61230       20170        77539  59479.756191    379.900508  \n",
       "31  63500       21216        81153  61453.089535    340.995595  \n",
       "32  36746       12344        47922  29891.597910    174.992280  \n",
       "33  32391       11781        43460  27108.402090    385.153712  \n",
       "34  60243       19944        76288  46493.758660    293.058674  \n",
       "35  39202       13035        49500  30167.793310    166.980406  \n",
       "36  61290       20209        77674  47338.448030    313.223079  \n",
       "37  63458       21588        78500  66234.375000    485.055840  \n",
       "38  39072       12980        49500  41765.625000    378.026475  \n",
       "39  36746       12344        47922  32349.155200    408.191233  \n",
       "40  64012       21466        79014  34288.345550    381.546872  \n",
       "41  55888       18495        71039  47954.001000    307.134934  \n",
       "42  39968       13670        50900  34359.417380    337.961482  \n",
       "43  63500       21200        77493  59956.969900    448.499962  \n",
       "44  39300       12869        49225  38086.060210    390.026218  \n",
       "45  63155       21223        77493  59956.969900    256.665111  \n",
       "46  37653       12101        46994  46645.911160    428.993665  \n",
       "47  35998       11912        46700  46354.088840    551.069017  \n",
       "48  60550       19883        76518  60497.555820    358.256351  \n",
       "49  38503       12015        48141  38061.800290    351.826840  \n",
       "50  36746       12344        47922  37888.651950    409.607048  \n",
       "51  38716       12826        48761  38551.991940    356.412868  \n",
       "52  61379       20127        77387  54355.333270    398.110351  \n",
       "53  36746       12344        47922  33659.610540    238.748863  \n",
       "54  64061       21202        81131  56985.056190    228.855647  \n",
       "55  34569       11772        45538  44045.988410    414.420465  \n",
       "56  63500       21224        77493  74954.011590    809.147300  \n",
       "57  27711        5748        20046  21166.583850   1115.988604  \n",
       "58  60195       19834        76554  80833.416150    559.917452  \n",
       "59  39072       13200        50491  31422.712170    140.698711  "
      ]
     },
     "execution_count": 68,
     "metadata": {},
     "output_type": "execute_result"
    }
   ],
   "source": [
    "df_all.head(60) #the whole historical vessel population is finished "
   ]
  },
  {
   "cell_type": "code",
   "execution_count": 69,
   "id": "973eadb2",
   "metadata": {},
   "outputs": [],
   "source": [
    "df_all[['ARRIVING','LEAVING','SERVICE','INTERVAL']] = df_all[['ARRIVING','LEAVING','SERVICE','INTERVAL']].astype(str)"
   ]
  },
  {
   "cell_type": "code",
   "execution_count": 70,
   "id": "3c830901",
   "metadata": {},
   "outputs": [],
   "source": [
    "df_all.to_json('LPL_all.json') #save the population to local directory"
   ]
  },
  {
   "cell_type": "markdown",
   "id": "bb9ae71e",
   "metadata": {},
   "source": [
    "# Analyses from here"
   ]
  },
  {
   "cell_type": "code",
   "execution_count": 1,
   "id": "16f6a217",
   "metadata": {},
   "outputs": [
    {
     "data": {
      "text/plain": [
       "'E:\\\\20190923 Newcastle-M.Res\\\\OneDrive - Newcastle University\\\\21_22_autumn\\\\211018\\\\code\\\\Data\\\\vesseldata\\\\0_Processed'"
      ]
     },
     "execution_count": 1,
     "metadata": {},
     "output_type": "execute_result"
    }
   ],
   "source": [
    "import os\n",
    "os.chdir(\"E:\\\\20190923 Newcastle-M.Res\\\\OneDrive - Newcastle University\\\\21_22_autumn\\\\211018\\\\code\\\\Data\\\\vesseldata\\\\0_Processed\")\n",
    "os.getcwd()"
   ]
  },
  {
   "cell_type": "code",
   "execution_count": 2,
   "id": "649f0735",
   "metadata": {},
   "outputs": [],
   "source": [
    "import pandas as pd\n",
    "import numpy as np\n",
    "from matplotlib import pyplot as plt\n",
    "import scipy.stats\n",
    "from sklearn import linear_model\n",
    "from sklearn.metrics import r2_score"
   ]
  },
  {
   "cell_type": "code",
   "execution_count": 3,
   "id": "2b066dee",
   "metadata": {},
   "outputs": [],
   "source": [
    "df = pd.read_json('LPL_all.json')"
   ]
  },
  {
   "cell_type": "code",
   "execution_count": 4,
   "id": "bfedfd45",
   "metadata": {},
   "outputs": [],
   "source": [
    "df['ARRIVING'] = pd.to_datetime(df['ARRIVING'], format = '%Y-%m-%d %H:%M:%S')\n",
    "df['LEAVING'] = pd.to_datetime(df['LEAVING'], format = '%Y-%m-%d %H:%M:%S')"
   ]
  },
  {
   "cell_type": "code",
   "execution_count": 5,
   "id": "4fb64ba2",
   "metadata": {},
   "outputs": [],
   "source": [
    "df[[\"SERVICEhours\", \"INTERVALhours\",'GT','DWT','NetTonnage','GrainVolume','Shipload','HandlingRate']] = df[[\"SERVICEhours\", \"INTERVALhours\",'GT','DWT','NetTonnage','GrainVolume','Shipload','HandlingRate']].apply(pd.to_numeric)"
   ]
  },
  {
   "cell_type": "code",
   "execution_count": 12,
   "id": "d11ce763",
   "metadata": {},
   "outputs": [
    {
     "data": {
      "text/html": [
       "<div>\n",
       "<style scoped>\n",
       "    .dataframe tbody tr th:only-of-type {\n",
       "        vertical-align: middle;\n",
       "    }\n",
       "\n",
       "    .dataframe tbody tr th {\n",
       "        vertical-align: top;\n",
       "    }\n",
       "\n",
       "    .dataframe thead th {\n",
       "        text-align: right;\n",
       "    }\n",
       "</style>\n",
       "<table border=\"1\" class=\"dataframe\">\n",
       "  <thead>\n",
       "    <tr style=\"text-align: right;\">\n",
       "      <th></th>\n",
       "      <th>NAME</th>\n",
       "      <th>ARRIVING</th>\n",
       "      <th>LEAVING</th>\n",
       "      <th>SERVICE</th>\n",
       "      <th>SERVICEhours</th>\n",
       "      <th>INTERVAL</th>\n",
       "      <th>INTERVALhours</th>\n",
       "      <th>GT</th>\n",
       "      <th>DWT</th>\n",
       "      <th>NetTonnage</th>\n",
       "      <th>GrainVolume</th>\n",
       "      <th>Shipload</th>\n",
       "      <th>HandlingRate</th>\n",
       "    </tr>\n",
       "  </thead>\n",
       "  <tbody>\n",
       "    <tr>\n",
       "      <th>0</th>\n",
       "      <td>NORD PACIFIC</td>\n",
       "      <td>2019-01-04 13:24:00</td>\n",
       "      <td>2019-01-09 18:33:00</td>\n",
       "      <td>5 days 05:09:00</td>\n",
       "      <td>125.150000</td>\n",
       "      <td>6 days 16:02:00</td>\n",
       "      <td>160.033333</td>\n",
       "      <td>35035</td>\n",
       "      <td>61221</td>\n",
       "      <td>19844</td>\n",
       "      <td>77476</td>\n",
       "      <td>67725.254540</td>\n",
       "      <td>541.152653</td>\n",
       "    </tr>\n",
       "    <tr>\n",
       "      <th>1</th>\n",
       "      <td>EMMA BULKER</td>\n",
       "      <td>2019-01-11 05:26:00</td>\n",
       "      <td>2019-01-14 18:50:00</td>\n",
       "      <td>3 days 13:24:00</td>\n",
       "      <td>85.400000</td>\n",
       "      <td>30 days 23:01:00</td>\n",
       "      <td>743.016667</td>\n",
       "      <td>19812</td>\n",
       "      <td>31887</td>\n",
       "      <td>10395</td>\n",
       "      <td>40454</td>\n",
       "      <td>35332.502330</td>\n",
       "      <td>413.729535</td>\n",
       "    </tr>\n",
       "    <tr>\n",
       "      <th>2</th>\n",
       "      <td>NORD SAVANNAH</td>\n",
       "      <td>2019-02-11 04:27:00</td>\n",
       "      <td>2019-02-12 23:50:00</td>\n",
       "      <td>1 days 19:23:00</td>\n",
       "      <td>43.383333</td>\n",
       "      <td>3 days 16:10:00</td>\n",
       "      <td>88.166667</td>\n",
       "      <td>22866</td>\n",
       "      <td>37067</td>\n",
       "      <td>12519</td>\n",
       "      <td>45790</td>\n",
       "      <td>37966.242230</td>\n",
       "      <td>875.134281</td>\n",
       "    </tr>\n",
       "    <tr>\n",
       "      <th>3</th>\n",
       "      <td>YULIA</td>\n",
       "      <td>2019-02-14 20:37:00</td>\n",
       "      <td>2019-02-17 08:16:00</td>\n",
       "      <td>2 days 11:39:00</td>\n",
       "      <td>59.650000</td>\n",
       "      <td>13 days 14:52:00</td>\n",
       "      <td>326.866667</td>\n",
       "      <td>19814</td>\n",
       "      <td>30878</td>\n",
       "      <td>10208</td>\n",
       "      <td>38635</td>\n",
       "      <td>32033.757770</td>\n",
       "      <td>537.028630</td>\n",
       "    </tr>\n",
       "    <tr>\n",
       "      <th>4</th>\n",
       "      <td>SWAN RIVER</td>\n",
       "      <td>2019-02-28 11:29:00</td>\n",
       "      <td>2019-03-02 19:59:00</td>\n",
       "      <td>2 days 08:30:00</td>\n",
       "      <td>56.500000</td>\n",
       "      <td>5 days 06:39:00</td>\n",
       "      <td>126.650000</td>\n",
       "      <td>31360</td>\n",
       "      <td>55947</td>\n",
       "      <td>18504</td>\n",
       "      <td>70811</td>\n",
       "      <td>52172.140500</td>\n",
       "      <td>923.400717</td>\n",
       "    </tr>\n",
       "    <tr>\n",
       "      <th>5</th>\n",
       "      <td>PU LAN HAI</td>\n",
       "      <td>2019-03-05 18:08:00</td>\n",
       "      <td>2019-03-14 02:15:00</td>\n",
       "      <td>8 days 08:07:00</td>\n",
       "      <td>200.116667</td>\n",
       "      <td>13 days 16:18:00</td>\n",
       "      <td>328.300000</td>\n",
       "      <td>33044</td>\n",
       "      <td>56897</td>\n",
       "      <td>19231</td>\n",
       "      <td>71634</td>\n",
       "      <td>52778.510580</td>\n",
       "      <td>263.738705</td>\n",
       "    </tr>\n",
       "    <tr>\n",
       "      <th>6</th>\n",
       "      <td>VENTURE LUCK</td>\n",
       "      <td>2019-03-19 10:26:00</td>\n",
       "      <td>2019-03-22 20:11:00</td>\n",
       "      <td>3 days 09:45:00</td>\n",
       "      <td>81.750000</td>\n",
       "      <td>30 days 03:26:00</td>\n",
       "      <td>723.433333</td>\n",
       "      <td>26411</td>\n",
       "      <td>43413</td>\n",
       "      <td>13855</td>\n",
       "      <td>53000</td>\n",
       "      <td>39049.348920</td>\n",
       "      <td>477.667877</td>\n",
       "    </tr>\n",
       "    <tr>\n",
       "      <th>7</th>\n",
       "      <td>GOODWYN ISLAND</td>\n",
       "      <td>2019-04-18 13:52:00</td>\n",
       "      <td>2019-04-22 17:45:00</td>\n",
       "      <td>4 days 03:53:00</td>\n",
       "      <td>99.883333</td>\n",
       "      <td>5 days 03:34:00</td>\n",
       "      <td>123.566667</td>\n",
       "      <td>35684</td>\n",
       "      <td>63963</td>\n",
       "      <td>21466</td>\n",
       "      <td>79014</td>\n",
       "      <td>63022.445170</td>\n",
       "      <td>630.960572</td>\n",
       "    </tr>\n",
       "    <tr>\n",
       "      <th>8</th>\n",
       "      <td>SANTA KATARINA</td>\n",
       "      <td>2019-04-23 17:26:00</td>\n",
       "      <td>2019-04-30 22:21:00</td>\n",
       "      <td>7 days 04:55:00</td>\n",
       "      <td>172.916667</td>\n",
       "      <td>16 days 12:15:00</td>\n",
       "      <td>396.250000</td>\n",
       "      <td>32287</td>\n",
       "      <td>58096</td>\n",
       "      <td>19458</td>\n",
       "      <td>72689</td>\n",
       "      <td>57977.554830</td>\n",
       "      <td>335.291883</td>\n",
       "    </tr>\n",
       "    <tr>\n",
       "      <th>9</th>\n",
       "      <td>NORD BOSPORUS</td>\n",
       "      <td>2019-05-10 05:41:00</td>\n",
       "      <td>2019-05-14 11:48:00</td>\n",
       "      <td>4 days 06:07:00</td>\n",
       "      <td>102.116667</td>\n",
       "      <td>4 days 06:44:00</td>\n",
       "      <td>102.733333</td>\n",
       "      <td>34589</td>\n",
       "      <td>60457</td>\n",
       "      <td>19663</td>\n",
       "      <td>76121</td>\n",
       "      <td>65662.286470</td>\n",
       "      <td>643.012435</td>\n",
       "    </tr>\n",
       "    <tr>\n",
       "      <th>10</th>\n",
       "      <td>IMAVERE</td>\n",
       "      <td>2019-05-14 12:25:00</td>\n",
       "      <td>2019-05-22 15:36:00</td>\n",
       "      <td>8 days 03:11:00</td>\n",
       "      <td>195.183333</td>\n",
       "      <td>18 days 13:28:00</td>\n",
       "      <td>445.466667</td>\n",
       "      <td>22746</td>\n",
       "      <td>36746</td>\n",
       "      <td>12344</td>\n",
       "      <td>47922</td>\n",
       "      <td>41337.713530</td>\n",
       "      <td>211.789157</td>\n",
       "    </tr>\n",
       "    <tr>\n",
       "      <th>11</th>\n",
       "      <td>CLIPPER SELO</td>\n",
       "      <td>2019-06-02 01:53:00</td>\n",
       "      <td>2019-06-05 18:37:00</td>\n",
       "      <td>3 days 16:44:00</td>\n",
       "      <td>88.733333</td>\n",
       "      <td>6 days 02:56:00</td>\n",
       "      <td>146.933333</td>\n",
       "      <td>20924</td>\n",
       "      <td>32389</td>\n",
       "      <td>11786</td>\n",
       "      <td>42565</td>\n",
       "      <td>37909.039210</td>\n",
       "      <td>427.224334</td>\n",
       "    </tr>\n",
       "    <tr>\n",
       "      <th>12</th>\n",
       "      <td>IMAVERE</td>\n",
       "      <td>2019-06-08 04:49:00</td>\n",
       "      <td>2019-06-14 23:06:00</td>\n",
       "      <td>6 days 18:17:00</td>\n",
       "      <td>162.283333</td>\n",
       "      <td>12 days 16:13:00</td>\n",
       "      <td>304.216667</td>\n",
       "      <td>22746</td>\n",
       "      <td>36746</td>\n",
       "      <td>12344</td>\n",
       "      <td>47922</td>\n",
       "      <td>42680.065240</td>\n",
       "      <td>262.997218</td>\n",
       "    </tr>\n",
       "    <tr>\n",
       "      <th>13</th>\n",
       "      <td>OLGA</td>\n",
       "      <td>2019-06-20 21:02:00</td>\n",
       "      <td>2019-06-22 20:41:00</td>\n",
       "      <td>1 days 23:39:00</td>\n",
       "      <td>47.650000</td>\n",
       "      <td>3 days 09:51:00</td>\n",
       "      <td>81.850000</td>\n",
       "      <td>11121</td>\n",
       "      <td>18319</td>\n",
       "      <td>6859</td>\n",
       "      <td>23212</td>\n",
       "      <td>20672.961780</td>\n",
       "      <td>433.850195</td>\n",
       "    </tr>\n",
       "    <tr>\n",
       "      <th>14</th>\n",
       "      <td>CHILOE ISLAND</td>\n",
       "      <td>2019-06-24 06:53:00</td>\n",
       "      <td>2019-07-02 16:55:00</td>\n",
       "      <td>8 days 10:02:00</td>\n",
       "      <td>202.033333</td>\n",
       "      <td>13 days 12:03:00</td>\n",
       "      <td>324.050000</td>\n",
       "      <td>32377</td>\n",
       "      <td>58044</td>\n",
       "      <td>19458</td>\n",
       "      <td>72689</td>\n",
       "      <td>64737.933770</td>\n",
       "      <td>320.431944</td>\n",
       "    </tr>\n",
       "    <tr>\n",
       "      <th>15</th>\n",
       "      <td>SPAR PAVO</td>\n",
       "      <td>2019-07-07 18:56:00</td>\n",
       "      <td>2019-07-16 13:31:00</td>\n",
       "      <td>8 days 18:35:00</td>\n",
       "      <td>210.583333</td>\n",
       "      <td>14 days 10:39:00</td>\n",
       "      <td>346.650000</td>\n",
       "      <td>36313</td>\n",
       "      <td>63800</td>\n",
       "      <td>21585</td>\n",
       "      <td>78500</td>\n",
       "      <td>50526.993320</td>\n",
       "      <td>239.938235</td>\n",
       "    </tr>\n",
       "    <tr>\n",
       "      <th>16</th>\n",
       "      <td>IKAN LEBAN</td>\n",
       "      <td>2019-07-22 05:35:00</td>\n",
       "      <td>2019-07-26 14:19:00</td>\n",
       "      <td>4 days 08:44:00</td>\n",
       "      <td>104.733333</td>\n",
       "      <td>15 days 13:40:00</td>\n",
       "      <td>373.666667</td>\n",
       "      <td>22852</td>\n",
       "      <td>37000</td>\n",
       "      <td>12602</td>\n",
       "      <td>45790</td>\n",
       "      <td>29473.006680</td>\n",
       "      <td>281.409994</td>\n",
       "    </tr>\n",
       "    <tr>\n",
       "      <th>17</th>\n",
       "      <td>AEGEAN SPIRE</td>\n",
       "      <td>2019-08-06 19:15:00</td>\n",
       "      <td>2019-08-11 03:24:00</td>\n",
       "      <td>4 days 08:09:00</td>\n",
       "      <td>104.150000</td>\n",
       "      <td>11 days 08:31:00</td>\n",
       "      <td>272.516667</td>\n",
       "      <td>21211</td>\n",
       "      <td>33401</td>\n",
       "      <td>11444</td>\n",
       "      <td>44636</td>\n",
       "      <td>37026.057680</td>\n",
       "      <td>355.507035</td>\n",
       "    </tr>\n",
       "    <tr>\n",
       "      <th>18</th>\n",
       "      <td>TCZEW</td>\n",
       "      <td>2019-08-18 03:46:00</td>\n",
       "      <td>2019-08-21 17:28:00</td>\n",
       "      <td>3 days 13:42:00</td>\n",
       "      <td>85.700000</td>\n",
       "      <td>4 days 18:05:00</td>\n",
       "      <td>114.083333</td>\n",
       "      <td>25278</td>\n",
       "      <td>39072</td>\n",
       "      <td>13200</td>\n",
       "      <td>50491</td>\n",
       "      <td>41883.231490</td>\n",
       "      <td>488.719154</td>\n",
       "    </tr>\n",
       "    <tr>\n",
       "      <th>19</th>\n",
       "      <td>IJSSEL CONFIDENCE</td>\n",
       "      <td>2019-08-22 21:51:00</td>\n",
       "      <td>2019-08-27 01:06:00</td>\n",
       "      <td>4 days 03:15:00</td>\n",
       "      <td>99.250000</td>\n",
       "      <td>9 days 05:37:00</td>\n",
       "      <td>221.616667</td>\n",
       "      <td>23264</td>\n",
       "      <td>38243</td>\n",
       "      <td>12134</td>\n",
       "      <td>47125</td>\n",
       "      <td>39090.710820</td>\n",
       "      <td>393.861066</td>\n",
       "    </tr>\n",
       "    <tr>\n",
       "      <th>20</th>\n",
       "      <td>IMAVERE</td>\n",
       "      <td>2019-09-01 03:28:00</td>\n",
       "      <td>2019-09-06 23:57:00</td>\n",
       "      <td>5 days 20:29:00</td>\n",
       "      <td>140.483333</td>\n",
       "      <td>17 days 18:30:00</td>\n",
       "      <td>426.500000</td>\n",
       "      <td>22746</td>\n",
       "      <td>36746</td>\n",
       "      <td>12344</td>\n",
       "      <td>47922</td>\n",
       "      <td>30451.586480</td>\n",
       "      <td>216.762984</td>\n",
       "    </tr>\n",
       "    <tr>\n",
       "      <th>21</th>\n",
       "      <td>IKAN LEBAN</td>\n",
       "      <td>2019-09-18 21:58:00</td>\n",
       "      <td>2019-09-27 00:12:00</td>\n",
       "      <td>8 days 02:14:00</td>\n",
       "      <td>194.233333</td>\n",
       "      <td>10 days 04:28:00</td>\n",
       "      <td>244.466667</td>\n",
       "      <td>22852</td>\n",
       "      <td>37000</td>\n",
       "      <td>12602</td>\n",
       "      <td>45790</td>\n",
       "      <td>29096.827030</td>\n",
       "      <td>149.803468</td>\n",
       "    </tr>\n",
       "    <tr>\n",
       "      <th>22</th>\n",
       "      <td>IMAVERE</td>\n",
       "      <td>2019-09-29 02:26:00</td>\n",
       "      <td>2019-10-04 23:32:00</td>\n",
       "      <td>5 days 21:06:00</td>\n",
       "      <td>141.100000</td>\n",
       "      <td>8 days 13:49:00</td>\n",
       "      <td>205.816667</td>\n",
       "      <td>22746</td>\n",
       "      <td>36746</td>\n",
       "      <td>12344</td>\n",
       "      <td>47922</td>\n",
       "      <td>30451.586480</td>\n",
       "      <td>215.815638</td>\n",
       "    </tr>\n",
       "    <tr>\n",
       "      <th>23</th>\n",
       "      <td>TAMPA BAY</td>\n",
       "      <td>2019-10-07 16:15:00</td>\n",
       "      <td>2019-10-13 23:56:00</td>\n",
       "      <td>6 days 07:41:00</td>\n",
       "      <td>151.683333</td>\n",
       "      <td>11 days 13:14:00</td>\n",
       "      <td>277.233333</td>\n",
       "      <td>17979</td>\n",
       "      <td>29671</td>\n",
       "      <td>10748</td>\n",
       "      <td>40031</td>\n",
       "      <td>29282.094357</td>\n",
       "      <td>193.047540</td>\n",
       "    </tr>\n",
       "    <tr>\n",
       "      <th>24</th>\n",
       "      <td>AGGELOS B</td>\n",
       "      <td>2019-10-19 05:29:00</td>\n",
       "      <td>2019-10-25 14:30:00</td>\n",
       "      <td>6 days 09:01:00</td>\n",
       "      <td>153.016667</td>\n",
       "      <td>10 days 22:09:00</td>\n",
       "      <td>262.150000</td>\n",
       "      <td>34374</td>\n",
       "      <td>58480</td>\n",
       "      <td>19571</td>\n",
       "      <td>75531</td>\n",
       "      <td>58019.275347</td>\n",
       "      <td>379.169646</td>\n",
       "    </tr>\n",
       "    <tr>\n",
       "      <th>25</th>\n",
       "      <td>IMAVERE</td>\n",
       "      <td>2019-10-30 03:38:00</td>\n",
       "      <td>2019-11-04 08:38:00</td>\n",
       "      <td>5 days 05:00:00</td>\n",
       "      <td>125.000000</td>\n",
       "      <td>10 days 09:23:00</td>\n",
       "      <td>249.383333</td>\n",
       "      <td>22746</td>\n",
       "      <td>36746</td>\n",
       "      <td>12344</td>\n",
       "      <td>47922</td>\n",
       "      <td>37682.743228</td>\n",
       "      <td>301.461946</td>\n",
       "    </tr>\n",
       "    <tr>\n",
       "      <th>26</th>\n",
       "      <td>BULK VENUS</td>\n",
       "      <td>2019-11-09 13:01:00</td>\n",
       "      <td>2019-11-20 11:24:00</td>\n",
       "      <td>10 days 22:23:00</td>\n",
       "      <td>262.383333</td>\n",
       "      <td>14 days 11:00:00</td>\n",
       "      <td>347.000000</td>\n",
       "      <td>35832</td>\n",
       "      <td>63371</td>\n",
       "      <td>20839</td>\n",
       "      <td>80497</td>\n",
       "      <td>61986.073954</td>\n",
       "      <td>236.242421</td>\n",
       "    </tr>\n",
       "    <tr>\n",
       "      <th>27</th>\n",
       "      <td>WU GUI SHAN</td>\n",
       "      <td>2019-11-24 00:01:00</td>\n",
       "      <td>2019-12-02 11:45:00</td>\n",
       "      <td>8 days 11:44:00</td>\n",
       "      <td>203.733333</td>\n",
       "      <td>8 days 12:33:00</td>\n",
       "      <td>204.550000</td>\n",
       "      <td>36415</td>\n",
       "      <td>63590</td>\n",
       "      <td>19142</td>\n",
       "      <td>71634</td>\n",
       "      <td>57091.945150</td>\n",
       "      <td>280.228788</td>\n",
       "    </tr>\n",
       "    <tr>\n",
       "      <th>28</th>\n",
       "      <td>IMAVERE</td>\n",
       "      <td>2019-12-02 12:34:00</td>\n",
       "      <td>2019-12-06 00:48:00</td>\n",
       "      <td>3 days 12:14:00</td>\n",
       "      <td>84.233333</td>\n",
       "      <td>8 days 12:47:00</td>\n",
       "      <td>204.783333</td>\n",
       "      <td>22746</td>\n",
       "      <td>36746</td>\n",
       "      <td>12344</td>\n",
       "      <td>47922</td>\n",
       "      <td>37682.743228</td>\n",
       "      <td>447.361415</td>\n",
       "    </tr>\n",
       "    <tr>\n",
       "      <th>29</th>\n",
       "      <td>ISADORA</td>\n",
       "      <td>2019-12-11 01:21:00</td>\n",
       "      <td>2019-12-14 16:32:00</td>\n",
       "      <td>3 days 15:11:00</td>\n",
       "      <td>87.183333</td>\n",
       "      <td>4 days 14:53:00</td>\n",
       "      <td>110.883333</td>\n",
       "      <td>21387</td>\n",
       "      <td>34948</td>\n",
       "      <td>11629</td>\n",
       "      <td>45632</td>\n",
       "      <td>36327.688700</td>\n",
       "      <td>416.681576</td>\n",
       "    </tr>\n",
       "    <tr>\n",
       "      <th>30</th>\n",
       "      <td>VALKYRIE</td>\n",
       "      <td>2019-12-15 16:14:00</td>\n",
       "      <td>2019-12-22 04:48:00</td>\n",
       "      <td>6 days 12:34:00</td>\n",
       "      <td>156.566667</td>\n",
       "      <td>7 days 20:03:00</td>\n",
       "      <td>188.050000</td>\n",
       "      <td>34618</td>\n",
       "      <td>61230</td>\n",
       "      <td>20170</td>\n",
       "      <td>77539</td>\n",
       "      <td>59479.756191</td>\n",
       "      <td>379.900508</td>\n",
       "    </tr>\n",
       "    <tr>\n",
       "      <th>31</th>\n",
       "      <td>STAR EOS</td>\n",
       "      <td>2019-12-23 12:17:00</td>\n",
       "      <td>2019-12-31 00:30:00</td>\n",
       "      <td>7 days 12:13:00</td>\n",
       "      <td>180.216667</td>\n",
       "      <td>9 days 18:08:00</td>\n",
       "      <td>234.133333</td>\n",
       "      <td>35873</td>\n",
       "      <td>63500</td>\n",
       "      <td>21216</td>\n",
       "      <td>81153</td>\n",
       "      <td>61453.089535</td>\n",
       "      <td>340.995595</td>\n",
       "    </tr>\n",
       "    <tr>\n",
       "      <th>32</th>\n",
       "      <td>IMAVERE</td>\n",
       "      <td>2020-01-02 06:25:00</td>\n",
       "      <td>2020-01-09 09:14:00</td>\n",
       "      <td>7 days 02:49:00</td>\n",
       "      <td>170.816667</td>\n",
       "      <td>16 days 03:18:00</td>\n",
       "      <td>387.300000</td>\n",
       "      <td>22746</td>\n",
       "      <td>36746</td>\n",
       "      <td>12344</td>\n",
       "      <td>47922</td>\n",
       "      <td>29891.597910</td>\n",
       "      <td>174.992280</td>\n",
       "    </tr>\n",
       "    <tr>\n",
       "      <th>33</th>\n",
       "      <td>TAIZHOU PIONEER</td>\n",
       "      <td>2020-01-18 09:43:00</td>\n",
       "      <td>2020-01-21 08:06:00</td>\n",
       "      <td>2 days 22:23:00</td>\n",
       "      <td>70.383333</td>\n",
       "      <td>16 days 12:03:00</td>\n",
       "      <td>396.050000</td>\n",
       "      <td>20954</td>\n",
       "      <td>32391</td>\n",
       "      <td>11781</td>\n",
       "      <td>43460</td>\n",
       "      <td>27108.402090</td>\n",
       "      <td>385.153712</td>\n",
       "    </tr>\n",
       "    <tr>\n",
       "      <th>34</th>\n",
       "      <td>ARETI.GR</td>\n",
       "      <td>2020-02-03 21:46:00</td>\n",
       "      <td>2020-02-10 12:25:00</td>\n",
       "      <td>6 days 14:39:00</td>\n",
       "      <td>158.650000</td>\n",
       "      <td>9 days 07:48:00</td>\n",
       "      <td>223.800000</td>\n",
       "      <td>34187</td>\n",
       "      <td>60243</td>\n",
       "      <td>19944</td>\n",
       "      <td>76288</td>\n",
       "      <td>46493.758660</td>\n",
       "      <td>293.058674</td>\n",
       "    </tr>\n",
       "    <tr>\n",
       "      <th>35</th>\n",
       "      <td>CIELO DI VALPARAISO</td>\n",
       "      <td>2020-02-13 05:34:00</td>\n",
       "      <td>2020-02-20 18:14:00</td>\n",
       "      <td>7 days 12:40:00</td>\n",
       "      <td>180.666667</td>\n",
       "      <td>14 days 11:22:00</td>\n",
       "      <td>347.366667</td>\n",
       "      <td>25303</td>\n",
       "      <td>39202</td>\n",
       "      <td>13035</td>\n",
       "      <td>49500</td>\n",
       "      <td>30167.793310</td>\n",
       "      <td>166.980406</td>\n",
       "    </tr>\n",
       "    <tr>\n",
       "      <th>36</th>\n",
       "      <td>PRT ACE</td>\n",
       "      <td>2020-02-27 16:56:00</td>\n",
       "      <td>2020-03-05 00:04:00</td>\n",
       "      <td>6 days 07:08:00</td>\n",
       "      <td>151.133333</td>\n",
       "      <td>21 days 07:32:00</td>\n",
       "      <td>511.533333</td>\n",
       "      <td>34815</td>\n",
       "      <td>61290</td>\n",
       "      <td>20209</td>\n",
       "      <td>77674</td>\n",
       "      <td>47338.448030</td>\n",
       "      <td>313.223079</td>\n",
       "    </tr>\n",
       "    <tr>\n",
       "      <th>37</th>\n",
       "      <td>IDEE FIXE</td>\n",
       "      <td>2020-03-20 00:28:00</td>\n",
       "      <td>2020-03-25 17:01:00</td>\n",
       "      <td>5 days 16:33:00</td>\n",
       "      <td>136.550000</td>\n",
       "      <td>8 days 03:43:00</td>\n",
       "      <td>195.716667</td>\n",
       "      <td>36295</td>\n",
       "      <td>63458</td>\n",
       "      <td>21588</td>\n",
       "      <td>78500</td>\n",
       "      <td>66234.375000</td>\n",
       "      <td>485.055840</td>\n",
       "    </tr>\n",
       "    <tr>\n",
       "      <th>38</th>\n",
       "      <td>LEGIONY POLSKIE</td>\n",
       "      <td>2020-03-28 04:11:00</td>\n",
       "      <td>2020-04-01 18:40:00</td>\n",
       "      <td>4 days 14:29:00</td>\n",
       "      <td>110.483333</td>\n",
       "      <td>11 days 22:44:00</td>\n",
       "      <td>286.733333</td>\n",
       "      <td>25278</td>\n",
       "      <td>39072</td>\n",
       "      <td>12980</td>\n",
       "      <td>49500</td>\n",
       "      <td>41765.625000</td>\n",
       "      <td>378.026475</td>\n",
       "    </tr>\n",
       "    <tr>\n",
       "      <th>39</th>\n",
       "      <td>IMAVERE</td>\n",
       "      <td>2020-04-09 02:55:00</td>\n",
       "      <td>2020-04-12 10:10:00</td>\n",
       "      <td>3 days 07:15:00</td>\n",
       "      <td>79.250000</td>\n",
       "      <td>3 days 14:47:00</td>\n",
       "      <td>86.783333</td>\n",
       "      <td>22746</td>\n",
       "      <td>36746</td>\n",
       "      <td>12344</td>\n",
       "      <td>47922</td>\n",
       "      <td>32349.155200</td>\n",
       "      <td>408.191233</td>\n",
       "    </tr>\n",
       "    <tr>\n",
       "      <th>40</th>\n",
       "      <td>AMIS POWER</td>\n",
       "      <td>2020-04-12 17:42:00</td>\n",
       "      <td>2020-04-16 11:34:00</td>\n",
       "      <td>3 days 17:52:00</td>\n",
       "      <td>89.866667</td>\n",
       "      <td>6 days 18:57:00</td>\n",
       "      <td>162.950000</td>\n",
       "      <td>35607</td>\n",
       "      <td>64012</td>\n",
       "      <td>21466</td>\n",
       "      <td>79014</td>\n",
       "      <td>34288.345550</td>\n",
       "      <td>381.546872</td>\n",
       "    </tr>\n",
       "    <tr>\n",
       "      <th>41</th>\n",
       "      <td>NORD TREASURE</td>\n",
       "      <td>2020-04-19 12:39:00</td>\n",
       "      <td>2020-04-26 00:47:00</td>\n",
       "      <td>6 days 12:08:00</td>\n",
       "      <td>156.133333</td>\n",
       "      <td>9 days 16:40:00</td>\n",
       "      <td>232.666667</td>\n",
       "      <td>31882</td>\n",
       "      <td>55888</td>\n",
       "      <td>18495</td>\n",
       "      <td>71039</td>\n",
       "      <td>47954.001000</td>\n",
       "      <td>307.134934</td>\n",
       "    </tr>\n",
       "    <tr>\n",
       "      <th>42</th>\n",
       "      <td>NORDMOSEL</td>\n",
       "      <td>2020-04-29 05:19:00</td>\n",
       "      <td>2020-05-03 10:59:00</td>\n",
       "      <td>4 days 05:40:00</td>\n",
       "      <td>101.666667</td>\n",
       "      <td>7 days 08:18:00</td>\n",
       "      <td>176.300000</td>\n",
       "      <td>25546</td>\n",
       "      <td>39968</td>\n",
       "      <td>13670</td>\n",
       "      <td>50900</td>\n",
       "      <td>34359.417380</td>\n",
       "      <td>337.961482</td>\n",
       "    </tr>\n",
       "    <tr>\n",
       "      <th>43</th>\n",
       "      <td>ALORA</td>\n",
       "      <td>2020-05-06 13:37:00</td>\n",
       "      <td>2020-05-12 03:18:00</td>\n",
       "      <td>5 days 13:41:00</td>\n",
       "      <td>133.683333</td>\n",
       "      <td>11 days 02:50:00</td>\n",
       "      <td>266.833333</td>\n",
       "      <td>35884</td>\n",
       "      <td>63500</td>\n",
       "      <td>21200</td>\n",
       "      <td>77493</td>\n",
       "      <td>59956.969900</td>\n",
       "      <td>448.499962</td>\n",
       "    </tr>\n",
       "    <tr>\n",
       "      <th>44</th>\n",
       "      <td>CANADIAN BULKER</td>\n",
       "      <td>2020-05-17 16:27:00</td>\n",
       "      <td>2020-05-21 18:06:00</td>\n",
       "      <td>4 days 01:39:00</td>\n",
       "      <td>97.650000</td>\n",
       "      <td>5 days 15:13:00</td>\n",
       "      <td>135.216667</td>\n",
       "      <td>25189</td>\n",
       "      <td>39300</td>\n",
       "      <td>12869</td>\n",
       "      <td>49225</td>\n",
       "      <td>38086.060210</td>\n",
       "      <td>390.026218</td>\n",
       "    </tr>\n",
       "    <tr>\n",
       "      <th>45</th>\n",
       "      <td>CAPE CROSS</td>\n",
       "      <td>2020-05-23 07:40:00</td>\n",
       "      <td>2020-06-02 01:16:00</td>\n",
       "      <td>9 days 17:36:00</td>\n",
       "      <td>233.600000</td>\n",
       "      <td>12 days 18:15:00</td>\n",
       "      <td>306.250000</td>\n",
       "      <td>35872</td>\n",
       "      <td>63155</td>\n",
       "      <td>21223</td>\n",
       "      <td>77493</td>\n",
       "      <td>59956.969900</td>\n",
       "      <td>256.665111</td>\n",
       "    </tr>\n",
       "    <tr>\n",
       "      <th>46</th>\n",
       "      <td>BUNUN KALON</td>\n",
       "      <td>2020-06-05 01:55:00</td>\n",
       "      <td>2020-06-09 14:39:00</td>\n",
       "      <td>4 days 12:44:00</td>\n",
       "      <td>108.733333</td>\n",
       "      <td>16 days 08:03:00</td>\n",
       "      <td>392.050000</td>\n",
       "      <td>23239</td>\n",
       "      <td>37653</td>\n",
       "      <td>12101</td>\n",
       "      <td>46994</td>\n",
       "      <td>46645.911160</td>\n",
       "      <td>428.993665</td>\n",
       "    </tr>\n",
       "    <tr>\n",
       "      <th>47</th>\n",
       "      <td>SMEW</td>\n",
       "      <td>2020-06-21 09:58:00</td>\n",
       "      <td>2020-06-24 22:05:00</td>\n",
       "      <td>3 days 12:07:00</td>\n",
       "      <td>84.116667</td>\n",
       "      <td>12 days 03:16:00</td>\n",
       "      <td>291.266667</td>\n",
       "      <td>23433</td>\n",
       "      <td>35998</td>\n",
       "      <td>11912</td>\n",
       "      <td>46700</td>\n",
       "      <td>46354.088840</td>\n",
       "      <td>551.069017</td>\n",
       "    </tr>\n",
       "    <tr>\n",
       "      <th>48</th>\n",
       "      <td>MEDI ATLANTICO</td>\n",
       "      <td>2020-07-03 13:14:00</td>\n",
       "      <td>2020-07-10 14:06:00</td>\n",
       "      <td>7 days 00:52:00</td>\n",
       "      <td>168.866667</td>\n",
       "      <td>7 days 01:28:00</td>\n",
       "      <td>169.466667</td>\n",
       "      <td>34049</td>\n",
       "      <td>60550</td>\n",
       "      <td>19883</td>\n",
       "      <td>76518</td>\n",
       "      <td>60497.555820</td>\n",
       "      <td>358.256351</td>\n",
       "    </tr>\n",
       "    <tr>\n",
       "      <th>49</th>\n",
       "      <td>AMSTEL CONFIDENCE</td>\n",
       "      <td>2020-07-10 14:42:00</td>\n",
       "      <td>2020-07-15 02:53:00</td>\n",
       "      <td>4 days 12:11:00</td>\n",
       "      <td>108.183333</td>\n",
       "      <td>4 days 12:52:00</td>\n",
       "      <td>108.866667</td>\n",
       "      <td>24020</td>\n",
       "      <td>38503</td>\n",
       "      <td>12015</td>\n",
       "      <td>48141</td>\n",
       "      <td>38061.800290</td>\n",
       "      <td>351.826840</td>\n",
       "    </tr>\n",
       "    <tr>\n",
       "      <th>50</th>\n",
       "      <td>IMAVERE</td>\n",
       "      <td>2020-07-15 03:34:00</td>\n",
       "      <td>2020-07-19 00:04:00</td>\n",
       "      <td>3 days 20:30:00</td>\n",
       "      <td>92.500000</td>\n",
       "      <td>6 days 11:47:00</td>\n",
       "      <td>155.783333</td>\n",
       "      <td>22746</td>\n",
       "      <td>36746</td>\n",
       "      <td>12344</td>\n",
       "      <td>47922</td>\n",
       "      <td>37888.651950</td>\n",
       "      <td>409.607048</td>\n",
       "    </tr>\n",
       "    <tr>\n",
       "      <th>51</th>\n",
       "      <td>VIYADA NAREE</td>\n",
       "      <td>2020-07-21 15:21:00</td>\n",
       "      <td>2020-07-26 03:31:00</td>\n",
       "      <td>4 days 12:10:00</td>\n",
       "      <td>108.166667</td>\n",
       "      <td>13 days 11:35:00</td>\n",
       "      <td>323.583333</td>\n",
       "      <td>24235</td>\n",
       "      <td>38716</td>\n",
       "      <td>12826</td>\n",
       "      <td>48761</td>\n",
       "      <td>38551.991940</td>\n",
       "      <td>356.412868</td>\n",
       "    </tr>\n",
       "    <tr>\n",
       "      <th>52</th>\n",
       "      <td>BELRAY</td>\n",
       "      <td>2020-08-04 02:56:00</td>\n",
       "      <td>2020-08-09 19:28:00</td>\n",
       "      <td>5 days 16:32:00</td>\n",
       "      <td>136.533333</td>\n",
       "      <td>7 days 17:15:00</td>\n",
       "      <td>185.250000</td>\n",
       "      <td>35048</td>\n",
       "      <td>61379</td>\n",
       "      <td>20127</td>\n",
       "      <td>77387</td>\n",
       "      <td>54355.333270</td>\n",
       "      <td>398.110351</td>\n",
       "    </tr>\n",
       "    <tr>\n",
       "      <th>53</th>\n",
       "      <td>IMAVERE</td>\n",
       "      <td>2020-08-11 20:11:00</td>\n",
       "      <td>2020-08-17 17:10:00</td>\n",
       "      <td>5 days 20:59:00</td>\n",
       "      <td>140.983333</td>\n",
       "      <td>8 days 07:04:00</td>\n",
       "      <td>199.066667</td>\n",
       "      <td>22746</td>\n",
       "      <td>36746</td>\n",
       "      <td>12344</td>\n",
       "      <td>47922</td>\n",
       "      <td>33659.610540</td>\n",
       "      <td>238.748863</td>\n",
       "    </tr>\n",
       "    <tr>\n",
       "      <th>54</th>\n",
       "      <td>STAR MARU</td>\n",
       "      <td>2020-08-20 03:15:00</td>\n",
       "      <td>2020-08-30 12:15:00</td>\n",
       "      <td>10 days 09:00:00</td>\n",
       "      <td>249.000000</td>\n",
       "      <td>15 days 13:25:00</td>\n",
       "      <td>373.416667</td>\n",
       "      <td>36463</td>\n",
       "      <td>64061</td>\n",
       "      <td>21202</td>\n",
       "      <td>81131</td>\n",
       "      <td>56985.056190</td>\n",
       "      <td>228.855647</td>\n",
       "    </tr>\n",
       "    <tr>\n",
       "      <th>55</th>\n",
       "      <td>LAST TYCOON</td>\n",
       "      <td>2020-09-04 16:40:00</td>\n",
       "      <td>2020-09-09 02:57:00</td>\n",
       "      <td>4 days 10:17:00</td>\n",
       "      <td>106.283333</td>\n",
       "      <td>9 days 14:16:00</td>\n",
       "      <td>230.266667</td>\n",
       "      <td>22549</td>\n",
       "      <td>34569</td>\n",
       "      <td>11772</td>\n",
       "      <td>45538</td>\n",
       "      <td>44045.988410</td>\n",
       "      <td>414.420465</td>\n",
       "    </tr>\n",
       "    <tr>\n",
       "      <th>56</th>\n",
       "      <td>CARO PADRE</td>\n",
       "      <td>2020-09-14 06:56:00</td>\n",
       "      <td>2020-09-18 03:34:00</td>\n",
       "      <td>3 days 20:38:00</td>\n",
       "      <td>92.633333</td>\n",
       "      <td>18 days 18:29:00</td>\n",
       "      <td>450.483333</td>\n",
       "      <td>35812</td>\n",
       "      <td>63500</td>\n",
       "      <td>21224</td>\n",
       "      <td>77493</td>\n",
       "      <td>74954.011590</td>\n",
       "      <td>809.147300</td>\n",
       "    </tr>\n",
       "    <tr>\n",
       "      <th>57</th>\n",
       "      <td>SANDNES</td>\n",
       "      <td>2020-10-03 01:25:00</td>\n",
       "      <td>2020-10-03 20:23:00</td>\n",
       "      <td>0 days 18:58:00</td>\n",
       "      <td>18.966667</td>\n",
       "      <td>18 days 15:58:00</td>\n",
       "      <td>447.966667</td>\n",
       "      <td>17434</td>\n",
       "      <td>27711</td>\n",
       "      <td>5748</td>\n",
       "      <td>20046</td>\n",
       "      <td>21166.583850</td>\n",
       "      <td>1115.988604</td>\n",
       "    </tr>\n",
       "    <tr>\n",
       "      <th>58</th>\n",
       "      <td>NORD KITAN</td>\n",
       "      <td>2020-10-21 17:23:00</td>\n",
       "      <td>2020-10-27 17:45:00</td>\n",
       "      <td>6 days 00:22:00</td>\n",
       "      <td>144.366667</td>\n",
       "      <td>13 days 22:54:00</td>\n",
       "      <td>334.900000</td>\n",
       "      <td>34808</td>\n",
       "      <td>60195</td>\n",
       "      <td>19834</td>\n",
       "      <td>76554</td>\n",
       "      <td>80833.416150</td>\n",
       "      <td>559.917452</td>\n",
       "    </tr>\n",
       "    <tr>\n",
       "      <th>59</th>\n",
       "      <td>TCZEW</td>\n",
       "      <td>2020-11-04 16:17:00</td>\n",
       "      <td>2020-11-13 23:37:00</td>\n",
       "      <td>9 days 07:20:00</td>\n",
       "      <td>223.333333</td>\n",
       "      <td>16 days 01:41:00</td>\n",
       "      <td>385.683333</td>\n",
       "      <td>25278</td>\n",
       "      <td>39072</td>\n",
       "      <td>13200</td>\n",
       "      <td>50491</td>\n",
       "      <td>31422.712170</td>\n",
       "      <td>140.698711</td>\n",
       "    </tr>\n",
       "  </tbody>\n",
       "</table>\n",
       "</div>"
      ],
      "text/plain": [
       "                   NAME            ARRIVING             LEAVING  \\\n",
       "0          NORD PACIFIC 2019-01-04 13:24:00 2019-01-09 18:33:00   \n",
       "1           EMMA BULKER 2019-01-11 05:26:00 2019-01-14 18:50:00   \n",
       "2         NORD SAVANNAH 2019-02-11 04:27:00 2019-02-12 23:50:00   \n",
       "3                 YULIA 2019-02-14 20:37:00 2019-02-17 08:16:00   \n",
       "4            SWAN RIVER 2019-02-28 11:29:00 2019-03-02 19:59:00   \n",
       "5            PU LAN HAI 2019-03-05 18:08:00 2019-03-14 02:15:00   \n",
       "6          VENTURE LUCK 2019-03-19 10:26:00 2019-03-22 20:11:00   \n",
       "7        GOODWYN ISLAND 2019-04-18 13:52:00 2019-04-22 17:45:00   \n",
       "8        SANTA KATARINA 2019-04-23 17:26:00 2019-04-30 22:21:00   \n",
       "9         NORD BOSPORUS 2019-05-10 05:41:00 2019-05-14 11:48:00   \n",
       "10              IMAVERE 2019-05-14 12:25:00 2019-05-22 15:36:00   \n",
       "11         CLIPPER SELO 2019-06-02 01:53:00 2019-06-05 18:37:00   \n",
       "12              IMAVERE 2019-06-08 04:49:00 2019-06-14 23:06:00   \n",
       "13                 OLGA 2019-06-20 21:02:00 2019-06-22 20:41:00   \n",
       "14        CHILOE ISLAND 2019-06-24 06:53:00 2019-07-02 16:55:00   \n",
       "15            SPAR PAVO 2019-07-07 18:56:00 2019-07-16 13:31:00   \n",
       "16           IKAN LEBAN 2019-07-22 05:35:00 2019-07-26 14:19:00   \n",
       "17         AEGEAN SPIRE 2019-08-06 19:15:00 2019-08-11 03:24:00   \n",
       "18                TCZEW 2019-08-18 03:46:00 2019-08-21 17:28:00   \n",
       "19    IJSSEL CONFIDENCE 2019-08-22 21:51:00 2019-08-27 01:06:00   \n",
       "20              IMAVERE 2019-09-01 03:28:00 2019-09-06 23:57:00   \n",
       "21           IKAN LEBAN 2019-09-18 21:58:00 2019-09-27 00:12:00   \n",
       "22              IMAVERE 2019-09-29 02:26:00 2019-10-04 23:32:00   \n",
       "23            TAMPA BAY 2019-10-07 16:15:00 2019-10-13 23:56:00   \n",
       "24            AGGELOS B 2019-10-19 05:29:00 2019-10-25 14:30:00   \n",
       "25              IMAVERE 2019-10-30 03:38:00 2019-11-04 08:38:00   \n",
       "26           BULK VENUS 2019-11-09 13:01:00 2019-11-20 11:24:00   \n",
       "27          WU GUI SHAN 2019-11-24 00:01:00 2019-12-02 11:45:00   \n",
       "28              IMAVERE 2019-12-02 12:34:00 2019-12-06 00:48:00   \n",
       "29              ISADORA 2019-12-11 01:21:00 2019-12-14 16:32:00   \n",
       "30             VALKYRIE 2019-12-15 16:14:00 2019-12-22 04:48:00   \n",
       "31             STAR EOS 2019-12-23 12:17:00 2019-12-31 00:30:00   \n",
       "32              IMAVERE 2020-01-02 06:25:00 2020-01-09 09:14:00   \n",
       "33      TAIZHOU PIONEER 2020-01-18 09:43:00 2020-01-21 08:06:00   \n",
       "34             ARETI.GR 2020-02-03 21:46:00 2020-02-10 12:25:00   \n",
       "35  CIELO DI VALPARAISO 2020-02-13 05:34:00 2020-02-20 18:14:00   \n",
       "36              PRT ACE 2020-02-27 16:56:00 2020-03-05 00:04:00   \n",
       "37            IDEE FIXE 2020-03-20 00:28:00 2020-03-25 17:01:00   \n",
       "38      LEGIONY POLSKIE 2020-03-28 04:11:00 2020-04-01 18:40:00   \n",
       "39              IMAVERE 2020-04-09 02:55:00 2020-04-12 10:10:00   \n",
       "40           AMIS POWER 2020-04-12 17:42:00 2020-04-16 11:34:00   \n",
       "41        NORD TREASURE 2020-04-19 12:39:00 2020-04-26 00:47:00   \n",
       "42            NORDMOSEL 2020-04-29 05:19:00 2020-05-03 10:59:00   \n",
       "43                ALORA 2020-05-06 13:37:00 2020-05-12 03:18:00   \n",
       "44      CANADIAN BULKER 2020-05-17 16:27:00 2020-05-21 18:06:00   \n",
       "45           CAPE CROSS 2020-05-23 07:40:00 2020-06-02 01:16:00   \n",
       "46          BUNUN KALON 2020-06-05 01:55:00 2020-06-09 14:39:00   \n",
       "47                 SMEW 2020-06-21 09:58:00 2020-06-24 22:05:00   \n",
       "48       MEDI ATLANTICO 2020-07-03 13:14:00 2020-07-10 14:06:00   \n",
       "49    AMSTEL CONFIDENCE 2020-07-10 14:42:00 2020-07-15 02:53:00   \n",
       "50              IMAVERE 2020-07-15 03:34:00 2020-07-19 00:04:00   \n",
       "51         VIYADA NAREE 2020-07-21 15:21:00 2020-07-26 03:31:00   \n",
       "52               BELRAY 2020-08-04 02:56:00 2020-08-09 19:28:00   \n",
       "53              IMAVERE 2020-08-11 20:11:00 2020-08-17 17:10:00   \n",
       "54            STAR MARU 2020-08-20 03:15:00 2020-08-30 12:15:00   \n",
       "55          LAST TYCOON 2020-09-04 16:40:00 2020-09-09 02:57:00   \n",
       "56           CARO PADRE 2020-09-14 06:56:00 2020-09-18 03:34:00   \n",
       "57              SANDNES 2020-10-03 01:25:00 2020-10-03 20:23:00   \n",
       "58           NORD KITAN 2020-10-21 17:23:00 2020-10-27 17:45:00   \n",
       "59                TCZEW 2020-11-04 16:17:00 2020-11-13 23:37:00   \n",
       "\n",
       "             SERVICE  SERVICEhours          INTERVAL  INTERVALhours     GT  \\\n",
       "0    5 days 05:09:00    125.150000   6 days 16:02:00     160.033333  35035   \n",
       "1    3 days 13:24:00     85.400000  30 days 23:01:00     743.016667  19812   \n",
       "2    1 days 19:23:00     43.383333   3 days 16:10:00      88.166667  22866   \n",
       "3    2 days 11:39:00     59.650000  13 days 14:52:00     326.866667  19814   \n",
       "4    2 days 08:30:00     56.500000   5 days 06:39:00     126.650000  31360   \n",
       "5    8 days 08:07:00    200.116667  13 days 16:18:00     328.300000  33044   \n",
       "6    3 days 09:45:00     81.750000  30 days 03:26:00     723.433333  26411   \n",
       "7    4 days 03:53:00     99.883333   5 days 03:34:00     123.566667  35684   \n",
       "8    7 days 04:55:00    172.916667  16 days 12:15:00     396.250000  32287   \n",
       "9    4 days 06:07:00    102.116667   4 days 06:44:00     102.733333  34589   \n",
       "10   8 days 03:11:00    195.183333  18 days 13:28:00     445.466667  22746   \n",
       "11   3 days 16:44:00     88.733333   6 days 02:56:00     146.933333  20924   \n",
       "12   6 days 18:17:00    162.283333  12 days 16:13:00     304.216667  22746   \n",
       "13   1 days 23:39:00     47.650000   3 days 09:51:00      81.850000  11121   \n",
       "14   8 days 10:02:00    202.033333  13 days 12:03:00     324.050000  32377   \n",
       "15   8 days 18:35:00    210.583333  14 days 10:39:00     346.650000  36313   \n",
       "16   4 days 08:44:00    104.733333  15 days 13:40:00     373.666667  22852   \n",
       "17   4 days 08:09:00    104.150000  11 days 08:31:00     272.516667  21211   \n",
       "18   3 days 13:42:00     85.700000   4 days 18:05:00     114.083333  25278   \n",
       "19   4 days 03:15:00     99.250000   9 days 05:37:00     221.616667  23264   \n",
       "20   5 days 20:29:00    140.483333  17 days 18:30:00     426.500000  22746   \n",
       "21   8 days 02:14:00    194.233333  10 days 04:28:00     244.466667  22852   \n",
       "22   5 days 21:06:00    141.100000   8 days 13:49:00     205.816667  22746   \n",
       "23   6 days 07:41:00    151.683333  11 days 13:14:00     277.233333  17979   \n",
       "24   6 days 09:01:00    153.016667  10 days 22:09:00     262.150000  34374   \n",
       "25   5 days 05:00:00    125.000000  10 days 09:23:00     249.383333  22746   \n",
       "26  10 days 22:23:00    262.383333  14 days 11:00:00     347.000000  35832   \n",
       "27   8 days 11:44:00    203.733333   8 days 12:33:00     204.550000  36415   \n",
       "28   3 days 12:14:00     84.233333   8 days 12:47:00     204.783333  22746   \n",
       "29   3 days 15:11:00     87.183333   4 days 14:53:00     110.883333  21387   \n",
       "30   6 days 12:34:00    156.566667   7 days 20:03:00     188.050000  34618   \n",
       "31   7 days 12:13:00    180.216667   9 days 18:08:00     234.133333  35873   \n",
       "32   7 days 02:49:00    170.816667  16 days 03:18:00     387.300000  22746   \n",
       "33   2 days 22:23:00     70.383333  16 days 12:03:00     396.050000  20954   \n",
       "34   6 days 14:39:00    158.650000   9 days 07:48:00     223.800000  34187   \n",
       "35   7 days 12:40:00    180.666667  14 days 11:22:00     347.366667  25303   \n",
       "36   6 days 07:08:00    151.133333  21 days 07:32:00     511.533333  34815   \n",
       "37   5 days 16:33:00    136.550000   8 days 03:43:00     195.716667  36295   \n",
       "38   4 days 14:29:00    110.483333  11 days 22:44:00     286.733333  25278   \n",
       "39   3 days 07:15:00     79.250000   3 days 14:47:00      86.783333  22746   \n",
       "40   3 days 17:52:00     89.866667   6 days 18:57:00     162.950000  35607   \n",
       "41   6 days 12:08:00    156.133333   9 days 16:40:00     232.666667  31882   \n",
       "42   4 days 05:40:00    101.666667   7 days 08:18:00     176.300000  25546   \n",
       "43   5 days 13:41:00    133.683333  11 days 02:50:00     266.833333  35884   \n",
       "44   4 days 01:39:00     97.650000   5 days 15:13:00     135.216667  25189   \n",
       "45   9 days 17:36:00    233.600000  12 days 18:15:00     306.250000  35872   \n",
       "46   4 days 12:44:00    108.733333  16 days 08:03:00     392.050000  23239   \n",
       "47   3 days 12:07:00     84.116667  12 days 03:16:00     291.266667  23433   \n",
       "48   7 days 00:52:00    168.866667   7 days 01:28:00     169.466667  34049   \n",
       "49   4 days 12:11:00    108.183333   4 days 12:52:00     108.866667  24020   \n",
       "50   3 days 20:30:00     92.500000   6 days 11:47:00     155.783333  22746   \n",
       "51   4 days 12:10:00    108.166667  13 days 11:35:00     323.583333  24235   \n",
       "52   5 days 16:32:00    136.533333   7 days 17:15:00     185.250000  35048   \n",
       "53   5 days 20:59:00    140.983333   8 days 07:04:00     199.066667  22746   \n",
       "54  10 days 09:00:00    249.000000  15 days 13:25:00     373.416667  36463   \n",
       "55   4 days 10:17:00    106.283333   9 days 14:16:00     230.266667  22549   \n",
       "56   3 days 20:38:00     92.633333  18 days 18:29:00     450.483333  35812   \n",
       "57   0 days 18:58:00     18.966667  18 days 15:58:00     447.966667  17434   \n",
       "58   6 days 00:22:00    144.366667  13 days 22:54:00     334.900000  34808   \n",
       "59   9 days 07:20:00    223.333333  16 days 01:41:00     385.683333  25278   \n",
       "\n",
       "      DWT  NetTonnage  GrainVolume      Shipload  HandlingRate  \n",
       "0   61221       19844        77476  67725.254540    541.152653  \n",
       "1   31887       10395        40454  35332.502330    413.729535  \n",
       "2   37067       12519        45790  37966.242230    875.134281  \n",
       "3   30878       10208        38635  32033.757770    537.028630  \n",
       "4   55947       18504        70811  52172.140500    923.400717  \n",
       "5   56897       19231        71634  52778.510580    263.738705  \n",
       "6   43413       13855        53000  39049.348920    477.667877  \n",
       "7   63963       21466        79014  63022.445170    630.960572  \n",
       "8   58096       19458        72689  57977.554830    335.291883  \n",
       "9   60457       19663        76121  65662.286470    643.012435  \n",
       "10  36746       12344        47922  41337.713530    211.789157  \n",
       "11  32389       11786        42565  37909.039210    427.224334  \n",
       "12  36746       12344        47922  42680.065240    262.997218  \n",
       "13  18319        6859        23212  20672.961780    433.850195  \n",
       "14  58044       19458        72689  64737.933770    320.431944  \n",
       "15  63800       21585        78500  50526.993320    239.938235  \n",
       "16  37000       12602        45790  29473.006680    281.409994  \n",
       "17  33401       11444        44636  37026.057680    355.507035  \n",
       "18  39072       13200        50491  41883.231490    488.719154  \n",
       "19  38243       12134        47125  39090.710820    393.861066  \n",
       "20  36746       12344        47922  30451.586480    216.762984  \n",
       "21  37000       12602        45790  29096.827030    149.803468  \n",
       "22  36746       12344        47922  30451.586480    215.815638  \n",
       "23  29671       10748        40031  29282.094357    193.047540  \n",
       "24  58480       19571        75531  58019.275347    379.169646  \n",
       "25  36746       12344        47922  37682.743228    301.461946  \n",
       "26  63371       20839        80497  61986.073954    236.242421  \n",
       "27  63590       19142        71634  57091.945150    280.228788  \n",
       "28  36746       12344        47922  37682.743228    447.361415  \n",
       "29  34948       11629        45632  36327.688700    416.681576  \n",
       "30  61230       20170        77539  59479.756191    379.900508  \n",
       "31  63500       21216        81153  61453.089535    340.995595  \n",
       "32  36746       12344        47922  29891.597910    174.992280  \n",
       "33  32391       11781        43460  27108.402090    385.153712  \n",
       "34  60243       19944        76288  46493.758660    293.058674  \n",
       "35  39202       13035        49500  30167.793310    166.980406  \n",
       "36  61290       20209        77674  47338.448030    313.223079  \n",
       "37  63458       21588        78500  66234.375000    485.055840  \n",
       "38  39072       12980        49500  41765.625000    378.026475  \n",
       "39  36746       12344        47922  32349.155200    408.191233  \n",
       "40  64012       21466        79014  34288.345550    381.546872  \n",
       "41  55888       18495        71039  47954.001000    307.134934  \n",
       "42  39968       13670        50900  34359.417380    337.961482  \n",
       "43  63500       21200        77493  59956.969900    448.499962  \n",
       "44  39300       12869        49225  38086.060210    390.026218  \n",
       "45  63155       21223        77493  59956.969900    256.665111  \n",
       "46  37653       12101        46994  46645.911160    428.993665  \n",
       "47  35998       11912        46700  46354.088840    551.069017  \n",
       "48  60550       19883        76518  60497.555820    358.256351  \n",
       "49  38503       12015        48141  38061.800290    351.826840  \n",
       "50  36746       12344        47922  37888.651950    409.607048  \n",
       "51  38716       12826        48761  38551.991940    356.412868  \n",
       "52  61379       20127        77387  54355.333270    398.110351  \n",
       "53  36746       12344        47922  33659.610540    238.748863  \n",
       "54  64061       21202        81131  56985.056190    228.855647  \n",
       "55  34569       11772        45538  44045.988410    414.420465  \n",
       "56  63500       21224        77493  74954.011590    809.147300  \n",
       "57  27711        5748        20046  21166.583850   1115.988604  \n",
       "58  60195       19834        76554  80833.416150    559.917452  \n",
       "59  39072       13200        50491  31422.712170    140.698711  "
      ]
     },
     "execution_count": 12,
     "metadata": {},
     "output_type": "execute_result"
    }
   ],
   "source": [
    "df.head(60)"
   ]
  },
  {
   "cell_type": "code",
   "execution_count": 7,
   "id": "6202f46a",
   "metadata": {},
   "outputs": [
    {
     "data": {
      "text/plain": [
       "133.8764102564031"
      ]
     },
     "execution_count": 7,
     "metadata": {},
     "output_type": "execute_result"
    }
   ],
   "source": [
    "df['SERVICEhours'].mean()"
   ]
  },
  {
   "cell_type": "code",
   "execution_count": 8,
   "id": "8410bc4a",
   "metadata": {},
   "outputs": [
    {
     "data": {
      "text/plain": [
       "8701.966666666201"
      ]
     },
     "execution_count": 8,
     "metadata": {},
     "output_type": "execute_result"
    }
   ],
   "source": [
    "df['SERVICEhours'].sum()"
   ]
  },
  {
   "cell_type": "code",
   "execution_count": 10,
   "id": "e13c00b4",
   "metadata": {},
   "outputs": [
    {
     "data": {
      "text/plain": [
       "0.49668949771689497"
      ]
     },
     "execution_count": 10,
     "metadata": {},
     "output_type": "execute_result"
    }
   ],
   "source": [
    "8702/(24*365*2)"
   ]
  },
  {
   "cell_type": "code",
   "execution_count": 7,
   "id": "58974800",
   "metadata": {},
   "outputs": [
    {
     "data": {
      "text/plain": [
       "array([[<AxesSubplot:title={'center':'SERVICEhours'}>]], dtype=object)"
      ]
     },
     "execution_count": 7,
     "metadata": {},
     "output_type": "execute_result"
    },
    {
     "data": {
      "image/png": "[encoded data removed]",
      "text/plain": [
       "<Figure size 432x288 with 1 Axes>"
      ]
     },
     "metadata": {
      "needs_background": "light"
     },
     "output_type": "display_data"
    }
   ],
   "source": [
    "df.hist(column='SERVICEhours',bins=15,density=True)"
   ]
  },
  {
   "cell_type": "code",
   "execution_count": 9,
   "id": "e4b3fb39",
   "metadata": {},
   "outputs": [
    {
     "data": {
      "text/plain": [
       "(133.8764102564031, 18.9666666667, 262.3833333333)"
      ]
     },
     "execution_count": 9,
     "metadata": {},
     "output_type": "execute_result"
    }
   ],
   "source": [
    "df['SERVICEhours'].mean(),df['SERVICEhours'].min(),df['SERVICEhours'].max()"
   ]
  },
  {
   "cell_type": "markdown",
   "id": "13d5ce3d",
   "metadata": {},
   "source": [
    "### Distribution of Interval"
   ]
  },
  {
   "cell_type": "code",
   "execution_count": 7,
   "id": "9ba7f810",
   "metadata": {},
   "outputs": [
    {
     "data": {
      "text/plain": [
       "array([[<AxesSubplot:title={'center':'INTERVALhours'}>]], dtype=object)"
      ]
     },
     "execution_count": 7,
     "metadata": {},
     "output_type": "execute_result"
    },
    {
     "data": {
      "image/png": "[encoded data removed]",
      "text/plain": [
       "<Figure size 432x288 with 1 Axes>"
      ]
     },
     "metadata": {
      "needs_background": "light"
     },
     "output_type": "display_data"
    }
   ],
   "source": [
    "df.hist(column='INTERVALhours',bins=15,density=True)"
   ]
  },
  {
   "cell_type": "code",
   "execution_count": 8,
   "id": "93b41259",
   "metadata": {
    "scrolled": true
   },
   "outputs": [],
   "source": [
    "data = df['INTERVALhours']"
   ]
  },
  {
   "cell_type": "code",
   "execution_count": 9,
   "id": "dc281767",
   "metadata": {},
   "outputs": [
    {
     "data": {
      "text/plain": [
       "0     160.033333\n",
       "1     743.016667\n",
       "2      88.166667\n",
       "3     326.866667\n",
       "4     126.650000\n",
       "         ...    \n",
       "60    297.900000\n",
       "61    330.633333\n",
       "62     82.166667\n",
       "63    195.550000\n",
       "64    280.966667\n",
       "Name: INTERVALhours, Length: 65, dtype: float64"
      ]
     },
     "execution_count": 9,
     "metadata": {},
     "output_type": "execute_result"
    }
   ],
   "source": [
    "data"
   ]
  },
  {
   "cell_type": "code",
   "execution_count": 10,
   "id": "33921948",
   "metadata": {},
   "outputs": [
    {
     "data": {
      "text/plain": [
       "(271.62743589743843, 81.85, 743.0166666667)"
      ]
     },
     "execution_count": 10,
     "metadata": {},
     "output_type": "execute_result"
    }
   ],
   "source": [
    "data.mean(),data.min(),data.max()"
   ]
  },
  {
   "cell_type": "code",
   "execution_count": 11,
   "id": "4b7c70af",
   "metadata": {},
   "outputs": [],
   "source": [
    "x = np.linspace(np.min(data),np.max(data))"
   ]
  },
  {
   "cell_type": "markdown",
   "id": "3b5876d2",
   "metadata": {},
   "source": [
    "#### Exponential"
   ]
  },
  {
   "cell_type": "code",
   "execution_count": 12,
   "id": "c782960b",
   "metadata": {},
   "outputs": [],
   "source": [
    "[loc,scale]  = scipy.stats.expon.fit(data,floc=0)"
   ]
  },
  {
   "cell_type": "code",
   "execution_count": 13,
   "id": "f9da63be",
   "metadata": {},
   "outputs": [
    {
     "data": {
      "text/plain": [
       "[<matplotlib.lines.Line2D at 0x18684385bb0>]"
      ]
     },
     "execution_count": 13,
     "metadata": {},
     "output_type": "execute_result"
    },
    {
     "data": {
      "image/png": "[encoded data removed]",
      "text/plain": [
       "<Figure size 432x288 with 1 Axes>"
      ]
     },
     "metadata": {
      "needs_background": "light"
     },
     "output_type": "display_data"
    }
   ],
   "source": [
    "plt.plot(x,scipy.stats.expon.pdf(x, loc, scale),\"*\")"
   ]
  },
  {
   "cell_type": "code",
   "execution_count": 14,
   "id": "3cd08cc4",
   "metadata": {},
   "outputs": [
    {
     "data": {
      "text/plain": [
       "[0.0, 271.6274358974385]"
      ]
     },
     "execution_count": 14,
     "metadata": {},
     "output_type": "execute_result"
    }
   ],
   "source": [
    "[loc,scale]"
   ]
  },
  {
   "cell_type": "markdown",
   "id": "8292434d",
   "metadata": {},
   "source": [
    "#### Weibull"
   ]
  },
  {
   "cell_type": "code",
   "execution_count": 26,
   "id": "78664974",
   "metadata": {},
   "outputs": [],
   "source": [
    "[w_a,w_c,w_loc,w_scale] = scipy.stats.exponweib.fit(data,floc=0 )"
   ]
  },
  {
   "cell_type": "code",
   "execution_count": 27,
   "id": "4759929c",
   "metadata": {},
   "outputs": [
    {
     "data": {
      "text/plain": [
       "[<matplotlib.lines.Line2D at 0x20ab062dac0>]"
      ]
     },
     "execution_count": 27,
     "metadata": {},
     "output_type": "execute_result"
    },
    {
     "data": {
      "image/png": "[encoded data removed]",
      "text/plain": [
       "<Figure size 432x288 with 1 Axes>"
      ]
     },
     "metadata": {
      "needs_background": "light"
     },
     "output_type": "display_data"
    }
   ],
   "source": [
    "plt.plot(x,scipy.stats.exponweib.pdf(x, w_a, w_c,w_loc,w_scale),\"*\")"
   ]
  },
  {
   "cell_type": "code",
   "execution_count": 28,
   "id": "311859a4",
   "metadata": {},
   "outputs": [
    {
     "data": {
      "text/plain": [
       "[3.855699545825706, 1.1666796836812183, 0, 149.64935002757335]"
      ]
     },
     "execution_count": 28,
     "metadata": {},
     "output_type": "execute_result"
    }
   ],
   "source": [
    "[w_a,w_c,w_loc,w_scale]"
   ]
  },
  {
   "cell_type": "markdown",
   "id": "ecfbd06f",
   "metadata": {},
   "source": [
    "#### Gamma"
   ]
  },
  {
   "cell_type": "code",
   "execution_count": 16,
   "id": "2f1a78da",
   "metadata": {},
   "outputs": [],
   "source": [
    "[a_fit,loc_fit,scale_fit] = scipy.stats.gamma.fit(data,floc=0)"
   ]
  },
  {
   "cell_type": "code",
   "execution_count": 17,
   "id": "ae4c0fb2",
   "metadata": {},
   "outputs": [
    {
     "data": {
      "text/plain": [
       "[<matplotlib.lines.Line2D at 0x186844edbb0>]"
      ]
     },
     "execution_count": 17,
     "metadata": {},
     "output_type": "execute_result"
    },
    {
     "data": {
      "image/png": "[encoded data removed]",
      "text/plain": [
       "<Figure size 432x288 with 1 Axes>"
      ]
     },
     "metadata": {
      "needs_background": "light"
     },
     "output_type": "display_data"
    }
   ],
   "source": [
    "plt.plot(x,scipy.stats.gamma.pdf(x,a_fit, loc_fit, scale_fit),\"*\")"
   ]
  },
  {
   "cell_type": "code",
   "execution_count": 18,
   "id": "3eba56a3",
   "metadata": {},
   "outputs": [
    {
     "data": {
      "text/plain": [
       "[4.254709590778958, 0, 63.841592499315226]"
      ]
     },
     "execution_count": 18,
     "metadata": {},
     "output_type": "execute_result"
    }
   ],
   "source": [
    "[a_fit,loc_fit,scale_fit]"
   ]
  },
  {
   "cell_type": "markdown",
   "id": "6912c26d",
   "metadata": {},
   "source": [
    "### Not fixing location to 0"
   ]
  },
  {
   "cell_type": "markdown",
   "id": "8bad7bbc",
   "metadata": {},
   "source": [
    "#### Exponential"
   ]
  },
  {
   "cell_type": "code",
   "execution_count": 34,
   "id": "9743efd4",
   "metadata": {},
   "outputs": [],
   "source": [
    "[loc,scale] = scipy.stats.expon.fit(data)"
   ]
  },
  {
   "cell_type": "code",
   "execution_count": 35,
   "id": "e93e220e",
   "metadata": {},
   "outputs": [
    {
     "data": {
      "text/plain": [
       "[81.85, 189.7774358974385]"
      ]
     },
     "execution_count": 35,
     "metadata": {},
     "output_type": "execute_result"
    }
   ],
   "source": [
    "[loc,scale]"
   ]
  },
  {
   "cell_type": "code",
   "execution_count": 36,
   "id": "66fbe7d1",
   "metadata": {},
   "outputs": [
    {
     "data": {
      "text/plain": [
       "[<matplotlib.lines.Line2D at 0x214fbe2c880>]"
      ]
     },
     "execution_count": 36,
     "metadata": {},
     "output_type": "execute_result"
    },
    {
     "data": {
      "image/png": "[encoded data removed]",
      "text/plain": [
       "<Figure size 432x288 with 1 Axes>"
      ]
     },
     "metadata": {
      "needs_background": "light"
     },
     "output_type": "display_data"
    }
   ],
   "source": [
    "plt.plot(x,scipy.stats.expon.pdf(x, loc, scale),\"*\")"
   ]
  },
  {
   "cell_type": "markdown",
   "id": "c4303db3",
   "metadata": {},
   "source": [
    "#### Weibull"
   ]
  },
  {
   "cell_type": "code",
   "execution_count": 32,
   "id": "c5cc3ead",
   "metadata": {},
   "outputs": [],
   "source": [
    "[w_a,w_c,w_loc,w_scale] = scipy.stats.exponweib.fit(data)"
   ]
  },
  {
   "cell_type": "code",
   "execution_count": 33,
   "id": "07b0d2a8",
   "metadata": {},
   "outputs": [
    {
     "data": {
      "text/plain": [
       "[<matplotlib.lines.Line2D at 0x20ab06efb50>]"
      ]
     },
     "execution_count": 33,
     "metadata": {},
     "output_type": "execute_result"
    },
    {
     "data": {
      "image/png": "[encoded data removed]",
      "text/plain": [
       "<Figure size 432x288 with 1 Axes>"
      ]
     },
     "metadata": {
      "needs_background": "light"
     },
     "output_type": "display_data"
    }
   ],
   "source": [
    "plt.plot(x,scipy.stats.exponweib.pdf(x, w_a, w_c,w_loc,w_scale),\"*\")"
   ]
  },
  {
   "cell_type": "code",
   "execution_count": 34,
   "id": "8ecf3d1d",
   "metadata": {},
   "outputs": [
    {
     "data": {
      "text/plain": [
       "[0.6508044581734529, 1.5509466059025905, 81.61433911627685, 265.9686019914516]"
      ]
     },
     "execution_count": 34,
     "metadata": {},
     "output_type": "execute_result"
    }
   ],
   "source": [
    "[w_a,w_c,w_loc,w_scale]"
   ]
  },
  {
   "cell_type": "markdown",
   "id": "5ae3412d",
   "metadata": {},
   "source": [
    "#### Gamma"
   ]
  },
  {
   "cell_type": "code",
   "execution_count": 35,
   "id": "a208919c",
   "metadata": {},
   "outputs": [],
   "source": [
    "[a_fit,loc_fit,scale_fit] = scipy.stats.gamma.fit(data)"
   ]
  },
  {
   "cell_type": "code",
   "execution_count": 36,
   "id": "998ac1fb",
   "metadata": {},
   "outputs": [
    {
     "data": {
      "text/plain": [
       "[<matplotlib.lines.Line2D at 0x20ab0751310>]"
      ]
     },
     "execution_count": 36,
     "metadata": {},
     "output_type": "execute_result"
    },
    {
     "data": {
      "image/png": "[encoded data removed]",
      "text/plain": [
       "<Figure size 432x288 with 1 Axes>"
      ]
     },
     "metadata": {
      "needs_background": "light"
     },
     "output_type": "display_data"
    }
   ],
   "source": [
    "plt.plot(x,scipy.stats.gamma.pdf(x,a_fit, loc_fit, scale_fit),\"*\")"
   ]
  },
  {
   "cell_type": "code",
   "execution_count": 37,
   "id": "07b8f80a",
   "metadata": {},
   "outputs": [
    {
     "data": {
      "text/plain": [
       "[2.3134627884161008, 57.06996594608556, 92.74298757382144]"
      ]
     },
     "execution_count": 37,
     "metadata": {},
     "output_type": "execute_result"
    }
   ],
   "source": [
    "[a_fit,loc_fit,scale_fit]"
   ]
  },
  {
   "cell_type": "markdown",
   "id": "a439e130",
   "metadata": {},
   "source": [
    "#### Chi squared test on selected distribution"
   ]
  },
  {
   "cell_type": "code",
   "execution_count": null,
   "id": "cc649f1c",
   "metadata": {},
   "outputs": [],
   "source": []
  },
  {
   "cell_type": "markdown",
   "id": "19280f5e",
   "metadata": {},
   "source": [
    "## Getting shipclass and auxiliary engine"
   ]
  },
  {
   "cell_type": "code",
   "execution_count": 7,
   "id": "c6b49158",
   "metadata": {},
   "outputs": [],
   "source": [
    "conditions  = [ df['DWT'] <= 9999, (df['DWT'] > 9999) & (df['DWT'] <= 34999), \n",
    "               (df['DWT'] > 34999) & (df['DWT'] <= 59999),df['DWT'] > 59999 ]"
   ]
  },
  {
   "cell_type": "code",
   "execution_count": 8,
   "id": "74f1b880",
   "metadata": {},
   "outputs": [],
   "source": [
    "choices = ['BULK1','BULK2','BULK3','BULK4']"
   ]
  },
  {
   "cell_type": "code",
   "execution_count": 9,
   "id": "a1e69760",
   "metadata": {},
   "outputs": [],
   "source": [
    "df['Class'] = np.select(conditions, choices, default=np.nan)"
   ]
  },
  {
   "cell_type": "code",
   "execution_count": 10,
   "id": "cad6f3aa",
   "metadata": {},
   "outputs": [
    {
     "data": {
      "text/html": [
       "<div>\n",
       "<style scoped>\n",
       "    .dataframe tbody tr th:only-of-type {\n",
       "        vertical-align: middle;\n",
       "    }\n",
       "\n",
       "    .dataframe tbody tr th {\n",
       "        vertical-align: top;\n",
       "    }\n",
       "\n",
       "    .dataframe thead th {\n",
       "        text-align: right;\n",
       "    }\n",
       "</style>\n",
       "<table border=\"1\" class=\"dataframe\">\n",
       "  <thead>\n",
       "    <tr style=\"text-align: right;\">\n",
       "      <th></th>\n",
       "      <th>NAME</th>\n",
       "      <th>ARRIVING</th>\n",
       "      <th>LEAVING</th>\n",
       "      <th>SERVICE</th>\n",
       "      <th>SERVICEhours</th>\n",
       "      <th>INTERVAL</th>\n",
       "      <th>INTERVALhours</th>\n",
       "      <th>GT</th>\n",
       "      <th>DWT</th>\n",
       "      <th>NetTonnage</th>\n",
       "      <th>GrainVolume</th>\n",
       "      <th>Shipload</th>\n",
       "      <th>HandlingRate</th>\n",
       "      <th>Class</th>\n",
       "    </tr>\n",
       "  </thead>\n",
       "  <tbody>\n",
       "    <tr>\n",
       "      <th>0</th>\n",
       "      <td>NORD PACIFIC</td>\n",
       "      <td>2019-01-04 13:24:00</td>\n",
       "      <td>2019-01-09 18:33:00</td>\n",
       "      <td>5 days 05:09:00</td>\n",
       "      <td>125.150000</td>\n",
       "      <td>6 days 16:02:00</td>\n",
       "      <td>160.033333</td>\n",
       "      <td>35035</td>\n",
       "      <td>61221</td>\n",
       "      <td>19844</td>\n",
       "      <td>77476</td>\n",
       "      <td>67725.25454</td>\n",
       "      <td>541.152653</td>\n",
       "      <td>BULK4</td>\n",
       "    </tr>\n",
       "    <tr>\n",
       "      <th>1</th>\n",
       "      <td>EMMA BULKER</td>\n",
       "      <td>2019-01-11 05:26:00</td>\n",
       "      <td>2019-01-14 18:50:00</td>\n",
       "      <td>3 days 13:24:00</td>\n",
       "      <td>85.400000</td>\n",
       "      <td>30 days 23:01:00</td>\n",
       "      <td>743.016667</td>\n",
       "      <td>19812</td>\n",
       "      <td>31887</td>\n",
       "      <td>10395</td>\n",
       "      <td>40454</td>\n",
       "      <td>35332.50233</td>\n",
       "      <td>413.729535</td>\n",
       "      <td>BULK2</td>\n",
       "    </tr>\n",
       "    <tr>\n",
       "      <th>2</th>\n",
       "      <td>NORD SAVANNAH</td>\n",
       "      <td>2019-02-11 04:27:00</td>\n",
       "      <td>2019-02-12 23:50:00</td>\n",
       "      <td>1 days 19:23:00</td>\n",
       "      <td>43.383333</td>\n",
       "      <td>3 days 16:10:00</td>\n",
       "      <td>88.166667</td>\n",
       "      <td>22866</td>\n",
       "      <td>37067</td>\n",
       "      <td>12519</td>\n",
       "      <td>45790</td>\n",
       "      <td>37966.24223</td>\n",
       "      <td>875.134281</td>\n",
       "      <td>BULK3</td>\n",
       "    </tr>\n",
       "    <tr>\n",
       "      <th>3</th>\n",
       "      <td>YULIA</td>\n",
       "      <td>2019-02-14 20:37:00</td>\n",
       "      <td>2019-02-17 08:16:00</td>\n",
       "      <td>2 days 11:39:00</td>\n",
       "      <td>59.650000</td>\n",
       "      <td>13 days 14:52:00</td>\n",
       "      <td>326.866667</td>\n",
       "      <td>19814</td>\n",
       "      <td>30878</td>\n",
       "      <td>10208</td>\n",
       "      <td>38635</td>\n",
       "      <td>32033.75777</td>\n",
       "      <td>537.028630</td>\n",
       "      <td>BULK2</td>\n",
       "    </tr>\n",
       "    <tr>\n",
       "      <th>4</th>\n",
       "      <td>SWAN RIVER</td>\n",
       "      <td>2019-02-28 11:29:00</td>\n",
       "      <td>2019-03-02 19:59:00</td>\n",
       "      <td>2 days 08:30:00</td>\n",
       "      <td>56.500000</td>\n",
       "      <td>5 days 06:39:00</td>\n",
       "      <td>126.650000</td>\n",
       "      <td>31360</td>\n",
       "      <td>55947</td>\n",
       "      <td>18504</td>\n",
       "      <td>70811</td>\n",
       "      <td>52172.14050</td>\n",
       "      <td>923.400717</td>\n",
       "      <td>BULK3</td>\n",
       "    </tr>\n",
       "    <tr>\n",
       "      <th>...</th>\n",
       "      <td>...</td>\n",
       "      <td>...</td>\n",
       "      <td>...</td>\n",
       "      <td>...</td>\n",
       "      <td>...</td>\n",
       "      <td>...</td>\n",
       "      <td>...</td>\n",
       "      <td>...</td>\n",
       "      <td>...</td>\n",
       "      <td>...</td>\n",
       "      <td>...</td>\n",
       "      <td>...</td>\n",
       "      <td>...</td>\n",
       "      <td>...</td>\n",
       "    </tr>\n",
       "    <tr>\n",
       "      <th>60</th>\n",
       "      <td>KYPROS SPIRIT</td>\n",
       "      <td>2020-11-20 17:58:00</td>\n",
       "      <td>2020-11-29 13:28:00</td>\n",
       "      <td>8 days 19:30:00</td>\n",
       "      <td>211.500000</td>\n",
       "      <td>12 days 09:54:00</td>\n",
       "      <td>297.900000</td>\n",
       "      <td>41759</td>\n",
       "      <td>77998</td>\n",
       "      <td>26050</td>\n",
       "      <td>90911</td>\n",
       "      <td>56577.28783</td>\n",
       "      <td>267.504907</td>\n",
       "      <td>BULK4</td>\n",
       "    </tr>\n",
       "    <tr>\n",
       "      <th>61</th>\n",
       "      <td>GIANTS CAUSEWAY</td>\n",
       "      <td>2020-12-03 03:52:00</td>\n",
       "      <td>2020-12-12 05:04:00</td>\n",
       "      <td>9 days 01:12:00</td>\n",
       "      <td>217.200000</td>\n",
       "      <td>13 days 18:38:00</td>\n",
       "      <td>330.633333</td>\n",
       "      <td>35872</td>\n",
       "      <td>63197</td>\n",
       "      <td>21223</td>\n",
       "      <td>77493</td>\n",
       "      <td>57780.49306</td>\n",
       "      <td>266.024370</td>\n",
       "      <td>BULK4</td>\n",
       "    </tr>\n",
       "    <tr>\n",
       "      <th>62</th>\n",
       "      <td>COE LAURA</td>\n",
       "      <td>2020-12-16 22:30:00</td>\n",
       "      <td>2020-12-20 00:42:00</td>\n",
       "      <td>3 days 02:12:00</td>\n",
       "      <td>74.200000</td>\n",
       "      <td>3 days 10:10:00</td>\n",
       "      <td>82.166667</td>\n",
       "      <td>7341</td>\n",
       "      <td>12523</td>\n",
       "      <td>4279</td>\n",
       "      <td>14950</td>\n",
       "      <td>11147.05033</td>\n",
       "      <td>150.229789</td>\n",
       "      <td>BULK2</td>\n",
       "    </tr>\n",
       "    <tr>\n",
       "      <th>63</th>\n",
       "      <td>GREEN GEM</td>\n",
       "      <td>2020-12-20 08:40:00</td>\n",
       "      <td>2020-12-27 18:09:00</td>\n",
       "      <td>7 days 09:29:00</td>\n",
       "      <td>177.483333</td>\n",
       "      <td>8 days 03:33:00</td>\n",
       "      <td>195.550000</td>\n",
       "      <td>23885</td>\n",
       "      <td>38503</td>\n",
       "      <td>12685</td>\n",
       "      <td>48502</td>\n",
       "      <td>36164.16288</td>\n",
       "      <td>203.760895</td>\n",
       "      <td>BULK3</td>\n",
       "    </tr>\n",
       "    <tr>\n",
       "      <th>64</th>\n",
       "      <td>LEGIONY POLSKIE</td>\n",
       "      <td>2020-12-28 12:13:00</td>\n",
       "      <td>2021-01-04 05:36:00</td>\n",
       "      <td>6 days 17:23:00</td>\n",
       "      <td>161.383333</td>\n",
       "      <td>11 days 16:58:00</td>\n",
       "      <td>280.966667</td>\n",
       "      <td>25278</td>\n",
       "      <td>39072</td>\n",
       "      <td>12980</td>\n",
       "      <td>49500</td>\n",
       "      <td>36908.29373</td>\n",
       "      <td>228.699538</td>\n",
       "      <td>BULK3</td>\n",
       "    </tr>\n",
       "  </tbody>\n",
       "</table>\n",
       "<p>65 rows × 14 columns</p>\n",
       "</div>"
      ],
      "text/plain": [
       "               NAME            ARRIVING             LEAVING          SERVICE  \\\n",
       "0      NORD PACIFIC 2019-01-04 13:24:00 2019-01-09 18:33:00  5 days 05:09:00   \n",
       "1       EMMA BULKER 2019-01-11 05:26:00 2019-01-14 18:50:00  3 days 13:24:00   \n",
       "2     NORD SAVANNAH 2019-02-11 04:27:00 2019-02-12 23:50:00  1 days 19:23:00   \n",
       "3             YULIA 2019-02-14 20:37:00 2019-02-17 08:16:00  2 days 11:39:00   \n",
       "4        SWAN RIVER 2019-02-28 11:29:00 2019-03-02 19:59:00  2 days 08:30:00   \n",
       "..              ...                 ...                 ...              ...   \n",
       "60    KYPROS SPIRIT 2020-11-20 17:58:00 2020-11-29 13:28:00  8 days 19:30:00   \n",
       "61  GIANTS CAUSEWAY 2020-12-03 03:52:00 2020-12-12 05:04:00  9 days 01:12:00   \n",
       "62        COE LAURA 2020-12-16 22:30:00 2020-12-20 00:42:00  3 days 02:12:00   \n",
       "63        GREEN GEM 2020-12-20 08:40:00 2020-12-27 18:09:00  7 days 09:29:00   \n",
       "64  LEGIONY POLSKIE 2020-12-28 12:13:00 2021-01-04 05:36:00  6 days 17:23:00   \n",
       "\n",
       "    SERVICEhours          INTERVAL  INTERVALhours     GT    DWT  NetTonnage  \\\n",
       "0     125.150000   6 days 16:02:00     160.033333  35035  61221       19844   \n",
       "1      85.400000  30 days 23:01:00     743.016667  19812  31887       10395   \n",
       "2      43.383333   3 days 16:10:00      88.166667  22866  37067       12519   \n",
       "3      59.650000  13 days 14:52:00     326.866667  19814  30878       10208   \n",
       "4      56.500000   5 days 06:39:00     126.650000  31360  55947       18504   \n",
       "..           ...               ...            ...    ...    ...         ...   \n",
       "60    211.500000  12 days 09:54:00     297.900000  41759  77998       26050   \n",
       "61    217.200000  13 days 18:38:00     330.633333  35872  63197       21223   \n",
       "62     74.200000   3 days 10:10:00      82.166667   7341  12523        4279   \n",
       "63    177.483333   8 days 03:33:00     195.550000  23885  38503       12685   \n",
       "64    161.383333  11 days 16:58:00     280.966667  25278  39072       12980   \n",
       "\n",
       "    GrainVolume     Shipload  HandlingRate  Class  \n",
       "0         77476  67725.25454    541.152653  BULK4  \n",
       "1         40454  35332.50233    413.729535  BULK2  \n",
       "2         45790  37966.24223    875.134281  BULK3  \n",
       "3         38635  32033.75777    537.028630  BULK2  \n",
       "4         70811  52172.14050    923.400717  BULK3  \n",
       "..          ...          ...           ...    ...  \n",
       "60        90911  56577.28783    267.504907  BULK4  \n",
       "61        77493  57780.49306    266.024370  BULK4  \n",
       "62        14950  11147.05033    150.229789  BULK2  \n",
       "63        48502  36164.16288    203.760895  BULK3  \n",
       "64        49500  36908.29373    228.699538  BULK3  \n",
       "\n",
       "[65 rows x 14 columns]"
      ]
     },
     "execution_count": 10,
     "metadata": {},
     "output_type": "execute_result"
    }
   ],
   "source": [
    "df"
   ]
  },
  {
   "cell_type": "code",
   "execution_count": 28,
   "id": "a3563b33",
   "metadata": {},
   "outputs": [
    {
     "data": {
      "text/plain": [
       "0"
      ]
     },
     "execution_count": 28,
     "metadata": {},
     "output_type": "execute_result"
    }
   ],
   "source": [
    "len(df[df['Class'] == 'BULK1'].index)"
   ]
  },
  {
   "cell_type": "code",
   "execution_count": 29,
   "id": "3ac2f377",
   "metadata": {},
   "outputs": [
    {
     "data": {
      "text/plain": [
       "11"
      ]
     },
     "execution_count": 29,
     "metadata": {},
     "output_type": "execute_result"
    }
   ],
   "source": [
    "len(df[df['Class'] == 'BULK2'].index)"
   ]
  },
  {
   "cell_type": "code",
   "execution_count": 30,
   "id": "ef9fe7a6",
   "metadata": {},
   "outputs": [
    {
     "data": {
      "text/plain": [
       "33"
      ]
     },
     "execution_count": 30,
     "metadata": {},
     "output_type": "execute_result"
    }
   ],
   "source": [
    "len(df[df['Class'] == 'BULK3'].index)"
   ]
  },
  {
   "cell_type": "code",
   "execution_count": 31,
   "id": "3b3b0f1e",
   "metadata": {},
   "outputs": [
    {
     "data": {
      "text/plain": [
       "21"
      ]
     },
     "execution_count": 31,
     "metadata": {},
     "output_type": "execute_result"
    }
   ],
   "source": [
    "len(df[df['Class'] == 'BULK4'].index)"
   ]
  },
  {
   "cell_type": "markdown",
   "id": "bde4a398",
   "metadata": {},
   "source": [
    "### Distribution of shipload"
   ]
  },
  {
   "cell_type": "markdown",
   "id": "d9c4aa93",
   "metadata": {},
   "source": [
    "#### treat as whole"
   ]
  },
  {
   "cell_type": "code",
   "execution_count": 77,
   "id": "3195ca0e",
   "metadata": {
    "scrolled": true
   },
   "outputs": [
    {
     "data": {
      "text/plain": [
       "array([[<AxesSubplot:title={'center':'Shipload'}>]], dtype=object)"
      ]
     },
     "execution_count": 77,
     "metadata": {},
     "output_type": "execute_result"
    },
    {
     "data": {
      "image/png": "[encoded data removed]",
      "text/plain": [
       "<Figure size 432x288 with 1 Axes>"
      ]
     },
     "metadata": {
      "needs_background": "light"
     },
     "output_type": "display_data"
    }
   ],
   "source": [
    "df.hist(column='Shipload',bins=15,density=True)"
   ]
  },
  {
   "cell_type": "code",
   "execution_count": 78,
   "id": "67c3f1b1",
   "metadata": {},
   "outputs": [],
   "source": [
    "data_load = df['Shipload']"
   ]
  },
  {
   "cell_type": "code",
   "execution_count": 14,
   "id": "e76e328d",
   "metadata": {},
   "outputs": [
    {
     "data": {
      "text/plain": [
       "(43910.86921410715, 14224.46447186479)"
      ]
     },
     "execution_count": 14,
     "metadata": {},
     "output_type": "execute_result"
    }
   ],
   "source": [
    "scipy.stats.norm.fit(data_load)"
   ]
  },
  {
   "cell_type": "code",
   "execution_count": 79,
   "id": "f3ed6ff3",
   "metadata": {},
   "outputs": [],
   "source": [
    "[mean,std] = scipy.stats.norm.fit(data_load)"
   ]
  },
  {
   "cell_type": "code",
   "execution_count": 80,
   "id": "bbd4e3f6",
   "metadata": {},
   "outputs": [],
   "source": [
    "x_load = np.linspace(np.min(data_load),np.max(data_load))"
   ]
  },
  {
   "cell_type": "code",
   "execution_count": 82,
   "id": "0da96355",
   "metadata": {},
   "outputs": [
    {
     "data": {
      "text/plain": [
       "[<matplotlib.lines.Line2D at 0x29e8182ebb0>]"
      ]
     },
     "execution_count": 82,
     "metadata": {},
     "output_type": "execute_result"
    },
    {
     "data": {
      "image/png": "[encoded data removed]",
      "text/plain": [
       "<Figure size 432x288 with 1 Axes>"
      ]
     },
     "metadata": {
      "needs_background": "light"
     },
     "output_type": "display_data"
    }
   ],
   "source": [
    "plt.plot(x_load,scipy.stats.norm.pdf(x_load, mean, std),\"*\")"
   ]
  },
  {
   "cell_type": "markdown",
   "id": "ba8ba60d",
   "metadata": {},
   "source": [
    "#### separate big and small boat"
   ]
  },
  {
   "cell_type": "code",
   "execution_count": 7,
   "id": "6767860e",
   "metadata": {},
   "outputs": [],
   "source": [
    "df_small = df[df['DWT'] < 60000]"
   ]
  },
  {
   "cell_type": "code",
   "execution_count": 8,
   "id": "e1341888",
   "metadata": {},
   "outputs": [
    {
     "data": {
      "text/plain": [
       "array([[<AxesSubplot:title={'center':'Shipload'}>]], dtype=object)"
      ]
     },
     "execution_count": 8,
     "metadata": {},
     "output_type": "execute_result"
    },
    {
     "data": {
      "image/png": "[encoded data removed]",
      "text/plain": [
       "<Figure size 432x288 with 1 Axes>"
      ]
     },
     "metadata": {
      "needs_background": "light"
     },
     "output_type": "display_data"
    }
   ],
   "source": [
    "df_small.hist(column='Shipload',bins=10,density=True)"
   ]
  },
  {
   "cell_type": "code",
   "execution_count": 9,
   "id": "c8b55fb0",
   "metadata": {},
   "outputs": [
    {
     "data": {
      "text/plain": [
       "(37609.4140999932, 9912.424532557228)"
      ]
     },
     "execution_count": 9,
     "metadata": {},
     "output_type": "execute_result"
    }
   ],
   "source": [
    "data_load = df_small['Shipload']\n",
    "scipy.stats.norm.fit(data_load)"
   ]
  },
  {
   "cell_type": "code",
   "execution_count": 10,
   "id": "6fc46ee9",
   "metadata": {},
   "outputs": [
    {
     "data": {
      "text/plain": [
       "[<matplotlib.lines.Line2D at 0x1ffdc5e9d00>]"
      ]
     },
     "execution_count": 10,
     "metadata": {},
     "output_type": "execute_result"
    },
    {
     "data": {
      "image/png": "[encoded data removed]",
      "text/plain": [
       "<Figure size 432x288 with 1 Axes>"
      ]
     },
     "metadata": {
      "needs_background": "light"
     },
     "output_type": "display_data"
    }
   ],
   "source": [
    "[mean,std] = scipy.stats.norm.fit(data_load)\n",
    "x_load = np.linspace(np.min(data_load),np.max(data_load))\n",
    "plt.plot(x_load,scipy.stats.norm.pdf(x_load, mean, std),\"*\")"
   ]
  },
  {
   "cell_type": "code",
   "execution_count": 11,
   "id": "ce7ede23",
   "metadata": {},
   "outputs": [],
   "source": [
    "df_large = df[df['DWT'] >= 60000]"
   ]
  },
  {
   "cell_type": "code",
   "execution_count": 12,
   "id": "bf391703",
   "metadata": {
    "scrolled": true
   },
   "outputs": [
    {
     "data": {
      "text/plain": [
       "array([[<AxesSubplot:title={'center':'Shipload'}>]], dtype=object)"
      ]
     },
     "execution_count": 12,
     "metadata": {},
     "output_type": "execute_result"
    },
    {
     "data": {
      "image/png": "[encoded data removed]",
      "text/plain": [
       "<Figure size 432x288 with 1 Axes>"
      ]
     },
     "metadata": {
      "needs_background": "light"
     },
     "output_type": "display_data"
    }
   ],
   "source": [
    "df_large.hist(column='Shipload',bins=5,density=True)"
   ]
  },
  {
   "cell_type": "code",
   "execution_count": 13,
   "id": "05dc64ac",
   "metadata": {},
   "outputs": [
    {
     "data": {
      "text/plain": [
       "(59199.99358474059, 9636.600838663293)"
      ]
     },
     "execution_count": 13,
     "metadata": {},
     "output_type": "execute_result"
    }
   ],
   "source": [
    "data_load = df_large['Shipload']\n",
    "scipy.stats.norm.fit(data_load)"
   ]
  },
  {
   "cell_type": "code",
   "execution_count": 14,
   "id": "3c74bd53",
   "metadata": {},
   "outputs": [
    {
     "data": {
      "text/plain": [
       "[<matplotlib.lines.Line2D at 0x1ffdc6baa00>]"
      ]
     },
     "execution_count": 14,
     "metadata": {},
     "output_type": "execute_result"
    },
    {
     "data": {
      "image/png": "[encoded data removed]",
      "text/plain": [
       "<Figure size 432x288 with 1 Axes>"
      ]
     },
     "metadata": {
      "needs_background": "light"
     },
     "output_type": "display_data"
    }
   ],
   "source": [
    "[mean,std] = scipy.stats.norm.fit(data_load)\n",
    "x_load = np.linspace(np.min(data_load),np.max(data_load))\n",
    "plt.plot(x_load,scipy.stats.norm.pdf(x_load, mean, std),\"*\")"
   ]
  },
  {
   "cell_type": "markdown",
   "id": "0e5cc594",
   "metadata": {},
   "source": [
    "#### Separate handy and panamax"
   ]
  },
  {
   "cell_type": "code",
   "execution_count": 41,
   "id": "70f01247",
   "metadata": {},
   "outputs": [
    {
     "data": {
      "text/plain": [
       "38"
      ]
     },
     "execution_count": 41,
     "metadata": {},
     "output_type": "execute_result"
    }
   ],
   "source": [
    "df_handy = df[df['DWT'] < 50000]\n",
    "len(df_handy.index)"
   ]
  },
  {
   "cell_type": "code",
   "execution_count": 42,
   "id": "03f6ea24",
   "metadata": {},
   "outputs": [
    {
     "data": {
      "text/plain": [
       "27"
      ]
     },
     "execution_count": 42,
     "metadata": {},
     "output_type": "execute_result"
    }
   ],
   "source": [
    "df_panamax = df[df['DWT'] >= 50000]\n",
    "len(df_panamax.index)"
   ]
  },
  {
   "cell_type": "code",
   "execution_count": 44,
   "id": "2fcd7ee7",
   "metadata": {},
   "outputs": [
    {
     "data": {
      "text/plain": [
       "array([[<AxesSubplot:title={'center':'Shipload'}>]], dtype=object)"
      ]
     },
     "execution_count": 44,
     "metadata": {},
     "output_type": "execute_result"
    },
    {
     "data": {
      "image/png": "[encoded data removed]",
      "text/plain": [
       "<Figure size 432x288 with 1 Axes>"
      ]
     },
     "metadata": {
      "needs_background": "light"
     },
     "output_type": "display_data"
    }
   ],
   "source": [
    "df_handy.hist(column='Shipload',bins=10,density=True)"
   ]
  },
  {
   "cell_type": "code",
   "execution_count": 24,
   "id": "110b5571",
   "metadata": {},
   "outputs": [
    {
     "data": {
      "text/plain": [
       "(34767.75800981293, 7070.799015977125)"
      ]
     },
     "execution_count": 24,
     "metadata": {},
     "output_type": "execute_result"
    }
   ],
   "source": [
    "data_load = df_handy['Shipload']\n",
    "scipy.stats.norm.fit(data_load)"
   ]
  },
  {
   "cell_type": "code",
   "execution_count": 25,
   "id": "112694d3",
   "metadata": {},
   "outputs": [
    {
     "data": {
      "text/plain": [
       "[<matplotlib.lines.Line2D at 0x2253eb10be0>]"
      ]
     },
     "execution_count": 25,
     "metadata": {},
     "output_type": "execute_result"
    },
    {
     "data": {
      "image/png": "[encoded data removed]",
      "text/plain": [
       "<Figure size 432x288 with 1 Axes>"
      ]
     },
     "metadata": {
      "needs_background": "light"
     },
     "output_type": "display_data"
    }
   ],
   "source": [
    "[mean,std] = scipy.stats.norm.fit(data_load)\n",
    "x_load = np.linspace(np.min(data_load),np.max(data_load))\n",
    "plt.plot(x_load,scipy.stats.norm.pdf(x_load, mean, std),\"*\")"
   ]
  },
  {
   "cell_type": "code",
   "execution_count": 20,
   "id": "2bcab632",
   "metadata": {},
   "outputs": [
    {
     "data": {
      "text/plain": [
       "array([[<AxesSubplot:title={'center':'Shipload'}>]], dtype=object)"
      ]
     },
     "execution_count": 20,
     "metadata": {},
     "output_type": "execute_result"
    },
    {
     "data": {
      "image/png": "[encoded data removed]",
      "text/plain": [
       "<Figure size 432x288 with 1 Axes>"
      ]
     },
     "metadata": {
      "needs_background": "light"
     },
     "output_type": "display_data"
    }
   ],
   "source": [
    "df_panamax.hist(column='Shipload',bins=10,density=True)"
   ]
  },
  {
   "cell_type": "code",
   "execution_count": 26,
   "id": "cec18e03",
   "metadata": {},
   "outputs": [
    {
     "data": {
      "text/plain": [
       "(58401.454863198574, 8992.969281636775)"
      ]
     },
     "execution_count": 26,
     "metadata": {},
     "output_type": "execute_result"
    }
   ],
   "source": [
    "data_load = df_panamax['Shipload']\n",
    "scipy.stats.norm.fit(data_load)"
   ]
  },
  {
   "cell_type": "code",
   "execution_count": 27,
   "id": "e19b1aba",
   "metadata": {},
   "outputs": [
    {
     "data": {
      "text/plain": [
       "[<matplotlib.lines.Line2D at 0x2253eb6adc0>]"
      ]
     },
     "execution_count": 27,
     "metadata": {},
     "output_type": "execute_result"
    },
    {
     "data": {
      "image/png": "[encoded data removed]",
      "text/plain": [
       "<Figure size 432x288 with 1 Axes>"
      ]
     },
     "metadata": {
      "needs_background": "light"
     },
     "output_type": "display_data"
    }
   ],
   "source": [
    "[mean,std] = scipy.stats.norm.fit(data_load)\n",
    "x_load = np.linspace(np.min(data_load),np.max(data_load))\n",
    "plt.plot(x_load,scipy.stats.norm.pdf(x_load, mean, std),\"*\")"
   ]
  },
  {
   "cell_type": "markdown",
   "id": "d167dad6",
   "metadata": {},
   "source": [
    "## vessel feature and handling rate"
   ]
  },
  {
   "cell_type": "code",
   "execution_count": 11,
   "id": "443d4b11",
   "metadata": {},
   "outputs": [
    {
     "data": {
      "text/plain": [
       "<AxesSubplot:xlabel='Shipload', ylabel='HandlingRate'>"
      ]
     },
     "execution_count": 11,
     "metadata": {},
     "output_type": "execute_result"
    },
    {
     "data": {
      "image/png": "[encoded data removed]",
      "text/plain": [
       "<Figure size 432x288 with 1 Axes>"
      ]
     },
     "metadata": {
      "needs_background": "light"
     },
     "output_type": "display_data"
    }
   ],
   "source": [
    "df.plot.scatter(x='Shipload',y='HandlingRate')"
   ]
  },
  {
   "cell_type": "code",
   "execution_count": 14,
   "id": "a8748802",
   "metadata": {},
   "outputs": [
    {
     "data": {
      "text/plain": [
       "<AxesSubplot:xlabel='DWT', ylabel='HandlingRate'>"
      ]
     },
     "execution_count": 14,
     "metadata": {},
     "output_type": "execute_result"
    },
    {
     "data": {
      "image/png": "[encoded data removed]",
      "text/plain": [
       "<Figure size 432x288 with 1 Axes>"
      ]
     },
     "metadata": {
      "needs_background": "light"
     },
     "output_type": "display_data"
    }
   ],
   "source": [
    "df.plot.scatter(x='DWT', y='HandlingRate')"
   ]
  },
  {
   "cell_type": "code",
   "execution_count": 24,
   "id": "dc98b7ad",
   "metadata": {},
   "outputs": [
    {
     "data": {
      "text/plain": [
       "<AxesSubplot:xlabel='DWT', ylabel='Shipload'>"
      ]
     },
     "execution_count": 24,
     "metadata": {},
     "output_type": "execute_result"
    },
    {
     "data": {
      "image/png": "[encoded data removed]",
      "text/plain": [
       "<Figure size 432x288 with 1 Axes>"
      ]
     },
     "metadata": {
      "needs_background": "light"
     },
     "output_type": "display_data"
    }
   ],
   "source": [
    "df.plot.scatter(x='DWT', y='Shipload')"
   ]
  },
  {
   "cell_type": "code",
   "execution_count": 25,
   "id": "882d4e08",
   "metadata": {},
   "outputs": [
    {
     "data": {
      "text/plain": [
       "<AxesSubplot:xlabel='Shipload', ylabel='DWT'>"
      ]
     },
     "execution_count": 25,
     "metadata": {},
     "output_type": "execute_result"
    },
    {
     "data": {
      "image/png": "[encoded data removed]",
      "text/plain": [
       "<Figure size 432x288 with 1 Axes>"
      ]
     },
     "metadata": {
      "needs_background": "light"
     },
     "output_type": "display_data"
    }
   ],
   "source": [
    "df.plot.scatter(x='Shipload', y='DWT')"
   ]
  },
  {
   "cell_type": "code",
   "execution_count": 94,
   "id": "41aa383c",
   "metadata": {},
   "outputs": [
    {
     "data": {
      "text/plain": [
       "array([[<AxesSubplot:title={'center':'HandlingRate'}>]], dtype=object)"
      ]
     },
     "execution_count": 94,
     "metadata": {},
     "output_type": "execute_result"
    },
    {
     "data": {
      "image/png": "[encoded data removed]",
      "text/plain": [
       "<Figure size 432x288 with 1 Axes>"
      ]
     },
     "metadata": {
      "needs_background": "light"
     },
     "output_type": "display_data"
    }
   ],
   "source": [
    "df.hist(column='HandlingRate',bins=15,density=True)"
   ]
  },
  {
   "cell_type": "code",
   "execution_count": 11,
   "id": "e7c0d4a7",
   "metadata": {},
   "outputs": [
    {
     "data": {
      "text/plain": [
       "140.698711209"
      ]
     },
     "execution_count": 11,
     "metadata": {},
     "output_type": "execute_result"
    }
   ],
   "source": [
    "df['HandlingRate'].min()"
   ]
  },
  {
   "cell_type": "code",
   "execution_count": 12,
   "id": "5608b9a8",
   "metadata": {},
   "outputs": [
    {
     "data": {
      "text/plain": [
       "381.83240160999844"
      ]
     },
     "execution_count": 12,
     "metadata": {},
     "output_type": "execute_result"
    }
   ],
   "source": [
    "df['HandlingRate'].mean()"
   ]
  },
  {
   "cell_type": "code",
   "execution_count": 13,
   "id": "6f1d7afa",
   "metadata": {},
   "outputs": [
    {
     "data": {
      "text/plain": [
       "1115.9886036887"
      ]
     },
     "execution_count": 13,
     "metadata": {},
     "output_type": "execute_result"
    }
   ],
   "source": [
    "df['HandlingRate'].max()"
   ]
  },
  {
   "cell_type": "code",
   "execution_count": 12,
   "id": "5a982192",
   "metadata": {},
   "outputs": [],
   "source": [
    "df_clean = df[df['HandlingRate'].between(0,800)]"
   ]
  },
  {
   "cell_type": "code",
   "execution_count": 13,
   "id": "d341c024",
   "metadata": {},
   "outputs": [],
   "source": [
    "x = df_clean['Shipload']\n",
    "y = df_clean['HandlingRate']"
   ]
  },
  {
   "cell_type": "code",
   "execution_count": 14,
   "id": "357a19a5",
   "metadata": {
    "scrolled": false
   },
   "outputs": [
    {
     "data": {
      "image/png": "[encoded data removed]",
      "text/plain": [
       "<Figure size 432x288 with 1 Axes>"
      ]
     },
     "metadata": {
      "needs_background": "light"
     },
     "output_type": "display_data"
    }
   ],
   "source": [
    "slope, intercept, r, p, std_err = scipy.stats.linregress(x, y)\n",
    "\n",
    "def myfunc(x):\n",
    "  return slope * x + intercept\n",
    "\n",
    "mymodel = list(map(myfunc, x))\n",
    "\n",
    "plt.scatter(x, y)\n",
    "plt.plot(x, mymodel)\n",
    "plt.show()"
   ]
  },
  {
   "cell_type": "code",
   "execution_count": 15,
   "id": "d6c2527f",
   "metadata": {},
   "outputs": [
    {
     "data": {
      "text/plain": [
       "0.38711397981600465"
      ]
     },
     "execution_count": 15,
     "metadata": {},
     "output_type": "execute_result"
    }
   ],
   "source": [
    "r"
   ]
  },
  {
   "cell_type": "markdown",
   "id": "e5e08d12",
   "metadata": {},
   "source": [
    "#### Split between large and small vessel"
   ]
  },
  {
   "cell_type": "code",
   "execution_count": 13,
   "id": "4c33c8a2",
   "metadata": {
    "scrolled": true
   },
   "outputs": [
    {
     "data": {
      "text/html": [
       "<div>\n",
       "<style scoped>\n",
       "    .dataframe tbody tr th:only-of-type {\n",
       "        vertical-align: middle;\n",
       "    }\n",
       "\n",
       "    .dataframe tbody tr th {\n",
       "        vertical-align: top;\n",
       "    }\n",
       "\n",
       "    .dataframe thead th {\n",
       "        text-align: right;\n",
       "    }\n",
       "</style>\n",
       "<table border=\"1\" class=\"dataframe\">\n",
       "  <thead>\n",
       "    <tr style=\"text-align: right;\">\n",
       "      <th></th>\n",
       "      <th>NAME</th>\n",
       "      <th>ARRIVING</th>\n",
       "      <th>LEAVING</th>\n",
       "      <th>SERVICE</th>\n",
       "      <th>SERVICEhours</th>\n",
       "      <th>INTERVAL</th>\n",
       "      <th>INTERVALhours</th>\n",
       "      <th>GT</th>\n",
       "      <th>DWT</th>\n",
       "      <th>NetTonnage</th>\n",
       "      <th>GrainVolume</th>\n",
       "      <th>Shipload</th>\n",
       "      <th>HandlingRate</th>\n",
       "      <th>Class</th>\n",
       "    </tr>\n",
       "  </thead>\n",
       "  <tbody>\n",
       "    <tr>\n",
       "      <th>0</th>\n",
       "      <td>NORD PACIFIC</td>\n",
       "      <td>2019-01-04 13:24:00</td>\n",
       "      <td>2019-01-09 18:33:00</td>\n",
       "      <td>5 days 05:09:00</td>\n",
       "      <td>125.150000</td>\n",
       "      <td>6 days 16:02:00</td>\n",
       "      <td>160.033333</td>\n",
       "      <td>35035</td>\n",
       "      <td>61221</td>\n",
       "      <td>19844</td>\n",
       "      <td>77476</td>\n",
       "      <td>67725.254540</td>\n",
       "      <td>541.152653</td>\n",
       "      <td>BULK4</td>\n",
       "    </tr>\n",
       "    <tr>\n",
       "      <th>1</th>\n",
       "      <td>EMMA BULKER</td>\n",
       "      <td>2019-01-11 05:26:00</td>\n",
       "      <td>2019-01-14 18:50:00</td>\n",
       "      <td>3 days 13:24:00</td>\n",
       "      <td>85.400000</td>\n",
       "      <td>30 days 23:01:00</td>\n",
       "      <td>743.016667</td>\n",
       "      <td>19812</td>\n",
       "      <td>31887</td>\n",
       "      <td>10395</td>\n",
       "      <td>40454</td>\n",
       "      <td>35332.502330</td>\n",
       "      <td>413.729535</td>\n",
       "      <td>BULK2</td>\n",
       "    </tr>\n",
       "    <tr>\n",
       "      <th>3</th>\n",
       "      <td>YULIA</td>\n",
       "      <td>2019-02-14 20:37:00</td>\n",
       "      <td>2019-02-17 08:16:00</td>\n",
       "      <td>2 days 11:39:00</td>\n",
       "      <td>59.650000</td>\n",
       "      <td>13 days 14:52:00</td>\n",
       "      <td>326.866667</td>\n",
       "      <td>19814</td>\n",
       "      <td>30878</td>\n",
       "      <td>10208</td>\n",
       "      <td>38635</td>\n",
       "      <td>32033.757770</td>\n",
       "      <td>537.028630</td>\n",
       "      <td>BULK2</td>\n",
       "    </tr>\n",
       "    <tr>\n",
       "      <th>5</th>\n",
       "      <td>PU LAN HAI</td>\n",
       "      <td>2019-03-05 18:08:00</td>\n",
       "      <td>2019-03-14 02:15:00</td>\n",
       "      <td>8 days 08:07:00</td>\n",
       "      <td>200.116667</td>\n",
       "      <td>13 days 16:18:00</td>\n",
       "      <td>328.300000</td>\n",
       "      <td>33044</td>\n",
       "      <td>56897</td>\n",
       "      <td>19231</td>\n",
       "      <td>71634</td>\n",
       "      <td>52778.510580</td>\n",
       "      <td>263.738705</td>\n",
       "      <td>BULK3</td>\n",
       "    </tr>\n",
       "    <tr>\n",
       "      <th>6</th>\n",
       "      <td>VENTURE LUCK</td>\n",
       "      <td>2019-03-19 10:26:00</td>\n",
       "      <td>2019-03-22 20:11:00</td>\n",
       "      <td>3 days 09:45:00</td>\n",
       "      <td>81.750000</td>\n",
       "      <td>30 days 03:26:00</td>\n",
       "      <td>723.433333</td>\n",
       "      <td>26411</td>\n",
       "      <td>43413</td>\n",
       "      <td>13855</td>\n",
       "      <td>53000</td>\n",
       "      <td>39049.348920</td>\n",
       "      <td>477.667877</td>\n",
       "      <td>BULK3</td>\n",
       "    </tr>\n",
       "    <tr>\n",
       "      <th>7</th>\n",
       "      <td>GOODWYN ISLAND</td>\n",
       "      <td>2019-04-18 13:52:00</td>\n",
       "      <td>2019-04-22 17:45:00</td>\n",
       "      <td>4 days 03:53:00</td>\n",
       "      <td>99.883333</td>\n",
       "      <td>5 days 03:34:00</td>\n",
       "      <td>123.566667</td>\n",
       "      <td>35684</td>\n",
       "      <td>63963</td>\n",
       "      <td>21466</td>\n",
       "      <td>79014</td>\n",
       "      <td>63022.445170</td>\n",
       "      <td>630.960572</td>\n",
       "      <td>BULK4</td>\n",
       "    </tr>\n",
       "    <tr>\n",
       "      <th>8</th>\n",
       "      <td>SANTA KATARINA</td>\n",
       "      <td>2019-04-23 17:26:00</td>\n",
       "      <td>2019-04-30 22:21:00</td>\n",
       "      <td>7 days 04:55:00</td>\n",
       "      <td>172.916667</td>\n",
       "      <td>16 days 12:15:00</td>\n",
       "      <td>396.250000</td>\n",
       "      <td>32287</td>\n",
       "      <td>58096</td>\n",
       "      <td>19458</td>\n",
       "      <td>72689</td>\n",
       "      <td>57977.554830</td>\n",
       "      <td>335.291883</td>\n",
       "      <td>BULK3</td>\n",
       "    </tr>\n",
       "    <tr>\n",
       "      <th>9</th>\n",
       "      <td>NORD BOSPORUS</td>\n",
       "      <td>2019-05-10 05:41:00</td>\n",
       "      <td>2019-05-14 11:48:00</td>\n",
       "      <td>4 days 06:07:00</td>\n",
       "      <td>102.116667</td>\n",
       "      <td>4 days 06:44:00</td>\n",
       "      <td>102.733333</td>\n",
       "      <td>34589</td>\n",
       "      <td>60457</td>\n",
       "      <td>19663</td>\n",
       "      <td>76121</td>\n",
       "      <td>65662.286470</td>\n",
       "      <td>643.012435</td>\n",
       "      <td>BULK4</td>\n",
       "    </tr>\n",
       "    <tr>\n",
       "      <th>10</th>\n",
       "      <td>IMAVERE</td>\n",
       "      <td>2019-05-14 12:25:00</td>\n",
       "      <td>2019-05-22 15:36:00</td>\n",
       "      <td>8 days 03:11:00</td>\n",
       "      <td>195.183333</td>\n",
       "      <td>18 days 13:28:00</td>\n",
       "      <td>445.466667</td>\n",
       "      <td>22746</td>\n",
       "      <td>36746</td>\n",
       "      <td>12344</td>\n",
       "      <td>47922</td>\n",
       "      <td>41337.713530</td>\n",
       "      <td>211.789157</td>\n",
       "      <td>BULK3</td>\n",
       "    </tr>\n",
       "    <tr>\n",
       "      <th>11</th>\n",
       "      <td>CLIPPER SELO</td>\n",
       "      <td>2019-06-02 01:53:00</td>\n",
       "      <td>2019-06-05 18:37:00</td>\n",
       "      <td>3 days 16:44:00</td>\n",
       "      <td>88.733333</td>\n",
       "      <td>6 days 02:56:00</td>\n",
       "      <td>146.933333</td>\n",
       "      <td>20924</td>\n",
       "      <td>32389</td>\n",
       "      <td>11786</td>\n",
       "      <td>42565</td>\n",
       "      <td>37909.039210</td>\n",
       "      <td>427.224334</td>\n",
       "      <td>BULK2</td>\n",
       "    </tr>\n",
       "    <tr>\n",
       "      <th>12</th>\n",
       "      <td>IMAVERE</td>\n",
       "      <td>2019-06-08 04:49:00</td>\n",
       "      <td>2019-06-14 23:06:00</td>\n",
       "      <td>6 days 18:17:00</td>\n",
       "      <td>162.283333</td>\n",
       "      <td>12 days 16:13:00</td>\n",
       "      <td>304.216667</td>\n",
       "      <td>22746</td>\n",
       "      <td>36746</td>\n",
       "      <td>12344</td>\n",
       "      <td>47922</td>\n",
       "      <td>42680.065240</td>\n",
       "      <td>262.997218</td>\n",
       "      <td>BULK3</td>\n",
       "    </tr>\n",
       "    <tr>\n",
       "      <th>13</th>\n",
       "      <td>OLGA</td>\n",
       "      <td>2019-06-20 21:02:00</td>\n",
       "      <td>2019-06-22 20:41:00</td>\n",
       "      <td>1 days 23:39:00</td>\n",
       "      <td>47.650000</td>\n",
       "      <td>3 days 09:51:00</td>\n",
       "      <td>81.850000</td>\n",
       "      <td>11121</td>\n",
       "      <td>18319</td>\n",
       "      <td>6859</td>\n",
       "      <td>23212</td>\n",
       "      <td>20672.961780</td>\n",
       "      <td>433.850195</td>\n",
       "      <td>BULK2</td>\n",
       "    </tr>\n",
       "    <tr>\n",
       "      <th>14</th>\n",
       "      <td>CHILOE ISLAND</td>\n",
       "      <td>2019-06-24 06:53:00</td>\n",
       "      <td>2019-07-02 16:55:00</td>\n",
       "      <td>8 days 10:02:00</td>\n",
       "      <td>202.033333</td>\n",
       "      <td>13 days 12:03:00</td>\n",
       "      <td>324.050000</td>\n",
       "      <td>32377</td>\n",
       "      <td>58044</td>\n",
       "      <td>19458</td>\n",
       "      <td>72689</td>\n",
       "      <td>64737.933770</td>\n",
       "      <td>320.431944</td>\n",
       "      <td>BULK3</td>\n",
       "    </tr>\n",
       "    <tr>\n",
       "      <th>15</th>\n",
       "      <td>SPAR PAVO</td>\n",
       "      <td>2019-07-07 18:56:00</td>\n",
       "      <td>2019-07-16 13:31:00</td>\n",
       "      <td>8 days 18:35:00</td>\n",
       "      <td>210.583333</td>\n",
       "      <td>14 days 10:39:00</td>\n",
       "      <td>346.650000</td>\n",
       "      <td>36313</td>\n",
       "      <td>63800</td>\n",
       "      <td>21585</td>\n",
       "      <td>78500</td>\n",
       "      <td>50526.993320</td>\n",
       "      <td>239.938235</td>\n",
       "      <td>BULK4</td>\n",
       "    </tr>\n",
       "    <tr>\n",
       "      <th>16</th>\n",
       "      <td>IKAN LEBAN</td>\n",
       "      <td>2019-07-22 05:35:00</td>\n",
       "      <td>2019-07-26 14:19:00</td>\n",
       "      <td>4 days 08:44:00</td>\n",
       "      <td>104.733333</td>\n",
       "      <td>15 days 13:40:00</td>\n",
       "      <td>373.666667</td>\n",
       "      <td>22852</td>\n",
       "      <td>37000</td>\n",
       "      <td>12602</td>\n",
       "      <td>45790</td>\n",
       "      <td>29473.006680</td>\n",
       "      <td>281.409994</td>\n",
       "      <td>BULK3</td>\n",
       "    </tr>\n",
       "    <tr>\n",
       "      <th>17</th>\n",
       "      <td>AEGEAN SPIRE</td>\n",
       "      <td>2019-08-06 19:15:00</td>\n",
       "      <td>2019-08-11 03:24:00</td>\n",
       "      <td>4 days 08:09:00</td>\n",
       "      <td>104.150000</td>\n",
       "      <td>11 days 08:31:00</td>\n",
       "      <td>272.516667</td>\n",
       "      <td>21211</td>\n",
       "      <td>33401</td>\n",
       "      <td>11444</td>\n",
       "      <td>44636</td>\n",
       "      <td>37026.057680</td>\n",
       "      <td>355.507035</td>\n",
       "      <td>BULK2</td>\n",
       "    </tr>\n",
       "    <tr>\n",
       "      <th>18</th>\n",
       "      <td>TCZEW</td>\n",
       "      <td>2019-08-18 03:46:00</td>\n",
       "      <td>2019-08-21 17:28:00</td>\n",
       "      <td>3 days 13:42:00</td>\n",
       "      <td>85.700000</td>\n",
       "      <td>4 days 18:05:00</td>\n",
       "      <td>114.083333</td>\n",
       "      <td>25278</td>\n",
       "      <td>39072</td>\n",
       "      <td>13200</td>\n",
       "      <td>50491</td>\n",
       "      <td>41883.231490</td>\n",
       "      <td>488.719154</td>\n",
       "      <td>BULK3</td>\n",
       "    </tr>\n",
       "    <tr>\n",
       "      <th>19</th>\n",
       "      <td>IJSSEL CONFIDENCE</td>\n",
       "      <td>2019-08-22 21:51:00</td>\n",
       "      <td>2019-08-27 01:06:00</td>\n",
       "      <td>4 days 03:15:00</td>\n",
       "      <td>99.250000</td>\n",
       "      <td>9 days 05:37:00</td>\n",
       "      <td>221.616667</td>\n",
       "      <td>23264</td>\n",
       "      <td>38243</td>\n",
       "      <td>12134</td>\n",
       "      <td>47125</td>\n",
       "      <td>39090.710820</td>\n",
       "      <td>393.861066</td>\n",
       "      <td>BULK3</td>\n",
       "    </tr>\n",
       "    <tr>\n",
       "      <th>20</th>\n",
       "      <td>IMAVERE</td>\n",
       "      <td>2019-09-01 03:28:00</td>\n",
       "      <td>2019-09-06 23:57:00</td>\n",
       "      <td>5 days 20:29:00</td>\n",
       "      <td>140.483333</td>\n",
       "      <td>17 days 18:30:00</td>\n",
       "      <td>426.500000</td>\n",
       "      <td>22746</td>\n",
       "      <td>36746</td>\n",
       "      <td>12344</td>\n",
       "      <td>47922</td>\n",
       "      <td>30451.586480</td>\n",
       "      <td>216.762984</td>\n",
       "      <td>BULK3</td>\n",
       "    </tr>\n",
       "    <tr>\n",
       "      <th>21</th>\n",
       "      <td>IKAN LEBAN</td>\n",
       "      <td>2019-09-18 21:58:00</td>\n",
       "      <td>2019-09-27 00:12:00</td>\n",
       "      <td>8 days 02:14:00</td>\n",
       "      <td>194.233333</td>\n",
       "      <td>10 days 04:28:00</td>\n",
       "      <td>244.466667</td>\n",
       "      <td>22852</td>\n",
       "      <td>37000</td>\n",
       "      <td>12602</td>\n",
       "      <td>45790</td>\n",
       "      <td>29096.827030</td>\n",
       "      <td>149.803468</td>\n",
       "      <td>BULK3</td>\n",
       "    </tr>\n",
       "    <tr>\n",
       "      <th>22</th>\n",
       "      <td>IMAVERE</td>\n",
       "      <td>2019-09-29 02:26:00</td>\n",
       "      <td>2019-10-04 23:32:00</td>\n",
       "      <td>5 days 21:06:00</td>\n",
       "      <td>141.100000</td>\n",
       "      <td>8 days 13:49:00</td>\n",
       "      <td>205.816667</td>\n",
       "      <td>22746</td>\n",
       "      <td>36746</td>\n",
       "      <td>12344</td>\n",
       "      <td>47922</td>\n",
       "      <td>30451.586480</td>\n",
       "      <td>215.815638</td>\n",
       "      <td>BULK3</td>\n",
       "    </tr>\n",
       "    <tr>\n",
       "      <th>23</th>\n",
       "      <td>TAMPA BAY</td>\n",
       "      <td>2019-10-07 16:15:00</td>\n",
       "      <td>2019-10-13 23:56:00</td>\n",
       "      <td>6 days 07:41:00</td>\n",
       "      <td>151.683333</td>\n",
       "      <td>11 days 13:14:00</td>\n",
       "      <td>277.233333</td>\n",
       "      <td>17979</td>\n",
       "      <td>29671</td>\n",
       "      <td>10748</td>\n",
       "      <td>40031</td>\n",
       "      <td>29282.094357</td>\n",
       "      <td>193.047540</td>\n",
       "      <td>BULK2</td>\n",
       "    </tr>\n",
       "    <tr>\n",
       "      <th>24</th>\n",
       "      <td>AGGELOS B</td>\n",
       "      <td>2019-10-19 05:29:00</td>\n",
       "      <td>2019-10-25 14:30:00</td>\n",
       "      <td>6 days 09:01:00</td>\n",
       "      <td>153.016667</td>\n",
       "      <td>10 days 22:09:00</td>\n",
       "      <td>262.150000</td>\n",
       "      <td>34374</td>\n",
       "      <td>58480</td>\n",
       "      <td>19571</td>\n",
       "      <td>75531</td>\n",
       "      <td>58019.275347</td>\n",
       "      <td>379.169646</td>\n",
       "      <td>BULK3</td>\n",
       "    </tr>\n",
       "    <tr>\n",
       "      <th>25</th>\n",
       "      <td>IMAVERE</td>\n",
       "      <td>2019-10-30 03:38:00</td>\n",
       "      <td>2019-11-04 08:38:00</td>\n",
       "      <td>5 days 05:00:00</td>\n",
       "      <td>125.000000</td>\n",
       "      <td>10 days 09:23:00</td>\n",
       "      <td>249.383333</td>\n",
       "      <td>22746</td>\n",
       "      <td>36746</td>\n",
       "      <td>12344</td>\n",
       "      <td>47922</td>\n",
       "      <td>37682.743228</td>\n",
       "      <td>301.461946</td>\n",
       "      <td>BULK3</td>\n",
       "    </tr>\n",
       "    <tr>\n",
       "      <th>26</th>\n",
       "      <td>BULK VENUS</td>\n",
       "      <td>2019-11-09 13:01:00</td>\n",
       "      <td>2019-11-20 11:24:00</td>\n",
       "      <td>10 days 22:23:00</td>\n",
       "      <td>262.383333</td>\n",
       "      <td>14 days 11:00:00</td>\n",
       "      <td>347.000000</td>\n",
       "      <td>35832</td>\n",
       "      <td>63371</td>\n",
       "      <td>20839</td>\n",
       "      <td>80497</td>\n",
       "      <td>61986.073954</td>\n",
       "      <td>236.242421</td>\n",
       "      <td>BULK4</td>\n",
       "    </tr>\n",
       "    <tr>\n",
       "      <th>27</th>\n",
       "      <td>WU GUI SHAN</td>\n",
       "      <td>2019-11-24 00:01:00</td>\n",
       "      <td>2019-12-02 11:45:00</td>\n",
       "      <td>8 days 11:44:00</td>\n",
       "      <td>203.733333</td>\n",
       "      <td>8 days 12:33:00</td>\n",
       "      <td>204.550000</td>\n",
       "      <td>36415</td>\n",
       "      <td>63590</td>\n",
       "      <td>19142</td>\n",
       "      <td>71634</td>\n",
       "      <td>57091.945150</td>\n",
       "      <td>280.228788</td>\n",
       "      <td>BULK4</td>\n",
       "    </tr>\n",
       "    <tr>\n",
       "      <th>28</th>\n",
       "      <td>IMAVERE</td>\n",
       "      <td>2019-12-02 12:34:00</td>\n",
       "      <td>2019-12-06 00:48:00</td>\n",
       "      <td>3 days 12:14:00</td>\n",
       "      <td>84.233333</td>\n",
       "      <td>8 days 12:47:00</td>\n",
       "      <td>204.783333</td>\n",
       "      <td>22746</td>\n",
       "      <td>36746</td>\n",
       "      <td>12344</td>\n",
       "      <td>47922</td>\n",
       "      <td>37682.743228</td>\n",
       "      <td>447.361415</td>\n",
       "      <td>BULK3</td>\n",
       "    </tr>\n",
       "    <tr>\n",
       "      <th>29</th>\n",
       "      <td>ISADORA</td>\n",
       "      <td>2019-12-11 01:21:00</td>\n",
       "      <td>2019-12-14 16:32:00</td>\n",
       "      <td>3 days 15:11:00</td>\n",
       "      <td>87.183333</td>\n",
       "      <td>4 days 14:53:00</td>\n",
       "      <td>110.883333</td>\n",
       "      <td>21387</td>\n",
       "      <td>34948</td>\n",
       "      <td>11629</td>\n",
       "      <td>45632</td>\n",
       "      <td>36327.688700</td>\n",
       "      <td>416.681576</td>\n",
       "      <td>BULK2</td>\n",
       "    </tr>\n",
       "    <tr>\n",
       "      <th>30</th>\n",
       "      <td>VALKYRIE</td>\n",
       "      <td>2019-12-15 16:14:00</td>\n",
       "      <td>2019-12-22 04:48:00</td>\n",
       "      <td>6 days 12:34:00</td>\n",
       "      <td>156.566667</td>\n",
       "      <td>7 days 20:03:00</td>\n",
       "      <td>188.050000</td>\n",
       "      <td>34618</td>\n",
       "      <td>61230</td>\n",
       "      <td>20170</td>\n",
       "      <td>77539</td>\n",
       "      <td>59479.756191</td>\n",
       "      <td>379.900508</td>\n",
       "      <td>BULK4</td>\n",
       "    </tr>\n",
       "    <tr>\n",
       "      <th>31</th>\n",
       "      <td>STAR EOS</td>\n",
       "      <td>2019-12-23 12:17:00</td>\n",
       "      <td>2019-12-31 00:30:00</td>\n",
       "      <td>7 days 12:13:00</td>\n",
       "      <td>180.216667</td>\n",
       "      <td>9 days 18:08:00</td>\n",
       "      <td>234.133333</td>\n",
       "      <td>35873</td>\n",
       "      <td>63500</td>\n",
       "      <td>21216</td>\n",
       "      <td>81153</td>\n",
       "      <td>61453.089535</td>\n",
       "      <td>340.995595</td>\n",
       "      <td>BULK4</td>\n",
       "    </tr>\n",
       "    <tr>\n",
       "      <th>32</th>\n",
       "      <td>IMAVERE</td>\n",
       "      <td>2020-01-02 06:25:00</td>\n",
       "      <td>2020-01-09 09:14:00</td>\n",
       "      <td>7 days 02:49:00</td>\n",
       "      <td>170.816667</td>\n",
       "      <td>16 days 03:18:00</td>\n",
       "      <td>387.300000</td>\n",
       "      <td>22746</td>\n",
       "      <td>36746</td>\n",
       "      <td>12344</td>\n",
       "      <td>47922</td>\n",
       "      <td>29891.597910</td>\n",
       "      <td>174.992280</td>\n",
       "      <td>BULK3</td>\n",
       "    </tr>\n",
       "    <tr>\n",
       "      <th>33</th>\n",
       "      <td>TAIZHOU PIONEER</td>\n",
       "      <td>2020-01-18 09:43:00</td>\n",
       "      <td>2020-01-21 08:06:00</td>\n",
       "      <td>2 days 22:23:00</td>\n",
       "      <td>70.383333</td>\n",
       "      <td>16 days 12:03:00</td>\n",
       "      <td>396.050000</td>\n",
       "      <td>20954</td>\n",
       "      <td>32391</td>\n",
       "      <td>11781</td>\n",
       "      <td>43460</td>\n",
       "      <td>27108.402090</td>\n",
       "      <td>385.153712</td>\n",
       "      <td>BULK2</td>\n",
       "    </tr>\n",
       "    <tr>\n",
       "      <th>34</th>\n",
       "      <td>ARETI.GR</td>\n",
       "      <td>2020-02-03 21:46:00</td>\n",
       "      <td>2020-02-10 12:25:00</td>\n",
       "      <td>6 days 14:39:00</td>\n",
       "      <td>158.650000</td>\n",
       "      <td>9 days 07:48:00</td>\n",
       "      <td>223.800000</td>\n",
       "      <td>34187</td>\n",
       "      <td>60243</td>\n",
       "      <td>19944</td>\n",
       "      <td>76288</td>\n",
       "      <td>46493.758660</td>\n",
       "      <td>293.058674</td>\n",
       "      <td>BULK4</td>\n",
       "    </tr>\n",
       "    <tr>\n",
       "      <th>35</th>\n",
       "      <td>CIELO DI VALPARAISO</td>\n",
       "      <td>2020-02-13 05:34:00</td>\n",
       "      <td>2020-02-20 18:14:00</td>\n",
       "      <td>7 days 12:40:00</td>\n",
       "      <td>180.666667</td>\n",
       "      <td>14 days 11:22:00</td>\n",
       "      <td>347.366667</td>\n",
       "      <td>25303</td>\n",
       "      <td>39202</td>\n",
       "      <td>13035</td>\n",
       "      <td>49500</td>\n",
       "      <td>30167.793310</td>\n",
       "      <td>166.980406</td>\n",
       "      <td>BULK3</td>\n",
       "    </tr>\n",
       "    <tr>\n",
       "      <th>36</th>\n",
       "      <td>PRT ACE</td>\n",
       "      <td>2020-02-27 16:56:00</td>\n",
       "      <td>2020-03-05 00:04:00</td>\n",
       "      <td>6 days 07:08:00</td>\n",
       "      <td>151.133333</td>\n",
       "      <td>21 days 07:32:00</td>\n",
       "      <td>511.533333</td>\n",
       "      <td>34815</td>\n",
       "      <td>61290</td>\n",
       "      <td>20209</td>\n",
       "      <td>77674</td>\n",
       "      <td>47338.448030</td>\n",
       "      <td>313.223079</td>\n",
       "      <td>BULK4</td>\n",
       "    </tr>\n",
       "    <tr>\n",
       "      <th>37</th>\n",
       "      <td>IDEE FIXE</td>\n",
       "      <td>2020-03-20 00:28:00</td>\n",
       "      <td>2020-03-25 17:01:00</td>\n",
       "      <td>5 days 16:33:00</td>\n",
       "      <td>136.550000</td>\n",
       "      <td>8 days 03:43:00</td>\n",
       "      <td>195.716667</td>\n",
       "      <td>36295</td>\n",
       "      <td>63458</td>\n",
       "      <td>21588</td>\n",
       "      <td>78500</td>\n",
       "      <td>66234.375000</td>\n",
       "      <td>485.055840</td>\n",
       "      <td>BULK4</td>\n",
       "    </tr>\n",
       "    <tr>\n",
       "      <th>38</th>\n",
       "      <td>LEGIONY POLSKIE</td>\n",
       "      <td>2020-03-28 04:11:00</td>\n",
       "      <td>2020-04-01 18:40:00</td>\n",
       "      <td>4 days 14:29:00</td>\n",
       "      <td>110.483333</td>\n",
       "      <td>11 days 22:44:00</td>\n",
       "      <td>286.733333</td>\n",
       "      <td>25278</td>\n",
       "      <td>39072</td>\n",
       "      <td>12980</td>\n",
       "      <td>49500</td>\n",
       "      <td>41765.625000</td>\n",
       "      <td>378.026475</td>\n",
       "      <td>BULK3</td>\n",
       "    </tr>\n",
       "    <tr>\n",
       "      <th>39</th>\n",
       "      <td>IMAVERE</td>\n",
       "      <td>2020-04-09 02:55:00</td>\n",
       "      <td>2020-04-12 10:10:00</td>\n",
       "      <td>3 days 07:15:00</td>\n",
       "      <td>79.250000</td>\n",
       "      <td>3 days 14:47:00</td>\n",
       "      <td>86.783333</td>\n",
       "      <td>22746</td>\n",
       "      <td>36746</td>\n",
       "      <td>12344</td>\n",
       "      <td>47922</td>\n",
       "      <td>32349.155200</td>\n",
       "      <td>408.191233</td>\n",
       "      <td>BULK3</td>\n",
       "    </tr>\n",
       "    <tr>\n",
       "      <th>40</th>\n",
       "      <td>AMIS POWER</td>\n",
       "      <td>2020-04-12 17:42:00</td>\n",
       "      <td>2020-04-16 11:34:00</td>\n",
       "      <td>3 days 17:52:00</td>\n",
       "      <td>89.866667</td>\n",
       "      <td>6 days 18:57:00</td>\n",
       "      <td>162.950000</td>\n",
       "      <td>35607</td>\n",
       "      <td>64012</td>\n",
       "      <td>21466</td>\n",
       "      <td>79014</td>\n",
       "      <td>34288.345550</td>\n",
       "      <td>381.546872</td>\n",
       "      <td>BULK4</td>\n",
       "    </tr>\n",
       "    <tr>\n",
       "      <th>41</th>\n",
       "      <td>NORD TREASURE</td>\n",
       "      <td>2020-04-19 12:39:00</td>\n",
       "      <td>2020-04-26 00:47:00</td>\n",
       "      <td>6 days 12:08:00</td>\n",
       "      <td>156.133333</td>\n",
       "      <td>9 days 16:40:00</td>\n",
       "      <td>232.666667</td>\n",
       "      <td>31882</td>\n",
       "      <td>55888</td>\n",
       "      <td>18495</td>\n",
       "      <td>71039</td>\n",
       "      <td>47954.001000</td>\n",
       "      <td>307.134934</td>\n",
       "      <td>BULK3</td>\n",
       "    </tr>\n",
       "    <tr>\n",
       "      <th>42</th>\n",
       "      <td>NORDMOSEL</td>\n",
       "      <td>2020-04-29 05:19:00</td>\n",
       "      <td>2020-05-03 10:59:00</td>\n",
       "      <td>4 days 05:40:00</td>\n",
       "      <td>101.666667</td>\n",
       "      <td>7 days 08:18:00</td>\n",
       "      <td>176.300000</td>\n",
       "      <td>25546</td>\n",
       "      <td>39968</td>\n",
       "      <td>13670</td>\n",
       "      <td>50900</td>\n",
       "      <td>34359.417380</td>\n",
       "      <td>337.961482</td>\n",
       "      <td>BULK3</td>\n",
       "    </tr>\n",
       "    <tr>\n",
       "      <th>43</th>\n",
       "      <td>ALORA</td>\n",
       "      <td>2020-05-06 13:37:00</td>\n",
       "      <td>2020-05-12 03:18:00</td>\n",
       "      <td>5 days 13:41:00</td>\n",
       "      <td>133.683333</td>\n",
       "      <td>11 days 02:50:00</td>\n",
       "      <td>266.833333</td>\n",
       "      <td>35884</td>\n",
       "      <td>63500</td>\n",
       "      <td>21200</td>\n",
       "      <td>77493</td>\n",
       "      <td>59956.969900</td>\n",
       "      <td>448.499962</td>\n",
       "      <td>BULK4</td>\n",
       "    </tr>\n",
       "    <tr>\n",
       "      <th>44</th>\n",
       "      <td>CANADIAN BULKER</td>\n",
       "      <td>2020-05-17 16:27:00</td>\n",
       "      <td>2020-05-21 18:06:00</td>\n",
       "      <td>4 days 01:39:00</td>\n",
       "      <td>97.650000</td>\n",
       "      <td>5 days 15:13:00</td>\n",
       "      <td>135.216667</td>\n",
       "      <td>25189</td>\n",
       "      <td>39300</td>\n",
       "      <td>12869</td>\n",
       "      <td>49225</td>\n",
       "      <td>38086.060210</td>\n",
       "      <td>390.026218</td>\n",
       "      <td>BULK3</td>\n",
       "    </tr>\n",
       "    <tr>\n",
       "      <th>45</th>\n",
       "      <td>CAPE CROSS</td>\n",
       "      <td>2020-05-23 07:40:00</td>\n",
       "      <td>2020-06-02 01:16:00</td>\n",
       "      <td>9 days 17:36:00</td>\n",
       "      <td>233.600000</td>\n",
       "      <td>12 days 18:15:00</td>\n",
       "      <td>306.250000</td>\n",
       "      <td>35872</td>\n",
       "      <td>63155</td>\n",
       "      <td>21223</td>\n",
       "      <td>77493</td>\n",
       "      <td>59956.969900</td>\n",
       "      <td>256.665111</td>\n",
       "      <td>BULK4</td>\n",
       "    </tr>\n",
       "    <tr>\n",
       "      <th>46</th>\n",
       "      <td>BUNUN KALON</td>\n",
       "      <td>2020-06-05 01:55:00</td>\n",
       "      <td>2020-06-09 14:39:00</td>\n",
       "      <td>4 days 12:44:00</td>\n",
       "      <td>108.733333</td>\n",
       "      <td>16 days 08:03:00</td>\n",
       "      <td>392.050000</td>\n",
       "      <td>23239</td>\n",
       "      <td>37653</td>\n",
       "      <td>12101</td>\n",
       "      <td>46994</td>\n",
       "      <td>46645.911160</td>\n",
       "      <td>428.993665</td>\n",
       "      <td>BULK3</td>\n",
       "    </tr>\n",
       "    <tr>\n",
       "      <th>47</th>\n",
       "      <td>SMEW</td>\n",
       "      <td>2020-06-21 09:58:00</td>\n",
       "      <td>2020-06-24 22:05:00</td>\n",
       "      <td>3 days 12:07:00</td>\n",
       "      <td>84.116667</td>\n",
       "      <td>12 days 03:16:00</td>\n",
       "      <td>291.266667</td>\n",
       "      <td>23433</td>\n",
       "      <td>35998</td>\n",
       "      <td>11912</td>\n",
       "      <td>46700</td>\n",
       "      <td>46354.088840</td>\n",
       "      <td>551.069017</td>\n",
       "      <td>BULK3</td>\n",
       "    </tr>\n",
       "    <tr>\n",
       "      <th>48</th>\n",
       "      <td>MEDI ATLANTICO</td>\n",
       "      <td>2020-07-03 13:14:00</td>\n",
       "      <td>2020-07-10 14:06:00</td>\n",
       "      <td>7 days 00:52:00</td>\n",
       "      <td>168.866667</td>\n",
       "      <td>7 days 01:28:00</td>\n",
       "      <td>169.466667</td>\n",
       "      <td>34049</td>\n",
       "      <td>60550</td>\n",
       "      <td>19883</td>\n",
       "      <td>76518</td>\n",
       "      <td>60497.555820</td>\n",
       "      <td>358.256351</td>\n",
       "      <td>BULK4</td>\n",
       "    </tr>\n",
       "    <tr>\n",
       "      <th>49</th>\n",
       "      <td>AMSTEL CONFIDENCE</td>\n",
       "      <td>2020-07-10 14:42:00</td>\n",
       "      <td>2020-07-15 02:53:00</td>\n",
       "      <td>4 days 12:11:00</td>\n",
       "      <td>108.183333</td>\n",
       "      <td>4 days 12:52:00</td>\n",
       "      <td>108.866667</td>\n",
       "      <td>24020</td>\n",
       "      <td>38503</td>\n",
       "      <td>12015</td>\n",
       "      <td>48141</td>\n",
       "      <td>38061.800290</td>\n",
       "      <td>351.826840</td>\n",
       "      <td>BULK3</td>\n",
       "    </tr>\n",
       "    <tr>\n",
       "      <th>50</th>\n",
       "      <td>IMAVERE</td>\n",
       "      <td>2020-07-15 03:34:00</td>\n",
       "      <td>2020-07-19 00:04:00</td>\n",
       "      <td>3 days 20:30:00</td>\n",
       "      <td>92.500000</td>\n",
       "      <td>6 days 11:47:00</td>\n",
       "      <td>155.783333</td>\n",
       "      <td>22746</td>\n",
       "      <td>36746</td>\n",
       "      <td>12344</td>\n",
       "      <td>47922</td>\n",
       "      <td>37888.651950</td>\n",
       "      <td>409.607048</td>\n",
       "      <td>BULK3</td>\n",
       "    </tr>\n",
       "    <tr>\n",
       "      <th>51</th>\n",
       "      <td>VIYADA NAREE</td>\n",
       "      <td>2020-07-21 15:21:00</td>\n",
       "      <td>2020-07-26 03:31:00</td>\n",
       "      <td>4 days 12:10:00</td>\n",
       "      <td>108.166667</td>\n",
       "      <td>13 days 11:35:00</td>\n",
       "      <td>323.583333</td>\n",
       "      <td>24235</td>\n",
       "      <td>38716</td>\n",
       "      <td>12826</td>\n",
       "      <td>48761</td>\n",
       "      <td>38551.991940</td>\n",
       "      <td>356.412868</td>\n",
       "      <td>BULK3</td>\n",
       "    </tr>\n",
       "    <tr>\n",
       "      <th>52</th>\n",
       "      <td>BELRAY</td>\n",
       "      <td>2020-08-04 02:56:00</td>\n",
       "      <td>2020-08-09 19:28:00</td>\n",
       "      <td>5 days 16:32:00</td>\n",
       "      <td>136.533333</td>\n",
       "      <td>7 days 17:15:00</td>\n",
       "      <td>185.250000</td>\n",
       "      <td>35048</td>\n",
       "      <td>61379</td>\n",
       "      <td>20127</td>\n",
       "      <td>77387</td>\n",
       "      <td>54355.333270</td>\n",
       "      <td>398.110351</td>\n",
       "      <td>BULK4</td>\n",
       "    </tr>\n",
       "    <tr>\n",
       "      <th>53</th>\n",
       "      <td>IMAVERE</td>\n",
       "      <td>2020-08-11 20:11:00</td>\n",
       "      <td>2020-08-17 17:10:00</td>\n",
       "      <td>5 days 20:59:00</td>\n",
       "      <td>140.983333</td>\n",
       "      <td>8 days 07:04:00</td>\n",
       "      <td>199.066667</td>\n",
       "      <td>22746</td>\n",
       "      <td>36746</td>\n",
       "      <td>12344</td>\n",
       "      <td>47922</td>\n",
       "      <td>33659.610540</td>\n",
       "      <td>238.748863</td>\n",
       "      <td>BULK3</td>\n",
       "    </tr>\n",
       "    <tr>\n",
       "      <th>54</th>\n",
       "      <td>STAR MARU</td>\n",
       "      <td>2020-08-20 03:15:00</td>\n",
       "      <td>2020-08-30 12:15:00</td>\n",
       "      <td>10 days 09:00:00</td>\n",
       "      <td>249.000000</td>\n",
       "      <td>15 days 13:25:00</td>\n",
       "      <td>373.416667</td>\n",
       "      <td>36463</td>\n",
       "      <td>64061</td>\n",
       "      <td>21202</td>\n",
       "      <td>81131</td>\n",
       "      <td>56985.056190</td>\n",
       "      <td>228.855647</td>\n",
       "      <td>BULK4</td>\n",
       "    </tr>\n",
       "    <tr>\n",
       "      <th>55</th>\n",
       "      <td>LAST TYCOON</td>\n",
       "      <td>2020-09-04 16:40:00</td>\n",
       "      <td>2020-09-09 02:57:00</td>\n",
       "      <td>4 days 10:17:00</td>\n",
       "      <td>106.283333</td>\n",
       "      <td>9 days 14:16:00</td>\n",
       "      <td>230.266667</td>\n",
       "      <td>22549</td>\n",
       "      <td>34569</td>\n",
       "      <td>11772</td>\n",
       "      <td>45538</td>\n",
       "      <td>44045.988410</td>\n",
       "      <td>414.420465</td>\n",
       "      <td>BULK2</td>\n",
       "    </tr>\n",
       "    <tr>\n",
       "      <th>58</th>\n",
       "      <td>NORD KITAN</td>\n",
       "      <td>2020-10-21 17:23:00</td>\n",
       "      <td>2020-10-27 17:45:00</td>\n",
       "      <td>6 days 00:22:00</td>\n",
       "      <td>144.366667</td>\n",
       "      <td>13 days 22:54:00</td>\n",
       "      <td>334.900000</td>\n",
       "      <td>34808</td>\n",
       "      <td>60195</td>\n",
       "      <td>19834</td>\n",
       "      <td>76554</td>\n",
       "      <td>80833.416150</td>\n",
       "      <td>559.917452</td>\n",
       "      <td>BULK4</td>\n",
       "    </tr>\n",
       "    <tr>\n",
       "      <th>59</th>\n",
       "      <td>TCZEW</td>\n",
       "      <td>2020-11-04 16:17:00</td>\n",
       "      <td>2020-11-13 23:37:00</td>\n",
       "      <td>9 days 07:20:00</td>\n",
       "      <td>223.333333</td>\n",
       "      <td>16 days 01:41:00</td>\n",
       "      <td>385.683333</td>\n",
       "      <td>25278</td>\n",
       "      <td>39072</td>\n",
       "      <td>13200</td>\n",
       "      <td>50491</td>\n",
       "      <td>31422.712170</td>\n",
       "      <td>140.698711</td>\n",
       "      <td>BULK3</td>\n",
       "    </tr>\n",
       "    <tr>\n",
       "      <th>60</th>\n",
       "      <td>KYPROS SPIRIT</td>\n",
       "      <td>2020-11-20 17:58:00</td>\n",
       "      <td>2020-11-29 13:28:00</td>\n",
       "      <td>8 days 19:30:00</td>\n",
       "      <td>211.500000</td>\n",
       "      <td>12 days 09:54:00</td>\n",
       "      <td>297.900000</td>\n",
       "      <td>41759</td>\n",
       "      <td>77998</td>\n",
       "      <td>26050</td>\n",
       "      <td>90911</td>\n",
       "      <td>56577.287830</td>\n",
       "      <td>267.504907</td>\n",
       "      <td>BULK4</td>\n",
       "    </tr>\n",
       "    <tr>\n",
       "      <th>61</th>\n",
       "      <td>GIANTS CAUSEWAY</td>\n",
       "      <td>2020-12-03 03:52:00</td>\n",
       "      <td>2020-12-12 05:04:00</td>\n",
       "      <td>9 days 01:12:00</td>\n",
       "      <td>217.200000</td>\n",
       "      <td>13 days 18:38:00</td>\n",
       "      <td>330.633333</td>\n",
       "      <td>35872</td>\n",
       "      <td>63197</td>\n",
       "      <td>21223</td>\n",
       "      <td>77493</td>\n",
       "      <td>57780.493060</td>\n",
       "      <td>266.024370</td>\n",
       "      <td>BULK4</td>\n",
       "    </tr>\n",
       "    <tr>\n",
       "      <th>62</th>\n",
       "      <td>COE LAURA</td>\n",
       "      <td>2020-12-16 22:30:00</td>\n",
       "      <td>2020-12-20 00:42:00</td>\n",
       "      <td>3 days 02:12:00</td>\n",
       "      <td>74.200000</td>\n",
       "      <td>3 days 10:10:00</td>\n",
       "      <td>82.166667</td>\n",
       "      <td>7341</td>\n",
       "      <td>12523</td>\n",
       "      <td>4279</td>\n",
       "      <td>14950</td>\n",
       "      <td>11147.050330</td>\n",
       "      <td>150.229789</td>\n",
       "      <td>BULK2</td>\n",
       "    </tr>\n",
       "    <tr>\n",
       "      <th>63</th>\n",
       "      <td>GREEN GEM</td>\n",
       "      <td>2020-12-20 08:40:00</td>\n",
       "      <td>2020-12-27 18:09:00</td>\n",
       "      <td>7 days 09:29:00</td>\n",
       "      <td>177.483333</td>\n",
       "      <td>8 days 03:33:00</td>\n",
       "      <td>195.550000</td>\n",
       "      <td>23885</td>\n",
       "      <td>38503</td>\n",
       "      <td>12685</td>\n",
       "      <td>48502</td>\n",
       "      <td>36164.162880</td>\n",
       "      <td>203.760895</td>\n",
       "      <td>BULK3</td>\n",
       "    </tr>\n",
       "  </tbody>\n",
       "</table>\n",
       "</div>"
      ],
      "text/plain": [
       "                   NAME            ARRIVING             LEAVING  \\\n",
       "0          NORD PACIFIC 2019-01-04 13:24:00 2019-01-09 18:33:00   \n",
       "1           EMMA BULKER 2019-01-11 05:26:00 2019-01-14 18:50:00   \n",
       "3                 YULIA 2019-02-14 20:37:00 2019-02-17 08:16:00   \n",
       "5            PU LAN HAI 2019-03-05 18:08:00 2019-03-14 02:15:00   \n",
       "6          VENTURE LUCK 2019-03-19 10:26:00 2019-03-22 20:11:00   \n",
       "7        GOODWYN ISLAND 2019-04-18 13:52:00 2019-04-22 17:45:00   \n",
       "8        SANTA KATARINA 2019-04-23 17:26:00 2019-04-30 22:21:00   \n",
       "9         NORD BOSPORUS 2019-05-10 05:41:00 2019-05-14 11:48:00   \n",
       "10              IMAVERE 2019-05-14 12:25:00 2019-05-22 15:36:00   \n",
       "11         CLIPPER SELO 2019-06-02 01:53:00 2019-06-05 18:37:00   \n",
       "12              IMAVERE 2019-06-08 04:49:00 2019-06-14 23:06:00   \n",
       "13                 OLGA 2019-06-20 21:02:00 2019-06-22 20:41:00   \n",
       "14        CHILOE ISLAND 2019-06-24 06:53:00 2019-07-02 16:55:00   \n",
       "15            SPAR PAVO 2019-07-07 18:56:00 2019-07-16 13:31:00   \n",
       "16           IKAN LEBAN 2019-07-22 05:35:00 2019-07-26 14:19:00   \n",
       "17         AEGEAN SPIRE 2019-08-06 19:15:00 2019-08-11 03:24:00   \n",
       "18                TCZEW 2019-08-18 03:46:00 2019-08-21 17:28:00   \n",
       "19    IJSSEL CONFIDENCE 2019-08-22 21:51:00 2019-08-27 01:06:00   \n",
       "20              IMAVERE 2019-09-01 03:28:00 2019-09-06 23:57:00   \n",
       "21           IKAN LEBAN 2019-09-18 21:58:00 2019-09-27 00:12:00   \n",
       "22              IMAVERE 2019-09-29 02:26:00 2019-10-04 23:32:00   \n",
       "23            TAMPA BAY 2019-10-07 16:15:00 2019-10-13 23:56:00   \n",
       "24            AGGELOS B 2019-10-19 05:29:00 2019-10-25 14:30:00   \n",
       "25              IMAVERE 2019-10-30 03:38:00 2019-11-04 08:38:00   \n",
       "26           BULK VENUS 2019-11-09 13:01:00 2019-11-20 11:24:00   \n",
       "27          WU GUI SHAN 2019-11-24 00:01:00 2019-12-02 11:45:00   \n",
       "28              IMAVERE 2019-12-02 12:34:00 2019-12-06 00:48:00   \n",
       "29              ISADORA 2019-12-11 01:21:00 2019-12-14 16:32:00   \n",
       "30             VALKYRIE 2019-12-15 16:14:00 2019-12-22 04:48:00   \n",
       "31             STAR EOS 2019-12-23 12:17:00 2019-12-31 00:30:00   \n",
       "32              IMAVERE 2020-01-02 06:25:00 2020-01-09 09:14:00   \n",
       "33      TAIZHOU PIONEER 2020-01-18 09:43:00 2020-01-21 08:06:00   \n",
       "34             ARETI.GR 2020-02-03 21:46:00 2020-02-10 12:25:00   \n",
       "35  CIELO DI VALPARAISO 2020-02-13 05:34:00 2020-02-20 18:14:00   \n",
       "36              PRT ACE 2020-02-27 16:56:00 2020-03-05 00:04:00   \n",
       "37            IDEE FIXE 2020-03-20 00:28:00 2020-03-25 17:01:00   \n",
       "38      LEGIONY POLSKIE 2020-03-28 04:11:00 2020-04-01 18:40:00   \n",
       "39              IMAVERE 2020-04-09 02:55:00 2020-04-12 10:10:00   \n",
       "40           AMIS POWER 2020-04-12 17:42:00 2020-04-16 11:34:00   \n",
       "41        NORD TREASURE 2020-04-19 12:39:00 2020-04-26 00:47:00   \n",
       "42            NORDMOSEL 2020-04-29 05:19:00 2020-05-03 10:59:00   \n",
       "43                ALORA 2020-05-06 13:37:00 2020-05-12 03:18:00   \n",
       "44      CANADIAN BULKER 2020-05-17 16:27:00 2020-05-21 18:06:00   \n",
       "45           CAPE CROSS 2020-05-23 07:40:00 2020-06-02 01:16:00   \n",
       "46          BUNUN KALON 2020-06-05 01:55:00 2020-06-09 14:39:00   \n",
       "47                 SMEW 2020-06-21 09:58:00 2020-06-24 22:05:00   \n",
       "48       MEDI ATLANTICO 2020-07-03 13:14:00 2020-07-10 14:06:00   \n",
       "49    AMSTEL CONFIDENCE 2020-07-10 14:42:00 2020-07-15 02:53:00   \n",
       "50              IMAVERE 2020-07-15 03:34:00 2020-07-19 00:04:00   \n",
       "51         VIYADA NAREE 2020-07-21 15:21:00 2020-07-26 03:31:00   \n",
       "52               BELRAY 2020-08-04 02:56:00 2020-08-09 19:28:00   \n",
       "53              IMAVERE 2020-08-11 20:11:00 2020-08-17 17:10:00   \n",
       "54            STAR MARU 2020-08-20 03:15:00 2020-08-30 12:15:00   \n",
       "55          LAST TYCOON 2020-09-04 16:40:00 2020-09-09 02:57:00   \n",
       "58           NORD KITAN 2020-10-21 17:23:00 2020-10-27 17:45:00   \n",
       "59                TCZEW 2020-11-04 16:17:00 2020-11-13 23:37:00   \n",
       "60        KYPROS SPIRIT 2020-11-20 17:58:00 2020-11-29 13:28:00   \n",
       "61      GIANTS CAUSEWAY 2020-12-03 03:52:00 2020-12-12 05:04:00   \n",
       "62            COE LAURA 2020-12-16 22:30:00 2020-12-20 00:42:00   \n",
       "63            GREEN GEM 2020-12-20 08:40:00 2020-12-27 18:09:00   \n",
       "\n",
       "             SERVICE  SERVICEhours          INTERVAL  INTERVALhours     GT  \\\n",
       "0    5 days 05:09:00    125.150000   6 days 16:02:00     160.033333  35035   \n",
       "1    3 days 13:24:00     85.400000  30 days 23:01:00     743.016667  19812   \n",
       "3    2 days 11:39:00     59.650000  13 days 14:52:00     326.866667  19814   \n",
       "5    8 days 08:07:00    200.116667  13 days 16:18:00     328.300000  33044   \n",
       "6    3 days 09:45:00     81.750000  30 days 03:26:00     723.433333  26411   \n",
       "7    4 days 03:53:00     99.883333   5 days 03:34:00     123.566667  35684   \n",
       "8    7 days 04:55:00    172.916667  16 days 12:15:00     396.250000  32287   \n",
       "9    4 days 06:07:00    102.116667   4 days 06:44:00     102.733333  34589   \n",
       "10   8 days 03:11:00    195.183333  18 days 13:28:00     445.466667  22746   \n",
       "11   3 days 16:44:00     88.733333   6 days 02:56:00     146.933333  20924   \n",
       "12   6 days 18:17:00    162.283333  12 days 16:13:00     304.216667  22746   \n",
       "13   1 days 23:39:00     47.650000   3 days 09:51:00      81.850000  11121   \n",
       "14   8 days 10:02:00    202.033333  13 days 12:03:00     324.050000  32377   \n",
       "15   8 days 18:35:00    210.583333  14 days 10:39:00     346.650000  36313   \n",
       "16   4 days 08:44:00    104.733333  15 days 13:40:00     373.666667  22852   \n",
       "17   4 days 08:09:00    104.150000  11 days 08:31:00     272.516667  21211   \n",
       "18   3 days 13:42:00     85.700000   4 days 18:05:00     114.083333  25278   \n",
       "19   4 days 03:15:00     99.250000   9 days 05:37:00     221.616667  23264   \n",
       "20   5 days 20:29:00    140.483333  17 days 18:30:00     426.500000  22746   \n",
       "21   8 days 02:14:00    194.233333  10 days 04:28:00     244.466667  22852   \n",
       "22   5 days 21:06:00    141.100000   8 days 13:49:00     205.816667  22746   \n",
       "23   6 days 07:41:00    151.683333  11 days 13:14:00     277.233333  17979   \n",
       "24   6 days 09:01:00    153.016667  10 days 22:09:00     262.150000  34374   \n",
       "25   5 days 05:00:00    125.000000  10 days 09:23:00     249.383333  22746   \n",
       "26  10 days 22:23:00    262.383333  14 days 11:00:00     347.000000  35832   \n",
       "27   8 days 11:44:00    203.733333   8 days 12:33:00     204.550000  36415   \n",
       "28   3 days 12:14:00     84.233333   8 days 12:47:00     204.783333  22746   \n",
       "29   3 days 15:11:00     87.183333   4 days 14:53:00     110.883333  21387   \n",
       "30   6 days 12:34:00    156.566667   7 days 20:03:00     188.050000  34618   \n",
       "31   7 days 12:13:00    180.216667   9 days 18:08:00     234.133333  35873   \n",
       "32   7 days 02:49:00    170.816667  16 days 03:18:00     387.300000  22746   \n",
       "33   2 days 22:23:00     70.383333  16 days 12:03:00     396.050000  20954   \n",
       "34   6 days 14:39:00    158.650000   9 days 07:48:00     223.800000  34187   \n",
       "35   7 days 12:40:00    180.666667  14 days 11:22:00     347.366667  25303   \n",
       "36   6 days 07:08:00    151.133333  21 days 07:32:00     511.533333  34815   \n",
       "37   5 days 16:33:00    136.550000   8 days 03:43:00     195.716667  36295   \n",
       "38   4 days 14:29:00    110.483333  11 days 22:44:00     286.733333  25278   \n",
       "39   3 days 07:15:00     79.250000   3 days 14:47:00      86.783333  22746   \n",
       "40   3 days 17:52:00     89.866667   6 days 18:57:00     162.950000  35607   \n",
       "41   6 days 12:08:00    156.133333   9 days 16:40:00     232.666667  31882   \n",
       "42   4 days 05:40:00    101.666667   7 days 08:18:00     176.300000  25546   \n",
       "43   5 days 13:41:00    133.683333  11 days 02:50:00     266.833333  35884   \n",
       "44   4 days 01:39:00     97.650000   5 days 15:13:00     135.216667  25189   \n",
       "45   9 days 17:36:00    233.600000  12 days 18:15:00     306.250000  35872   \n",
       "46   4 days 12:44:00    108.733333  16 days 08:03:00     392.050000  23239   \n",
       "47   3 days 12:07:00     84.116667  12 days 03:16:00     291.266667  23433   \n",
       "48   7 days 00:52:00    168.866667   7 days 01:28:00     169.466667  34049   \n",
       "49   4 days 12:11:00    108.183333   4 days 12:52:00     108.866667  24020   \n",
       "50   3 days 20:30:00     92.500000   6 days 11:47:00     155.783333  22746   \n",
       "51   4 days 12:10:00    108.166667  13 days 11:35:00     323.583333  24235   \n",
       "52   5 days 16:32:00    136.533333   7 days 17:15:00     185.250000  35048   \n",
       "53   5 days 20:59:00    140.983333   8 days 07:04:00     199.066667  22746   \n",
       "54  10 days 09:00:00    249.000000  15 days 13:25:00     373.416667  36463   \n",
       "55   4 days 10:17:00    106.283333   9 days 14:16:00     230.266667  22549   \n",
       "58   6 days 00:22:00    144.366667  13 days 22:54:00     334.900000  34808   \n",
       "59   9 days 07:20:00    223.333333  16 days 01:41:00     385.683333  25278   \n",
       "60   8 days 19:30:00    211.500000  12 days 09:54:00     297.900000  41759   \n",
       "61   9 days 01:12:00    217.200000  13 days 18:38:00     330.633333  35872   \n",
       "62   3 days 02:12:00     74.200000   3 days 10:10:00      82.166667   7341   \n",
       "63   7 days 09:29:00    177.483333   8 days 03:33:00     195.550000  23885   \n",
       "\n",
       "      DWT  NetTonnage  GrainVolume      Shipload  HandlingRate  Class  \n",
       "0   61221       19844        77476  67725.254540    541.152653  BULK4  \n",
       "1   31887       10395        40454  35332.502330    413.729535  BULK2  \n",
       "3   30878       10208        38635  32033.757770    537.028630  BULK2  \n",
       "5   56897       19231        71634  52778.510580    263.738705  BULK3  \n",
       "6   43413       13855        53000  39049.348920    477.667877  BULK3  \n",
       "7   63963       21466        79014  63022.445170    630.960572  BULK4  \n",
       "8   58096       19458        72689  57977.554830    335.291883  BULK3  \n",
       "9   60457       19663        76121  65662.286470    643.012435  BULK4  \n",
       "10  36746       12344        47922  41337.713530    211.789157  BULK3  \n",
       "11  32389       11786        42565  37909.039210    427.224334  BULK2  \n",
       "12  36746       12344        47922  42680.065240    262.997218  BULK3  \n",
       "13  18319        6859        23212  20672.961780    433.850195  BULK2  \n",
       "14  58044       19458        72689  64737.933770    320.431944  BULK3  \n",
       "15  63800       21585        78500  50526.993320    239.938235  BULK4  \n",
       "16  37000       12602        45790  29473.006680    281.409994  BULK3  \n",
       "17  33401       11444        44636  37026.057680    355.507035  BULK2  \n",
       "18  39072       13200        50491  41883.231490    488.719154  BULK3  \n",
       "19  38243       12134        47125  39090.710820    393.861066  BULK3  \n",
       "20  36746       12344        47922  30451.586480    216.762984  BULK3  \n",
       "21  37000       12602        45790  29096.827030    149.803468  BULK3  \n",
       "22  36746       12344        47922  30451.586480    215.815638  BULK3  \n",
       "23  29671       10748        40031  29282.094357    193.047540  BULK2  \n",
       "24  58480       19571        75531  58019.275347    379.169646  BULK3  \n",
       "25  36746       12344        47922  37682.743228    301.461946  BULK3  \n",
       "26  63371       20839        80497  61986.073954    236.242421  BULK4  \n",
       "27  63590       19142        71634  57091.945150    280.228788  BULK4  \n",
       "28  36746       12344        47922  37682.743228    447.361415  BULK3  \n",
       "29  34948       11629        45632  36327.688700    416.681576  BULK2  \n",
       "30  61230       20170        77539  59479.756191    379.900508  BULK4  \n",
       "31  63500       21216        81153  61453.089535    340.995595  BULK4  \n",
       "32  36746       12344        47922  29891.597910    174.992280  BULK3  \n",
       "33  32391       11781        43460  27108.402090    385.153712  BULK2  \n",
       "34  60243       19944        76288  46493.758660    293.058674  BULK4  \n",
       "35  39202       13035        49500  30167.793310    166.980406  BULK3  \n",
       "36  61290       20209        77674  47338.448030    313.223079  BULK4  \n",
       "37  63458       21588        78500  66234.375000    485.055840  BULK4  \n",
       "38  39072       12980        49500  41765.625000    378.026475  BULK3  \n",
       "39  36746       12344        47922  32349.155200    408.191233  BULK3  \n",
       "40  64012       21466        79014  34288.345550    381.546872  BULK4  \n",
       "41  55888       18495        71039  47954.001000    307.134934  BULK3  \n",
       "42  39968       13670        50900  34359.417380    337.961482  BULK3  \n",
       "43  63500       21200        77493  59956.969900    448.499962  BULK4  \n",
       "44  39300       12869        49225  38086.060210    390.026218  BULK3  \n",
       "45  63155       21223        77493  59956.969900    256.665111  BULK4  \n",
       "46  37653       12101        46994  46645.911160    428.993665  BULK3  \n",
       "47  35998       11912        46700  46354.088840    551.069017  BULK3  \n",
       "48  60550       19883        76518  60497.555820    358.256351  BULK4  \n",
       "49  38503       12015        48141  38061.800290    351.826840  BULK3  \n",
       "50  36746       12344        47922  37888.651950    409.607048  BULK3  \n",
       "51  38716       12826        48761  38551.991940    356.412868  BULK3  \n",
       "52  61379       20127        77387  54355.333270    398.110351  BULK4  \n",
       "53  36746       12344        47922  33659.610540    238.748863  BULK3  \n",
       "54  64061       21202        81131  56985.056190    228.855647  BULK4  \n",
       "55  34569       11772        45538  44045.988410    414.420465  BULK2  \n",
       "58  60195       19834        76554  80833.416150    559.917452  BULK4  \n",
       "59  39072       13200        50491  31422.712170    140.698711  BULK3  \n",
       "60  77998       26050        90911  56577.287830    267.504907  BULK4  \n",
       "61  63197       21223        77493  57780.493060    266.024370  BULK4  \n",
       "62  12523        4279        14950  11147.050330    150.229789  BULK2  \n",
       "63  38503       12685        48502  36164.162880    203.760895  BULK3  "
      ]
     },
     "execution_count": 13,
     "metadata": {},
     "output_type": "execute_result"
    }
   ],
   "source": [
    "df_clean.head(60)"
   ]
  },
  {
   "cell_type": "code",
   "execution_count": 14,
   "id": "cbf6a1ab",
   "metadata": {},
   "outputs": [
    {
     "data": {
      "text/plain": [
       "345.82680660080496"
      ]
     },
     "execution_count": 14,
     "metadata": {},
     "output_type": "execute_result"
    }
   ],
   "source": [
    "df_clean['HandlingRate'].mean()"
   ]
  },
  {
   "cell_type": "code",
   "execution_count": 15,
   "id": "7416e768",
   "metadata": {},
   "outputs": [],
   "source": [
    "df_small = df_clean[df_clean['DWT'].between(20000,50000)]\n",
    "df_large = df_clean[df_clean['DWT'].between(50000,80000)]"
   ]
  },
  {
   "cell_type": "code",
   "execution_count": 16,
   "id": "262511b0",
   "metadata": {},
   "outputs": [
    {
     "data": {
      "image/png": "[encoded data removed]",
      "text/plain": [
       "<Figure size 432x288 with 1 Axes>"
      ]
     },
     "metadata": {
      "needs_background": "light"
     },
     "output_type": "display_data"
    }
   ],
   "source": [
    "x = df_small['Shipload']\n",
    "y = df_small['HandlingRate']\n",
    "\n",
    "slope, intercept, r, p, std_err = scipy.stats.linregress(x, y)\n",
    "\n",
    "def myfunc(x):\n",
    "  return slope * x + intercept\n",
    "\n",
    "mymodel = list(map(myfunc, x))\n",
    "\n",
    "plt.scatter(x, y)\n",
    "plt.plot(x, mymodel)\n",
    "plt.show()"
   ]
  },
  {
   "cell_type": "code",
   "execution_count": 17,
   "id": "d3786f62",
   "metadata": {},
   "outputs": [
    {
     "data": {
      "text/plain": [
       "(0.011928699746854923, -97.6032404300301)"
      ]
     },
     "execution_count": 17,
     "metadata": {},
     "output_type": "execute_result"
    }
   ],
   "source": [
    "slope, intercept"
   ]
  },
  {
   "cell_type": "code",
   "execution_count": 18,
   "id": "b77a64ce",
   "metadata": {},
   "outputs": [
    {
     "data": {
      "text/plain": [
       "0.5334976053036252"
      ]
     },
     "execution_count": 18,
     "metadata": {},
     "output_type": "execute_result"
    }
   ],
   "source": [
    "r"
   ]
  },
  {
   "cell_type": "code",
   "execution_count": 19,
   "id": "ff2f967e",
   "metadata": {},
   "outputs": [
    {
     "data": {
      "image/png": "[encoded data removed]",
      "text/plain": [
       "<Figure size 432x288 with 1 Axes>"
      ]
     },
     "metadata": {
      "needs_background": "light"
     },
     "output_type": "display_data"
    }
   ],
   "source": [
    "x = df_large['Shipload']\n",
    "y = df_large['HandlingRate']\n",
    "\n",
    "slope, intercept, r, p, std_err = scipy.stats.linregress(x, y)\n",
    "\n",
    "def myfunc(x):\n",
    "  return slope * x + intercept\n",
    "\n",
    "mymodel = list(map(myfunc, x))\n",
    "\n",
    "plt.scatter(x, y)\n",
    "plt.plot(x, mymodel)\n",
    "plt.show()"
   ]
  },
  {
   "cell_type": "code",
   "execution_count": 20,
   "id": "9f70e91d",
   "metadata": {},
   "outputs": [
    {
     "data": {
      "text/plain": [
       "(0.00694699976110053, -36.649593008354714)"
      ]
     },
     "execution_count": 20,
     "metadata": {},
     "output_type": "execute_result"
    }
   ],
   "source": [
    "slope, intercept"
   ]
  },
  {
   "cell_type": "code",
   "execution_count": 21,
   "id": "d9491500",
   "metadata": {},
   "outputs": [
    {
     "data": {
      "text/plain": [
       "0.5043596283511541"
      ]
     },
     "execution_count": 21,
     "metadata": {},
     "output_type": "execute_result"
    }
   ],
   "source": [
    "r"
   ]
  },
  {
   "cell_type": "code",
   "execution_count": null,
   "id": "023b4d18",
   "metadata": {},
   "outputs": [],
   "source": []
  },
  {
   "cell_type": "code",
   "execution_count": null,
   "id": "635440af",
   "metadata": {},
   "outputs": [],
   "source": []
  },
  {
   "cell_type": "code",
   "execution_count": null,
   "id": "de063eff",
   "metadata": {},
   "outputs": [],
   "source": []
  },
  {
   "cell_type": "code",
   "execution_count": 423,
   "id": "d3df9c7c",
   "metadata": {},
   "outputs": [],
   "source": [
    "from sklearn.preprocessing import StandardScaler"
   ]
  },
  {
   "cell_type": "code",
   "execution_count": 425,
   "id": "52b00c96",
   "metadata": {},
   "outputs": [],
   "source": [
    "#scale = StandardScaler()\n",
    "#X = scale.fit_transform(X)"
   ]
  },
  {
   "cell_type": "code",
   "execution_count": 426,
   "id": "4e2d46c9",
   "metadata": {},
   "outputs": [],
   "source": [
    "from sklearn.model_selection import train_test_split"
   ]
  },
  {
   "cell_type": "code",
   "execution_count": 427,
   "id": "03606946",
   "metadata": {},
   "outputs": [],
   "source": [
    "X_train, X_test, y_train, y_test = train_test_split (X ,y ,test_size=0.2, random_state=0)"
   ]
  },
  {
   "cell_type": "code",
   "execution_count": 428,
   "id": "359238b5",
   "metadata": {},
   "outputs": [],
   "source": [
    "from sklearn.preprocessing import PolynomialFeatures"
   ]
  },
  {
   "cell_type": "code",
   "execution_count": 429,
   "id": "868cd83c",
   "metadata": {},
   "outputs": [],
   "source": [
    "poly = PolynomialFeatures(degree=3)"
   ]
  },
  {
   "cell_type": "code",
   "execution_count": 430,
   "id": "7c798d00",
   "metadata": {},
   "outputs": [
    {
     "ename": "ValueError",
     "evalue": "Expected 2D array, got 1D array instead:\narray=[37682.7432279  56985.05619    52172.1405     41337.71353\n 30167.79331    54355.33327    46645.91116    59479.7561908\n 63022.44517    64737.93377    57091.9451499  36908.29373\n 44045.98841    47954.001      34359.41738    80833.41615\n 41883.23149    57780.49306    29891.59791    50526.99332\n 52778.51058    29473.00668    30451.58648    74954.01159\n 57977.55483    20672.96178    37682.7432279  66234.375\n 37026.05768    60497.55582    38551.99194    21166.58385\n 41765.625      35332.50233    42680.06524    38061.80029\n 58019.27534681 39049.34892    29282.09435669 47338.44803\n 37888.65195    29096.82703    39090.71082    65662.28647\n 32349.1552     56577.28783    31422.71217    32033.75777\n 67725.25454    33659.61054    46354.08884    38086.06021   ].\nReshape your data either using array.reshape(-1, 1) if your data has a single feature or array.reshape(1, -1) if it contains a single sample.",
     "output_type": "error",
     "traceback": [
      "\u001b[1;31m---------------------------------------------------------------------------\u001b[0m",
      "\u001b[1;31mValueError\u001b[0m                                Traceback (most recent call last)",
      "\u001b[1;32m<ipython-input-430-66ca730b581d>\u001b[0m in \u001b[0;36m<module>\u001b[1;34m\u001b[0m\n\u001b[1;32m----> 1\u001b[1;33m \u001b[0mX_poly\u001b[0m \u001b[1;33m=\u001b[0m \u001b[0mpoly\u001b[0m\u001b[1;33m.\u001b[0m\u001b[0mfit_transform\u001b[0m\u001b[1;33m(\u001b[0m\u001b[0mX_train\u001b[0m\u001b[1;33m)\u001b[0m\u001b[1;33m\u001b[0m\u001b[1;33m\u001b[0m\u001b[0m\n\u001b[0m",
      "\u001b[1;32m~\\anaconda3\\lib\\site-packages\\sklearn\\base.py\u001b[0m in \u001b[0;36mfit_transform\u001b[1;34m(self, X, y, **fit_params)\u001b[0m\n\u001b[0;32m    697\u001b[0m         \u001b[1;32mif\u001b[0m \u001b[0my\u001b[0m \u001b[1;32mis\u001b[0m \u001b[1;32mNone\u001b[0m\u001b[1;33m:\u001b[0m\u001b[1;33m\u001b[0m\u001b[1;33m\u001b[0m\u001b[0m\n\u001b[0;32m    698\u001b[0m             \u001b[1;31m# fit method of arity 1 (unsupervised transformation)\u001b[0m\u001b[1;33m\u001b[0m\u001b[1;33m\u001b[0m\u001b[1;33m\u001b[0m\u001b[0m\n\u001b[1;32m--> 699\u001b[1;33m             \u001b[1;32mreturn\u001b[0m \u001b[0mself\u001b[0m\u001b[1;33m.\u001b[0m\u001b[0mfit\u001b[0m\u001b[1;33m(\u001b[0m\u001b[0mX\u001b[0m\u001b[1;33m,\u001b[0m \u001b[1;33m**\u001b[0m\u001b[0mfit_params\u001b[0m\u001b[1;33m)\u001b[0m\u001b[1;33m.\u001b[0m\u001b[0mtransform\u001b[0m\u001b[1;33m(\u001b[0m\u001b[0mX\u001b[0m\u001b[1;33m)\u001b[0m\u001b[1;33m\u001b[0m\u001b[1;33m\u001b[0m\u001b[0m\n\u001b[0m\u001b[0;32m    700\u001b[0m         \u001b[1;32melse\u001b[0m\u001b[1;33m:\u001b[0m\u001b[1;33m\u001b[0m\u001b[1;33m\u001b[0m\u001b[0m\n\u001b[0;32m    701\u001b[0m             \u001b[1;31m# fit method of arity 2 (supervised transformation)\u001b[0m\u001b[1;33m\u001b[0m\u001b[1;33m\u001b[0m\u001b[1;33m\u001b[0m\u001b[0m\n",
      "\u001b[1;32m~\\anaconda3\\lib\\site-packages\\sklearn\\preprocessing\\_data.py\u001b[0m in \u001b[0;36mfit\u001b[1;34m(self, X, y)\u001b[0m\n\u001b[0;32m   1702\u001b[0m             \u001b[0mFitted\u001b[0m \u001b[0mtransformer\u001b[0m\u001b[1;33m.\u001b[0m\u001b[1;33m\u001b[0m\u001b[1;33m\u001b[0m\u001b[0m\n\u001b[0;32m   1703\u001b[0m         \"\"\"\n\u001b[1;32m-> 1704\u001b[1;33m         n_samples, n_features = self._validate_data(\n\u001b[0m\u001b[0;32m   1705\u001b[0m             X, accept_sparse=True).shape\n\u001b[0;32m   1706\u001b[0m         combinations = self._combinations(n_features, self.degree,\n",
      "\u001b[1;32m~\\anaconda3\\lib\\site-packages\\sklearn\\base.py\u001b[0m in \u001b[0;36m_validate_data\u001b[1;34m(self, X, y, reset, validate_separately, **check_params)\u001b[0m\n\u001b[0;32m    419\u001b[0m             \u001b[0mout\u001b[0m \u001b[1;33m=\u001b[0m \u001b[0mX\u001b[0m\u001b[1;33m\u001b[0m\u001b[1;33m\u001b[0m\u001b[0m\n\u001b[0;32m    420\u001b[0m         \u001b[1;32melif\u001b[0m \u001b[0misinstance\u001b[0m\u001b[1;33m(\u001b[0m\u001b[0my\u001b[0m\u001b[1;33m,\u001b[0m \u001b[0mstr\u001b[0m\u001b[1;33m)\u001b[0m \u001b[1;32mand\u001b[0m \u001b[0my\u001b[0m \u001b[1;33m==\u001b[0m \u001b[1;34m'no_validation'\u001b[0m\u001b[1;33m:\u001b[0m\u001b[1;33m\u001b[0m\u001b[1;33m\u001b[0m\u001b[0m\n\u001b[1;32m--> 421\u001b[1;33m             \u001b[0mX\u001b[0m \u001b[1;33m=\u001b[0m \u001b[0mcheck_array\u001b[0m\u001b[1;33m(\u001b[0m\u001b[0mX\u001b[0m\u001b[1;33m,\u001b[0m \u001b[1;33m**\u001b[0m\u001b[0mcheck_params\u001b[0m\u001b[1;33m)\u001b[0m\u001b[1;33m\u001b[0m\u001b[1;33m\u001b[0m\u001b[0m\n\u001b[0m\u001b[0;32m    422\u001b[0m             \u001b[0mout\u001b[0m \u001b[1;33m=\u001b[0m \u001b[0mX\u001b[0m\u001b[1;33m\u001b[0m\u001b[1;33m\u001b[0m\u001b[0m\n\u001b[0;32m    423\u001b[0m         \u001b[1;32melse\u001b[0m\u001b[1;33m:\u001b[0m\u001b[1;33m\u001b[0m\u001b[1;33m\u001b[0m\u001b[0m\n",
      "\u001b[1;32m~\\anaconda3\\lib\\site-packages\\sklearn\\utils\\validation.py\u001b[0m in \u001b[0;36minner_f\u001b[1;34m(*args, **kwargs)\u001b[0m\n\u001b[0;32m     61\u001b[0m             \u001b[0mextra_args\u001b[0m \u001b[1;33m=\u001b[0m \u001b[0mlen\u001b[0m\u001b[1;33m(\u001b[0m\u001b[0margs\u001b[0m\u001b[1;33m)\u001b[0m \u001b[1;33m-\u001b[0m \u001b[0mlen\u001b[0m\u001b[1;33m(\u001b[0m\u001b[0mall_args\u001b[0m\u001b[1;33m)\u001b[0m\u001b[1;33m\u001b[0m\u001b[1;33m\u001b[0m\u001b[0m\n\u001b[0;32m     62\u001b[0m             \u001b[1;32mif\u001b[0m \u001b[0mextra_args\u001b[0m \u001b[1;33m<=\u001b[0m \u001b[1;36m0\u001b[0m\u001b[1;33m:\u001b[0m\u001b[1;33m\u001b[0m\u001b[1;33m\u001b[0m\u001b[0m\n\u001b[1;32m---> 63\u001b[1;33m                 \u001b[1;32mreturn\u001b[0m \u001b[0mf\u001b[0m\u001b[1;33m(\u001b[0m\u001b[1;33m*\u001b[0m\u001b[0margs\u001b[0m\u001b[1;33m,\u001b[0m \u001b[1;33m**\u001b[0m\u001b[0mkwargs\u001b[0m\u001b[1;33m)\u001b[0m\u001b[1;33m\u001b[0m\u001b[1;33m\u001b[0m\u001b[0m\n\u001b[0m\u001b[0;32m     64\u001b[0m \u001b[1;33m\u001b[0m\u001b[0m\n\u001b[0;32m     65\u001b[0m             \u001b[1;31m# extra_args > 0\u001b[0m\u001b[1;33m\u001b[0m\u001b[1;33m\u001b[0m\u001b[1;33m\u001b[0m\u001b[0m\n",
      "\u001b[1;32m~\\anaconda3\\lib\\site-packages\\sklearn\\utils\\validation.py\u001b[0m in \u001b[0;36mcheck_array\u001b[1;34m(array, accept_sparse, accept_large_sparse, dtype, order, copy, force_all_finite, ensure_2d, allow_nd, ensure_min_samples, ensure_min_features, estimator)\u001b[0m\n\u001b[0;32m    635\u001b[0m             \u001b[1;31m# If input is 1D raise error\u001b[0m\u001b[1;33m\u001b[0m\u001b[1;33m\u001b[0m\u001b[1;33m\u001b[0m\u001b[0m\n\u001b[0;32m    636\u001b[0m             \u001b[1;32mif\u001b[0m \u001b[0marray\u001b[0m\u001b[1;33m.\u001b[0m\u001b[0mndim\u001b[0m \u001b[1;33m==\u001b[0m \u001b[1;36m1\u001b[0m\u001b[1;33m:\u001b[0m\u001b[1;33m\u001b[0m\u001b[1;33m\u001b[0m\u001b[0m\n\u001b[1;32m--> 637\u001b[1;33m                 raise ValueError(\n\u001b[0m\u001b[0;32m    638\u001b[0m                     \u001b[1;34m\"Expected 2D array, got 1D array instead:\\narray={}.\\n\"\u001b[0m\u001b[1;33m\u001b[0m\u001b[1;33m\u001b[0m\u001b[0m\n\u001b[0;32m    639\u001b[0m                     \u001b[1;34m\"Reshape your data either using array.reshape(-1, 1) if \"\u001b[0m\u001b[1;33m\u001b[0m\u001b[1;33m\u001b[0m\u001b[0m\n",
      "\u001b[1;31mValueError\u001b[0m: Expected 2D array, got 1D array instead:\narray=[37682.7432279  56985.05619    52172.1405     41337.71353\n 30167.79331    54355.33327    46645.91116    59479.7561908\n 63022.44517    64737.93377    57091.9451499  36908.29373\n 44045.98841    47954.001      34359.41738    80833.41615\n 41883.23149    57780.49306    29891.59791    50526.99332\n 52778.51058    29473.00668    30451.58648    74954.01159\n 57977.55483    20672.96178    37682.7432279  66234.375\n 37026.05768    60497.55582    38551.99194    21166.58385\n 41765.625      35332.50233    42680.06524    38061.80029\n 58019.27534681 39049.34892    29282.09435669 47338.44803\n 37888.65195    29096.82703    39090.71082    65662.28647\n 32349.1552     56577.28783    31422.71217    32033.75777\n 67725.25454    33659.61054    46354.08884    38086.06021   ].\nReshape your data either using array.reshape(-1, 1) if your data has a single feature or array.reshape(1, -1) if it contains a single sample."
     ]
    }
   ],
   "source": [
    "X_poly = poly.fit_transform(X_train)"
   ]
  },
  {
   "cell_type": "code",
   "execution_count": 403,
   "id": "77e0eb84",
   "metadata": {},
   "outputs": [
    {
     "data": {
      "text/plain": [
       "PolynomialFeatures(degree=3)"
      ]
     },
     "execution_count": 403,
     "metadata": {},
     "output_type": "execute_result"
    }
   ],
   "source": [
    "poly.fit(X_train,y_train)"
   ]
  },
  {
   "cell_type": "code",
   "execution_count": 404,
   "id": "260c7ba4",
   "metadata": {},
   "outputs": [],
   "source": [
    "from sklearn.linear_model import LinearRegression"
   ]
  },
  {
   "cell_type": "code",
   "execution_count": 405,
   "id": "965cec9a",
   "metadata": {},
   "outputs": [],
   "source": [
    "model = LinearRegression()"
   ]
  },
  {
   "cell_type": "code",
   "execution_count": 406,
   "id": "519e77b6",
   "metadata": {},
   "outputs": [
    {
     "data": {
      "text/plain": [
       "LinearRegression()"
      ]
     },
     "execution_count": 406,
     "metadata": {},
     "output_type": "execute_result"
    }
   ],
   "source": [
    "model.fit(X_poly,y_train)"
   ]
  },
  {
   "cell_type": "code",
   "execution_count": 408,
   "id": "ffda082d",
   "metadata": {},
   "outputs": [],
   "source": [
    "y_pred = model.predict(poly.fit_transform(X_test))"
   ]
  },
  {
   "cell_type": "code",
   "execution_count": 412,
   "id": "27c88fa7",
   "metadata": {
    "scrolled": true
   },
   "outputs": [
    {
     "data": {
      "text/plain": [
       "array([ 408.94950851,  339.14889689,  401.28719901, 1305.26045147,\n",
       "        163.30704018,  424.14487435,  429.24575587,   16.52552424,\n",
       "        441.89504594,  321.1609445 ,  337.14058781,  343.12247023,\n",
       "        328.5106359 ])"
      ]
     },
     "execution_count": 412,
     "metadata": {},
     "output_type": "execute_result"
    }
   ],
   "source": [
    "y_pred"
   ]
  },
  {
   "cell_type": "code",
   "execution_count": 413,
   "id": "48234419",
   "metadata": {},
   "outputs": [
    {
     "data": {
      "text/plain": [
       "array([256.66511087, 416.68157561, 448.49996185, 150.22978881,\n",
       "       293.05867419, 385.15371191, 340.99559531, 381.54687185,\n",
       "       236.24242122, 203.76089518, 215.8156377 , 875.13428114,\n",
       "       427.2243337 ])"
      ]
     },
     "execution_count": 413,
     "metadata": {},
     "output_type": "execute_result"
    }
   ],
   "source": [
    "y_test"
   ]
  },
  {
   "cell_type": "code",
   "execution_count": 414,
   "id": "326c4eb8",
   "metadata": {},
   "outputs": [
    {
     "data": {
      "text/plain": [
       "-3.699139004945434"
      ]
     },
     "execution_count": 414,
     "metadata": {},
     "output_type": "execute_result"
    }
   ],
   "source": [
    "r2_score(y_test,y_pred)"
   ]
  },
  {
   "cell_type": "code",
   "execution_count": null,
   "id": "eeb0ece1",
   "metadata": {},
   "outputs": [],
   "source": []
  }
 ],
 "metadata": {
  "kernelspec": {
   "display_name": "Python 3",
   "language": "python",
   "name": "python3"
  },
  "language_info": {
   "codemirror_mode": {
    "name": "ipython",
    "version": 3
   },
   "file_extension": ".py",
   "mimetype": "text/x-python",
   "name": "python",
   "nbconvert_exporter": "python",
   "pygments_lexer": "ipython3",
   "version": "3.8.8"
  }
 },
 "nbformat": 4,
 "nbformat_minor": 5
}
