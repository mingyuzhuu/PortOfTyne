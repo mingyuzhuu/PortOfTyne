{
 "cells": [
  {
   "cell_type": "code",
   "execution_count": 2,
   "id": "3f505bc8",
   "metadata": {},
   "outputs": [
    {
     "data": {
      "text/plain": [
       "'E:\\\\20190923 Newcastle-M.Res\\\\OneDrive - Newcastle University\\\\21_22_autumn\\\\211018\\\\code'"
      ]
     },
     "execution_count": 2,
     "metadata": {},
     "output_type": "execute_result"
    }
   ],
   "source": [
    "import os\n",
    "os.getcwd()"
   ]
  },
  {
   "cell_type": "code",
   "execution_count": 3,
   "id": "9044cb3a",
   "metadata": {},
   "outputs": [],
   "source": [
    "import pandas as pd\n",
    "import json\n",
    "import urllib as u\n",
    "import datetime"
   ]
  },
  {
   "cell_type": "code",
   "execution_count": 28,
   "id": "a1b67e82",
   "metadata": {},
   "outputs": [
    {
     "data": {
      "text/plain": [
       "'https://environment.data.gov.uk/hydrology/id/stations?stationReference=023001'"
      ]
     },
     "execution_count": 28,
     "metadata": {},
     "output_type": "execute_result"
    }
   ],
   "source": [
    "#create APL link \n",
    "domain='https://environment.data.gov.uk/hydrology/id/stations'\n",
    "prams = {'stationReference':'023001'} \n",
    "uprams = u.parse.urlencode(prams)\n",
    "url = domain +'?' + uprams\n",
    "url"
   ]
  },
  {
   "cell_type": "code",
   "execution_count": 29,
   "id": "fe2adc49",
   "metadata": {},
   "outputs": [],
   "source": [
    "a = json.loads(u.request.urlopen(url).read())"
   ]
  },
  {
   "cell_type": "code",
   "execution_count": 30,
   "id": "680f074d",
   "metadata": {},
   "outputs": [],
   "source": [
    "b = a['items']"
   ]
  },
  {
   "cell_type": "code",
   "execution_count": 31,
   "id": "2db93622",
   "metadata": {},
   "outputs": [
    {
     "data": {
      "text/html": [
       "<div>\n",
       "<style scoped>\n",
       "    .dataframe tbody tr th:only-of-type {\n",
       "        vertical-align: middle;\n",
       "    }\n",
       "\n",
       "    .dataframe tbody tr th {\n",
       "        vertical-align: top;\n",
       "    }\n",
       "\n",
       "    .dataframe thead th {\n",
       "        text-align: right;\n",
       "    }\n",
       "</style>\n",
       "<table border=\"1\" class=\"dataframe\">\n",
       "  <thead>\n",
       "    <tr style=\"text-align: right;\">\n",
       "      <th></th>\n",
       "      <th>@id</th>\n",
       "      <th>type</th>\n",
       "      <th>label</th>\n",
       "      <th>notation</th>\n",
       "      <th>easting</th>\n",
       "      <th>northing</th>\n",
       "      <th>lat</th>\n",
       "      <th>long</th>\n",
       "      <th>riverName</th>\n",
       "      <th>stationReference</th>\n",
       "      <th>wiskiID</th>\n",
       "      <th>RLOIid</th>\n",
       "      <th>nrfaStationID</th>\n",
       "      <th>nrfaStationURL</th>\n",
       "      <th>stationGuid</th>\n",
       "      <th>measures</th>\n",
       "    </tr>\n",
       "  </thead>\n",
       "  <tbody>\n",
       "    <tr>\n",
       "      <th>0</th>\n",
       "      <td>http://environment.data.gov.uk/hydrology/id/st...</td>\n",
       "      <td>[{'@id': 'http://environment.data.gov.uk/flood...</td>\n",
       "      <td>Bywell</td>\n",
       "      <td>e786e60f-a0f1-4955-aa57-f22ba39c7427</td>\n",
       "      <td>403913</td>\n",
       "      <td>561684</td>\n",
       "      <td>54.949776</td>\n",
       "      <td>-1.94043</td>\n",
       "      <td>River Tyne</td>\n",
       "      <td>023001</td>\n",
       "      <td>023001</td>\n",
       "      <td>8040</td>\n",
       "      <td>23001</td>\n",
       "      <td>https://nrfa.ceh.ac.uk/data/station/info/23001...</td>\n",
       "      <td>e786e60f-a0f1-4955-aa57-f22ba39c7427</td>\n",
       "      <td>{'@id': 'http://environment.data.gov.uk/hydrol...</td>\n",
       "    </tr>\n",
       "  </tbody>\n",
       "</table>\n",
       "</div>"
      ],
      "text/plain": [
       "                                                 @id  \\\n",
       "0  http://environment.data.gov.uk/hydrology/id/st...   \n",
       "\n",
       "                                                type   label  \\\n",
       "0  [{'@id': 'http://environment.data.gov.uk/flood...  Bywell   \n",
       "\n",
       "                               notation  easting  northing        lat  \\\n",
       "0  e786e60f-a0f1-4955-aa57-f22ba39c7427   403913    561684  54.949776   \n",
       "\n",
       "      long   riverName stationReference wiskiID RLOIid nrfaStationID  \\\n",
       "0 -1.94043  River Tyne           023001  023001   8040         23001   \n",
       "\n",
       "                                      nrfaStationURL  \\\n",
       "0  https://nrfa.ceh.ac.uk/data/station/info/23001...   \n",
       "\n",
       "                            stationGuid  \\\n",
       "0  e786e60f-a0f1-4955-aa57-f22ba39c7427   \n",
       "\n",
       "                                            measures  \n",
       "0  {'@id': 'http://environment.data.gov.uk/hydrol...  "
      ]
     },
     "execution_count": 31,
     "metadata": {},
     "output_type": "execute_result"
    }
   ],
   "source": [
    "c = pd.DataFrame(b)\n",
    "c"
   ]
  },
  {
   "cell_type": "code",
   "execution_count": 32,
   "id": "ed8fe1e9",
   "metadata": {},
   "outputs": [
    {
     "data": {
      "text/plain": [
       "0    River Tyne\n",
       "Name: riverName, dtype: object"
      ]
     },
     "execution_count": 32,
     "metadata": {},
     "output_type": "execute_result"
    }
   ],
   "source": [
    "c['riverName']"
   ]
  }
 ],
 "metadata": {
  "kernelspec": {
   "display_name": "Python 3",
   "language": "python",
   "name": "python3"
  },
  "language_info": {
   "codemirror_mode": {
    "name": "ipython",
    "version": 3
   },
   "file_extension": ".py",
   "mimetype": "text/x-python",
   "name": "python",
   "nbconvert_exporter": "python",
   "pygments_lexer": "ipython3",
   "version": "3.8.8"
  }
 },
 "nbformat": 4,
 "nbformat_minor": 5
}
