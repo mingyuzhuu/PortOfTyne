{
 "cells": [
  {
   "cell_type": "markdown",
   "id": "a97bd654",
   "metadata": {},
   "source": [
    "## Getting daily rail freight information from Transport API"
   ]
  },
  {
   "cell_type": "code",
   "execution_count": null,
   "id": "303b223f",
   "metadata": {},
   "outputs": [],
   "source": [
    "import os\n",
    "os.getcwd()"
   ]
  },
  {
   "cell_type": "code",
   "execution_count": 3,
   "id": "40e24d2c",
   "metadata": {},
   "outputs": [],
   "source": [
    "import pandas as pd\n",
    "import json\n",
    "import urllib as u\n",
    "import datetime"
   ]
  },
  {
   "cell_type": "code",
   "execution_count": null,
   "id": "b9ff15b1",
   "metadata": {},
   "outputs": [],
   "source": [
    "def Train(date,time):\n",
    "    values = {}\n",
    "    values['app_id']=origValue['app_id']\n",
    "    values['app_key']=origValue['app_key']\n",
    "    values['train_status']=origValue['train_status']\n",
    "    qprams = u.parse.urlencode(values)\n",
    "    uprams = date+'/'+time+'/'+'timetable.json?'\n",
    "    url = u.request.urlopen(domain+uprams+qprams).read()\n",
    "    result = json.loads(url)\n",
    "    return result\n",
    "    "
   ]
  },
  {
   "cell_type": "code",
   "execution_count": null,
   "id": "1cf8cb74",
   "metadata": {},
   "outputs": [],
   "source": [
    "def Allday(date):\n",
    "    values = {}\n",
    "    values['app_id']=origValue['app_id']                       #get transportAPI app id\n",
    "    values['app_key']=origValue['app_key']                     #get transportAPI app key\n",
    "    values['train_status']=origValue['train_status']           #set the train type to be freight\n",
    "    qprams = u.parse.urlencode(values)                         #set up the query parameter\n",
    "    \n",
    "    timelist = list()                                          #create time from 00:00 to 22:00, everty two hours\n",
    "    for i in range(0,24,2):\n",
    "        timelist.append(datetime.time(i,0).strftime('%H:%M'))\n",
    "        \n",
    "    uprams_list= list()                                        #create URI parameters every two hours\n",
    "    for i in timelist:\n",
    "        uprams_list.append(date+'/'+i+'/'+'timetable.json?')\n",
    "    \n",
    "    url_list = list()                                          #create URL for every two hours and request information\n",
    "    for i in uprams_list:\n",
    "        url_list.append(u.request.urlopen(domain+i+qprams).read()) \n",
    "        \n",
    "    train_list = list()\n",
    "    for i in range (0,11):                                     #create train list from the requested information \n",
    "        train_list.append((json.loads(url_list[i])['departures']['all']))\n",
    "        \n",
    "    train = list()                                             #remove empty cells\n",
    "    for i in train_list:\n",
    "        if len(i) != 0:\n",
    "            train.append(i)\n",
    "            \n",
    "    result = pd.DataFrame([item for sublist in train for item in sublist])   #flatten the list and get pandas dataframe\n",
    "    \n",
    "    return result\n"
   ]
  },
  {
   "cell_type": "markdown",
   "id": "250b618b",
   "metadata": {},
   "source": [
    "### Live data"
   ]
  },
  {
   "cell_type": "code",
   "execution_count": 1,
   "id": "bd8970d7",
   "metadata": {},
   "outputs": [],
   "source": [
    "urllive = 'https://transportapi.com/v3/uk/train/station/tiploc:jarrgbf/live.json?app_id=d489a537&app_key=e625d5cc35077ef6bb84536d193dee19&darwin=false&train_status=freight'"
   ]
  },
  {
   "cell_type": "code",
   "execution_count": 4,
   "id": "1e161a1d",
   "metadata": {
    "scrolled": false
   },
   "outputs": [],
   "source": [
    "livedata = pd.DataFrame(json.loads(u.request.urlopen(urllive).read()))['departures']['all']"
   ]
  },
  {
   "cell_type": "code",
   "execution_count": 5,
   "id": "5596f469",
   "metadata": {},
   "outputs": [
    {
     "data": {
      "text/html": [
       "<div>\n",
       "<style scoped>\n",
       "    .dataframe tbody tr th:only-of-type {\n",
       "        vertical-align: middle;\n",
       "    }\n",
       "\n",
       "    .dataframe tbody tr th {\n",
       "        vertical-align: top;\n",
       "    }\n",
       "\n",
       "    .dataframe thead th {\n",
       "        text-align: right;\n",
       "    }\n",
       "</style>\n",
       "<table border=\"1\" class=\"dataframe\">\n",
       "  <thead>\n",
       "    <tr style=\"text-align: right;\">\n",
       "      <th></th>\n",
       "      <th>mode</th>\n",
       "      <th>service</th>\n",
       "      <th>train_uid</th>\n",
       "      <th>platform</th>\n",
       "      <th>operator</th>\n",
       "      <th>operator_name</th>\n",
       "      <th>aimed_departure_time</th>\n",
       "      <th>aimed_arrival_time</th>\n",
       "      <th>aimed_pass_time</th>\n",
       "      <th>origin_name</th>\n",
       "      <th>destination_name</th>\n",
       "      <th>source</th>\n",
       "      <th>category</th>\n",
       "      <th>service_timetable</th>\n",
       "      <th>status</th>\n",
       "      <th>expected_arrival_time</th>\n",
       "      <th>expected_departure_time</th>\n",
       "      <th>best_arrival_estimate_mins</th>\n",
       "      <th>best_departure_estimate_mins</th>\n",
       "    </tr>\n",
       "  </thead>\n",
       "  <tbody>\n",
       "    <tr>\n",
       "      <th>0</th>\n",
       "      <td>train</td>\n",
       "      <td>56461880</td>\n",
       "      <td>H23105</td>\n",
       "      <td>None</td>\n",
       "      <td>ZZ</td>\n",
       "      <td>GB Railfreight</td>\n",
       "      <td>16:49</td>\n",
       "      <td>None</td>\n",
       "      <td>None</td>\n",
       "      <td>Tyne Dock Import Terminal</td>\n",
       "      <td>Drax Gb Railfreight</td>\n",
       "      <td>Network Rail</td>\n",
       "      <td>None</td>\n",
       "      <td>{'id': 'https://transportapi.com/v3/uk/train/s...</td>\n",
       "      <td>STARTS HERE</td>\n",
       "      <td>None</td>\n",
       "      <td>16:49</td>\n",
       "      <td>None</td>\n",
       "      <td>65</td>\n",
       "    </tr>\n",
       "    <tr>\n",
       "      <th>1</th>\n",
       "      <td>train</td>\n",
       "      <td>56461880</td>\n",
       "      <td>H23143</td>\n",
       "      <td>None</td>\n",
       "      <td>ZZ</td>\n",
       "      <td>GB Railfreight</td>\n",
       "      <td>17:43</td>\n",
       "      <td>None</td>\n",
       "      <td>None</td>\n",
       "      <td>Tyne Dock Import Terminal</td>\n",
       "      <td>Drax Gb Railfreight</td>\n",
       "      <td>Network Rail</td>\n",
       "      <td>None</td>\n",
       "      <td>{'id': 'https://transportapi.com/v3/uk/train/s...</td>\n",
       "      <td>STARTS HERE</td>\n",
       "      <td>None</td>\n",
       "      <td>17:43</td>\n",
       "      <td>None</td>\n",
       "      <td>119</td>\n",
       "    </tr>\n",
       "  </tbody>\n",
       "</table>\n",
       "</div>"
      ],
      "text/plain": [
       "    mode   service train_uid platform operator   operator_name  \\\n",
       "0  train  56461880    H23105     None       ZZ  GB Railfreight   \n",
       "1  train  56461880    H23143     None       ZZ  GB Railfreight   \n",
       "\n",
       "  aimed_departure_time aimed_arrival_time aimed_pass_time  \\\n",
       "0                16:49               None            None   \n",
       "1                17:43               None            None   \n",
       "\n",
       "                 origin_name     destination_name        source category  \\\n",
       "0  Tyne Dock Import Terminal  Drax Gb Railfreight  Network Rail     None   \n",
       "1  Tyne Dock Import Terminal  Drax Gb Railfreight  Network Rail     None   \n",
       "\n",
       "                                   service_timetable       status  \\\n",
       "0  {'id': 'https://transportapi.com/v3/uk/train/s...  STARTS HERE   \n",
       "1  {'id': 'https://transportapi.com/v3/uk/train/s...  STARTS HERE   \n",
       "\n",
       "  expected_arrival_time expected_departure_time best_arrival_estimate_mins  \\\n",
       "0                  None                   16:49                       None   \n",
       "1                  None                   17:43                       None   \n",
       "\n",
       "   best_departure_estimate_mins  \n",
       "0                            65  \n",
       "1                           119  "
      ]
     },
     "execution_count": 5,
     "metadata": {},
     "output_type": "execute_result"
    }
   ],
   "source": [
    "pd.DataFrame(livedata)"
   ]
  },
  {
   "cell_type": "markdown",
   "id": "3b580c92",
   "metadata": {},
   "source": [
    " ### Main"
   ]
  },
  {
   "cell_type": "code",
   "execution_count": null,
   "id": "604526e2",
   "metadata": {},
   "outputs": [],
   "source": [
    "origValue = {'app_id':'d489a537','app_key':'e625d5cc35077ef6bb84536d193dee19','train_status':'freight'}\n",
    "domain = 'https://transportapi.com/v3/uk/train/station/tiploc:jarrgbf/'"
   ]
  },
  {
   "cell_type": "code",
   "execution_count": null,
   "id": "84352667",
   "metadata": {
    "scrolled": true
   },
   "outputs": [],
   "source": [
    "Allday ('2021-12-14')"
   ]
  },
  {
   "cell_type": "code",
   "execution_count": null,
   "id": "65a1ae53",
   "metadata": {},
   "outputs": [],
   "source": [
    "# result = Train('2021-11-11', '17:00')\n",
    "# result\n",
    "# r= result['departures']['all']\n",
    "# r"
   ]
  },
  {
   "cell_type": "code",
   "execution_count": null,
   "id": "006a1170",
   "metadata": {},
   "outputs": [],
   "source": [
    "# (pd.DataFrame(r)).columns\n",
    "# list((pd.DataFrame(r)).columns)\n",
    "# (pd.DataFrame(r)).head()"
   ]
  },
  {
   "cell_type": "markdown",
   "id": "531e6f71",
   "metadata": {},
   "source": [
    "### seperate"
   ]
  },
  {
   "cell_type": "code",
   "execution_count": null,
   "id": "3a602979",
   "metadata": {},
   "outputs": [],
   "source": [
    "# date_list = [Today + datetime.timedelta(minutes=120*x) for x in range(0, 12)]"
   ]
  },
  {
   "cell_type": "code",
   "execution_count": null,
   "id": "ee453d9c",
   "metadata": {},
   "outputs": [],
   "source": [
    "# date_list"
   ]
  },
  {
   "cell_type": "code",
   "execution_count": null,
   "id": "3f0c0c0c",
   "metadata": {},
   "outputs": [],
   "source": [
    "# datetext=[x.strftime('%H:%M') for x in date_list]"
   ]
  },
  {
   "cell_type": "code",
   "execution_count": null,
   "id": "f5204634",
   "metadata": {
    "scrolled": true
   },
   "outputs": [],
   "source": [
    "# datetext"
   ]
  },
  {
   "cell_type": "code",
   "execution_count": null,
   "id": "523947e1",
   "metadata": {},
   "outputs": [],
   "source": [
    "# import datetime\n",
    "\n",
    "# print('Timestamp: {:%H:%M}'.format(datetime.datetime.now()))"
   ]
  },
  {
   "cell_type": "code",
   "execution_count": null,
   "id": "5af14a98",
   "metadata": {},
   "outputs": [],
   "source": [
    "# print('Timestamp: {:%Y-%m-%d %H:%M:%S}'.format(datetime.datetime.now()))\n",
    "# print('Timestamp: {:%Y-%b-%d %H:%M:%S}'.format(datetime.datetime.now()))"
   ]
  },
  {
   "cell_type": "code",
   "execution_count": null,
   "id": "df20022d",
   "metadata": {},
   "outputs": [],
   "source": [
    "# print('Date now: %s' % datetime.datetime.now())\n",
    "# print('Date today: %s' % datetime.date.today())"
   ]
  }
 ],
 "metadata": {
  "kernelspec": {
   "display_name": "Python 3",
   "language": "python",
   "name": "python3"
  },
  "language_info": {
   "codemirror_mode": {
    "name": "ipython",
    "version": 3
   },
   "file_extension": ".py",
   "mimetype": "text/x-python",
   "name": "python",
   "nbconvert_exporter": "python",
   "pygments_lexer": "ipython3",
   "version": "3.8.8"
  }
 },
 "nbformat": 4,
 "nbformat_minor": 5
}
