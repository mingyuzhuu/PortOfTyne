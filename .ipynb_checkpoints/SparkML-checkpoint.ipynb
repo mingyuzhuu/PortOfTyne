{
 "cells": [
  {
   "cell_type": "code",
   "execution_count": 1,
   "id": "24ca31ce",
   "metadata": {
    "scrolled": false
   },
   "outputs": [],
   "source": [
    "# !pip install pyspark"
   ]
  },
  {
   "cell_type": "code",
   "execution_count": 2,
   "id": "ce33d733",
   "metadata": {},
   "outputs": [],
   "source": [
    "# from platform import python_version\n",
    "\n",
    "# print(python_version())"
   ]
  },
  {
   "cell_type": "code",
   "execution_count": 3,
   "id": "978a8880",
   "metadata": {},
   "outputs": [
    {
     "data": {
      "text/plain": [
       "'E:\\\\20190923 Newcastle-M.Res\\\\OneDrive - Newcastle University\\\\21_22_autumn\\\\211018\\\\code'"
      ]
     },
     "execution_count": 3,
     "metadata": {},
     "output_type": "execute_result"
    }
   ],
   "source": [
    "import os\n",
    "os.getcwd()"
   ]
  },
  {
   "cell_type": "code",
   "execution_count": 4,
   "id": "31259d70",
   "metadata": {},
   "outputs": [],
   "source": [
    "import pandas as pd"
   ]
  },
  {
   "cell_type": "code",
   "execution_count": 5,
   "id": "c6de27a3",
   "metadata": {},
   "outputs": [],
   "source": [
    "import numpy as np"
   ]
  },
  {
   "cell_type": "code",
   "execution_count": 6,
   "id": "6e509a56",
   "metadata": {
    "scrolled": false
   },
   "outputs": [],
   "source": [
    "drax = pd.read_csv('Data/Port history/Drax.csv')"
   ]
  },
  {
   "cell_type": "code",
   "execution_count": 7,
   "id": "4856b514",
   "metadata": {
    "scrolled": true
   },
   "outputs": [],
   "source": [
    "drax_19 = drax.iloc[365:730].reset_index(drop=True)"
   ]
  },
  {
   "cell_type": "code",
   "execution_count": 8,
   "id": "2ce45f71",
   "metadata": {},
   "outputs": [
    {
     "data": {
      "text/html": [
       "<div>\n",
       "<style scoped>\n",
       "    .dataframe tbody tr th:only-of-type {\n",
       "        vertical-align: middle;\n",
       "    }\n",
       "\n",
       "    .dataframe tbody tr th {\n",
       "        vertical-align: top;\n",
       "    }\n",
       "\n",
       "    .dataframe thead th {\n",
       "        text-align: right;\n",
       "    }\n",
       "</style>\n",
       "<table border=\"1\" class=\"dataframe\">\n",
       "  <thead>\n",
       "    <tr style=\"text-align: right;\">\n",
       "      <th></th>\n",
       "      <th>Date</th>\n",
       "      <th>Energy/kwh</th>\n",
       "      <th>Tonnes</th>\n",
       "      <th>Rain</th>\n",
       "      <th>WindSpeed</th>\n",
       "      <th>RadianceTemperature</th>\n",
       "      <th>RelativeHumidity</th>\n",
       "      <th>SolarRadiance</th>\n",
       "    </tr>\n",
       "  </thead>\n",
       "  <tbody>\n",
       "    <tr>\n",
       "      <th>0</th>\n",
       "      <td>01-Jan-19</td>\n",
       "      <td>4310.03</td>\n",
       "      <td>5847.1</td>\n",
       "      <td>NaN</td>\n",
       "      <td>NaN</td>\n",
       "      <td>NaN</td>\n",
       "      <td>NaN</td>\n",
       "      <td>NaN</td>\n",
       "    </tr>\n",
       "    <tr>\n",
       "      <th>1</th>\n",
       "      <td>02-Jan-19</td>\n",
       "      <td>3746.93</td>\n",
       "      <td>3671.7</td>\n",
       "      <td>NaN</td>\n",
       "      <td>NaN</td>\n",
       "      <td>NaN</td>\n",
       "      <td>NaN</td>\n",
       "      <td>NaN</td>\n",
       "    </tr>\n",
       "    <tr>\n",
       "      <th>2</th>\n",
       "      <td>03-Jan-19</td>\n",
       "      <td>3301.43</td>\n",
       "      <td>3022.4</td>\n",
       "      <td>NaN</td>\n",
       "      <td>NaN</td>\n",
       "      <td>NaN</td>\n",
       "      <td>NaN</td>\n",
       "      <td>NaN</td>\n",
       "    </tr>\n",
       "    <tr>\n",
       "      <th>3</th>\n",
       "      <td>04-Jan-19</td>\n",
       "      <td>3900.80</td>\n",
       "      <td>4316.3</td>\n",
       "      <td>NaN</td>\n",
       "      <td>NaN</td>\n",
       "      <td>NaN</td>\n",
       "      <td>NaN</td>\n",
       "      <td>NaN</td>\n",
       "    </tr>\n",
       "    <tr>\n",
       "      <th>4</th>\n",
       "      <td>05-Jan-19</td>\n",
       "      <td>1637.28</td>\n",
       "      <td>0.0</td>\n",
       "      <td>NaN</td>\n",
       "      <td>NaN</td>\n",
       "      <td>NaN</td>\n",
       "      <td>NaN</td>\n",
       "      <td>NaN</td>\n",
       "    </tr>\n",
       "    <tr>\n",
       "      <th>...</th>\n",
       "      <td>...</td>\n",
       "      <td>...</td>\n",
       "      <td>...</td>\n",
       "      <td>...</td>\n",
       "      <td>...</td>\n",
       "      <td>...</td>\n",
       "      <td>...</td>\n",
       "      <td>...</td>\n",
       "    </tr>\n",
       "    <tr>\n",
       "      <th>360</th>\n",
       "      <td>27-Dec-19</td>\n",
       "      <td>4517.08</td>\n",
       "      <td>NaN</td>\n",
       "      <td>NaN</td>\n",
       "      <td>NaN</td>\n",
       "      <td>NaN</td>\n",
       "      <td>NaN</td>\n",
       "      <td>NaN</td>\n",
       "    </tr>\n",
       "    <tr>\n",
       "      <th>361</th>\n",
       "      <td>28-Dec-19</td>\n",
       "      <td>3242.22</td>\n",
       "      <td>NaN</td>\n",
       "      <td>NaN</td>\n",
       "      <td>NaN</td>\n",
       "      <td>NaN</td>\n",
       "      <td>NaN</td>\n",
       "      <td>NaN</td>\n",
       "    </tr>\n",
       "    <tr>\n",
       "      <th>362</th>\n",
       "      <td>29-Dec-19</td>\n",
       "      <td>4173.10</td>\n",
       "      <td>NaN</td>\n",
       "      <td>NaN</td>\n",
       "      <td>NaN</td>\n",
       "      <td>NaN</td>\n",
       "      <td>NaN</td>\n",
       "      <td>NaN</td>\n",
       "    </tr>\n",
       "    <tr>\n",
       "      <th>363</th>\n",
       "      <td>30-Dec-19</td>\n",
       "      <td>4587.83</td>\n",
       "      <td>NaN</td>\n",
       "      <td>NaN</td>\n",
       "      <td>NaN</td>\n",
       "      <td>NaN</td>\n",
       "      <td>NaN</td>\n",
       "      <td>NaN</td>\n",
       "    </tr>\n",
       "    <tr>\n",
       "      <th>364</th>\n",
       "      <td>31-Dec-19</td>\n",
       "      <td>5515.42</td>\n",
       "      <td>NaN</td>\n",
       "      <td>NaN</td>\n",
       "      <td>NaN</td>\n",
       "      <td>NaN</td>\n",
       "      <td>NaN</td>\n",
       "      <td>NaN</td>\n",
       "    </tr>\n",
       "  </tbody>\n",
       "</table>\n",
       "<p>365 rows × 8 columns</p>\n",
       "</div>"
      ],
      "text/plain": [
       "          Date  Energy/kwh  Tonnes  Rain  WindSpeed  RadianceTemperature  \\\n",
       "0    01-Jan-19     4310.03  5847.1   NaN        NaN                  NaN   \n",
       "1    02-Jan-19     3746.93  3671.7   NaN        NaN                  NaN   \n",
       "2    03-Jan-19     3301.43  3022.4   NaN        NaN                  NaN   \n",
       "3    04-Jan-19     3900.80  4316.3   NaN        NaN                  NaN   \n",
       "4    05-Jan-19     1637.28     0.0   NaN        NaN                  NaN   \n",
       "..         ...         ...     ...   ...        ...                  ...   \n",
       "360  27-Dec-19     4517.08     NaN   NaN        NaN                  NaN   \n",
       "361  28-Dec-19     3242.22     NaN   NaN        NaN                  NaN   \n",
       "362  29-Dec-19     4173.10     NaN   NaN        NaN                  NaN   \n",
       "363  30-Dec-19     4587.83     NaN   NaN        NaN                  NaN   \n",
       "364  31-Dec-19     5515.42     NaN   NaN        NaN                  NaN   \n",
       "\n",
       "     RelativeHumidity  SolarRadiance  \n",
       "0                 NaN            NaN  \n",
       "1                 NaN            NaN  \n",
       "2                 NaN            NaN  \n",
       "3                 NaN            NaN  \n",
       "4                 NaN            NaN  \n",
       "..                ...            ...  \n",
       "360               NaN            NaN  \n",
       "361               NaN            NaN  \n",
       "362               NaN            NaN  \n",
       "363               NaN            NaN  \n",
       "364               NaN            NaN  \n",
       "\n",
       "[365 rows x 8 columns]"
      ]
     },
     "execution_count": 8,
     "metadata": {},
     "output_type": "execute_result"
    }
   ],
   "source": [
    "drax_19"
   ]
  },
  {
   "cell_type": "code",
   "execution_count": 9,
   "id": "2e389d5d",
   "metadata": {},
   "outputs": [],
   "source": [
    "wind_0 = pd.read_csv('Data/Port history/Wind_0.csv')\n",
    "wind_1 = pd.read_csv('Data/Port history/Wind_1.csv')\n",
    "wind_2 = pd.read_csv('Data/Port history/Wind_2.csv')"
   ]
  },
  {
   "cell_type": "code",
   "execution_count": 10,
   "id": "18569056",
   "metadata": {
    "scrolled": true
   },
   "outputs": [
    {
     "data": {
      "text/html": [
       "<div>\n",
       "<style scoped>\n",
       "    .dataframe tbody tr th:only-of-type {\n",
       "        vertical-align: middle;\n",
       "    }\n",
       "\n",
       "    .dataframe tbody tr th {\n",
       "        vertical-align: top;\n",
       "    }\n",
       "\n",
       "    .dataframe thead th {\n",
       "        text-align: right;\n",
       "    }\n",
       "</style>\n",
       "<table border=\"1\" class=\"dataframe\">\n",
       "  <thead>\n",
       "    <tr style=\"text-align: right;\">\n",
       "      <th></th>\n",
       "      <th>Unnamed: 0</th>\n",
       "      <th>time</th>\n",
       "      <th>duration</th>\n",
       "      <th>value</th>\n",
       "    </tr>\n",
       "  </thead>\n",
       "  <tbody>\n",
       "    <tr>\n",
       "      <th>0</th>\n",
       "      <td>76340</td>\n",
       "      <td>2019-01-01T00:00:00.000Z</td>\n",
       "      <td>-10.041</td>\n",
       "      <td>5.38</td>\n",
       "    </tr>\n",
       "    <tr>\n",
       "      <th>1</th>\n",
       "      <td>76339</td>\n",
       "      <td>2019-01-01T00:00:10.000Z</td>\n",
       "      <td>-14.081</td>\n",
       "      <td>4.91</td>\n",
       "    </tr>\n",
       "    <tr>\n",
       "      <th>2</th>\n",
       "      <td>76338</td>\n",
       "      <td>2019-01-01T00:19:20.000Z</td>\n",
       "      <td>-9.874</td>\n",
       "      <td>2.84</td>\n",
       "    </tr>\n",
       "    <tr>\n",
       "      <th>3</th>\n",
       "      <td>76337</td>\n",
       "      <td>2019-01-01T00:19:30.000Z</td>\n",
       "      <td>-1149.950</td>\n",
       "      <td>7.15</td>\n",
       "    </tr>\n",
       "    <tr>\n",
       "      <th>4</th>\n",
       "      <td>76336</td>\n",
       "      <td>2019-01-01T00:19:40.000Z</td>\n",
       "      <td>-10.009</td>\n",
       "      <td>3.97</td>\n",
       "    </tr>\n",
       "  </tbody>\n",
       "</table>\n",
       "</div>"
      ],
      "text/plain": [
       "   Unnamed: 0                      time  duration  value\n",
       "0       76340  2019-01-01T00:00:00.000Z   -10.041   5.38\n",
       "1       76339  2019-01-01T00:00:10.000Z   -14.081   4.91\n",
       "2       76338  2019-01-01T00:19:20.000Z    -9.874   2.84\n",
       "3       76337  2019-01-01T00:19:30.000Z -1149.950   7.15\n",
       "4       76336  2019-01-01T00:19:40.000Z   -10.009   3.97"
      ]
     },
     "execution_count": 10,
     "metadata": {},
     "output_type": "execute_result"
    }
   ],
   "source": [
    "wind = pd.concat([wind_0,wind_1,wind_2])\n",
    "wind.head()"
   ]
  },
  {
   "cell_type": "code",
   "execution_count": 11,
   "id": "c0d713c2",
   "metadata": {},
   "outputs": [],
   "source": [
    "wind[['Date','Time']] = wind.time.str.split('T', expand=True)\n",
    "wind = wind[['Date','value']]\n",
    "ws = wind.groupby('Date').agg({'value': 'mean'})"
   ]
  },
  {
   "cell_type": "code",
   "execution_count": 12,
   "id": "2ffa1186",
   "metadata": {},
   "outputs": [],
   "source": [
    "humid = pd.read_csv('Data/Port history/humid.csv')\n",
    "humid[['Date','Time']] = humid.time.str.split('T', expand=True)\n",
    "humid = humid[['Date','value']]\n",
    "hu = humid.groupby('Date').agg({'value': 'mean'})"
   ]
  },
  {
   "cell_type": "code",
   "execution_count": 13,
   "id": "3804a674",
   "metadata": {},
   "outputs": [],
   "source": [
    "Dx_19 = pd.concat([ws, hu], axis=1, ignore_index=True)\n",
    "Dx_19.reset_index(level=0, inplace=True)\n",
    "Dx_19['energy'] = drax_19['Energy/kwh']\n",
    "Dx_19['tonnes'] = drax_19['Tonnes']"
   ]
  },
  {
   "cell_type": "code",
   "execution_count": 14,
   "id": "8c544f63",
   "metadata": {
    "scrolled": false
   },
   "outputs": [],
   "source": [
    "Dx_19.rename(columns={0: 'ws', 1: 'humid'}, inplace=True)"
   ]
  },
  {
   "cell_type": "code",
   "execution_count": 15,
   "id": "de4ace4e",
   "metadata": {
    "scrolled": true
   },
   "outputs": [
    {
     "data": {
      "text/html": [
       "<div>\n",
       "<style scoped>\n",
       "    .dataframe tbody tr th:only-of-type {\n",
       "        vertical-align: middle;\n",
       "    }\n",
       "\n",
       "    .dataframe tbody tr th {\n",
       "        vertical-align: top;\n",
       "    }\n",
       "\n",
       "    .dataframe thead th {\n",
       "        text-align: right;\n",
       "    }\n",
       "</style>\n",
       "<table border=\"1\" class=\"dataframe\">\n",
       "  <thead>\n",
       "    <tr style=\"text-align: right;\">\n",
       "      <th></th>\n",
       "      <th>Date</th>\n",
       "      <th>ws</th>\n",
       "      <th>humid</th>\n",
       "      <th>energy</th>\n",
       "      <th>tonnes</th>\n",
       "    </tr>\n",
       "  </thead>\n",
       "  <tbody>\n",
       "    <tr>\n",
       "      <th>0</th>\n",
       "      <td>2019-01-01</td>\n",
       "      <td>2.464280</td>\n",
       "      <td>72.135903</td>\n",
       "      <td>4310.03</td>\n",
       "      <td>5847.1</td>\n",
       "    </tr>\n",
       "    <tr>\n",
       "      <th>1</th>\n",
       "      <td>2019-01-02</td>\n",
       "      <td>1.697626</td>\n",
       "      <td>70.793834</td>\n",
       "      <td>3746.93</td>\n",
       "      <td>3671.7</td>\n",
       "    </tr>\n",
       "    <tr>\n",
       "      <th>2</th>\n",
       "      <td>2019-01-03</td>\n",
       "      <td>1.259033</td>\n",
       "      <td>151.966281</td>\n",
       "      <td>3301.43</td>\n",
       "      <td>3022.4</td>\n",
       "    </tr>\n",
       "    <tr>\n",
       "      <th>3</th>\n",
       "      <td>2019-01-04</td>\n",
       "      <td>2.077430</td>\n",
       "      <td>81.562701</td>\n",
       "      <td>3900.80</td>\n",
       "      <td>4316.3</td>\n",
       "    </tr>\n",
       "    <tr>\n",
       "      <th>4</th>\n",
       "      <td>2019-01-05</td>\n",
       "      <td>2.153371</td>\n",
       "      <td>80.442688</td>\n",
       "      <td>1637.28</td>\n",
       "      <td>0.0</td>\n",
       "    </tr>\n",
       "    <tr>\n",
       "      <th>...</th>\n",
       "      <td>...</td>\n",
       "      <td>...</td>\n",
       "      <td>...</td>\n",
       "      <td>...</td>\n",
       "      <td>...</td>\n",
       "    </tr>\n",
       "    <tr>\n",
       "      <th>360</th>\n",
       "      <td>2019-12-27</td>\n",
       "      <td>1.410682</td>\n",
       "      <td>87.653659</td>\n",
       "      <td>4517.08</td>\n",
       "      <td>NaN</td>\n",
       "    </tr>\n",
       "    <tr>\n",
       "      <th>361</th>\n",
       "      <td>2019-12-28</td>\n",
       "      <td>1.299815</td>\n",
       "      <td>73.118090</td>\n",
       "      <td>3242.22</td>\n",
       "      <td>NaN</td>\n",
       "    </tr>\n",
       "    <tr>\n",
       "      <th>362</th>\n",
       "      <td>2019-12-29</td>\n",
       "      <td>1.399479</td>\n",
       "      <td>73.115254</td>\n",
       "      <td>4173.10</td>\n",
       "      <td>NaN</td>\n",
       "    </tr>\n",
       "    <tr>\n",
       "      <th>363</th>\n",
       "      <td>2019-12-30</td>\n",
       "      <td>2.612227</td>\n",
       "      <td>75.833333</td>\n",
       "      <td>4587.83</td>\n",
       "      <td>NaN</td>\n",
       "    </tr>\n",
       "    <tr>\n",
       "      <th>364</th>\n",
       "      <td>2019-12-31</td>\n",
       "      <td>0.951678</td>\n",
       "      <td>83.551570</td>\n",
       "      <td>5515.42</td>\n",
       "      <td>NaN</td>\n",
       "    </tr>\n",
       "  </tbody>\n",
       "</table>\n",
       "<p>365 rows × 5 columns</p>\n",
       "</div>"
      ],
      "text/plain": [
       "           Date        ws       humid   energy  tonnes\n",
       "0    2019-01-01  2.464280   72.135903  4310.03  5847.1\n",
       "1    2019-01-02  1.697626   70.793834  3746.93  3671.7\n",
       "2    2019-01-03  1.259033  151.966281  3301.43  3022.4\n",
       "3    2019-01-04  2.077430   81.562701  3900.80  4316.3\n",
       "4    2019-01-05  2.153371   80.442688  1637.28     0.0\n",
       "..          ...       ...         ...      ...     ...\n",
       "360  2019-12-27  1.410682   87.653659  4517.08     NaN\n",
       "361  2019-12-28  1.299815   73.118090  3242.22     NaN\n",
       "362  2019-12-29  1.399479   73.115254  4173.10     NaN\n",
       "363  2019-12-30  2.612227   75.833333  4587.83     NaN\n",
       "364  2019-12-31  0.951678   83.551570  5515.42     NaN\n",
       "\n",
       "[365 rows x 5 columns]"
      ]
     },
     "execution_count": 15,
     "metadata": {},
     "output_type": "execute_result"
    }
   ],
   "source": [
    "Dx_19"
   ]
  },
  {
   "cell_type": "code",
   "execution_count": 16,
   "id": "b5a91fbc",
   "metadata": {
    "scrolled": true
   },
   "outputs": [
    {
     "data": {
      "text/plain": [
       "Date        0\n",
       "ws          0\n",
       "humid       0\n",
       "energy      4\n",
       "tonnes    275\n",
       "dtype: int64"
      ]
     },
     "execution_count": 16,
     "metadata": {},
     "output_type": "execute_result"
    }
   ],
   "source": [
    "Dx_19.isna().sum()"
   ]
  },
  {
   "cell_type": "code",
   "execution_count": 17,
   "id": "97899ed3",
   "metadata": {
    "scrolled": true
   },
   "outputs": [],
   "source": [
    "cols = Dx_19.columns.to_list()"
   ]
  },
  {
   "cell_type": "code",
   "execution_count": 18,
   "id": "90071362",
   "metadata": {},
   "outputs": [],
   "source": [
    "cols = cols[:3] + cols[-1:] + cols[-2:-1]"
   ]
  },
  {
   "cell_type": "code",
   "execution_count": 19,
   "id": "ae632d7b",
   "metadata": {},
   "outputs": [],
   "source": [
    "Dx_19 = Dx_19[cols]"
   ]
  },
  {
   "cell_type": "code",
   "execution_count": 20,
   "id": "9f17ee74",
   "metadata": {
    "scrolled": true
   },
   "outputs": [
    {
     "data": {
      "text/html": [
       "<div>\n",
       "<style scoped>\n",
       "    .dataframe tbody tr th:only-of-type {\n",
       "        vertical-align: middle;\n",
       "    }\n",
       "\n",
       "    .dataframe tbody tr th {\n",
       "        vertical-align: top;\n",
       "    }\n",
       "\n",
       "    .dataframe thead th {\n",
       "        text-align: right;\n",
       "    }\n",
       "</style>\n",
       "<table border=\"1\" class=\"dataframe\">\n",
       "  <thead>\n",
       "    <tr style=\"text-align: right;\">\n",
       "      <th></th>\n",
       "      <th>Date</th>\n",
       "      <th>ws</th>\n",
       "      <th>humid</th>\n",
       "      <th>tonnes</th>\n",
       "      <th>energy</th>\n",
       "    </tr>\n",
       "  </thead>\n",
       "  <tbody>\n",
       "    <tr>\n",
       "      <th>0</th>\n",
       "      <td>2019-01-01</td>\n",
       "      <td>2.464280</td>\n",
       "      <td>72.135903</td>\n",
       "      <td>5847.1</td>\n",
       "      <td>4310.03</td>\n",
       "    </tr>\n",
       "    <tr>\n",
       "      <th>1</th>\n",
       "      <td>2019-01-02</td>\n",
       "      <td>1.697626</td>\n",
       "      <td>70.793834</td>\n",
       "      <td>3671.7</td>\n",
       "      <td>3746.93</td>\n",
       "    </tr>\n",
       "    <tr>\n",
       "      <th>2</th>\n",
       "      <td>2019-01-03</td>\n",
       "      <td>1.259033</td>\n",
       "      <td>151.966281</td>\n",
       "      <td>3022.4</td>\n",
       "      <td>3301.43</td>\n",
       "    </tr>\n",
       "    <tr>\n",
       "      <th>3</th>\n",
       "      <td>2019-01-04</td>\n",
       "      <td>2.077430</td>\n",
       "      <td>81.562701</td>\n",
       "      <td>4316.3</td>\n",
       "      <td>3900.80</td>\n",
       "    </tr>\n",
       "    <tr>\n",
       "      <th>4</th>\n",
       "      <td>2019-01-05</td>\n",
       "      <td>2.153371</td>\n",
       "      <td>80.442688</td>\n",
       "      <td>0.0</td>\n",
       "      <td>1637.28</td>\n",
       "    </tr>\n",
       "    <tr>\n",
       "      <th>...</th>\n",
       "      <td>...</td>\n",
       "      <td>...</td>\n",
       "      <td>...</td>\n",
       "      <td>...</td>\n",
       "      <td>...</td>\n",
       "    </tr>\n",
       "    <tr>\n",
       "      <th>360</th>\n",
       "      <td>2019-12-27</td>\n",
       "      <td>1.410682</td>\n",
       "      <td>87.653659</td>\n",
       "      <td>NaN</td>\n",
       "      <td>4517.08</td>\n",
       "    </tr>\n",
       "    <tr>\n",
       "      <th>361</th>\n",
       "      <td>2019-12-28</td>\n",
       "      <td>1.299815</td>\n",
       "      <td>73.118090</td>\n",
       "      <td>NaN</td>\n",
       "      <td>3242.22</td>\n",
       "    </tr>\n",
       "    <tr>\n",
       "      <th>362</th>\n",
       "      <td>2019-12-29</td>\n",
       "      <td>1.399479</td>\n",
       "      <td>73.115254</td>\n",
       "      <td>NaN</td>\n",
       "      <td>4173.10</td>\n",
       "    </tr>\n",
       "    <tr>\n",
       "      <th>363</th>\n",
       "      <td>2019-12-30</td>\n",
       "      <td>2.612227</td>\n",
       "      <td>75.833333</td>\n",
       "      <td>NaN</td>\n",
       "      <td>4587.83</td>\n",
       "    </tr>\n",
       "    <tr>\n",
       "      <th>364</th>\n",
       "      <td>2019-12-31</td>\n",
       "      <td>0.951678</td>\n",
       "      <td>83.551570</td>\n",
       "      <td>NaN</td>\n",
       "      <td>5515.42</td>\n",
       "    </tr>\n",
       "  </tbody>\n",
       "</table>\n",
       "<p>365 rows × 5 columns</p>\n",
       "</div>"
      ],
      "text/plain": [
       "           Date        ws       humid  tonnes   energy\n",
       "0    2019-01-01  2.464280   72.135903  5847.1  4310.03\n",
       "1    2019-01-02  1.697626   70.793834  3671.7  3746.93\n",
       "2    2019-01-03  1.259033  151.966281  3022.4  3301.43\n",
       "3    2019-01-04  2.077430   81.562701  4316.3  3900.80\n",
       "4    2019-01-05  2.153371   80.442688     0.0  1637.28\n",
       "..          ...       ...         ...     ...      ...\n",
       "360  2019-12-27  1.410682   87.653659     NaN  4517.08\n",
       "361  2019-12-28  1.299815   73.118090     NaN  3242.22\n",
       "362  2019-12-29  1.399479   73.115254     NaN  4173.10\n",
       "363  2019-12-30  2.612227   75.833333     NaN  4587.83\n",
       "364  2019-12-31  0.951678   83.551570     NaN  5515.42\n",
       "\n",
       "[365 rows x 5 columns]"
      ]
     },
     "execution_count": 20,
     "metadata": {},
     "output_type": "execute_result"
    }
   ],
   "source": [
    "Dx_19"
   ]
  },
  {
   "cell_type": "code",
   "execution_count": 21,
   "id": "be5d6200",
   "metadata": {},
   "outputs": [],
   "source": [
    "Dx_19b = Dx_19.dropna()"
   ]
  },
  {
   "cell_type": "code",
   "execution_count": 22,
   "id": "ea32afbb",
   "metadata": {
    "scrolled": true
   },
   "outputs": [
    {
     "data": {
      "text/html": [
       "<div>\n",
       "<style scoped>\n",
       "    .dataframe tbody tr th:only-of-type {\n",
       "        vertical-align: middle;\n",
       "    }\n",
       "\n",
       "    .dataframe tbody tr th {\n",
       "        vertical-align: top;\n",
       "    }\n",
       "\n",
       "    .dataframe thead th {\n",
       "        text-align: right;\n",
       "    }\n",
       "</style>\n",
       "<table border=\"1\" class=\"dataframe\">\n",
       "  <thead>\n",
       "    <tr style=\"text-align: right;\">\n",
       "      <th></th>\n",
       "      <th>Date</th>\n",
       "      <th>ws</th>\n",
       "      <th>humid</th>\n",
       "      <th>tonnes</th>\n",
       "      <th>energy</th>\n",
       "    </tr>\n",
       "  </thead>\n",
       "  <tbody>\n",
       "    <tr>\n",
       "      <th>0</th>\n",
       "      <td>2019-01-01</td>\n",
       "      <td>2.464280</td>\n",
       "      <td>72.135903</td>\n",
       "      <td>5847.1</td>\n",
       "      <td>4310.03</td>\n",
       "    </tr>\n",
       "    <tr>\n",
       "      <th>1</th>\n",
       "      <td>2019-01-02</td>\n",
       "      <td>1.697626</td>\n",
       "      <td>70.793834</td>\n",
       "      <td>3671.7</td>\n",
       "      <td>3746.93</td>\n",
       "    </tr>\n",
       "    <tr>\n",
       "      <th>2</th>\n",
       "      <td>2019-01-03</td>\n",
       "      <td>1.259033</td>\n",
       "      <td>151.966281</td>\n",
       "      <td>3022.4</td>\n",
       "      <td>3301.43</td>\n",
       "    </tr>\n",
       "    <tr>\n",
       "      <th>3</th>\n",
       "      <td>2019-01-04</td>\n",
       "      <td>2.077430</td>\n",
       "      <td>81.562701</td>\n",
       "      <td>4316.3</td>\n",
       "      <td>3900.80</td>\n",
       "    </tr>\n",
       "    <tr>\n",
       "      <th>4</th>\n",
       "      <td>2019-01-05</td>\n",
       "      <td>2.153371</td>\n",
       "      <td>80.442688</td>\n",
       "      <td>0.0</td>\n",
       "      <td>1637.28</td>\n",
       "    </tr>\n",
       "    <tr>\n",
       "      <th>...</th>\n",
       "      <td>...</td>\n",
       "      <td>...</td>\n",
       "      <td>...</td>\n",
       "      <td>...</td>\n",
       "      <td>...</td>\n",
       "    </tr>\n",
       "    <tr>\n",
       "      <th>85</th>\n",
       "      <td>2019-03-27</td>\n",
       "      <td>2.595927</td>\n",
       "      <td>72.008772</td>\n",
       "      <td>5976.9</td>\n",
       "      <td>6620.72</td>\n",
       "    </tr>\n",
       "    <tr>\n",
       "      <th>86</th>\n",
       "      <td>2019-03-28</td>\n",
       "      <td>1.736775</td>\n",
       "      <td>65.014085</td>\n",
       "      <td>6063.7</td>\n",
       "      <td>5924.66</td>\n",
       "    </tr>\n",
       "    <tr>\n",
       "      <th>87</th>\n",
       "      <td>2019-03-29</td>\n",
       "      <td>1.702721</td>\n",
       "      <td>66.295732</td>\n",
       "      <td>5321.9</td>\n",
       "      <td>4887.44</td>\n",
       "    </tr>\n",
       "    <tr>\n",
       "      <th>88</th>\n",
       "      <td>2019-03-30</td>\n",
       "      <td>1.888232</td>\n",
       "      <td>76.576017</td>\n",
       "      <td>1961.9</td>\n",
       "      <td>2303.76</td>\n",
       "    </tr>\n",
       "    <tr>\n",
       "      <th>89</th>\n",
       "      <td>2019-03-31</td>\n",
       "      <td>0.936343</td>\n",
       "      <td>67.831206</td>\n",
       "      <td>0.0</td>\n",
       "      <td>543.98</td>\n",
       "    </tr>\n",
       "  </tbody>\n",
       "</table>\n",
       "<p>90 rows × 5 columns</p>\n",
       "</div>"
      ],
      "text/plain": [
       "          Date        ws       humid  tonnes   energy\n",
       "0   2019-01-01  2.464280   72.135903  5847.1  4310.03\n",
       "1   2019-01-02  1.697626   70.793834  3671.7  3746.93\n",
       "2   2019-01-03  1.259033  151.966281  3022.4  3301.43\n",
       "3   2019-01-04  2.077430   81.562701  4316.3  3900.80\n",
       "4   2019-01-05  2.153371   80.442688     0.0  1637.28\n",
       "..         ...       ...         ...     ...      ...\n",
       "85  2019-03-27  2.595927   72.008772  5976.9  6620.72\n",
       "86  2019-03-28  1.736775   65.014085  6063.7  5924.66\n",
       "87  2019-03-29  1.702721   66.295732  5321.9  4887.44\n",
       "88  2019-03-30  1.888232   76.576017  1961.9  2303.76\n",
       "89  2019-03-31  0.936343   67.831206     0.0   543.98\n",
       "\n",
       "[90 rows x 5 columns]"
      ]
     },
     "execution_count": 22,
     "metadata": {},
     "output_type": "execute_result"
    }
   ],
   "source": [
    "Dx_19b"
   ]
  },
  {
   "cell_type": "code",
   "execution_count": 23,
   "id": "bcdabc98",
   "metadata": {},
   "outputs": [],
   "source": [
    "Dx_19c = Dx_19b[Dx_19b.tonnes != 0]"
   ]
  },
  {
   "cell_type": "code",
   "execution_count": 24,
   "id": "357ce4ca",
   "metadata": {
    "scrolled": true
   },
   "outputs": [
    {
     "data": {
      "text/html": [
       "<div>\n",
       "<style scoped>\n",
       "    .dataframe tbody tr th:only-of-type {\n",
       "        vertical-align: middle;\n",
       "    }\n",
       "\n",
       "    .dataframe tbody tr th {\n",
       "        vertical-align: top;\n",
       "    }\n",
       "\n",
       "    .dataframe thead th {\n",
       "        text-align: right;\n",
       "    }\n",
       "</style>\n",
       "<table border=\"1\" class=\"dataframe\">\n",
       "  <thead>\n",
       "    <tr style=\"text-align: right;\">\n",
       "      <th></th>\n",
       "      <th>Date</th>\n",
       "      <th>ws</th>\n",
       "      <th>humid</th>\n",
       "      <th>tonnes</th>\n",
       "      <th>energy</th>\n",
       "    </tr>\n",
       "  </thead>\n",
       "  <tbody>\n",
       "    <tr>\n",
       "      <th>0</th>\n",
       "      <td>2019-01-01</td>\n",
       "      <td>2.464280</td>\n",
       "      <td>72.135903</td>\n",
       "      <td>5847.1</td>\n",
       "      <td>4310.03</td>\n",
       "    </tr>\n",
       "    <tr>\n",
       "      <th>1</th>\n",
       "      <td>2019-01-02</td>\n",
       "      <td>1.697626</td>\n",
       "      <td>70.793834</td>\n",
       "      <td>3671.7</td>\n",
       "      <td>3746.93</td>\n",
       "    </tr>\n",
       "    <tr>\n",
       "      <th>2</th>\n",
       "      <td>2019-01-03</td>\n",
       "      <td>1.259033</td>\n",
       "      <td>151.966281</td>\n",
       "      <td>3022.4</td>\n",
       "      <td>3301.43</td>\n",
       "    </tr>\n",
       "    <tr>\n",
       "      <th>3</th>\n",
       "      <td>2019-01-04</td>\n",
       "      <td>2.077430</td>\n",
       "      <td>81.562701</td>\n",
       "      <td>4316.3</td>\n",
       "      <td>3900.80</td>\n",
       "    </tr>\n",
       "    <tr>\n",
       "      <th>5</th>\n",
       "      <td>2019-01-06</td>\n",
       "      <td>2.580929</td>\n",
       "      <td>90.335196</td>\n",
       "      <td>4163.3</td>\n",
       "      <td>3364.49</td>\n",
       "    </tr>\n",
       "    <tr>\n",
       "      <th>...</th>\n",
       "      <td>...</td>\n",
       "      <td>...</td>\n",
       "      <td>...</td>\n",
       "      <td>...</td>\n",
       "      <td>...</td>\n",
       "    </tr>\n",
       "    <tr>\n",
       "      <th>84</th>\n",
       "      <td>2019-03-26</td>\n",
       "      <td>2.650275</td>\n",
       "      <td>68.978788</td>\n",
       "      <td>6146.1</td>\n",
       "      <td>6248.88</td>\n",
       "    </tr>\n",
       "    <tr>\n",
       "      <th>85</th>\n",
       "      <td>2019-03-27</td>\n",
       "      <td>2.595927</td>\n",
       "      <td>72.008772</td>\n",
       "      <td>5976.9</td>\n",
       "      <td>6620.72</td>\n",
       "    </tr>\n",
       "    <tr>\n",
       "      <th>86</th>\n",
       "      <td>2019-03-28</td>\n",
       "      <td>1.736775</td>\n",
       "      <td>65.014085</td>\n",
       "      <td>6063.7</td>\n",
       "      <td>5924.66</td>\n",
       "    </tr>\n",
       "    <tr>\n",
       "      <th>87</th>\n",
       "      <td>2019-03-29</td>\n",
       "      <td>1.702721</td>\n",
       "      <td>66.295732</td>\n",
       "      <td>5321.9</td>\n",
       "      <td>4887.44</td>\n",
       "    </tr>\n",
       "    <tr>\n",
       "      <th>88</th>\n",
       "      <td>2019-03-30</td>\n",
       "      <td>1.888232</td>\n",
       "      <td>76.576017</td>\n",
       "      <td>1961.9</td>\n",
       "      <td>2303.76</td>\n",
       "    </tr>\n",
       "  </tbody>\n",
       "</table>\n",
       "<p>63 rows × 5 columns</p>\n",
       "</div>"
      ],
      "text/plain": [
       "          Date        ws       humid  tonnes   energy\n",
       "0   2019-01-01  2.464280   72.135903  5847.1  4310.03\n",
       "1   2019-01-02  1.697626   70.793834  3671.7  3746.93\n",
       "2   2019-01-03  1.259033  151.966281  3022.4  3301.43\n",
       "3   2019-01-04  2.077430   81.562701  4316.3  3900.80\n",
       "5   2019-01-06  2.580929   90.335196  4163.3  3364.49\n",
       "..         ...       ...         ...     ...      ...\n",
       "84  2019-03-26  2.650275   68.978788  6146.1  6248.88\n",
       "85  2019-03-27  2.595927   72.008772  5976.9  6620.72\n",
       "86  2019-03-28  1.736775   65.014085  6063.7  5924.66\n",
       "87  2019-03-29  1.702721   66.295732  5321.9  4887.44\n",
       "88  2019-03-30  1.888232   76.576017  1961.9  2303.76\n",
       "\n",
       "[63 rows x 5 columns]"
      ]
     },
     "execution_count": 24,
     "metadata": {},
     "output_type": "execute_result"
    }
   ],
   "source": [
    "Dx_19c"
   ]
  },
  {
   "cell_type": "code",
   "execution_count": 25,
   "id": "9aed2753",
   "metadata": {},
   "outputs": [],
   "source": [
    "Dx_19c.to_csv('file_name.csv',index=False)"
   ]
  },
  {
   "cell_type": "code",
   "execution_count": 26,
   "id": "aac1a31e",
   "metadata": {},
   "outputs": [],
   "source": [
    "from pyspark.sql import SparkSession\n",
    "spark = SparkSession.builder.appName('Drax').getOrCreate()"
   ]
  },
  {
   "cell_type": "code",
   "execution_count": 27,
   "id": "5deed46d",
   "metadata": {
    "scrolled": true
   },
   "outputs": [
    {
     "data": {
      "text/html": [
       "\n",
       "            <div>\n",
       "                <p><b>SparkSession - in-memory</b></p>\n",
       "                \n",
       "        <div>\n",
       "            <p><b>SparkContext</b></p>\n",
       "\n",
       "            <p><a href=\"http://C18003028.Home:4040\">Spark UI</a></p>\n",
       "\n",
       "            <dl>\n",
       "              <dt>Version</dt>\n",
       "                <dd><code>v3.2.0</code></dd>\n",
       "              <dt>Master</dt>\n",
       "                <dd><code>local[*]</code></dd>\n",
       "              <dt>AppName</dt>\n",
       "                <dd><code>Drax</code></dd>\n",
       "            </dl>\n",
       "        </div>\n",
       "        \n",
       "            </div>\n",
       "        "
      ],
      "text/plain": [
       "<pyspark.sql.session.SparkSession at 0x1f093e93130>"
      ]
     },
     "execution_count": 27,
     "metadata": {},
     "output_type": "execute_result"
    }
   ],
   "source": [
    "spark"
   ]
  },
  {
   "cell_type": "code",
   "execution_count": 28,
   "id": "5f532f94",
   "metadata": {},
   "outputs": [],
   "source": [
    "sparkDF = spark.read.csv('file_name.csv', header = True, inferSchema = True)"
   ]
  },
  {
   "cell_type": "code",
   "execution_count": 50,
   "id": "0ea38f63",
   "metadata": {},
   "outputs": [
    {
     "data": {
      "text/plain": [
       "DataFrame[summary: string, Date: string, ws: string, humid: string, tonnes: string, energy: string]"
      ]
     },
     "execution_count": 50,
     "metadata": {},
     "output_type": "execute_result"
    }
   ],
   "source": [
    "sparkDF.describe()"
   ]
  },
  {
   "cell_type": "code",
   "execution_count": 29,
   "id": "fa0d07a7",
   "metadata": {
    "scrolled": true
   },
   "outputs": [
    {
     "name": "stdout",
     "output_type": "stream",
     "text": [
      "+----------+------------------+------------------+------+-------+\n",
      "|      Date|                ws|             humid|tonnes| energy|\n",
      "+----------+------------------+------------------+------+-------+\n",
      "|2019-01-01| 2.464279776748607| 72.13590263691684|5847.1|4310.03|\n",
      "|2019-01-02|1.6976264591439714| 70.79383429672447|3671.7|3746.93|\n",
      "|2019-01-03|1.2590331719985723|151.96628131021188|3022.4|3301.43|\n",
      "|2019-01-04| 2.077430490103677| 81.56270096463022|4316.3| 3900.8|\n",
      "|2019-01-06|2.5809293548767607| 90.33519553072625|4163.3|3364.49|\n",
      "|2019-01-07|3.2301929411764787| 78.97674418604652|5188.0|4779.89|\n",
      "|2019-01-08| 4.051885707580372| 75.05294117647058|5628.9|5433.31|\n",
      "|2019-01-09|  2.14695785260183| 80.76844783715013|5541.8|4759.37|\n",
      "|2019-01-10|2.9375730891158915| 89.02362204724409|5509.8|4677.21|\n",
      "|2019-01-11| 2.227581914268927|  85.0137614678899|5773.9|4490.16|\n",
      "|2019-01-12| 4.328569914006371|  86.7487922705314|1374.9|2126.08|\n",
      "|2019-01-13| 4.822477917795332| 75.14432989690722|3525.8|2411.46|\n",
      "|2019-01-14|1.6576828837319018| 84.70769230769231|2128.0|3134.44|\n",
      "|2019-01-15| 2.920589407077583| 75.17543859649123|3446.3|4021.09|\n",
      "|2019-01-16| 2.936041152263373| 80.42159383033419|2169.5|3642.33|\n",
      "|2019-01-17|3.5481068075117324| 257.6914691943127|4495.3|4545.82|\n",
      "|2019-01-18|1.2570057762583966| 319.1855072463771|2686.3|4056.31|\n",
      "|2019-01-19| 1.068597215667765| 90.05537459283387| 414.5|1389.06|\n",
      "|2019-01-20|1.5311623246492947|  87.0608108108108|3187.5|2813.02|\n",
      "|2019-01-21|1.3676151761517557|253.09228723404257|3183.6|3199.09|\n",
      "+----------+------------------+------------------+------+-------+\n",
      "only showing top 20 rows\n",
      "\n"
     ]
    }
   ],
   "source": [
    "sparkDF.show()"
   ]
  },
  {
   "cell_type": "code",
   "execution_count": 29,
   "id": "188ef6f1",
   "metadata": {},
   "outputs": [
    {
     "name": "stdout",
     "output_type": "stream",
     "text": [
      "root\n",
      " |-- Date: string (nullable = true)\n",
      " |-- ws: double (nullable = true)\n",
      " |-- humid: double (nullable = true)\n",
      " |-- tonnes: double (nullable = true)\n",
      " |-- energy: double (nullable = true)\n",
      "\n"
     ]
    }
   ],
   "source": [
    "sparkDF.printSchema()"
   ]
  },
  {
   "cell_type": "code",
   "execution_count": 77,
   "id": "a4df85d4",
   "metadata": {},
   "outputs": [
    {
     "data": {
      "text/plain": [
       "pyspark.sql.dataframe.DataFrame"
      ]
     },
     "execution_count": 77,
     "metadata": {},
     "output_type": "execute_result"
    }
   ],
   "source": [
    "type(sparkDF)"
   ]
  },
  {
   "cell_type": "code",
   "execution_count": 78,
   "id": "e70842ff",
   "metadata": {
    "scrolled": true
   },
   "outputs": [
    {
     "name": "stdout",
     "output_type": "stream",
     "text": [
      "root\n",
      " |-- Date: string (nullable = true)\n",
      " |-- ws: double (nullable = true)\n",
      " |-- humid: double (nullable = true)\n",
      " |-- tonnes: double (nullable = true)\n",
      " |-- energy: double (nullable = true)\n",
      "\n"
     ]
    }
   ],
   "source": [
    "sparkDF.printSchema()"
   ]
  },
  {
   "cell_type": "code",
   "execution_count": null,
   "id": "3904a777",
   "metadata": {},
   "outputs": [],
   "source": [
    "from pyspark.ml.feature import Imputer"
   ]
  },
  {
   "cell_type": "code",
   "execution_count": 32,
   "id": "ff057273",
   "metadata": {
    "scrolled": true
   },
   "outputs": [
    {
     "data": {
      "text/plain": [
       "['Date', 'ws', 'humid', 'tonnes', 'energy']"
      ]
     },
     "execution_count": 32,
     "metadata": {},
     "output_type": "execute_result"
    }
   ],
   "source": [
    "sparkDF.columns"
   ]
  },
  {
   "cell_type": "code",
   "execution_count": 35,
   "id": "78f69705",
   "metadata": {},
   "outputs": [],
   "source": [
    "from pyspark.ml.linalg import Vectors\n",
    "from pyspark.ml.feature import VectorAssembler"
   ]
  },
  {
   "cell_type": "code",
   "execution_count": 36,
   "id": "b3f9c4e9",
   "metadata": {},
   "outputs": [],
   "source": [
    "feat_cols = ['ws','humid','tonnes']"
   ]
  },
  {
   "cell_type": "code",
   "execution_count": 37,
   "id": "c2c66da7",
   "metadata": {},
   "outputs": [],
   "source": [
    "vec_assembler = VectorAssembler(inputCols = feat_cols, outputCol = 'feat')"
   ]
  },
  {
   "cell_type": "code",
   "execution_count": 38,
   "id": "56186ad3",
   "metadata": {},
   "outputs": [],
   "source": [
    "final_data = vec_assembler.transform(sparkDF)"
   ]
  },
  {
   "cell_type": "code",
   "execution_count": 39,
   "id": "986853c2",
   "metadata": {},
   "outputs": [
    {
     "data": {
      "text/plain": [
       "Row(Date='2019-01-01', ws=2.464279776748607, humid=72.13590263691684, tonnes=5847.1, energy=4310.03, feat=DenseVector([2.4643, 72.1359, 5847.1]))"
      ]
     },
     "execution_count": 39,
     "metadata": {},
     "output_type": "execute_result"
    }
   ],
   "source": [
    "final_data.head()"
   ]
  },
  {
   "cell_type": "code",
   "execution_count": 41,
   "id": "b02c01d8",
   "metadata": {},
   "outputs": [
    {
     "data": {
      "text/plain": [
       "['Date', 'ws', 'humid', 'tonnes', 'energy', 'feat']"
      ]
     },
     "execution_count": 41,
     "metadata": {},
     "output_type": "execute_result"
    }
   ],
   "source": [
    "final_data.columns"
   ]
  },
  {
   "cell_type": "code",
   "execution_count": 43,
   "id": "f5cd23e7",
   "metadata": {},
   "outputs": [],
   "source": [
    "fin_data = final_data.select('feat','energy')"
   ]
  },
  {
   "cell_type": "code",
   "execution_count": 44,
   "id": "896eb3f2",
   "metadata": {},
   "outputs": [
    {
     "name": "stdout",
     "output_type": "stream",
     "text": [
      "+--------------------+-------+\n",
      "|                feat| energy|\n",
      "+--------------------+-------+\n",
      "|[2.46427977674860...|4310.03|\n",
      "|[1.69762645914397...|3746.93|\n",
      "|[1.25903317199857...|3301.43|\n",
      "|[2.07743049010367...| 3900.8|\n",
      "|[2.58092935487676...|3364.49|\n",
      "|[3.23019294117647...|4779.89|\n",
      "|[4.05188570758037...|5433.31|\n",
      "|[2.14695785260183...|4759.37|\n",
      "|[2.93757308911589...|4677.21|\n",
      "|[2.22758191426892...|4490.16|\n",
      "|[4.32856991400637...|2126.08|\n",
      "|[4.82247791779533...|2411.46|\n",
      "|[1.65768288373190...|3134.44|\n",
      "|[2.92058940707758...|4021.09|\n",
      "|[2.93604115226337...|3642.33|\n",
      "|[3.54810680751173...|4545.82|\n",
      "|[1.25700577625839...|4056.31|\n",
      "|[1.06859721566776...|1389.06|\n",
      "|[1.53116232464929...|2813.02|\n",
      "|[1.36761517615175...|3199.09|\n",
      "+--------------------+-------+\n",
      "only showing top 20 rows\n",
      "\n"
     ]
    }
   ],
   "source": [
    "fin_data.show()"
   ]
  },
  {
   "cell_type": "code",
   "execution_count": 42,
   "id": "f447123b",
   "metadata": {},
   "outputs": [],
   "source": [
    "from pyspark.ml.regression import LinearRegression"
   ]
  },
  {
   "cell_type": "code",
   "execution_count": 45,
   "id": "fc7fbb1d",
   "metadata": {},
   "outputs": [],
   "source": [
    "train_data,test_data = fin_data.randomSplit([0.8,0.2])\n",
    "regressor = LinearRegression(featuresCol= 'feat', labelCol= 'energy')\n",
    "regressor = regressor.fit(train_data)"
   ]
  },
  {
   "cell_type": "code",
   "execution_count": 46,
   "id": "4af72b81",
   "metadata": {},
   "outputs": [
    {
     "data": {
      "text/plain": [
       "DenseVector([-55.5394, -0.0691, 0.6306])"
      ]
     },
     "execution_count": 46,
     "metadata": {},
     "output_type": "execute_result"
    }
   ],
   "source": [
    "regressor.coefficients"
   ]
  },
  {
   "cell_type": "code",
   "execution_count": 47,
   "id": "cea7fcd6",
   "metadata": {},
   "outputs": [
    {
     "data": {
      "text/plain": [
       "1595.5857448709673"
      ]
     },
     "execution_count": 47,
     "metadata": {},
     "output_type": "execute_result"
    }
   ],
   "source": [
    "regressor.intercept"
   ]
  },
  {
   "cell_type": "code",
   "execution_count": 48,
   "id": "f9f9fd91",
   "metadata": {},
   "outputs": [],
   "source": [
    "pre_result = regressor.evaluate(test_data)"
   ]
  },
  {
   "cell_type": "code",
   "execution_count": 49,
   "id": "b3d814ca",
   "metadata": {},
   "outputs": [
    {
     "name": "stdout",
     "output_type": "stream",
     "text": [
      "+--------------------+-------+------------------+\n",
      "|                feat| energy|        prediction|\n",
      "+--------------------+-------+------------------+\n",
      "|[1.25700577625839...|4056.31| 3197.695576511752|\n",
      "|[1.94190324858757...|3573.66| 3502.358970947505|\n",
      "|[2.58092935487676...|3364.49|4071.3849885285726|\n",
      "|[2.99676536247210...|3457.54| 3491.910466196051|\n",
      "|[3.23019294117647...|4779.89| 4682.288744131025|\n",
      "|[4.05188570758037...|5433.31| 4914.956244889993|\n",
      "|[5.09036280380415...|3441.14|3393.8744786543084|\n",
      "+--------------------+-------+------------------+\n",
      "\n"
     ]
    },
    {
     "name": "stderr",
     "output_type": "stream",
     "text": [
      "C:\\Users\\AdminUser\\anaconda3\\lib\\site-packages\\pyspark\\sql\\context.py:125: FutureWarning: Deprecated in 3.0.0. Use SparkSession.builder.getOrCreate() instead.\n",
      "  warnings.warn(\n"
     ]
    }
   ],
   "source": [
    "pre_result.predictions.show()"
   ]
  },
  {
   "cell_type": "code",
   "execution_count": null,
   "id": "11af5759",
   "metadata": {},
   "outputs": [],
   "source": [
    "regressor.predict()"
   ]
  },
  {
   "cell_type": "code",
   "execution_count": null,
   "id": "26fbcf78",
   "metadata": {},
   "outputs": [],
   "source": []
  }
 ],
 "metadata": {
  "kernelspec": {
   "display_name": "Python 3",
   "language": "python",
   "name": "python3"
  },
  "language_info": {
   "codemirror_mode": {
    "name": "ipython",
    "version": 3
   },
   "file_extension": ".py",
   "mimetype": "text/x-python",
   "name": "python",
   "nbconvert_exporter": "python",
   "pygments_lexer": "ipython3",
   "version": "3.8.8"
  }
 },
 "nbformat": 4,
 "nbformat_minor": 5
}
